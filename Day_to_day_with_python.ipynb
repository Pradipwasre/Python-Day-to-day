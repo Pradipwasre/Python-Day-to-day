{
  "cells": [
    {
      "cell_type": "markdown",
      "metadata": {
        "id": "bu2Uybgq8AkW"
      },
      "source": [
        " Python for Data Analysis and Data Science - Complete Notes\n",
        "\n",
        "## Day 1 & 2: Introduction to Python\n",
        "\n",
        "### 1. Need for Programming Language in Data Analysis and Data Science\n",
        "\n",
        "\"\"\"\n",
        "Why do we need programming in DA and DS?\n",
        "\n",
        "1. Automation: Process large datasets automatically instead of manually\n",
        "2. Reproducibility: Write code once, run multiple times with different data\n",
        "3. Efficiency: Handle millions of rows of data in seconds\n",
        "4. Complex Analysis: Perform statistical analysis, machine learning, and visualization\n",
        "5. Scalability: Analyze small to extremely large datasets with same code\n",
        "\n",
        "Real-world example:\n",
        "- Manual Excel work: Analyzing 1000 rows might take hours\n",
        "- Python: Can analyze millions of rows in minutes\n",
        "\"\"\"\n",
        "\n",
        "### 2. What is Python and Why Python?\n",
        "\n",
        "\"\"\"\n",
        "What is Python?\n",
        "- Python is a high-level, interpreted programming language\n",
        "- Created by Guido van Rossum in 1991\n",
        "- Known for simple, readable syntax\n",
        "\n",
        "Why Python for Data Analysis and Data Science?\n",
        "\n",
        "1. Easy to Learn: Simple syntax, reads like English\n",
        "2. Rich Libraries: NumPy, Pandas, Matplotlib, Scikit-learn\n",
        "3. Large Community: Millions of developers, abundant resources\n",
        "4. Versatile: Web development, automation, AI, data analysis\n",
        "5. Industry Standard: Used by Google, Netflix, NASA, Instagram\n",
        "6. Free and Open Source: No cost, anyone can contribute\n",
        "\"\"\"\n",
        "\n",
        "### 3. Libraries for Data Analysis and Data Science\n",
        "\n",
        "\"\"\"\n",
        "Essential Python Libraries:\n",
        "\n",
        "1. NumPy: Numerical computing, arrays, mathematical operations\n",
        "2. Pandas: Data manipulation, DataFrames, data cleaning\n",
        "3. Matplotlib: Data visualization, creating plots and charts\n",
        "4. Seaborn: Statistical data visualization, beautiful plots\n",
        "5. Scikit-learn: Machine learning algorithms\n",
        "6. TensorFlow/PyTorch: Deep learning and neural networks\n",
        "7. SciPy: Scientific computing, statistics\n",
        "8. Statsmodels: Statistical modeling and hypothesis testing\n",
        "\"\"\"\n",
        "\n",
        "### 4. IDEs for Python\n",
        "\n",
        "\"\"\"\n",
        "Popular IDEs and Environments:\n",
        "\n",
        "1. Jupyter Notebook: Interactive notebooks, great for learning\n",
        "2. Google Colab: Cloud-based Jupyter notebooks, free GPU\n",
        "3. PyCharm: Professional IDE with many features\n",
        "4. VS Code: Lightweight, extensible code editor\n",
        "5. Spyder: IDE designed for data science\n",
        "6. IDLE: Built-in Python IDE, simple for beginners\n",
        "\"\"\"\n"
      ]
    },
    {
      "cell_type": "code",
      "execution_count": null,
      "metadata": {
        "colab": {
          "base_uri": "https://localhost:8080/"
        },
        "id": "w-Lh588e36tC",
        "outputId": "0bc0d399-3d98-4a67-f6e3-4b6b31fb222f"
      },
      "outputs": [
        {
          "name": "stdout",
          "output_type": "stream",
          "text": [
            "Hello, Students!\n",
            "Welcome to Python Programming\n"
          ]
        }
      ],
      "source": [
        "### 5. Running Simple Commands\n",
        "\n",
        "# print() function - displays output\n",
        "print(\"Hello, Students!\")\n",
        "print(\"Welcome to Python Programming\")"
      ]
    },
    {
      "cell_type": "code",
      "execution_count": null,
      "metadata": {
        "colab": {
          "base_uri": "https://localhost:8080/"
        },
        "id": "ptN22KRy8SDo",
        "outputId": "f782d5b2-9df4-40a7-f11c-ac380edadf09"
      },
      "outputs": [
        {
          "name": "stdout",
          "output_type": "stream",
          "text": [
            "Python is awesome\n"
          ]
        }
      ],
      "source": [
        "# Multiple items in print\n",
        "print(\"Python\", \"is\", \"awesome\")"
      ]
    },
    {
      "cell_type": "code",
      "execution_count": null,
      "metadata": {
        "colab": {
          "base_uri": "https://localhost:8080/"
        },
        "id": "TanBghWH8UgK",
        "outputId": "6b487312-dda0-4a1f-ef1c-fdd1205483ee"
      },
      "outputs": [
        {
          "name": "stdout",
          "output_type": "stream",
          "text": [
            "42\n",
            "3.14\n"
          ]
        }
      ],
      "source": [
        "# Print numbers\n",
        "print(42)\n",
        "print(3.14)"
      ]
    },
    {
      "cell_type": "code",
      "execution_count": null,
      "metadata": {
        "colab": {
          "base_uri": "https://localhost:8080/"
        },
        "id": "v_EeVGjW8WaO",
        "outputId": "c4c5c277-5450-4536-c0b2-411bf1eb298b"
      },
      "outputs": [
        {
          "name": "stdout",
          "output_type": "stream",
          "text": [
            "<class 'int'>\n",
            "<class 'float'>\n",
            "<class 'str'>\n",
            "<class 'bool'>\n"
          ]
        }
      ],
      "source": [
        "# type() function - shows data type\n",
        "print(type(10))\n",
        "print(type(3.14))\n",
        "print(type(\"Hello\"))\n",
        "print(type(True))"
      ]
    },
    {
      "cell_type": "code",
      "execution_count": null,
      "metadata": {
        "colab": {
          "base_uri": "https://localhost:8080/"
        },
        "id": "W5S3Scdf8X0k",
        "outputId": "35b3c486-0488-47d6-c55a-e0f78c2f6db7"
      },
      "outputs": [
        {
          "name": "stdout",
          "output_type": "stream",
          "text": [
            "Name: Alice Type: <class 'str'>\n",
            "Age: 25 Type: <class 'int'>\n"
          ]
        }
      ],
      "source": [
        "# Example: Checking types\n",
        "name = \"Alice\"\n",
        "age = 25\n",
        "print(\"Name:\", name, \"Type:\", type(name))\n",
        "print(\"Age:\", age, \"Type:\", type(age))"
      ]
    },
    {
      "cell_type": "markdown",
      "metadata": {
        "id": "psCwtZRC8hZS"
      },
      "source": [
        "\"\"\"\n",
        "PRACTICE EXERCISE 1:\n",
        "1. Print your name and age\n",
        "2. Use type() to check the data type of your name\n",
        "3. Use type() to check the data type of your age\n",
        "4. Print a message: \"I am learning Python for Data Science\"\n",
        "\"\"\""
      ]
    },
    {
      "cell_type": "markdown",
      "metadata": {
        "id": "bdKrNQvA8lMa"
      },
      "source": [
        "## Day 3: Variables and Data Types"
      ]
    },
    {
      "cell_type": "markdown",
      "metadata": {
        "id": "xBQI0nzS8oli"
      },
      "source": [
        "### 1. Creating Simple Variables\n",
        "\n",
        "\"\"\"\n",
        "What is a Variable?\n",
        "- A variable is a container that stores data\n",
        "- Think of it as a labeled box where you keep information\n",
        "\"\"\""
      ]
    },
    {
      "cell_type": "code",
      "execution_count": null,
      "metadata": {
        "id": "3AaKc4Kw8fgD"
      },
      "outputs": [],
      "source": [
        "# Creating variables\n",
        "student_name = \"Rahul\"\n",
        "student_age = 20\n",
        "student_marks = 85.5\n",
        "is_passed = True"
      ]
    },
    {
      "cell_type": "code",
      "execution_count": null,
      "metadata": {
        "colab": {
          "base_uri": "https://localhost:8080/"
        },
        "id": "x08GV2u08r-h",
        "outputId": "240bc4dd-8142-495c-ac16-7ddba0cfd1e4"
      },
      "outputs": [
        {
          "name": "stdout",
          "output_type": "stream",
          "text": [
            "Rahul\n",
            "20\n",
            "85.5\n",
            "True\n"
          ]
        }
      ],
      "source": [
        "print(student_name)\n",
        "print(student_age)\n",
        "print(student_marks)\n",
        "print(is_passed)"
      ]
    },
    {
      "cell_type": "code",
      "execution_count": null,
      "metadata": {
        "colab": {
          "base_uri": "https://localhost:8080/"
        },
        "id": "EqEFb55p8uCe",
        "outputId": "ea2998c7-139a-44d4-a34b-8377cb72d27c"
      },
      "outputs": [
        {
          "name": "stdout",
          "output_type": "stream",
          "text": [
            "10 20 30\n"
          ]
        }
      ],
      "source": [
        "# Multiple variables at once\n",
        "x, y, z = 10, 20, 30\n",
        "print(x, y, z)"
      ]
    },
    {
      "cell_type": "code",
      "execution_count": null,
      "metadata": {
        "colab": {
          "base_uri": "https://localhost:8080/"
        },
        "id": "opxH6qIC8xEN",
        "outputId": "ae9b0aeb-b291-480a-a992-196be43c6415"
      },
      "outputs": [
        {
          "name": "stdout",
          "output_type": "stream",
          "text": [
            "100 100 100\n"
          ]
        }
      ],
      "source": [
        "# Same value to multiple variables\n",
        "a = b = c = 100\n",
        "print(a, b, c)"
      ]
    },
    {
      "cell_type": "markdown",
      "metadata": {
        "id": "eA-5TB498254"
      },
      "source": [
        "### 2. Rules for Naming Variables\n",
        "\n",
        "\"\"\"\n",
        "Variable Naming Rules:\n",
        "\n",
        "✓ CORRECT:\n",
        "- Must start with letter or underscore: student_name, _temp\n",
        "- Can contain letters, numbers, underscore: student1, data_2024\n",
        "- Case sensitive: Name and name are different\n",
        "- Use descriptive names: total_marks (good) vs tm (bad)\n",
        "\n",
        "✗ WRONG:\n",
        "- Cannot start with number: 1student\n",
        "- Cannot use special characters: student-name, student@email\n",
        "- Cannot use Python keywords: print, for, if, class\n",
        "- Avoid spaces: student name (wrong), student_name (correct)\n",
        "\n",
        "Best Practices:\n",
        "- Use lowercase with underscores: student_marks\n",
        "- Use meaningful names: total_score instead of ts\n",
        "- Constants in UPPERCASE: PI = 3.14159\n",
        "\"\"\"\n"
      ]
    },
    {
      "cell_type": "code",
      "execution_count": null,
      "metadata": {
        "id": "CRBJUds_8zkw"
      },
      "outputs": [],
      "source": [
        "# Examples\n",
        "student_name = \"Priya\"\n",
        "_private_var = 42\n",
        "student1_marks = 95\n",
        "\n",
        "# 1student = \"John\"\n",
        "# student-name = \"Mike\"\n",
        "\n",
        "my_variable = \"Data Science\"\n",
        "CONSTANT_VALUE = 3.14"
      ]
    },
    {
      "cell_type": "markdown",
      "metadata": {
        "id": "NhmLmWpy9SGo"
      },
      "source": [
        "\"\"\"\n",
        "PRACTICE EXERCISE 2:\n",
        "1. Create variables for: your name, city, favorite number, and whether you like programming\n",
        "2. Print all variables\n",
        "3. Try creating a variable with a wrong name (with number at start) and see the error\n",
        "\"\"\""
      ]
    },
    {
      "cell_type": "markdown",
      "metadata": {
        "id": "hQe0xCJk9UB-"
      },
      "source": [
        "### 3. Numeric Data Types"
      ]
    },
    {
      "cell_type": "code",
      "execution_count": null,
      "metadata": {
        "colab": {
          "base_uri": "https://localhost:8080/"
        },
        "id": "6Qnncn969C-r",
        "outputId": "f73ebc6f-3bcb-4ff5-901e-d02cb318ca89"
      },
      "outputs": [
        {
          "name": "stdout",
          "output_type": "stream",
          "text": [
            "Integer examples: 25 2024 -10\n",
            "Type: <class 'int'>\n"
          ]
        }
      ],
      "source": [
        "# Integer (int) - Whole numbers\n",
        "age = 25\n",
        "year = 2024\n",
        "quantity = -10\n",
        "print(\"Integer examples:\", age, year, quantity)\n",
        "print(\"Type:\", type(age))"
      ]
    },
    {
      "cell_type": "code",
      "execution_count": null,
      "metadata": {
        "colab": {
          "base_uri": "https://localhost:8080/"
        },
        "id": "wbun-rpj9WZo",
        "outputId": "ce176d8f-b5bd-4c99-f409-279280af9b31"
      },
      "outputs": [
        {
          "name": "stdout",
          "output_type": "stream",
          "text": [
            "Float examples: 99.99 36.6 3.14159\n",
            "Type: <class 'float'>\n"
          ]
        }
      ],
      "source": [
        "# Float - Decimal numbers\n",
        "price = 99.99\n",
        "temperature = 36.6\n",
        "pi = 3.14159\n",
        "print(\"Float examples:\", price, temperature, pi)\n",
        "print(\"Type:\", type(price))"
      ]
    },
    {
      "cell_type": "code",
      "execution_count": null,
      "metadata": {
        "colab": {
          "base_uri": "https://localhost:8080/"
        },
        "id": "182opgG19ZQW",
        "outputId": "1ea5fc45-8118-413b-8d74-e36daed539f4"
      },
      "outputs": [
        {
          "name": "stdout",
          "output_type": "stream",
          "text": [
            "Boolean examples: True False\n",
            "Type: <class 'bool'>\n"
          ]
        }
      ],
      "source": [
        "# Boolean - True or False\n",
        "is_student = True\n",
        "has_passed = False\n",
        "is_adult = True\n",
        "print(\"Boolean examples:\", is_student, has_passed)\n",
        "print(\"Type:\", type(is_student))"
      ]
    },
    {
      "cell_type": "code",
      "execution_count": null,
      "metadata": {
        "colab": {
          "base_uri": "https://localhost:8080/"
        },
        "id": "57D0SI5X9caK",
        "outputId": "2582b3a6-0710-4faf-8f8a-04d9d31cd824"
      },
      "outputs": [
        {
          "name": "stdout",
          "output_type": "stream",
          "text": [
            "Complex example: (3+4j)\n",
            "Type: <class 'complex'>\n"
          ]
        }
      ],
      "source": [
        "# Complex - Complex numbers (rare in basic DA)\n",
        "complex_num = 3 + 4j\n",
        "print(\"Complex example:\", complex_num)\n",
        "print(\"Type:\", type(complex_num))"
      ]
    },
    {
      "cell_type": "code",
      "execution_count": null,
      "metadata": {
        "id": "PIGBSkgQ9fBg"
      },
      "outputs": [],
      "source": [
        "# Real-world example\n",
        "student_name = \"Amit\"\n",
        "student_marks = 87.5\n",
        "is_passed = True\n",
        "total_students = 50"
      ]
    },
    {
      "cell_type": "code",
      "execution_count": null,
      "metadata": {
        "colab": {
          "base_uri": "https://localhost:8080/"
        },
        "id": "Kng1qLLz9gen",
        "outputId": "ef67908c-f20c-4c04-b934-b8eccc2c3eab"
      },
      "outputs": [
        {
          "name": "stdout",
          "output_type": "stream",
          "text": [
            "Student: Amit\n",
            "Marks: 87.5\n",
            "Passed: True\n",
            "Total Students: 50\n"
          ]
        }
      ],
      "source": [
        "print(\"Student:\", student_name)\n",
        "print(\"Marks:\", student_marks)\n",
        "print(\"Passed:\", is_passed)\n",
        "print(\"Total Students:\", total_students)"
      ]
    },
    {
      "cell_type": "markdown",
      "metadata": {
        "id": "TtSzEc1f9j08"
      },
      "source": [
        "\"\"\"\n",
        "PRACTICE EXERCISE 3:\n",
        "1. Create variables for: temperature (float), number of students (int), is_raining (boolean)\n",
        "2. Print each variable with its type\n",
        "3. Create a variable for your height in feet (decimal number)\n",
        "\"\"\""
      ]
    },
    {
      "cell_type": "markdown",
      "metadata": {
        "id": "6mE9DzHZ9l7A"
      },
      "source": [
        "### 4. Sequence Types: Strings, Lists, Tuples\n",
        "\n",
        "## STRINGS - Text data in quotes"
      ]
    },
    {
      "cell_type": "code",
      "execution_count": null,
      "metadata": {
        "id": "CSVIElKG9h_b"
      },
      "outputs": [],
      "source": [
        "# Creating strings\n",
        "single_quote = 'Hello'\n",
        "double_quote = \"World\"\n",
        "multi_line = \"\"\"This is\n",
        "a multi-line\n",
        "string\"\"\""
      ]
    },
    {
      "cell_type": "code",
      "execution_count": null,
      "metadata": {
        "colab": {
          "base_uri": "https://localhost:8080/"
        },
        "id": "i5yayCwk9qt_",
        "outputId": "1ea446ce-50e1-42ee-d131-4a9826d18f47"
      },
      "outputs": [
        {
          "name": "stdout",
          "output_type": "stream",
          "text": [
            "Python\n",
            "Data Science is amazing!\n"
          ]
        }
      ],
      "source": [
        "name = \"Python\"\n",
        "message = \"Data Science is amazing!\"\n",
        "print(name)\n",
        "print(message)"
      ]
    },
    {
      "cell_type": "code",
      "execution_count": null,
      "metadata": {
        "colab": {
          "base_uri": "https://localhost:8080/"
        },
        "id": "aU1PVqc49t1z",
        "outputId": "563e5b65-c750-48c4-fd34-d50d1eb50565"
      },
      "outputs": [
        {
          "name": "stdout",
          "output_type": "stream",
          "text": [
            "Full Name: Ravi Kumar\n"
          ]
        }
      ],
      "source": [
        "# String operations\n",
        "first_name = \"Ravi\"\n",
        "last_name = \"Kumar\"\n",
        "full_name = first_name + \" \" + last_name  # Concatenation\n",
        "print(\"Full Name:\", full_name)"
      ]
    },
    {
      "cell_type": "code",
      "execution_count": null,
      "metadata": {
        "colab": {
          "base_uri": "https://localhost:8080/"
        },
        "id": "t8tx5WNx9vWY",
        "outputId": "75e6695c-4d51-4d60-c6bd-c97b73369cca"
      },
      "outputs": [
        {
          "name": "stdout",
          "output_type": "stream",
          "text": [
            "HaHaHa\n"
          ]
        }
      ],
      "source": [
        "# Repeating strings\n",
        "laugh = \"Ha\" * 3\n",
        "print(laugh)"
      ]
    },
    {
      "cell_type": "code",
      "execution_count": null,
      "metadata": {
        "id": "trJXtkJs90D4"
      },
      "outputs": [],
      "source": [
        "# Creating lists\n",
        "fruits = [\"apple\", \"banana\", \"orange\", \"mango\"]\n",
        "numbers = [1, 2, 3, 4, 5]\n",
        "mixed = [\"Python\", 100, 3.14, True]\n",
        "empty_list = []"
      ]
    },
    {
      "cell_type": "code",
      "execution_count": null,
      "metadata": {
        "colab": {
          "base_uri": "https://localhost:8080/"
        },
        "id": "rDTPy80i93cC",
        "outputId": "416373a5-bc2b-4292-b774-1fecad903e2d"
      },
      "outputs": [
        {
          "name": "stdout",
          "output_type": "stream",
          "text": [
            "Fruits: ['apple', 'banana', 'orange', 'mango']\n",
            "Numbers: [1, 2, 3, 4, 5]\n",
            "Mixed: ['Python', 100, 3.14, True]\n",
            "Type: <class 'list'>\n"
          ]
        }
      ],
      "source": [
        "print(\"Fruits:\", fruits)\n",
        "print(\"Numbers:\", numbers)\n",
        "print(\"Mixed:\", mixed)\n",
        "print(\"Type:\", type(fruits))"
      ]
    },
    {
      "cell_type": "code",
      "execution_count": null,
      "metadata": {
        "colab": {
          "base_uri": "https://localhost:8080/"
        },
        "id": "fZ8fFy7A959u",
        "outputId": "ab990f74-4d01-4a71-cdfc-798f9153981b"
      },
      "outputs": [
        {
          "name": "stdout",
          "output_type": "stream",
          "text": [
            "First fruit: apple\n",
            "Second fruit: banana\n",
            "Last fruit: mango\n"
          ]
        }
      ],
      "source": [
        "# Accessing list elements (indexing starts at 0)\n",
        "print(\"First fruit:\", fruits[0])\n",
        "print(\"Second fruit:\", fruits[1])\n",
        "print(\"Last fruit:\", fruits[-1])"
      ]
    },
    {
      "cell_type": "code",
      "execution_count": null,
      "metadata": {
        "colab": {
          "base_uri": "https://localhost:8080/"
        },
        "id": "lyFqObRa98Oy",
        "outputId": "91309b22-51e6-4b7b-b045-e03e40a789f6"
      },
      "outputs": [
        {
          "name": "stdout",
          "output_type": "stream",
          "text": [
            "Modified fruits: ['apple', 'grapes', 'orange', 'mango']\n"
          ]
        }
      ],
      "source": [
        "# List can be modified\n",
        "fruits[1] = \"grapes\"\n",
        "print(\"Modified fruits:\", fruits)"
      ]
    },
    {
      "cell_type": "code",
      "execution_count": null,
      "metadata": {
        "colab": {
          "base_uri": "https://localhost:8080/"
        },
        "id": "SiAajtbD99yB",
        "outputId": "73d8de67-08f0-4a49-e4cc-c211f579b074"
      },
      "outputs": [
        {
          "name": "stdout",
          "output_type": "stream",
          "text": [
            "All marks: [85, 90, 78, 92, 88]\n",
            "First student marks: 85\n",
            "Last student marks: 88\n"
          ]
        }
      ],
      "source": [
        "# Real-world example\n",
        "student_marks = [85, 90, 78, 92, 88]\n",
        "print(\"All marks:\", student_marks)\n",
        "print(\"First student marks:\", student_marks[0])\n",
        "print(\"Last student marks:\", student_marks[-1])"
      ]
    },
    {
      "cell_type": "markdown",
      "metadata": {
        "id": "ijIOsEAw-Cwy"
      },
      "source": [
        "## TUPLES - Ordered, immutable collection"
      ]
    },
    {
      "cell_type": "code",
      "execution_count": null,
      "metadata": {
        "id": "QX1730bI9_sp"
      },
      "outputs": [],
      "source": [
        "# Creating tuples\n",
        "coordinates = (10, 20)\n",
        "rgb_color = (255, 0, 128)\n",
        "student_info = (\"Rahul\", 20, \"Computer Science\")\n",
        "single_item = (42,) # Note the comma for single item"
      ]
    },
    {
      "cell_type": "code",
      "execution_count": null,
      "metadata": {
        "colab": {
          "base_uri": "https://localhost:8080/"
        },
        "id": "pbO5O5rC-ErJ",
        "outputId": "45e9ea25-392b-4d8c-ea71-c5c0af04cd35"
      },
      "outputs": [
        {
          "name": "stdout",
          "output_type": "stream",
          "text": [
            "Coordinates: (10, 20)\n",
            "Color: (255, 0, 128)\n",
            "Student: ('Rahul', 20, 'Computer Science')\n",
            "Type: <class 'tuple'>\n"
          ]
        }
      ],
      "source": [
        "print(\"Coordinates:\", coordinates)\n",
        "print(\"Color:\", rgb_color)\n",
        "print(\"Student:\", student_info)\n",
        "print(\"Type:\", type(coordinates))"
      ]
    },
    {
      "cell_type": "code",
      "execution_count": null,
      "metadata": {
        "colab": {
          "base_uri": "https://localhost:8080/"
        },
        "id": "61hgcmNX-ILB",
        "outputId": "31967a2f-ac53-4a3d-f7a0-be01d183dc0f"
      },
      "outputs": [
        {
          "name": "stdout",
          "output_type": "stream",
          "text": [
            "X coordinate: 10\n",
            "Y coordinate: 20\n",
            "Student name: Rahul\n"
          ]
        }
      ],
      "source": [
        "# Accessing tuple elements\n",
        "print(\"X coordinate:\", coordinates[0])\n",
        "print(\"Y coordinate:\", coordinates[1])\n",
        "print(\"Student name:\", student_info[0])"
      ]
    },
    {
      "cell_type": "code",
      "execution_count": null,
      "metadata": {
        "id": "6u2Sbg2I-NAT"
      },
      "outputs": [],
      "source": [
        "# Tuples cannot be modified\n",
        "# coordinates[0] = 30"
      ]
    },
    {
      "cell_type": "code",
      "execution_count": null,
      "metadata": {
        "id": "-FljbKQ_-P_N"
      },
      "outputs": [],
      "source": [
        "# When to use List vs Tuple?\n",
        "# List: When data might change (shopping cart items)\n",
        "# Tuple: When data should not change (latitude-longitude, RGB colors)"
      ]
    },
    {
      "cell_type": "markdown",
      "metadata": {
        "id": "Kx2JYqFr-dWg"
      },
      "source": [
        "\"\"\"\n",
        "PRACTICE EXERCISE 4:\n",
        "1. Create a list of your 5 favorite movies\n",
        "2. Print the first and last movie from the list\n",
        "3. Change the second movie to a different one\n",
        "4. Create a tuple with your birth date (day, month, year)\n",
        "5. Print the year from the tuple\n",
        "\"\"\""
      ]
    },
    {
      "cell_type": "markdown",
      "metadata": {
        "id": "xPcjTM4H-kaA"
      },
      "source": [
        "## Day 4: Type Casting and String Operations\n",
        "\n",
        "### 1. Type Casting - Converting Data Types\n",
        "\n",
        "\n",
        "-Type Casting: Converting one data type to another\n",
        "\n",
        "* Why needed? To perform operations that require specific types\n"
      ]
    },
    {
      "cell_type": "code",
      "execution_count": null,
      "metadata": {
        "colab": {
          "base_uri": "https://localhost:8080/"
        },
        "id": "tr22ErnZ-o4W",
        "outputId": "1403ffe5-981c-4eb6-9b35-50913ca29574"
      },
      "outputs": [
        {
          "name": "stdout",
          "output_type": "stream",
          "text": [
            "Integer: 10 <class 'int'>\n",
            "To Float: 10.0 <class 'float'>\n"
          ]
        }
      ],
      "source": [
        "# Integer to Float\n",
        "num_int = 10\n",
        "num_float = float(num_int)\n",
        "print(\"Integer:\", num_int, type(num_int))\n",
        "print(\"To Float:\", num_float, type(num_float))"
      ]
    },
    {
      "cell_type": "code",
      "execution_count": null,
      "metadata": {
        "colab": {
          "base_uri": "https://localhost:8080/"
        },
        "id": "369HewHY-3Xk",
        "outputId": "91f15473-f6c7-4c13-c929-fb8aaf932510"
      },
      "outputs": [
        {
          "name": "stdout",
          "output_type": "stream",
          "text": [
            "Float: 99.99 <class 'float'>\n",
            "To Integer: 99 <class 'int'>\n"
          ]
        }
      ],
      "source": [
        "# Float to Integer (decimal part is removed, not rounded)\n",
        "price = 99.99\n",
        "price_int = int(price)\n",
        "print(\"Float:\", price, type(price))\n",
        "print(\"To Integer:\", price_int, type(price_int))"
      ]
    },
    {
      "cell_type": "code",
      "execution_count": null,
      "metadata": {
        "colab": {
          "base_uri": "https://localhost:8080/"
        },
        "id": "74C2cs3I_FPM",
        "outputId": "5b893c23-5a8f-4859-8667-f8c3e4bb5f39"
      },
      "outputs": [
        {
          "name": "stdout",
          "output_type": "stream",
          "text": [
            "String: 25 <class 'str'>\n",
            "To Integer: 25 <class 'int'>\n"
          ]
        }
      ],
      "source": [
        "# String to Integer\n",
        "age_str = \"25\"\n",
        "age_int = int(age_str)\n",
        "print(\"String:\", age_str, type(age_str))\n",
        "print(\"To Integer:\", age_int, type(age_int))"
      ]
    },
    {
      "cell_type": "code",
      "execution_count": null,
      "metadata": {
        "colab": {
          "base_uri": "https://localhost:8080/"
        },
        "id": "04EQ9XNp_H0W",
        "outputId": "2ba1f514-bb3d-47f7-95c2-3925800ee7c7"
      },
      "outputs": [
        {
          "name": "stdout",
          "output_type": "stream",
          "text": [
            "String: 49.99 <class 'str'>\n",
            "To Float: 49.99 <class 'float'>\n"
          ]
        }
      ],
      "source": [
        "# String to Float\n",
        "price_str = \"49.99\"\n",
        "price_float = float(price_str)\n",
        "print(\"String:\", price_str, type(price_str))\n",
        "print(\"To Float:\", price_float, type(price_float))"
      ]
    },
    {
      "cell_type": "code",
      "execution_count": null,
      "metadata": {
        "colab": {
          "base_uri": "https://localhost:8080/"
        },
        "id": "aa2-wHel_JxI",
        "outputId": "3e89bbd6-ebb5-49c3-f5c8-ec71a1195bad"
      },
      "outputs": [
        {
          "name": "stdout",
          "output_type": "stream",
          "text": [
            "Integer: 95 <class 'int'>\n",
            "To String: 95 <class 'str'>\n"
          ]
        }
      ],
      "source": [
        "# Integer/Float to String\n",
        "marks = 95\n",
        "marks_str = str(marks)\n",
        "print(\"Integer:\", marks, type(marks))\n",
        "print(\"To String:\", marks_str, type(marks_str))"
      ]
    },
    {
      "cell_type": "code",
      "execution_count": null,
      "metadata": {
        "colab": {
          "base_uri": "https://localhost:8080/"
        },
        "id": "1M-hU96u_LcB",
        "outputId": "0bae9ed7-0609-4ad7-c163-d427c81cdc74"
      },
      "outputs": [
        {
          "name": "stdout",
          "output_type": "stream",
          "text": [
            "To Boolean:\n",
            "int to bool: False True True\n",
            "str to bool: False True\n"
          ]
        }
      ],
      "source": [
        "# Boolean conversions\n",
        "print(\"To Boolean:\")\n",
        "print(\"int to bool:\", bool(0), bool(1), bool(100))  # 0 is False, non-zero is True\n",
        "print(\"str to bool:\", bool(\"\"), bool(\"Hello\"))"
      ]
    },
    {
      "cell_type": "code",
      "execution_count": null,
      "metadata": {
        "colab": {
          "base_uri": "https://localhost:8080/"
        },
        "id": "mr3WNdD-_NRc",
        "outputId": "7a410ec9-5688-413f-b867-1fb20437f476"
      },
      "outputs": [
        {
          "name": "stdout",
          "output_type": "stream",
          "text": [
            "Current age: 22\n",
            "Next year: 23\n"
          ]
        }
      ],
      "source": [
        "# Real-world example: User input\n",
        "user_age = \"22\"  # User inputs are always strings\n",
        "user_age_int = int(user_age)\n",
        "next_year_age = user_age_int + 1\n",
        "print(\"Current age:\", user_age_int)\n",
        "print(\"Next year:\", next_year_age)"
      ]
    },
    {
      "cell_type": "code",
      "execution_count": null,
      "metadata": {
        "id": "Zu1DFuQv_PlG"
      },
      "outputs": [],
      "source": [
        "# Calculation example\n",
        "num1_str = \"10\"\n",
        "num2_str = \"20\""
      ]
    },
    {
      "cell_type": "code",
      "execution_count": null,
      "metadata": {
        "colab": {
          "base_uri": "https://localhost:8080/"
        },
        "id": "P6dkbzBp_RU5",
        "outputId": "6697350b-397d-4c37-8658-c2dbea4437f3"
      },
      "outputs": [
        {
          "name": "stdout",
          "output_type": "stream",
          "text": [
            "Correct sum: 30\n"
          ]
        }
      ],
      "source": [
        "# sum_wrong = num1_str + num2_str  # This gives \"1020\" (concatenation)\n",
        "sum_correct = int(num1_str) + int(num2_str)\n",
        "print(\"Correct sum:\", sum_correct)"
      ]
    },
    {
      "cell_type": "markdown",
      "metadata": {
        "id": "PFPGT3c1_V4C"
      },
      "source": [
        "PRACTICE EXERCISE 5:\n",
        "1. Create a string variable with value \"100\" and convert it to integer\n",
        "2. Create a float variable 78.9 and convert it to integer\n",
        "3. Create an integer 50 and convert it to string, then print its type\n",
        "4. Take two string numbers \"15\" and \"25\", convert to integers and find their sum\n"
      ]
    },
    {
      "cell_type": "markdown",
      "metadata": {
        "id": "KrHFJWX2_Zpm"
      },
      "source": [
        "### 2. Strings: String Methods, Indexing, Slicing\n",
        "\n",
        "## String Indexing"
      ]
    },
    {
      "cell_type": "code",
      "execution_count": null,
      "metadata": {
        "colab": {
          "base_uri": "https://localhost:8080/"
        },
        "id": "CfB7sl2i_UaR",
        "outputId": "d8cd6c6b-87b0-4278-d315-87ada7a1ff00"
      },
      "outputs": [
        {
          "name": "stdout",
          "output_type": "stream",
          "text": [
            "First character: P\n",
            "Third character: t\n",
            "Last character: n\n",
            "Second last: o\n"
          ]
        }
      ],
      "source": [
        "text = \"Python\"\n",
        "# Index:  0 1 2 3 4 5\n",
        "#        -6-5-4-3-2-1\n",
        "\n",
        "print(\"First character:\", text[0])\n",
        "print(\"Third character:\", text[2])\n",
        "print(\"Last character:\", text[-1])\n",
        "print(\"Second last:\", text[-2])"
      ]
    },
    {
      "cell_type": "code",
      "execution_count": null,
      "metadata": {
        "id": "1FLeVIkn_ehQ"
      },
      "outputs": [],
      "source": [
        "## String Slicing - Extracting parts of string\n",
        "message = \"Data Science\""
      ]
    },
    {
      "cell_type": "markdown",
      "metadata": {
        "id": "zj0gRKur_rcp"
      },
      "source": [
        "## String Slicing - Extracting parts of string"
      ]
    },
    {
      "cell_type": "code",
      "execution_count": null,
      "metadata": {
        "colab": {
          "base_uri": "https://localhost:8080/"
        },
        "id": "DBRniNwa_pjx",
        "outputId": "94b2c524-02f0-4795-b8e8-822a5ed3aff3"
      },
      "outputs": [
        {
          "name": "stdout",
          "output_type": "stream",
          "text": [
            "First 4 characters: Data\n",
            "From index 5 to end: Science\n",
            "From start to index 4: Data\n",
            "Last 7 characters: Science\n",
            "Every 2nd character: Dt cec\n",
            "Reverse string: ecneicS ataD\n"
          ]
        }
      ],
      "source": [
        "message = \"Data Science\"\n",
        "# Syntax: string[start:end]  (end is not included)\n",
        "\n",
        "print(\"First 4 characters:\", message[0:4])\n",
        "print(\"From index 5 to end:\", message[5:])\n",
        "print(\"From start to index 4:\", message[:4])\n",
        "print(\"Last 7 characters:\", message[-7:])\n",
        "print(\"Every 2nd character:\", message[::2])\n",
        "print(\"Reverse string:\", message[::-1])"
      ]
    },
    {
      "cell_type": "code",
      "execution_count": null,
      "metadata": {
        "colab": {
          "base_uri": "https://localhost:8080/"
        },
        "id": "Gq56o2ki_tXb",
        "outputId": "0e6866c9-aefc-4e4e-e9fa-6df393c85f1a"
      },
      "outputs": [
        {
          "name": "stdout",
          "output_type": "stream",
          "text": [
            "Username: student\n",
            "Area code: 987\n"
          ]
        }
      ],
      "source": [
        "# Practical examples\n",
        "email = \"student@gmail.com\"\n",
        "username = email[0:7]  # Extract username\n",
        "print(\"Username:\", username)\n",
        "\n",
        "phone = \"9876543210\"\n",
        "area_code = phone[0:3]\n",
        "print(\"Area code:\", area_code)"
      ]
    },
    {
      "cell_type": "markdown",
      "metadata": {
        "id": "oSJeeEMM_1z8"
      },
      "source": [
        "## String Methods"
      ]
    },
    {
      "cell_type": "code",
      "execution_count": null,
      "metadata": {
        "colab": {
          "base_uri": "https://localhost:8080/"
        },
        "id": "f62O7KW9_weQ",
        "outputId": "a93103cc-0b17-426e-f265-7c39a3df243a"
      },
      "outputs": [
        {
          "name": "stdout",
          "output_type": "stream",
          "text": [
            "Upper:   HELLO WORLD  \n",
            "Lower:   hello world  \n",
            "Title:   Hello World  \n",
            "Capitalize:   hello world  \n",
            "Swap case:   hELLO wORLD  \n"
          ]
        }
      ],
      "source": [
        "text = \"  Hello World  \"\n",
        "# Case conversion\n",
        "print(\"Upper:\", text.upper())\n",
        "print(\"Lower:\", text.lower())\n",
        "print(\"Title:\", text.title())\n",
        "print(\"Capitalize:\", text.capitalize())\n",
        "print(\"Swap case:\", text.swapcase())"
      ]
    },
    {
      "cell_type": "code",
      "execution_count": null,
      "metadata": {
        "colab": {
          "base_uri": "https://localhost:8080/"
        },
        "id": "oDHbAAse_4Yh",
        "outputId": "f19dc80b-d7aa-47ea-83fa-1c3e3c74ed44"
      },
      "outputs": [
        {
          "name": "stdout",
          "output_type": "stream",
          "text": [
            "Find 'easy': 10\n",
            "Find 'hard': -1\n",
            "Count 'a': 2\n"
          ]
        }
      ],
      "source": [
        "# Searching\n",
        "sentence = \"Python is easy to learn\"\n",
        "print(\"Find 'easy':\", sentence.find(\"easy\"))\n",
        "print(\"Find 'hard':\", sentence.find(\"hard\"))  # Returns -1 if not found\n",
        "print(\"Count 'a':\", sentence.count(\"a\"))"
      ]
    },
    {
      "cell_type": "code",
      "execution_count": null,
      "metadata": {
        "colab": {
          "base_uri": "https://localhost:8080/"
        },
        "id": "_hvOT-dwAyeH",
        "outputId": "d1e03563-931d-4d7d-b25e-9465bd5077cd"
      },
      "outputs": [
        {
          "name": "stdout",
          "output_type": "stream",
          "text": [
            "Replace: Python is powerful to learn\n"
          ]
        }
      ],
      "source": [
        "# Replacing\n",
        "print(\"Replace:\", sentence.replace(\"easy\", \"powerful\"))"
      ]
    },
    {
      "cell_type": "code",
      "execution_count": null,
      "metadata": {
        "colab": {
          "base_uri": "https://localhost:8080/"
        },
        "id": "joTK4uRwA0Wh",
        "outputId": "6b553c49-fb09-43b8-d5ef-636cb9264998"
      },
      "outputs": [
        {
          "name": "stdout",
          "output_type": "stream",
          "text": [
            "Split: ['Python', 'is', 'easy', 'to', 'learn']\n"
          ]
        }
      ],
      "source": [
        "# Splitting and Joining\n",
        "words = sentence.split()  # Split by space\n",
        "print(\"Split:\", words)"
      ]
    },
    {
      "cell_type": "code",
      "execution_count": null,
      "metadata": {
        "colab": {
          "base_uri": "https://localhost:8080/"
        },
        "id": "Cx5auevgA2CI",
        "outputId": "77742adf-c399-4f02-eeb1-baefc4b49871"
      },
      "outputs": [
        {
          "name": "stdout",
          "output_type": "stream",
          "text": [
            "Join: Python is easy to learn\n"
          ]
        }
      ],
      "source": [
        "joined = \" \".join(words)\n",
        "print(\"Join:\", joined)"
      ]
    },
    {
      "cell_type": "code",
      "execution_count": null,
      "metadata": {
        "colab": {
          "base_uri": "https://localhost:8080/"
        },
        "id": "dwWjJEVHA8Xr",
        "outputId": "c216b54d-01bb-4f4b-ad8e-ba5dcebc8310"
      },
      "outputs": [
        {
          "name": "stdout",
          "output_type": "stream",
          "text": [
            "Is digit: True\n",
            "Is alpha: True\n",
            "Is alphanumeric: True\n",
            "Starts with: True\n",
            "Ends with: True\n"
          ]
        }
      ],
      "source": [
        "# Checking methods\n",
        "print(\"Is digit:\", \"123\".isdigit())\n",
        "print(\"Is alpha:\", \"Hello\".isalpha())\n",
        "print(\"Is alphanumeric:\", \"Hello123\".isalnum())\n",
        "print(\"Starts with:\", sentence.startswith(\"Python\"))\n",
        "print(\"Ends with:\", sentence.endswith(\"learn\"))"
      ]
    },
    {
      "cell_type": "code",
      "execution_count": null,
      "metadata": {
        "colab": {
          "base_uri": "https://localhost:8080/"
        },
        "id": "qQQ0XuGCBF7D",
        "outputId": "b9c4d6e5-7638-44a0-f466-570326dad69a"
      },
      "outputs": [
        {
          "name": "stdout",
          "output_type": "stream",
          "text": [
            "Cleaned: Rahul Kumar\n"
          ]
        }
      ],
      "source": [
        "# Practical example: Data cleaning\n",
        "dirty_data = \"  RAHUL KUMAR  \"\n",
        "clean_data = dirty_data.strip().title()\n",
        "print(\"Cleaned:\", clean_data)"
      ]
    },
    {
      "cell_type": "markdown",
      "metadata": {
        "id": "5avuvuLOBPO0"
      },
      "source": [
        "PRACTICE EXERCISE 6:\n",
        "1. Create a string \"Data Analysis\" and print characters at index 0, 5, and -1\n",
        "2. Extract the word \"Analysis\" using slicing\n",
        "3. Convert the string to uppercase\n",
        "4. Count how many times letter 'a' appears\n",
        "5. Replace \"Analysis\" with \"Science\""
      ]
    },
    {
      "cell_type": "markdown",
      "metadata": {
        "id": "jz4r5Yj5BR90"
      },
      "source": [
        "### 3. Concatenation"
      ]
    },
    {
      "cell_type": "code",
      "execution_count": null,
      "metadata": {
        "colab": {
          "base_uri": "https://localhost:8080/"
        },
        "id": "f3t-9WItBL3w",
        "outputId": "7efc06ec-45a1-4eeb-c96e-51680dfa31bb"
      },
      "outputs": [
        {
          "name": "stdout",
          "output_type": "stream",
          "text": [
            "Concatenation: Data Science\n"
          ]
        }
      ],
      "source": [
        "# String concatenation with +\n",
        "first = \"Data\"\n",
        "second = \"Science\"\n",
        "combined = first + \" \" + second\n",
        "print(\"Concatenation:\", combined)"
      ]
    },
    {
      "cell_type": "code",
      "execution_count": null,
      "metadata": {
        "colab": {
          "base_uri": "https://localhost:8080/"
        },
        "id": "uMkW_lSuBUVU",
        "outputId": "71e6064b-cefe-4cfb-f7e5-28581e300367"
      },
      "outputs": [
        {
          "name": "stdout",
          "output_type": "stream",
          "text": [
            "Hello Student!\n"
          ]
        }
      ],
      "source": [
        "# Concatenating multiple strings\n",
        "greeting = \"Hello\" + \" \" + \"Student\" + \"!\"\n",
        "print(greeting)"
      ]
    },
    {
      "cell_type": "code",
      "execution_count": null,
      "metadata": {
        "colab": {
          "base_uri": "https://localhost:8080/"
        },
        "id": "mdvEoyARBWjK",
        "outputId": "ab12f035-97ce-4f70-de5f-5046842ffb44"
      },
      "outputs": [
        {
          "name": "stdout",
          "output_type": "stream",
          "text": [
            "Name: Priya, Age: 21\n"
          ]
        }
      ],
      "source": [
        "# Concatenation with variables\n",
        "name = \"Priya\"\n",
        "age = 21\n",
        "# message = \"Name: \" + name + \", Age: \" + age  # Error! Can't concat string with int\n",
        "message = \"Name: \" + name + \", Age: \" + str(age)\n",
        "print(message)"
      ]
    },
    {
      "cell_type": "code",
      "execution_count": null,
      "metadata": {
        "colab": {
          "base_uri": "https://localhost:8080/"
        },
        "id": "02DVYJaABX8P",
        "outputId": "54ed2a04-6502-4761-fee6-19221431a14b"
      },
      "outputs": [
        {
          "name": "stdout",
          "output_type": "stream",
          "text": [
            "Name: Priya, Age: 21\n"
          ]
        }
      ],
      "source": [
        "# Better way: f-strings (formatted strings)\n",
        "message_f = f\"Name: {name}, Age: {age}\"\n",
        "print(message_f)"
      ]
    },
    {
      "cell_type": "code",
      "execution_count": null,
      "metadata": {
        "colab": {
          "base_uri": "https://localhost:8080/"
        },
        "id": "_1sKlZ50Badf",
        "outputId": "a73c1b22-df07-455e-c433-d271ea315ffe"
      },
      "outputs": [
        {
          "name": "stdout",
          "output_type": "stream",
          "text": [
            "Name: Priya, Age: 21\n"
          ]
        }
      ],
      "source": [
        "# Using format method\n",
        "message_format = \"Name: {}, Age: {}\".format(name, age)\n",
        "print(message_format)"
      ]
    },
    {
      "cell_type": "code",
      "execution_count": null,
      "metadata": {
        "colab": {
          "base_uri": "https://localhost:8080/"
        },
        "id": "UI1wnWooBc1L",
        "outputId": "c6b7b2df-6750-43e2-d001-7b865dc9d0c1"
      },
      "outputs": [
        {
          "name": "stdout",
          "output_type": "stream",
          "text": [
            "Student Amit scored 85 marks with 85.5% percentage\n"
          ]
        }
      ],
      "source": [
        "# Practical example\n",
        "student = \"Amit\"\n",
        "marks = 85\n",
        "percentage = 85.5\n",
        "result = f\"Student {student} scored {marks} marks with {percentage}% percentage\"\n",
        "print(result)"
      ]
    },
    {
      "cell_type": "code",
      "execution_count": null,
      "metadata": {
        "colab": {
          "base_uri": "https://localhost:8080/"
        },
        "id": "p2JBKbglBfTq",
        "outputId": "20f7ad73-e00b-4179-c8bf-b97e91e11667"
      },
      "outputs": [
        {
          "name": "stdout",
          "output_type": "stream",
          "text": [
            "House No: 123\n",
            "Street: MG Road\n",
            "City: Pune\n"
          ]
        }
      ],
      "source": [
        "# Multiple line concatenation\n",
        "address = \"House No: 123\" + \"\\n\" + \"Street: MG Road\" + \"\\n\" + \"City: Pune\"\n",
        "print(address)"
      ]
    },
    {
      "cell_type": "markdown",
      "metadata": {
        "id": "xv8D_K_5BmsQ"
      },
      "source": [
        "PRACTICE EXERCISE 7:\n",
        "1. Create two string variables with your first name and last name\n",
        "2. Concatenate them with a space in between\n",
        "3. Create variables for item name and price, then create a message like \"Item: Laptop, Price: 50000\"\n",
        "4. Use f-string to create a message with your name and age"
      ]
    },
    {
      "cell_type": "markdown",
      "metadata": {
        "id": "Es7PdH2wKLRX"
      },
      "source": [
        "## Day 5: Operators"
      ]
    },
    {
      "cell_type": "code",
      "execution_count": null,
      "metadata": {
        "colab": {
          "base_uri": "https://localhost:8080/"
        },
        "id": "hexFnXwz3f4S",
        "outputId": "9a66e508-714d-494b-a10b-889ec779686e"
      },
      "outputs": [
        {
          "name": "stdout",
          "output_type": "stream",
          "text": [
            "Addition: 13\n"
          ]
        }
      ],
      "source": [
        "### 1. Arithmetic Operators\n",
        "\n",
        "# Addition\n",
        "a = 10\n",
        "b = 3\n",
        "print(\"Addition:\", a + b)"
      ]
    },
    {
      "cell_type": "code",
      "execution_count": null,
      "metadata": {
        "colab": {
          "base_uri": "https://localhost:8080/"
        },
        "id": "AQoFCEJ8KPAF",
        "outputId": "3bf560d9-361f-437f-ec18-cad45437c268"
      },
      "outputs": [
        {
          "name": "stdout",
          "output_type": "stream",
          "text": [
            "Subtraction: 7\n"
          ]
        }
      ],
      "source": [
        "# Subtraction\n",
        "print(\"Subtraction:\", a - b)"
      ]
    },
    {
      "cell_type": "code",
      "execution_count": null,
      "metadata": {
        "colab": {
          "base_uri": "https://localhost:8080/"
        },
        "id": "52T85yQUKQlg",
        "outputId": "3d070bdc-3dd8-41b2-ef3b-9c62554d5b64"
      },
      "outputs": [
        {
          "name": "stdout",
          "output_type": "stream",
          "text": [
            "Multiplication: 30\n"
          ]
        }
      ],
      "source": [
        "#  Multiplication\n",
        "print(\"Multiplication:\", a * b)"
      ]
    },
    {
      "cell_type": "code",
      "execution_count": null,
      "metadata": {
        "colab": {
          "base_uri": "https://localhost:8080/"
        },
        "id": "X-MNwtNZKSlp",
        "outputId": "316ed948-a215-495a-c3a4-488b8b4f3d50"
      },
      "outputs": [
        {
          "name": "stdout",
          "output_type": "stream",
          "text": [
            "Division: 3.3333333333333335\n"
          ]
        }
      ],
      "source": [
        "#  Division (always returns float)\n",
        "print(\"Division:\", a / b)"
      ]
    },
    {
      "cell_type": "code",
      "execution_count": null,
      "metadata": {
        "colab": {
          "base_uri": "https://localhost:8080/"
        },
        "id": "_P_NZ-ZmKUU_",
        "outputId": "d14167c6-d35f-4b93-9d44-58ff0c47a718"
      },
      "outputs": [
        {
          "name": "stdout",
          "output_type": "stream",
          "text": [
            "Floor Division: 3\n"
          ]
        }
      ],
      "source": [
        "#  Floor Division (returns integer, no decimal)\n",
        "print(\"Floor Division:\", a // b)"
      ]
    },
    {
      "cell_type": "code",
      "execution_count": null,
      "metadata": {
        "colab": {
          "base_uri": "https://localhost:8080/"
        },
        "id": "ua0B7yCWKWpc",
        "outputId": "9e6263bb-82c1-492a-c14a-31a584189104"
      },
      "outputs": [
        {
          "name": "stdout",
          "output_type": "stream",
          "text": [
            "Modulus: 1\n"
          ]
        }
      ],
      "source": [
        "# Modulus (remainder)\n",
        "print(\"Modulus:\", a % b)"
      ]
    },
    {
      "cell_type": "code",
      "execution_count": null,
      "metadata": {
        "colab": {
          "base_uri": "https://localhost:8080/"
        },
        "id": "PwRdJigDKgyC",
        "outputId": "f3363659-2a79-4ae9-e611-56b17f8e89aa"
      },
      "outputs": [
        {
          "name": "stdout",
          "output_type": "stream",
          "text": [
            "Exponentiation: 1000\n"
          ]
        }
      ],
      "source": [
        "# Exponentiation (power)\n",
        "print(\"Exponentiation:\", a ** b)  # 10^3 = 1000"
      ]
    },
    {
      "cell_type": "code",
      "execution_count": null,
      "metadata": {
        "colab": {
          "base_uri": "https://localhost:8080/"
        },
        "id": "oM6pcUDnKidH",
        "outputId": "80bcdbca-45a2-4bbb-c5ad-f40e3e7639d7"
      },
      "outputs": [
        {
          "name": "stdout",
          "output_type": "stream",
          "text": [
            "Average marks: 90.0\n"
          ]
        }
      ],
      "source": [
        "# Real-world examples\n",
        "total_marks = 450\n",
        "num_subjects = 5\n",
        "average = total_marks / num_subjects\n",
        "print(\"Average marks:\", average)\n"
      ]
    },
    {
      "cell_type": "code",
      "execution_count": null,
      "metadata": {
        "colab": {
          "base_uri": "https://localhost:8080/"
        },
        "id": "le5O-R2sKjoy",
        "outputId": "be7fb251-09fd-4c24-d5b5-f828185d58f7"
      },
      "outputs": [
        {
          "name": "stdout",
          "output_type": "stream",
          "text": [
            "Final price: 949\n"
          ]
        }
      ],
      "source": [
        "price = 999\n",
        "discount = 50\n",
        "final_price = price - discount\n",
        "print(\"Final price:\", final_price)"
      ]
    },
    {
      "cell_type": "code",
      "execution_count": null,
      "metadata": {
        "colab": {
          "base_uri": "https://localhost:8080/"
        },
        "id": "Mo_Ztj5zKlaj",
        "outputId": "7cad0d93-3d66-4ee0-b7fe-6ed4a96a31f2"
      },
      "outputs": [
        {
          "name": "stdout",
          "output_type": "stream",
          "text": [
            "Area: 150\n"
          ]
        }
      ],
      "source": [
        "# Calculate area of rectangle\n",
        "length = 15\n",
        "width = 10\n",
        "area = length * width\n",
        "print(\"Area:\", area)"
      ]
    },
    {
      "cell_type": "code",
      "execution_count": null,
      "metadata": {
        "colab": {
          "base_uri": "https://localhost:8080/"
        },
        "id": "yygSdKHUKnF8",
        "outputId": "abdfaca2-0044-40e9-fd0d-eba6b11934ae"
      },
      "outputs": [
        {
          "name": "stdout",
          "output_type": "stream",
          "text": [
            "17 is odd\n"
          ]
        }
      ],
      "source": [
        "# Check if number is even or odd\n",
        "number = 17\n",
        "remainder = number % 2\n",
        "if remainder == 0:\n",
        "    print(f\"{number} is even\")\n",
        "else:\n",
        "    print(f\"{number} is odd\")"
      ]
    },
    {
      "cell_type": "markdown",
      "metadata": {
        "id": "eJIQFUUUKtEm"
      },
      "source": [
        "PRACTICE EXERCISE 8:\n",
        "1. Calculate the sum of 456 and 789\n",
        "2. Divide 100 by 7 and print both regular division and floor division\n",
        "3. Find the remainder when 50 is divided by 8\n",
        "4. Calculate 2 to the power of 10\n",
        "5. Calculate the average of three numbers: 85, 90, 78"
      ]
    },
    {
      "cell_type": "markdown",
      "metadata": {
        "id": "CfRNbVxHKxpE"
      },
      "source": [
        "### 2. Logical Operators: and, or, not"
      ]
    },
    {
      "cell_type": "markdown",
      "metadata": {
        "id": "0BJFfe5LKzp8"
      },
      "source": [
        "* Logical operators work with boolean values\n",
        "\n",
        "* and: True if BOTH conditions are True\n",
        "\n",
        "* or: True if AT LEAST ONE condition is True\n",
        "\n",
        "* not: Reverses the boolean value"
      ]
    },
    {
      "cell_type": "code",
      "execution_count": null,
      "metadata": {
        "colab": {
          "base_uri": "https://localhost:8080/"
        },
        "id": "hObLJr8YKrMM",
        "outputId": "3ae2d921-f953-4a06-f4ec-156f67ee87c1"
      },
      "outputs": [
        {
          "name": "stdout",
          "output_type": "stream",
          "text": [
            "True and True: True\n",
            "True and False: False\n",
            "False and False: False\n"
          ]
        }
      ],
      "source": [
        "# AND operator\n",
        "print(\"True and True:\", True and True)\n",
        "print(\"True and False:\", True and False)\n",
        "print(\"False and False:\", False and False)"
      ]
    },
    {
      "cell_type": "code",
      "execution_count": null,
      "metadata": {
        "colab": {
          "base_uri": "https://localhost:8080/"
        },
        "id": "RSRB3SPrLAwK",
        "outputId": "aede3d52-aa4d-4f82-84cf-5e3cc6932f6d"
      },
      "outputs": [
        {
          "name": "stdout",
          "output_type": "stream",
          "text": [
            "Can vote: True\n"
          ]
        }
      ],
      "source": [
        "age = 20\n",
        "has_id = True\n",
        "can_vote = age >= 18 and has_id\n",
        "print(\"Can vote:\", can_vote)"
      ]
    },
    {
      "cell_type": "code",
      "execution_count": null,
      "metadata": {
        "colab": {
          "base_uri": "https://localhost:8080/"
        },
        "id": "0ke9jeaVLDBs",
        "outputId": "25d1628e-652e-44d3-8827-ca86f0d477c0"
      },
      "outputs": [
        {
          "name": "stdout",
          "output_type": "stream",
          "text": [
            "True or True: True\n",
            "True or False: True\n",
            "False or False: False\n"
          ]
        }
      ],
      "source": [
        "# OR operator\n",
        "print(\"True or True:\", True or True)\n",
        "print(\"True or False:\", True or False)\n",
        "print(\"False or False:\", False or False)"
      ]
    },
    {
      "cell_type": "code",
      "execution_count": null,
      "metadata": {
        "colab": {
          "base_uri": "https://localhost:8080/"
        },
        "id": "Omms5bGULeuU",
        "outputId": "33c736a3-2144-431d-c8b8-e1ceedb9ad6d"
      },
      "outputs": [
        {
          "name": "stdout",
          "output_type": "stream",
          "text": [
            "Can relax: True\n"
          ]
        }
      ],
      "source": [
        "is_weekend = False\n",
        "is_holiday = True\n",
        "can_relax = is_weekend or is_holiday\n",
        "print(\"Can relax:\", can_relax)"
      ]
    },
    {
      "cell_type": "code",
      "execution_count": null,
      "metadata": {
        "colab": {
          "base_uri": "https://localhost:8080/"
        },
        "id": "w4NyybweLgts",
        "outputId": "51353983-1d82-46eb-e0d0-d2370ce48d78"
      },
      "outputs": [
        {
          "name": "stdout",
          "output_type": "stream",
          "text": [
            "not True: False\n",
            "not False: True\n"
          ]
        }
      ],
      "source": [
        "# NOT operator\n",
        "print(\"not True:\", not True)\n",
        "print(\"not False:\", not False)"
      ]
    },
    {
      "cell_type": "code",
      "execution_count": null,
      "metadata": {
        "colab": {
          "base_uri": "https://localhost:8080/"
        },
        "id": "j3zhYy_IMYT-",
        "outputId": "5c863aa2-9ec5-48e4-a464-9817c5972b98"
      },
      "outputs": [
        {
          "name": "stdout",
          "output_type": "stream",
          "text": [
            "Can play outside: True\n"
          ]
        }
      ],
      "source": [
        "is_raining = False\n",
        "can_play_outside = not is_raining\n",
        "print(\"Can play outside:\", can_play_outside)"
      ]
    },
    {
      "cell_type": "code",
      "execution_count": null,
      "metadata": {
        "colab": {
          "base_uri": "https://localhost:8080/"
        },
        "id": "9TAwjeZ6Lzy9",
        "outputId": "0f2dc9e3-c8e1-4cc6-da55-26de75d4605a"
      },
      "outputs": [
        {
          "name": "stdout",
          "output_type": "stream",
          "text": [
            "You can go outside!\n"
          ]
        }
      ],
      "source": [
        "is_raining = False\n",
        "\n",
        "if not is_raining:\n",
        "    print(\"You can go outside!\")\n",
        "else:\n",
        "    print(\"Stay indoors.\")"
      ]
    },
    {
      "cell_type": "code",
      "execution_count": null,
      "metadata": {
        "id": "lmyB8XDVMVJL"
      },
      "outputs": [],
      "source": [
        "# Complex conditions\n",
        "marks = 85\n",
        "attendance = 80"
      ]
    },
    {
      "cell_type": "code",
      "execution_count": null,
      "metadata": {
        "colab": {
          "base_uri": "https://localhost:8080/"
        },
        "id": "-e5lPPFXMe0m",
        "outputId": "aae14953-d12b-4df2-8b46-80f910a41c92"
      },
      "outputs": [
        {
          "name": "stdout",
          "output_type": "stream",
          "text": [
            "Student passed: True\n"
          ]
        }
      ],
      "source": [
        "passed = marks >= 40 and attendance >= 75\n",
        "print(\"Student passed:\", passed)"
      ]
    },
    {
      "cell_type": "code",
      "execution_count": null,
      "metadata": {
        "colab": {
          "base_uri": "https://localhost:8080/"
        },
        "id": "4Z8b3szUMhu1",
        "outputId": "a9b4b2eb-532e-46bc-feba-37a3524a6237"
      },
      "outputs": [
        {
          "name": "stdout",
          "output_type": "stream",
          "text": [
            "Gets scholarship: False\n"
          ]
        }
      ],
      "source": [
        "scholarship = marks >= 90 or attendance >= 95\n",
        "print(\"Gets scholarship:\", scholarship)"
      ]
    },
    {
      "cell_type": "code",
      "execution_count": null,
      "metadata": {
        "id": "1zBWLhL-MjnL"
      },
      "outputs": [],
      "source": [
        "# Real-world example: Login system\n",
        "username_correct = True\n",
        "password_correct = True\n",
        "account_active   = True"
      ]
    },
    {
      "cell_type": "code",
      "execution_count": null,
      "metadata": {
        "colab": {
          "base_uri": "https://localhost:8080/"
        },
        "id": "cnWNmgt6M_PU",
        "outputId": "76eb64f5-e2bf-4409-df60-b9938e54a6e6"
      },
      "outputs": [
        {
          "name": "stdout",
          "output_type": "stream",
          "text": [
            "Login successful: True\n"
          ]
        }
      ],
      "source": [
        "login_success = username_correct and password_correct and account_active\n",
        "print(\"Login successful:\", login_success)"
      ]
    },
    {
      "cell_type": "code",
      "execution_count": null,
      "metadata": {
        "colab": {
          "base_uri": "https://localhost:8080/"
        },
        "id": "Sq0z0Jw0NBl9",
        "outputId": "ed29d160-c3ed-4b0a-ef42-7df8b8474b61"
      },
      "outputs": [
        {
          "name": "stdout",
          "output_type": "stream",
          "text": [
            "Can buy product: False\n"
          ]
        }
      ],
      "source": [
        "# E-commerce example\n",
        "in_stock = True\n",
        "price_affordable = True\n",
        "delivery_available = False\n",
        "\n",
        "can_buy = in_stock and price_affordable and delivery_available\n",
        "print(\"Can buy product:\", can_buy)"
      ]
    },
    {
      "cell_type": "markdown",
      "metadata": {
        "id": "uVjotA_2Seen"
      },
      "source": [
        "PRACTICE EXERCISE 9:\n",
        "1. Create two boolean variables: is_sunny = True, is_warm = True\n",
        "2. Use 'and' to check if it's both sunny AND warm\n",
        "3. Create variables: has_bike = False, has_car = True\n",
        "4. Use 'or' to check if person has any vehicle\n",
        "5. Use 'not' to reverse the value of is_raining = False"
      ]
    },
    {
      "cell_type": "markdown",
      "metadata": {
        "id": "LxrGX85mSnoT"
      },
      "source": [
        "### 3. Assignment Operators"
      ]
    },
    {
      "cell_type": "code",
      "execution_count": null,
      "metadata": {
        "colab": {
          "base_uri": "https://localhost:8080/"
        },
        "id": "udayTYqpNgIX",
        "outputId": "a3e22ef7-869f-45b1-8f43-749a0b4a028d"
      },
      "outputs": [
        {
          "name": "stdout",
          "output_type": "stream",
          "text": [
            "x = 10\n"
          ]
        }
      ],
      "source": [
        "# Basic assignment\n",
        "x = 10\n",
        "print(\"x =\", x)"
      ]
    },
    {
      "cell_type": "code",
      "execution_count": null,
      "metadata": {
        "colab": {
          "base_uri": "https://localhost:8080/"
        },
        "id": "7Wpt7UrQSqqL",
        "outputId": "0fc31cc0-2341-4e18-e7b5-9e42f252db3b"
      },
      "outputs": [
        {
          "name": "stdout",
          "output_type": "stream",
          "text": [
            "After +=: 15\n"
          ]
        }
      ],
      "source": [
        "# Add and assign (+=)\n",
        "x = 10\n",
        "x += 5  # Same as: x = x + 5\n",
        "print(\"After +=:\", x)"
      ]
    },
    {
      "cell_type": "code",
      "execution_count": null,
      "metadata": {
        "colab": {
          "base_uri": "https://localhost:8080/"
        },
        "id": "QAbC-hdQStWU",
        "outputId": "51ae9e94-b448-4308-eddb-800767771a32"
      },
      "outputs": [
        {
          "name": "stdout",
          "output_type": "stream",
          "text": [
            "After -=: 7\n"
          ]
        }
      ],
      "source": [
        "#  Subtract and assign (-=)\n",
        "x = 10\n",
        "x -= 3  # Same as: x = x - 3\n",
        "print(\"After -=:\", x)"
      ]
    },
    {
      "cell_type": "code",
      "execution_count": null,
      "metadata": {
        "colab": {
          "base_uri": "https://localhost:8080/"
        },
        "id": "mV06sxIbSwuw",
        "outputId": "e61916cf-2e21-4f2b-a9df-e14cdc8606d3"
      },
      "outputs": [
        {
          "name": "stdout",
          "output_type": "stream",
          "text": [
            "After *=: 20\n"
          ]
        }
      ],
      "source": [
        "# Multiply and assign (*=)\n",
        "x = 10\n",
        "x *= 2  # Same as: x = x * 2\n",
        "print(\"After *=:\", x)"
      ]
    },
    {
      "cell_type": "code",
      "execution_count": null,
      "metadata": {
        "colab": {
          "base_uri": "https://localhost:8080/"
        },
        "id": "z1CSgJ7QSzUA",
        "outputId": "e43826dd-176c-466a-ae15-f77ad19e2901"
      },
      "outputs": [
        {
          "name": "stdout",
          "output_type": "stream",
          "text": [
            "After /=: 5.0\n"
          ]
        }
      ],
      "source": [
        "# Divide and assign (/=)\n",
        "x = 10\n",
        "x /= 2  # Same as: x = x / 2\n",
        "print(\"After /=:\", x)"
      ]
    },
    {
      "cell_type": "code",
      "execution_count": null,
      "metadata": {
        "colab": {
          "base_uri": "https://localhost:8080/"
        },
        "id": "eV2v29UjS1gx",
        "outputId": "e23156d9-ad95-467a-c133-eb5511778ea4"
      },
      "outputs": [
        {
          "name": "stdout",
          "output_type": "stream",
          "text": [
            "After //=: 3\n"
          ]
        }
      ],
      "source": [
        "# Floor divide and assign (//=)\n",
        "x = 10\n",
        "x //= 3  # Same as: x = x // 3\n",
        "print(\"After //=:\", x)"
      ]
    },
    {
      "cell_type": "code",
      "execution_count": null,
      "metadata": {
        "colab": {
          "base_uri": "https://localhost:8080/"
        },
        "id": "GcNKou_GS34m",
        "outputId": "dfab2661-8b2c-4a17-a285-460ce21d8e13"
      },
      "outputs": [
        {
          "name": "stdout",
          "output_type": "stream",
          "text": [
            "After %=: 1\n"
          ]
        }
      ],
      "source": [
        "# Modulus and assign (%=)\n",
        "x = 10\n",
        "x %= 3  # Same as: x = x % 3\n",
        "print(\"After %=:\", x)"
      ]
    },
    {
      "cell_type": "code",
      "execution_count": null,
      "metadata": {
        "colab": {
          "base_uri": "https://localhost:8080/"
        },
        "id": "GGmKaCXTS6Mh",
        "outputId": "fa0a69f4-a43d-41a5-fd4a-c74ee58b897f"
      },
      "outputs": [
        {
          "name": "stdout",
          "output_type": "stream",
          "text": [
            "After **=: 8\n"
          ]
        }
      ],
      "source": [
        "# Exponent and assign (**=)\n",
        "x = 2\n",
        "x **= 3  # Same as: x = x ** 3\n",
        "print(\"After **=:\", x)"
      ]
    },
    {
      "cell_type": "code",
      "execution_count": null,
      "metadata": {
        "colab": {
          "base_uri": "https://localhost:8080/"
        },
        "id": "cgaORM5hS85x",
        "outputId": "13b5b693-fff9-4a49-a5e9-4a6d3b3011e8"
      },
      "outputs": [
        {
          "name": "stdout",
          "output_type": "stream",
          "text": [
            "Initial balance: 5000\n",
            "After deposit: 7000\n",
            "After withdrawal: 5500\n"
          ]
        }
      ],
      "source": [
        "# Bank account\n",
        "balance = 5000\n",
        "print(\"Initial balance:\", balance)\n",
        "\n",
        "balance += 2000  # Deposit\n",
        "print(\"After deposit:\", balance)\n",
        "\n",
        "balance -= 1500  # Withdrawal\n",
        "print(\"After withdrawal:\", balance)"
      ]
    },
    {
      "cell_type": "code",
      "execution_count": null,
      "metadata": {
        "colab": {
          "base_uri": "https://localhost:8080/"
        },
        "id": "z27z5rXTS_uL",
        "outputId": "e6d63afd-ea0e-4cff-912c-300b8a609111"
      },
      "outputs": [
        {
          "name": "stdout",
          "output_type": "stream",
          "text": [
            "Total cart value: 2000\n"
          ]
        }
      ],
      "source": [
        "# Shopping cart\n",
        "total = 0\n",
        "total += 500\n",
        "total += 1200\n",
        "total += 300\n",
        "print(\"Total cart value:\", total)"
      ]
    },
    {
      "cell_type": "code",
      "execution_count": null,
      "metadata": {
        "colab": {
          "base_uri": "https://localhost:8080/"
        },
        "id": "ak0_dyt4TCG3",
        "outputId": "afe58e7b-1aac-4912-f518-617cc3bbb37b"
      },
      "outputs": [
        {
          "name": "stdout",
          "output_type": "stream",
          "text": [
            "Total score: 45\n"
          ]
        }
      ],
      "source": [
        "# Score tracking\n",
        "score = 0\n",
        "score += 10  # Level 1\n",
        "score += 20  # Level 2\n",
        "score += 15  # Level 3\n",
        "print(\"Total score:\", score)"
      ]
    },
    {
      "cell_type": "markdown",
      "metadata": {
        "id": "Wz2FwPB8TUsJ"
      },
      "source": [
        "PRACTICE EXERCISE 10:\n",
        "1. Create a variable count = 5\n",
        "2. Use += to add 10 to it\n",
        "3. Use -= to subtract 3 from it\n",
        "4. Use *= to multiply it by 2\n",
        "5. Print the final value"
      ]
    },
    {
      "cell_type": "markdown",
      "metadata": {
        "id": "ce9aH6LQTX0b"
      },
      "source": [
        "### 4. Comparison Operators"
      ]
    },
    {
      "cell_type": "code",
      "execution_count": null,
      "metadata": {
        "colab": {
          "base_uri": "https://localhost:8080/",
          "height": 35
        },
        "id": "FTGSpfL-THCj",
        "outputId": "ac33c632-4929-44f6-c2c3-31be57ac9976"
      },
      "outputs": [
        {
          "data": {
            "application/vnd.google.colaboratory.intrinsic+json": {
              "type": "string"
            },
            "text/plain": [
              "'Comparison operators return True or False\\n== : Equal to\\n!= : Not equal to\\n>  : Greater than\\n<  : Less than\\n>= : Greater than or equal to\\n<= : Less than or equal to\\n'"
            ]
          },
          "execution_count": 52,
          "metadata": {},
          "output_type": "execute_result"
        }
      ],
      "source": [
        "'''Comparison operators return True or False\n",
        "== : Equal to\n",
        "!= : Not equal to\n",
        ">  : Greater than\n",
        "<  : Less than\n",
        ">= : Greater than or equal to\n",
        "<= : Less than or equal to\n",
        "'''"
      ]
    },
    {
      "cell_type": "code",
      "execution_count": null,
      "metadata": {
        "colab": {
          "base_uri": "https://localhost:8080/"
        },
        "id": "TCVERFwXTp8_",
        "outputId": "46169530-425a-438c-bd67-e20d08496cbd"
      },
      "outputs": [
        {
          "name": "stdout",
          "output_type": "stream",
          "text": [
            "10 == 10: True\n",
            "10 == 5: False\n",
            "'hi' == 'hi': True\n"
          ]
        }
      ],
      "source": [
        "# Equal to (==)\n",
        "print(\"10 == 10:\", 10 == 10)    # True\n",
        "print(\"10 == 5:\", 10 == 5)      # False\n",
        "print(\"'hi' == 'hi':\", \"hi\" == \"hi\")  # True"
      ]
    },
    {
      "cell_type": "code",
      "execution_count": null,
      "metadata": {
        "colab": {
          "base_uri": "https://localhost:8080/"
        },
        "id": "bMEbvO9ZTuIk",
        "outputId": "186e190f-0460-44dc-ca02-a40dae157248"
      },
      "outputs": [
        {
          "name": "stdout",
          "output_type": "stream",
          "text": [
            "10 != 5: True\n",
            "10 != 10: False\n"
          ]
        }
      ],
      "source": [
        "# Not equal to (!=)\n",
        "print(\"10 != 5:\", 10 != 5)      # True\n",
        "print(\"10 != 10:\", 10 != 10)    # False\n"
      ]
    },
    {
      "cell_type": "code",
      "execution_count": null,
      "metadata": {
        "colab": {
          "base_uri": "https://localhost:8080/"
        },
        "id": "fybmmNkoTv-i",
        "outputId": "7dc7e802-25df-4119-d435-af33e0752368"
      },
      "outputs": [
        {
          "name": "stdout",
          "output_type": "stream",
          "text": [
            "10 > 5: True\n",
            "5 > 10: False\n"
          ]
        }
      ],
      "source": [
        "# Greater than (>)\n",
        "print(\"10 > 5:\", 10 > 5)        # True\n",
        "print(\"5 > 10:\", 5 > 10)        # False"
      ]
    },
    {
      "cell_type": "code",
      "execution_count": null,
      "metadata": {
        "colab": {
          "base_uri": "https://localhost:8080/"
        },
        "id": "ZzsESgiLTxhy",
        "outputId": "136911b1-e36b-496f-a33f-84c3d4194638"
      },
      "outputs": [
        {
          "name": "stdout",
          "output_type": "stream",
          "text": [
            "5 < 10: True\n",
            "10 < 5: False\n"
          ]
        }
      ],
      "source": [
        "# Less than (<)\n",
        "print(\"5 < 10:\", 5 < 10)        # True\n",
        "print(\"10 < 5:\", 10 < 5)        # False"
      ]
    },
    {
      "cell_type": "markdown",
      "metadata": {
        "id": "QflFA7rRT40v"
      },
      "source": [
        "# Real-world examples"
      ]
    },
    {
      "cell_type": "code",
      "execution_count": null,
      "metadata": {
        "colab": {
          "base_uri": "https://localhost:8080/"
        },
        "id": "0-GV3weRT25B",
        "outputId": "312b9612-8e86-4adc-de80-baceb87b2796"
      },
      "outputs": [
        {
          "name": "stdout",
          "output_type": "stream",
          "text": [
            "Is adult: False\n"
          ]
        }
      ],
      "source": [
        "# Age verification\n",
        "age = 17\n",
        "is_adult = age >= 18\n",
        "print(\"Is adult:\", is_adult)"
      ]
    },
    {
      "cell_type": "code",
      "execution_count": null,
      "metadata": {
        "colab": {
          "base_uri": "https://localhost:8080/"
        },
        "id": "LsPuGUteT4On",
        "outputId": "e5eaa39f-2ebf-4259-cc4a-ac8c9edc2628"
      },
      "outputs": [
        {
          "name": "stdout",
          "output_type": "stream",
          "text": [
            "Passed: True\n"
          ]
        }
      ],
      "source": [
        "# Grade checking\n",
        "marks = 85\n",
        "passed = marks >= 40\n",
        "print(\"Passed:\", passed)"
      ]
    },
    {
      "cell_type": "code",
      "execution_count": null,
      "metadata": {
        "colab": {
          "base_uri": "https://localhost:8080/"
        },
        "id": "CgB08Az2T7V4",
        "outputId": "67061372-ea30-43be-926a-75a732638eb4"
      },
      "outputs": [
        {
          "name": "stdout",
          "output_type": "stream",
          "text": [
            "Grade A: False\n"
          ]
        }
      ],
      "source": [
        "grade_a = marks >= 90\n",
        "print(\"Grade A:\", grade_a)"
      ]
    },
    {
      "cell_type": "code",
      "execution_count": null,
      "metadata": {
        "colab": {
          "base_uri": "https://localhost:8080/"
        },
        "id": "yDzKs_8tT9VC",
        "outputId": "6f2780a5-9b8b-43a9-9430-6e92d2896263"
      },
      "outputs": [
        {
          "name": "stdout",
          "output_type": "stream",
          "text": [
            "Can afford: True\n"
          ]
        }
      ],
      "source": [
        "# Price comparison\n",
        "budget = 5000\n",
        "item_price = 4500\n",
        "can_afford = item_price <= budget\n",
        "print(\"Can afford:\", can_afford)"
      ]
    },
    {
      "cell_type": "code",
      "execution_count": null,
      "metadata": {
        "colab": {
          "base_uri": "https://localhost:8080/"
        },
        "id": "WhbwC0lfT_Lz",
        "outputId": "36b20ca0-671d-438e-875d-5ae680bebb38"
      },
      "outputs": [
        {
          "name": "stdout",
          "output_type": "stream",
          "text": [
            "Has fever: True\n"
          ]
        }
      ],
      "source": [
        "# Temperature check\n",
        "temperature = 38\n",
        "has_fever = temperature > 37\n",
        "print(\"Has fever:\", has_fever)"
      ]
    },
    {
      "cell_type": "code",
      "execution_count": null,
      "metadata": {
        "colab": {
          "base_uri": "https://localhost:8080/"
        },
        "id": "2wiUiTAhUBlk",
        "outputId": "be4905bf-efbb-4d4a-b77c-75c14ea0ec4c"
      },
      "outputs": [
        {
          "name": "stdout",
          "output_type": "stream",
          "text": [
            "Eligible for scholarship: False\n"
          ]
        }
      ],
      "source": [
        "# Combining with logical operators\n",
        "marks = 85\n",
        "attendance = 80\n",
        "scholarship = marks >= 90 and attendance >= 75\n",
        "print(\"Eligible for scholarship:\", scholarship)"
      ]
    },
    {
      "cell_type": "code",
      "execution_count": null,
      "metadata": {
        "colab": {
          "base_uri": "https://localhost:8080/"
        },
        "id": "gasFuhuXUDqS",
        "outputId": "7b50b3bb-bd12-4ed5-f2b5-8d7a9f6ddaac"
      },
      "outputs": [
        {
          "name": "stdout",
          "output_type": "stream",
          "text": [
            "Valid username length: True\n"
          ]
        }
      ],
      "source": [
        "# Username validation\n",
        "username = \"student123\"\n",
        "valid_length = len(username) >= 6\n",
        "print(\"Valid username length:\", valid_length)"
      ]
    },
    {
      "cell_type": "markdown",
      "metadata": {
        "id": "aurHEV6KUKEp"
      },
      "source": [
        "## PRACTICE EXERCISE 11:\n",
        "\n",
        "1. Create two variables: marks1 = 75, marks2 = 80\n",
        "2. Check if marks1 is equal to marks2\n",
        "3. Check if marks1 is less than marks2\n",
        "4. Create a variable age = 25, check if age >= 21\n",
        "5. Create price = 1500, budget = 2000, check if price <= budget"
      ]
    },
    {
      "cell_type": "code",
      "execution_count": null,
      "metadata": {
        "colab": {
          "base_uri": "https://localhost:8080/"
        },
        "id": "xIdu6tdWUFh3",
        "outputId": "e9ff6b78-e87d-437c-cb20-64322a3882d5"
      },
      "outputs": [
        {
          "name": "stdout",
          "output_type": "stream",
          "text": [
            "\n",
            "==================================================\n",
            "FINAL COMPREHENSIVE EXAMPLE\n",
            "==================================================\n",
            "\n"
          ]
        }
      ],
      "source": [
        "print(\"\\n\" + \"=\"*50)\n",
        "print(\"FINAL COMPREHENSIVE EXAMPLE\")\n",
        "print(\"=\"*50 + \"\\n\")"
      ]
    },
    {
      "cell_type": "code",
      "execution_count": null,
      "metadata": {
        "id": "VVbMozYiUHMa"
      },
      "outputs": [],
      "source": [
        "# Student information\n",
        "student_name = \"Rahul Sharma\"\n",
        "student_age = 21\n",
        "student_email = \"rahul.sharma@email.com\""
      ]
    },
    {
      "cell_type": "code",
      "execution_count": null,
      "metadata": {
        "id": "QS_3tMmaUR56"
      },
      "outputs": [],
      "source": [
        "# Marks in different subjects\n",
        "math_marks = 85\n",
        "science_marks = 90\n",
        "english_marks = 78\n",
        "history_marks = 82\n",
        "computer_marks = 95"
      ]
    },
    {
      "cell_type": "code",
      "execution_count": null,
      "metadata": {
        "id": "XW_JWyAVUT5H"
      },
      "outputs": [],
      "source": [
        "# Calculate total and average\n",
        "total_marks = math_marks + science_marks + english_marks + history_marks + computer_marks\n",
        "average_marks = total_marks / 5"
      ]
    },
    {
      "cell_type": "code",
      "execution_count": null,
      "metadata": {
        "colab": {
          "base_uri": "https://localhost:8080/"
        },
        "id": "tDixWtVEUVo4",
        "outputId": "785a327a-3039-406d-e06a-034e68d2fc76"
      },
      "outputs": [
        {
          "name": "stdout",
          "output_type": "stream",
          "text": [
            "STUDENT REPORT CARD\n",
            "--------------------------------------------------\n",
            "Name: Rahul Sharma\n",
            "Age: 21\n",
            "Email: rahul.sharma@email.com\n",
            "--------------------------------------------------\n"
          ]
        }
      ],
      "source": [
        "# Display student information\n",
        "print(\"STUDENT REPORT CARD\")\n",
        "print(\"-\" * 50)\n",
        "print(f\"Name: {student_name}\")\n",
        "print(f\"Age: {student_age}\")\n",
        "print(f\"Email: {student_email}\")\n",
        "print(\"-\" * 50)"
      ]
    },
    {
      "cell_type": "code",
      "execution_count": null,
      "metadata": {
        "colab": {
          "base_uri": "https://localhost:8080/"
        },
        "id": "fJtHJIubUaeR",
        "outputId": "7627f442-2eaa-423f-8f48-11df7663365b"
      },
      "outputs": [
        {
          "name": "stdout",
          "output_type": "stream",
          "text": [
            "SUBJECT-WISE MARKS:\n",
            "Mathematics: 85\n",
            "Science: 90\n",
            "English: 78\n",
            "History: 82\n",
            "Computer: 95\n",
            "--------------------------------------------------\n"
          ]
        }
      ],
      "source": [
        "# Display marks\n",
        "print(\"SUBJECT-WISE MARKS:\")\n",
        "print(f\"Mathematics: {math_marks}\")\n",
        "print(f\"Science: {science_marks}\")\n",
        "print(f\"English: {english_marks}\")\n",
        "print(f\"History: {history_marks}\")\n",
        "print(f\"Computer: {computer_marks}\")\n",
        "print(\"-\" * 50)"
      ]
    },
    {
      "cell_type": "code",
      "execution_count": null,
      "metadata": {
        "colab": {
          "base_uri": "https://localhost:8080/"
        },
        "id": "tLeeBrRjUdPl",
        "outputId": "40c47218-f6c4-4f63-b51c-cfa17fdf7f87"
      },
      "outputs": [
        {
          "name": "stdout",
          "output_type": "stream",
          "text": [
            "Total Marks: 430 / 500\n",
            "Average Marks: 86.00\n",
            "Percentage: 86.00%\n"
          ]
        }
      ],
      "source": [
        "# Display results\n",
        "print(f\"Total Marks: {total_marks} / 500\")\n",
        "print(f\"Average Marks: {average_marks:.2f}\")\n",
        "print(f\"Percentage: {(average_marks):.2f}%\")"
      ]
    },
    {
      "cell_type": "markdown",
      "metadata": {
        "id": "_wxodiSyVPVA"
      },
      "source": [
        "# Conditional Statements in Python - Making Decisions"
      ]
    },
    {
      "cell_type": "markdown",
      "metadata": {
        "id": "YTCsqXoSVXGY"
      },
      "source": [
        "## The Traffic Signal Story - Introduction\n",
        "\n",
        "\n",
        "Imagine you're driving to college every morning. What happens at traffic signals?\n",
        "\n",
        "🔴 RED Light → You STOP\n",
        "\n",
        "🟡 YELLOW Light → You SLOW DOWN\n",
        "\n",
        "🟢 GREEN Light → You GO\n",
        "\n",
        "Your brain automatically makes decisions based on conditions.\n",
        "This is exactly what conditional statements do in programming!\n",
        "\n",
        "Real-life decisions:\n",
        "- IF it's raining → Take umbrella\n",
        "- IF marks >= 40 → Student passes\n",
        "- IF age >= 18 → Can vote\n",
        "- IF price <= budget → Buy the product\n",
        "\n",
        "Today we'll teach Python to make intelligent decisions!\n",
        "\n",
        "-------------------\n",
        "\n",
        "## Structure of Conditional Statements\n",
        "\n",
        "BASIC STRUCTURE:\n",
        "\n",
        "if condition:\n",
        "    \n",
        "    # code to execute if condition is True\n",
        "\n",
        "    # This block runs only when condition is True\n",
        "\n",
        "SYNTAX RULES:\n",
        "1. 'if' keyword in lowercase\n",
        "2. Condition (returns True or False)\n",
        "3. Colon : at the end\n",
        "4. Indentation (4 spaces or 1 tab) is MANDATORY\n",
        "5. All code in the if-block must be indented equally\n",
        "\n",
        "Think of indentation as showing \"this code belongs to if statement\""
      ]
    },
    {
      "cell_type": "code",
      "execution_count": null,
      "metadata": {
        "colab": {
          "base_uri": "https://localhost:8080/"
        },
        "id": "Iv34uKmVUkLP",
        "outputId": "67312d33-8a34-4367-cae8-e5879319a61f"
      },
      "outputs": [
        {
          "name": "stdout",
          "output_type": "stream",
          "text": [
            "You are an adult\n",
            "You can vote\n",
            "This line always executes\n"
          ]
        }
      ],
      "source": [
        "# Example 1: Basic if statement\n",
        "\n",
        "age = 20\n",
        "\n",
        "if age >= 18:\n",
        "    print(\"You are an adult\")\n",
        "    print(\"You can vote\")\n",
        "\n",
        "print(\"This line always executes\")"
      ]
    },
    {
      "cell_type": "code",
      "execution_count": null,
      "metadata": {
        "colab": {
          "base_uri": "https://localhost:8080/"
        },
        "id": "QWQPRFMUWUEr",
        "outputId": "30ef0c61-d015-49b3-d4ac-944000587d0b"
      },
      "outputs": [
        {
          "name": "stdout",
          "output_type": "stream",
          "text": [
            "You have fever!\n",
            "Please consult a doctor\n"
          ]
        }
      ],
      "source": [
        "# Example 2: Checking temperature\n",
        "temperature = 38\n",
        "\n",
        "if temperature > 37:\n",
        "    print(\"You have fever!\")\n",
        "    print(\"Please consult a doctor\")\n"
      ]
    },
    {
      "cell_type": "code",
      "execution_count": null,
      "metadata": {
        "colab": {
          "base_uri": "https://localhost:8080/"
        },
        "id": "BFNEZKzCWvEb",
        "outputId": "87593e90-ce3f-4cf4-b0e1-7cfab25bdd39"
      },
      "outputs": [
        {
          "name": "stdout",
          "output_type": "stream",
          "text": [
            "Congratulations! You passed\n"
          ]
        }
      ],
      "source": [
        "# Example 3: variables and comparison\n",
        "marks = 85\n",
        "\n",
        "if marks >= 40:\n",
        "    print(\"Congratulations! You passed\")\n",
        "\n",
        "if marks >= 90:\n",
        "    print(\"Excellent! You got A+ grade\")"
      ]
    },
    {
      "cell_type": "code",
      "execution_count": null,
      "metadata": {
        "colab": {
          "base_uri": "https://localhost:8080/"
        },
        "id": "0pZJ2d1-W_h3",
        "outputId": "9b1e8a65-3373-48af-f49f-1a276c82a035"
      },
      "outputs": [
        {
          "name": "stdout",
          "output_type": "stream",
          "text": [
            "Welcome back, Student!\n"
          ]
        }
      ],
      "source": [
        "# Example 4: String comparison\n",
        "username = \"student123\"\n",
        "\n",
        "if username == \"student123\":\n",
        "    print(\"Welcome back, Student!\")"
      ]
    },
    {
      "cell_type": "code",
      "execution_count": null,
      "metadata": {
        "colab": {
          "base_uri": "https://localhost:8080/"
        },
        "id": "rJu-DXYCXHXo",
        "outputId": "3df332d4-a722-49f9-b854-1d92f9a795cb"
      },
      "outputs": [
        {
          "name": "stdout",
          "output_type": "stream",
          "text": [
            "You are eligible for final exam\n"
          ]
        }
      ],
      "source": [
        "# Example 5: Using logical operators with if\n",
        "marks = 85\n",
        "attendance = 80\n",
        "\n",
        "if marks >= 40 and attendance >= 75:\n",
        "    print(\"You are eligible for final exam\")"
      ]
    },
    {
      "cell_type": "markdown",
      "metadata": {
        "id": "nMeYL72NXPc_"
      },
      "source": [
        "PRACTICE EXERCISE 1:\n",
        "1. Create a variable price = 1500 and budget = 2000\n",
        "2. Use if to check if price <= budget, print \"You can buy this product\"\n",
        "3. Create a variable is_raining = True\n",
        "4. Use if to check is_raining, print \"Take an umbrella\"\n",
        "5. Create age = 16, use if to check if age >= 18, print \"You can get driving license\""
      ]
    },
    {
      "cell_type": "markdown",
      "metadata": {
        "id": "fSS5m9wBXjqx"
      },
      "source": [
        "## 2. if-else Statement"
      ]
    },
    {
      "cell_type": "code",
      "execution_count": null,
      "metadata": {
        "colab": {
          "base_uri": "https://localhost:8080/",
          "height": 52
        },
        "id": "EHr3-7HIXLwf",
        "outputId": "00901b7c-bbe1-48e1-877d-d500eb85294f"
      },
      "outputs": [
        {
          "data": {
            "application/vnd.google.colaboratory.intrinsic+json": {
              "type": "string"
            },
            "text/plain": [
              "\"\\nThe 'if-else' statement:\\n- Checks a condition\\n- If True, executes if-block\\n- If False, executes else-block\\n- One of the two blocks ALWAYS executes\\n\\nStructure:\\nif condition:\\n    # executes when condition is True\\nelse:\\n    # executes when condition is False\\n\""
            ]
          },
          "execution_count": 85,
          "metadata": {},
          "output_type": "execute_result"
        }
      ],
      "source": [
        "\"\"\"\n",
        "The 'if-else' statement:\n",
        "- Checks a condition\n",
        "- If True, executes if-block\n",
        "- If False, executes else-block\n",
        "- One of the two blocks ALWAYS executes\n",
        "\n",
        "Structure:\n",
        "if condition:\n",
        "    # executes when condition is True\n",
        "else:\n",
        "    # executes when condition is False\n",
        "\"\"\"\n"
      ]
    },
    {
      "cell_type": "code",
      "execution_count": null,
      "metadata": {
        "colab": {
          "base_uri": "https://localhost:8080/"
        },
        "id": "jJ25O7xVXi4I",
        "outputId": "c39e0b8c-87fd-4589-d051-ddb2acd5c98f"
      },
      "outputs": [
        {
          "name": "stdout",
          "output_type": "stream",
          "text": [
            "You are a minor\n",
            "You cannot vote yet\n"
          ]
        }
      ],
      "source": [
        "# Example 1: Basic if-else\n",
        "age = 16\n",
        "\n",
        "if age >= 18:\n",
        "    print(\"You are an adult\")\n",
        "    print(\"You can vote\")\n",
        "else:\n",
        "    print(\"You are a minor\")\n",
        "    print(\"You cannot vote yet\")"
      ]
    },
    {
      "cell_type": "code",
      "execution_count": null,
      "metadata": {
        "colab": {
          "base_uri": "https://localhost:8080/"
        },
        "id": "v_NUzDWFXuLN",
        "outputId": "4a2fe50b-66ad-4a83-d53e-f218f4590d96"
      },
      "outputs": [
        {
          "name": "stdout",
          "output_type": "stream",
          "text": [
            "17 is an ODD number\n"
          ]
        }
      ],
      "source": [
        "# Example 2: Even or Odd\n",
        "number = 17\n",
        "\n",
        "if number % 2 == 0:\n",
        "    print(f\"{number} is an EVEN number\")\n",
        "else:\n",
        "    print(f\"{number} is an ODD number\")"
      ]
    },
    {
      "cell_type": "code",
      "execution_count": null,
      "metadata": {
        "colab": {
          "base_uri": "https://localhost:8080/"
        },
        "id": "shTaYomoX2oL",
        "outputId": "139724f6-6af7-49b8-92d9-504273922031"
      },
      "outputs": [
        {
          "name": "stdout",
          "output_type": "stream",
          "text": [
            "Result: FAILED\n",
            "Better luck next time\n"
          ]
        }
      ],
      "source": [
        "# Example 3: Pass or Fail\n",
        "marks = 35\n",
        "\n",
        "if marks >= 40:\n",
        "    print(\"Result: PASSED\")\n",
        "    print(\"Congratulations!\")\n",
        "else:\n",
        "    print(\"Result: FAILED\")\n",
        "    print(\"Better luck next time\")"
      ]
    },
    {
      "cell_type": "code",
      "execution_count": null,
      "metadata": {
        "colab": {
          "base_uri": "https://localhost:8080/"
        },
        "id": "pEmbjjS8X-E0",
        "outputId": "e2877726-c987-4c1a-9df3-92cda7b49534"
      },
      "outputs": [
        {
          "name": "stdout",
          "output_type": "stream",
          "text": [
            "Product is out of stock\n",
            "Please check back later\n"
          ]
        }
      ],
      "source": [
        "# Example 4: Product availability\n",
        "in_stock = False\n",
        "\n",
        "if in_stock:\n",
        "    print(\"Product is available\")\n",
        "    print(\"You can place order\")\n",
        "else:\n",
        "    print(\"Product is out of stock\")\n",
        "    print(\"Please check back later\")"
      ]
    },
    {
      "cell_type": "code",
      "execution_count": null,
      "metadata": {
        "colab": {
          "base_uri": "https://localhost:8080/"
        },
        "id": "f7XCjMgyYAhW",
        "outputId": "978e3003-8e42-4a58-ab29-619ba21889d0"
      },
      "outputs": [
        {
          "name": "stdout",
          "output_type": "stream",
          "text": [
            "Your temperature is normal\n"
          ]
        }
      ],
      "source": [
        "# Example 5: Temperature check\n",
        "temperature = 36\n",
        "\n",
        "if temperature > 37:\n",
        "    print(\"You have fever\")\n",
        "else:\n",
        "    print(\"Your temperature is normal\")"
      ]
    },
    {
      "cell_type": "code",
      "execution_count": null,
      "metadata": {
        "colab": {
          "base_uri": "https://localhost:8080/"
        },
        "id": "PT8jqIEIYEm2",
        "outputId": "860d9e1b-71fa-4107-a84a-9ece734baa5f"
      },
      "outputs": [
        {
          "name": "stdout",
          "output_type": "stream",
          "text": [
            "Strong password\n"
          ]
        }
      ],
      "source": [
        "# Example 6: Using string methods from previous notes\n",
        "password = \"Python123\"\n",
        "\n",
        "if len(password) >= 8:\n",
        "    print(\"Strong password\")\n",
        "else:\n",
        "    print(\"Weak password - Use at least 8 characters\")"
      ]
    },
    {
      "cell_type": "code",
      "execution_count": null,
      "metadata": {
        "colab": {
          "base_uri": "https://localhost:8080/",
          "height": 52
        },
        "id": "EyTDArwCYHCz",
        "outputId": "bc7f5adc-b89b-4534-f52b-b342f84c12b5"
      },
      "outputs": [
        {
          "data": {
            "application/vnd.google.colaboratory.intrinsic+json": {
              "type": "string"
            },
            "text/plain": [
              "'\\nPRACTICE EXERCISE 2:\\n1. Create a variable marks = 55\\n2. Use if-else to check if marks >= 40, print \"Passed\" or \"Failed\"\\n3. Create a variable age = 25\\n4. Use if-else to check if age >= 21, print \"Can drive car\" or \"Cannot drive car\"\\n5. Create number = 50, check if divisible by 5, print \"Divisible\" or \"Not divisible\"\\n'"
            ]
          },
          "execution_count": 92,
          "metadata": {},
          "output_type": "execute_result"
        }
      ],
      "source": [
        "\"\"\"\n",
        "PRACTICE EXERCISE 2:\n",
        "1. Create a variable marks = 55\n",
        "2. Use if-else to check if marks >= 40, print \"Passed\" or \"Failed\"\n",
        "3. Create a variable age = 25\n",
        "4. Use if-else to check if age >= 21, print \"Can drive car\" or \"Cannot drive car\"\n",
        "5. Create number = 50, check if divisible by 5, print \"Divisible\" or \"Not divisible\"\n",
        "\"\"\""
      ]
    },
    {
      "cell_type": "markdown",
      "metadata": {
        "id": "5_idNkQ8YOcR"
      },
      "source": [
        "## 3. elif Statement (else-if)"
      ]
    },
    {
      "cell_type": "markdown",
      "metadata": {
        "id": "R1ttn9JdYQLt"
      },
      "source": [
        "\"\"\"\n",
        "The 'elif' statement:\n",
        "- Used for multiple conditions\n",
        "- Checks conditions one by one from top to bottom\n",
        "- Executes the FIRST True condition and skips rest\n",
        "- Can have multiple elif statements\n",
        "- Optional else at the end as default case\n",
        "\n",
        "Structure:\n",
        "\n",
        "\n",
        "```\n",
        "#\n",
        "if condition1:\n",
        "    # executes if condition1 is True\n",
        "elif condition2:\n",
        "    # executes if condition1 is False and condition2 is True\n",
        "elif condition3:\n",
        "    # executes if condition1 and condition2 are False and condition3 is True\n",
        "else:\n",
        "    # executes if all conditions are False\n",
        "```\n",
        "\n"
      ]
    },
    {
      "cell_type": "code",
      "execution_count": null,
      "metadata": {
        "colab": {
          "base_uri": "https://localhost:8080/"
        },
        "id": "ixjagMdTYrsp",
        "outputId": "9467363f-e723-4a4a-c966-673ca2a9f1e6"
      },
      "outputs": [
        {
          "name": "stdout",
          "output_type": "stream",
          "text": [
            "GO - Drive ahead\n"
          ]
        }
      ],
      "source": [
        "# Example 1: Traffic Signal (our opening story!)\n",
        "signal = \"GREEN\"\n",
        "\n",
        "if signal == \"GREEN\":\n",
        "    print(\"GO - Drive ahead\")\n",
        "elif signal == \"YELLOW\":\n",
        "    print(\"SLOW DOWN - Prepare to stop\")\n",
        "elif signal == \"RED\":\n",
        "    print(\"STOP - Wait for green\")\n",
        "else:\n",
        "    print(\"Invalid signal\")"
      ]
    },
    {
      "cell_type": "code",
      "execution_count": null,
      "metadata": {
        "colab": {
          "base_uri": "https://localhost:8080/"
        },
        "id": "Y6xS-mz7YK_C",
        "outputId": "b71beafd-9d63-43bc-c7f6-0373224c741a"
      },
      "outputs": [
        {
          "name": "stdout",
          "output_type": "stream",
          "text": [
            "Grade: A\n",
            "Excellent work!\n"
          ]
        }
      ],
      "source": [
        "# Example 2: Grade calculation\n",
        "marks = 85\n",
        "\n",
        "if marks >= 90:\n",
        "    print(\"Grade: A+\")\n",
        "    print(\"Outstanding performance!\")\n",
        "elif marks >= 80:\n",
        "    print(\"Grade: A\")\n",
        "    print(\"Excellent work!\")\n",
        "elif marks >= 70:\n",
        "    print(\"Grade: B\")\n",
        "    print(\"Good job!\")\n",
        "elif marks >= 60:\n",
        "    print(\"Grade: C\")\n",
        "    print(\"Satisfactory\")\n",
        "elif marks >= 40:\n",
        "    print(\"Grade: D\")\n",
        "    print(\"Just passed\")\n",
        "else:\n",
        "    print(\"Grade: F\")\n",
        "    print(\"Failed - Need to work harder\")"
      ]
    },
    {
      "cell_type": "code",
      "execution_count": null,
      "metadata": {
        "colab": {
          "base_uri": "https://localhost:8080/"
        },
        "id": "nQUHZqdJY5Nj",
        "outputId": "3230dc76-c7d6-4aea-9737-336b3d5c7555"
      },
      "outputs": [
        {
          "name": "stdout",
          "output_type": "stream",
          "text": [
            "Monday\n"
          ]
        }
      ],
      "source": [
        "# Example 3: Day of the week\n",
        "day = 1\n",
        "\n",
        "if day == 1:\n",
        "    print(\"Monday\")\n",
        "elif day == 2:\n",
        "    print(\"Tuesday\")\n",
        "elif day == 3:\n",
        "    print(\"Wednesday\")\n",
        "elif day == 4:\n",
        "    print(\"Thursday\")\n",
        "elif day == 5:\n",
        "    print(\"Friday\")\n",
        "elif day == 6:\n",
        "    print(\"Saturday\")\n",
        "elif day == 7:\n",
        "    print(\"Sunday\")\n",
        "else:\n",
        "    print(\"Invalid day number\")"
      ]
    },
    {
      "cell_type": "code",
      "execution_count": null,
      "metadata": {
        "colab": {
          "base_uri": "https://localhost:8080/"
        },
        "id": "gNNxss4EZHiV",
        "outputId": "c629c4e8-783b-4981-c696-e115b0d6b13b"
      },
      "outputs": [
        {
          "name": "stdout",
          "output_type": "stream",
          "text": [
            "You are an adult\n"
          ]
        }
      ],
      "source": [
        "# Example 4: Age categories\n",
        "age = 45\n",
        "\n",
        "if age < 13:\n",
        "    print(\"You are a child\")\n",
        "elif age < 20:\n",
        "    print(\"You are a teenager\")\n",
        "elif age < 60:\n",
        "    print(\"You are an adult\")\n",
        "else:\n",
        "    print(\"You are a senior citizen\")"
      ]
    },
    {
      "cell_type": "code",
      "execution_count": null,
      "metadata": {
        "colab": {
          "base_uri": "https://localhost:8080/"
        },
        "id": "pVQL_wOFZQ_N",
        "outputId": "897c7b84-c663-4cbd-a45d-30682c495e83"
      },
      "outputs": [
        {
          "name": "stdout",
          "output_type": "stream",
          "text": [
            "Extremely hot - Stay indoors\n"
          ]
        }
      ],
      "source": [
        "# Example 5: Temperature categories\n",
        "temperature = 42\n",
        "\n",
        "if temperature >= 40:\n",
        "    print(\"Extremely hot - Stay indoors\")\n",
        "elif temperature >= 30:\n",
        "    print(\"Hot - Use air conditioning\")\n",
        "elif temperature >= 20:\n",
        "    print(\"Pleasant - Enjoy the weather\")\n",
        "elif temperature >= 10:\n",
        "    print(\"Cool - Wear light jacket\")\n",
        "else:\n",
        "    print(\"Cold - Wear warm clothes\")\n"
      ]
    },
    {
      "cell_type": "markdown",
      "metadata": {
        "id": "3teJmeCRZYBm"
      },
      "source": [
        "\n",
        "\n",
        "```\n",
        "PRACTICE EXERCISE 3:\n",
        "1. Create a variable time = 14 (24-hour format)\n",
        "2. Use if-elif-else to print:\n",
        "   - \"Good Morning\" if time < 12\n",
        "   - \"Good Afternoon\" if time < 17\n",
        "   - \"Good Evening\" if time < 21\n",
        "   - \"Good Night\" otherwise\n",
        "3. Create percentage = 75, categorize as:\n",
        "   - Distinction (>= 75)\n",
        "   - First Class (>= 60)\n",
        "   - Second Class (>= 50)\n",
        "   - Pass (>= 40)\n",
        "   - Fail (< 40)\n",
        "```\n",
        "\n"
      ]
    },
    {
      "cell_type": "code",
      "execution_count": null,
      "metadata": {
        "colab": {
          "base_uri": "https://localhost:8080/"
        },
        "id": "9kKGxVjEZ3gq",
        "outputId": "6fcb7fe5-a7a4-4468-c94b-9735d994bed2"
      },
      "outputs": [
        {
          "name": "stdout",
          "output_type": "stream",
          "text": [
            "\n",
            "==================================================\n",
            "EXAMPLE 1: CALCULATOR WITH DECISIONS\n",
            "==================================================\n",
            "10 + 5 = 15\n"
          ]
        }
      ],
      "source": [
        "## 4. Complete Examples with Previous Concepts\n",
        "\n",
        "# Example 1: Using variables and operators from previous notes\n",
        "print(\"\\n\" + \"=\"*50)\n",
        "print(\"EXAMPLE 1: CALCULATOR WITH DECISIONS\")\n",
        "print(\"=\"*50)\n",
        "\n",
        "num1 = 10\n",
        "num2 = 5\n",
        "operation = \"add\"\n",
        "\n",
        "if operation == \"add\":\n",
        "    result = num1 + num2\n",
        "    print(f\"{num1} + {num2} = {result}\")\n",
        "elif operation == \"subtract\":\n",
        "    result = num1 - num2\n",
        "    print(f\"{num1} - {num2} = {result}\")\n",
        "elif operation == \"multiply\":\n",
        "    result = num1 * num2\n",
        "    print(f\"{num1} * {num2} = {result}\")\n",
        "elif operation == \"divide\":\n",
        "    if num2 != 0:  # Nested if to check division by zero\n",
        "        result = num1 / num2\n",
        "        print(f\"{num1} / {num2} = {result}\")\n",
        "    else:\n",
        "        print(\"Error: Cannot divide by zero\")\n",
        "else:\n",
        "    print(\"Invalid operation\")"
      ]
    },
    {
      "cell_type": "code",
      "execution_count": null,
      "metadata": {
        "colab": {
          "base_uri": "https://localhost:8080/"
        },
        "id": "y9qqqQmSZ3xd",
        "outputId": "5389b7c0-6f3e-4d93-b610-71e531ce03ae"
      },
      "outputs": [
        {
          "name": "stdout",
          "output_type": "stream",
          "text": [
            "\n",
            "==================================================\n",
            "EXAMPLE 2: USER LOGIN SYSTEM\n",
            "==================================================\n",
            "Login Successful!\n",
            "Welcome, STUDENT123\n"
          ]
        }
      ],
      "source": [
        "# Example 2: Using strings and type casting from previous notes\n",
        "\n",
        "print(\"\\n\" + \"=\"*50)\n",
        "print(\"EXAMPLE 2: USER LOGIN SYSTEM\")\n",
        "print(\"=\"*50)\n",
        "\n",
        "stored_username = \"student123\"\n",
        "stored_password = \"python2024\"\n",
        "\n",
        "input_username = \"student123\"\n",
        "input_password = \"python2024\"\n",
        "\n",
        "if input_username == stored_username and input_password == stored_password:\n",
        "    print(\"Login Successful!\")\n",
        "    print(f\"Welcome, {input_username.upper()}\")\n",
        "else:\n",
        "    print(\"Login Failed!\")\n",
        "    print(\"Invalid username or password\")"
      ]
    },
    {
      "cell_type": "code",
      "execution_count": null,
      "metadata": {
        "colab": {
          "base_uri": "https://localhost:8080/"
        },
        "id": "w6PysSDCaEvz",
        "outputId": "c7f7f789-9e86-469a-ed31-5282a4e5c221"
      },
      "outputs": [
        {
          "name": "stdout",
          "output_type": "stream",
          "text": [
            "\n",
            "==================================================\n",
            "EXAMPLE 3: SHOPPING CART\n",
            "==================================================\n",
            "You have 3 items in cart\n",
            "Items: ['Laptop', 'Mouse', 'Keyboard']\n"
          ]
        }
      ],
      "source": [
        "# Example 3: Using lists from previous notes\n",
        "print(\"\\n\" + \"=\"*50)\n",
        "print(\"EXAMPLE 3: SHOPPING CART\")\n",
        "print(\"=\"*50)\n",
        "\n",
        "cart_items = [\"Laptop\", \"Mouse\", \"Keyboard\"]\n",
        "cart_count = len(cart_items)\n",
        "\n",
        "if cart_count == 0:\n",
        "    print(\"Your cart is empty\")\n",
        "    print(\"Start shopping!\")\n",
        "elif cart_count <= 3:\n",
        "    print(f\"You have {cart_count} items in cart\")\n",
        "    print(\"Items:\", cart_items)\n",
        "else:\n",
        "    print(f\"You have {cart_count} items in cart\")\n",
        "    print(\"You get free delivery!\")"
      ]
    },
    {
      "cell_type": "code",
      "execution_count": null,
      "metadata": {
        "colab": {
          "base_uri": "https://localhost:8080/"
        },
        "id": "TMb7tq73aK9B",
        "outputId": "e2b43429-e68a-4551-e275-b09663a29e2f"
      },
      "outputs": [
        {
          "name": "stdout",
          "output_type": "stream",
          "text": [
            "\n",
            "============================================================\n",
            "PROJECT 1: STUDENT GRADING SYSTEM\n",
            "============================================================\n",
            "\n",
            "Student Name: Rahul Sharma\n",
            "Roll Number: 101\n",
            "------------------------------------------------------------\n",
            "SUBJECT-WISE MARKS:\n",
            "Mathematics: 85\n",
            "Science: 90\n",
            "English: 78\n",
            "History: 82\n",
            "Computer: 95\n",
            "------------------------------------------------------------\n",
            "Total Marks: 430 / 500\n",
            "Percentage: 86.00%\n",
            "------------------------------------------------------------\n",
            "Grade: A\n",
            "Remarks: Excellent Work!\n",
            "------------------------------------------------------------\n",
            "RESULT: ✓ PASSED\n",
            "STATUS: PASSED WITH DISTINCTION\n",
            "SCHOLARSHIP: ✓ ELIGIBLE\n",
            "Congratulations! You qualify for Merit Scholarship\n",
            "------------------------------------------------------------\n",
            "SUBJECT-WISE ANALYSIS:\n",
            "✓ Mathematics: EXCELLENT\n",
            "✓ Science: EXCELLENT\n",
            "✓ English: PASS\n",
            "============================================================\n"
          ]
        }
      ],
      "source": [
        "## 5. REAL-WORLD PROJECT 1: Student Grading System\n",
        "\n",
        "print(\"\\n\" + \"=\"*60)\n",
        "print(\"PROJECT 1: STUDENT GRADING SYSTEM\")\n",
        "print(\"=\"*60)\n",
        "\n",
        "# Student information (using variables from Day 3)\n",
        "student_name = \"Rahul Sharma\"\n",
        "student_roll = 101\n",
        "\n",
        "# Marks in different subjects (using integers from Day 3)\n",
        "math_marks = 85\n",
        "science_marks = 90\n",
        "english_marks = 78\n",
        "history_marks = 82\n",
        "computer_marks = 95\n",
        "\n",
        "# Calculate total and average (using arithmetic operators from Day 5)\n",
        "total_marks = math_marks + science_marks + english_marks + history_marks + computer_marks\n",
        "average_marks = total_marks / 5\n",
        "percentage = average_marks  # Since each subject is out of 100\n",
        "\n",
        "# Display student info (using f-strings from Day 4)\n",
        "print(f\"\\nStudent Name: {student_name}\")\n",
        "print(f\"Roll Number: {student_roll}\")\n",
        "print(\"-\" * 60)\n",
        "\n",
        "# Display marks (using variables)\n",
        "print(\"SUBJECT-WISE MARKS:\")\n",
        "print(f\"Mathematics: {math_marks}\")\n",
        "print(f\"Science: {science_marks}\")\n",
        "print(f\"English: {english_marks}\")\n",
        "print(f\"History: {history_marks}\")\n",
        "print(f\"Computer: {computer_marks}\")\n",
        "print(\"-\" * 60)\n",
        "\n",
        "# Calculate and display totals (using operators)\n",
        "print(f\"Total Marks: {total_marks} / 500\")\n",
        "print(f\"Percentage: {percentage:.2f}%\")\n",
        "\n",
        "# Determine grade using if-elif-else\n",
        "print(\"-\" * 60)\n",
        "if percentage >= 90:\n",
        "    grade = \"A+\"\n",
        "    remarks = \"Outstanding Performance!\"\n",
        "elif percentage >= 80:\n",
        "    grade = \"A\"\n",
        "    remarks = \"Excellent Work!\"\n",
        "elif percentage >= 70:\n",
        "    grade = \"B\"\n",
        "    remarks = \"Good Job!\"\n",
        "elif percentage >= 60:\n",
        "    grade = \"C\"\n",
        "    remarks = \"Satisfactory\"\n",
        "elif percentage >= 40:\n",
        "    grade = \"D\"\n",
        "    remarks = \"Need Improvement\"\n",
        "else:\n",
        "    grade = \"F\"\n",
        "    remarks = \"Failed - Work Harder\"\n",
        "\n",
        "print(f\"Grade: {grade}\")\n",
        "print(f\"Remarks: {remarks}\")\n",
        "\n",
        "# Check pass/fail using if-else\n",
        "print(\"-\" * 60)\n",
        "if percentage >= 40:\n",
        "    print(\"RESULT: ✓ PASSED\")\n",
        "\n",
        "    # Check for distinction using nested if\n",
        "    if percentage >= 75:\n",
        "        print(\"STATUS: PASSED WITH DISTINCTION\")\n",
        "    elif percentage >= 60:\n",
        "        print(\"STATUS: PASSED WITH FIRST CLASS\")\n",
        "    else:\n",
        "        print(\"STATUS: PASSED\")\n",
        "\n",
        "    # Check scholarship eligibility (using logical operators from Day 5)\n",
        "    if percentage >= 85 and math_marks >= 80 and science_marks >= 80:\n",
        "        print(\"SCHOLARSHIP: ✓ ELIGIBLE\")\n",
        "        print(\"Congratulations! You qualify for Merit Scholarship\")\n",
        "    else:\n",
        "        print(\"SCHOLARSHIP: ✗ NOT ELIGIBLE\")\n",
        "else:\n",
        "    print(\"RESULT: ✗ FAILED\")\n",
        "    print(\"Please work harder and try again\")\n",
        "\n",
        "# Subject-wise analysis\n",
        "print(\"-\" * 60)\n",
        "print(\"SUBJECT-WISE ANALYSIS:\")\n",
        "\n",
        "if math_marks < 40:\n",
        "    print(\"⚠ Mathematics: FAIL - Need to improve\")\n",
        "elif math_marks >= 80:\n",
        "    print(\"✓ Mathematics: EXCELLENT\")\n",
        "else:\n",
        "    print(\"✓ Mathematics: PASS\")\n",
        "\n",
        "if science_marks < 40:\n",
        "    print(\"⚠ Science: FAIL - Need to improve\")\n",
        "elif science_marks >= 80:\n",
        "    print(\"✓ Science: EXCELLENT\")\n",
        "else:\n",
        "    print(\"✓ Science: PASS\")\n",
        "\n",
        "if english_marks < 40:\n",
        "    print(\"⚠ English: FAIL - Need to improve\")\n",
        "elif english_marks >= 80:\n",
        "    print(\"✓ English: EXCELLENT\")\n",
        "else:\n",
        "    print(\"✓ English: PASS\")\n",
        "\n",
        "print(\"=\"*60)\n"
      ]
    },
    {
      "cell_type": "code",
      "execution_count": null,
      "metadata": {
        "id": "OShbwUhDaNRA"
      },
      "outputs": [],
      "source": []
    }
  ],
  "metadata": {
    "colab": {
      "provenance": []
    },
    "kernelspec": {
      "display_name": "Python 3",
      "name": "python3"
    },
    "language_info": {
      "name": "python"
    }
  },
  "nbformat": 4,
  "nbformat_minor": 0
}
