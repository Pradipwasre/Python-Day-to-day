{
  "cells": [
    {
      "cell_type": "markdown",
      "metadata": {
        "id": "bu2Uybgq8AkW"
      },
      "source": [
        " Python for Data Analysis and Data Science - Complete Notes\n",
        "\n",
        "## Day 1 & 2: Introduction to Python\n",
        "\n",
        "### 1. Need for Programming Language in Data Analysis and Data Science\n",
        "\n",
        "\"\"\"\n",
        "Why do we need programming in DA and DS?\n",
        "\n",
        "1. Automation: Process large datasets automatically instead of manually\n",
        "2. Reproducibility: Write code once, run multiple times with different data\n",
        "3. Efficiency: Handle millions of rows of data in seconds\n",
        "4. Complex Analysis: Perform statistical analysis, machine learning, and visualization\n",
        "5. Scalability: Analyze small to extremely large datasets with same code\n",
        "\n",
        "Real-world example:\n",
        "- Manual Excel work: Analyzing 1000 rows might take hours\n",
        "- Python: Can analyze millions of rows in minutes\n",
        "\"\"\"\n",
        "\n",
        "### 2. What is Python and Why Python?\n",
        "\n",
        "\"\"\"\n",
        "What is Python?\n",
        "- Python is a high-level, interpreted programming language\n",
        "- Created by Guido van Rossum in 1991\n",
        "- Known for simple, readable syntax\n",
        "\n",
        "Why Python for Data Analysis and Data Science?\n",
        "\n",
        "1. Easy to Learn: Simple syntax, reads like English\n",
        "2. Rich Libraries: NumPy, Pandas, Matplotlib, Scikit-learn\n",
        "3. Large Community: Millions of developers, abundant resources\n",
        "4. Versatile: Web development, automation, AI, data analysis\n",
        "5. Industry Standard: Used by Google, Netflix, NASA, Instagram\n",
        "6. Free and Open Source: No cost, anyone can contribute\n",
        "\"\"\"\n",
        "\n",
        "### 3. Libraries for Data Analysis and Data Science\n",
        "\n",
        "\"\"\"\n",
        "Essential Python Libraries:\n",
        "\n",
        "1. NumPy: Numerical computing, arrays, mathematical operations\n",
        "2. Pandas: Data manipulation, DataFrames, data cleaning\n",
        "3. Matplotlib: Data visualization, creating plots and charts\n",
        "4. Seaborn: Statistical data visualization, beautiful plots\n",
        "5. Scikit-learn: Machine learning algorithms\n",
        "6. TensorFlow/PyTorch: Deep learning and neural networks\n",
        "7. SciPy: Scientific computing, statistics\n",
        "8. Statsmodels: Statistical modeling and hypothesis testing\n",
        "\"\"\"\n",
        "\n",
        "### 4. IDEs for Python\n",
        "\n",
        "\"\"\"\n",
        "Popular IDEs and Environments:\n",
        "\n",
        "1. Jupyter Notebook: Interactive notebooks, great for learning\n",
        "2. Google Colab: Cloud-based Jupyter notebooks, free GPU\n",
        "3. PyCharm: Professional IDE with many features\n",
        "4. VS Code: Lightweight, extensible code editor\n",
        "5. Spyder: IDE designed for data science\n",
        "6. IDLE: Built-in Python IDE, simple for beginners\n",
        "\"\"\"\n"
      ]
    },
    {
      "cell_type": "code",
      "execution_count": null,
      "metadata": {
        "colab": {
          "base_uri": "https://localhost:8080/"
        },
        "id": "w-Lh588e36tC",
        "outputId": "0bc0d399-3d98-4a67-f6e3-4b6b31fb222f"
      },
      "outputs": [
        {
          "name": "stdout",
          "output_type": "stream",
          "text": [
            "Hello, Students!\n",
            "Welcome to Python Programming\n"
          ]
        }
      ],
      "source": [
        "### 5. Running Simple Commands\n",
        "\n",
        "# print() function - displays output\n",
        "print(\"Hello, Students!\")\n",
        "print(\"Welcome to Python Programming\")"
      ]
    },
    {
      "cell_type": "code",
      "execution_count": null,
      "metadata": {
        "colab": {
          "base_uri": "https://localhost:8080/"
        },
        "id": "ptN22KRy8SDo",
        "outputId": "f782d5b2-9df4-40a7-f11c-ac380edadf09"
      },
      "outputs": [
        {
          "name": "stdout",
          "output_type": "stream",
          "text": [
            "Python is awesome\n"
          ]
        }
      ],
      "source": [
        "# Multiple items in print\n",
        "print(\"Python\", \"is\", \"awesome\")"
      ]
    },
    {
      "cell_type": "code",
      "execution_count": null,
      "metadata": {
        "colab": {
          "base_uri": "https://localhost:8080/"
        },
        "id": "TanBghWH8UgK",
        "outputId": "6b487312-dda0-4a1f-ef1c-fdd1205483ee"
      },
      "outputs": [
        {
          "name": "stdout",
          "output_type": "stream",
          "text": [
            "42\n",
            "3.14\n"
          ]
        }
      ],
      "source": [
        "# Print numbers\n",
        "print(42)\n",
        "print(3.14)"
      ]
    },
    {
      "cell_type": "code",
      "execution_count": null,
      "metadata": {
        "colab": {
          "base_uri": "https://localhost:8080/"
        },
        "id": "v_EeVGjW8WaO",
        "outputId": "c4c5c277-5450-4536-c0b2-411bf1eb298b"
      },
      "outputs": [
        {
          "name": "stdout",
          "output_type": "stream",
          "text": [
            "<class 'int'>\n",
            "<class 'float'>\n",
            "<class 'str'>\n",
            "<class 'bool'>\n"
          ]
        }
      ],
      "source": [
        "# type() function - shows data type\n",
        "print(type(10))\n",
        "print(type(3.14))\n",
        "print(type(\"Hello\"))\n",
        "print(type(True))"
      ]
    },
    {
      "cell_type": "code",
      "execution_count": null,
      "metadata": {
        "colab": {
          "base_uri": "https://localhost:8080/"
        },
        "id": "W5S3Scdf8X0k",
        "outputId": "35b3c486-0488-47d6-c55a-e0f78c2f6db7"
      },
      "outputs": [
        {
          "name": "stdout",
          "output_type": "stream",
          "text": [
            "Name: Alice Type: <class 'str'>\n",
            "Age: 25 Type: <class 'int'>\n"
          ]
        }
      ],
      "source": [
        "# Example: Checking types\n",
        "name = \"Alice\"\n",
        "age = 25\n",
        "print(\"Name:\", name, \"Type:\", type(name))\n",
        "print(\"Age:\", age, \"Type:\", type(age))"
      ]
    },
    {
      "cell_type": "markdown",
      "metadata": {
        "id": "psCwtZRC8hZS"
      },
      "source": [
        "\"\"\"\n",
        "PRACTICE EXERCISE 1:\n",
        "1. Print your name and age\n",
        "2. Use type() to check the data type of your name\n",
        "3. Use type() to check the data type of your age\n",
        "4. Print a message: \"I am learning Python for Data Science\"\n",
        "\"\"\""
      ]
    },
    {
      "cell_type": "markdown",
      "metadata": {
        "id": "bdKrNQvA8lMa"
      },
      "source": [
        "## Day 3: Variables and Data Types"
      ]
    },
    {
      "cell_type": "markdown",
      "metadata": {
        "id": "xBQI0nzS8oli"
      },
      "source": [
        "### 1. Creating Simple Variables\n",
        "\n",
        "\"\"\"\n",
        "What is a Variable?\n",
        "- A variable is a container that stores data\n",
        "- Think of it as a labeled box where you keep information\n",
        "\"\"\""
      ]
    },
    {
      "cell_type": "code",
      "execution_count": null,
      "metadata": {
        "id": "3AaKc4Kw8fgD"
      },
      "outputs": [],
      "source": [
        "# Creating variables\n",
        "student_name = \"Rahul\"\n",
        "student_age = 20\n",
        "student_marks = 85.5\n",
        "is_passed = True"
      ]
    },
    {
      "cell_type": "code",
      "execution_count": null,
      "metadata": {
        "colab": {
          "base_uri": "https://localhost:8080/"
        },
        "id": "x08GV2u08r-h",
        "outputId": "240bc4dd-8142-495c-ac16-7ddba0cfd1e4"
      },
      "outputs": [
        {
          "name": "stdout",
          "output_type": "stream",
          "text": [
            "Rahul\n",
            "20\n",
            "85.5\n",
            "True\n"
          ]
        }
      ],
      "source": [
        "print(student_name)\n",
        "print(student_age)\n",
        "print(student_marks)\n",
        "print(is_passed)"
      ]
    },
    {
      "cell_type": "code",
      "execution_count": null,
      "metadata": {
        "colab": {
          "base_uri": "https://localhost:8080/"
        },
        "id": "EqEFb55p8uCe",
        "outputId": "ea2998c7-139a-44d4-a34b-8377cb72d27c"
      },
      "outputs": [
        {
          "name": "stdout",
          "output_type": "stream",
          "text": [
            "10 20 30\n"
          ]
        }
      ],
      "source": [
        "# Multiple variables at once\n",
        "x, y, z = 10, 20, 30\n",
        "print(x, y, z)"
      ]
    },
    {
      "cell_type": "code",
      "execution_count": null,
      "metadata": {
        "colab": {
          "base_uri": "https://localhost:8080/"
        },
        "id": "opxH6qIC8xEN",
        "outputId": "ae9b0aeb-b291-480a-a992-196be43c6415"
      },
      "outputs": [
        {
          "name": "stdout",
          "output_type": "stream",
          "text": [
            "100 100 100\n"
          ]
        }
      ],
      "source": [
        "# Same value to multiple variables\n",
        "a = b = c = 100\n",
        "print(a, b, c)"
      ]
    },
    {
      "cell_type": "markdown",
      "metadata": {
        "id": "eA-5TB498254"
      },
      "source": [
        "### 2. Rules for Naming Variables\n",
        "\n",
        "\"\"\"\n",
        "Variable Naming Rules:\n",
        "\n",
        "✓ CORRECT:\n",
        "- Must start with letter or underscore: student_name, _temp\n",
        "- Can contain letters, numbers, underscore: student1, data_2024\n",
        "- Case sensitive: Name and name are different\n",
        "- Use descriptive names: total_marks (good) vs tm (bad)\n",
        "\n",
        "✗ WRONG:\n",
        "- Cannot start with number: 1student\n",
        "- Cannot use special characters: student-name, student@email\n",
        "- Cannot use Python keywords: print, for, if, class\n",
        "- Avoid spaces: student name (wrong), student_name (correct)\n",
        "\n",
        "Best Practices:\n",
        "- Use lowercase with underscores: student_marks\n",
        "- Use meaningful names: total_score instead of ts\n",
        "- Constants in UPPERCASE: PI = 3.14159\n",
        "\"\"\"\n"
      ]
    },
    {
      "cell_type": "code",
      "execution_count": null,
      "metadata": {
        "id": "CRBJUds_8zkw"
      },
      "outputs": [],
      "source": [
        "# Examples\n",
        "student_name = \"Priya\"\n",
        "_private_var = 42\n",
        "student1_marks = 95\n",
        "\n",
        "# 1student = \"John\"\n",
        "# student-name = \"Mike\"\n",
        "\n",
        "my_variable = \"Data Science\"\n",
        "CONSTANT_VALUE = 3.14"
      ]
    },
    {
      "cell_type": "markdown",
      "metadata": {
        "id": "NhmLmWpy9SGo"
      },
      "source": [
        "\"\"\"\n",
        "PRACTICE EXERCISE 2:\n",
        "1. Create variables for: your name, city, favorite number, and whether you like programming\n",
        "2. Print all variables\n",
        "3. Try creating a variable with a wrong name (with number at start) and see the error\n",
        "\"\"\""
      ]
    },
    {
      "cell_type": "markdown",
      "metadata": {
        "id": "hQe0xCJk9UB-"
      },
      "source": [
        "### 3. Numeric Data Types"
      ]
    },
    {
      "cell_type": "code",
      "execution_count": null,
      "metadata": {
        "colab": {
          "base_uri": "https://localhost:8080/"
        },
        "id": "6Qnncn969C-r",
        "outputId": "f73ebc6f-3bcb-4ff5-901e-d02cb318ca89"
      },
      "outputs": [
        {
          "name": "stdout",
          "output_type": "stream",
          "text": [
            "Integer examples: 25 2024 -10\n",
            "Type: <class 'int'>\n"
          ]
        }
      ],
      "source": [
        "# Integer (int) - Whole numbers\n",
        "age = 25\n",
        "year = 2024\n",
        "quantity = -10\n",
        "print(\"Integer examples:\", age, year, quantity)\n",
        "print(\"Type:\", type(age))"
      ]
    },
    {
      "cell_type": "code",
      "execution_count": null,
      "metadata": {
        "colab": {
          "base_uri": "https://localhost:8080/"
        },
        "id": "wbun-rpj9WZo",
        "outputId": "ce176d8f-b5bd-4c99-f409-279280af9b31"
      },
      "outputs": [
        {
          "name": "stdout",
          "output_type": "stream",
          "text": [
            "Float examples: 99.99 36.6 3.14159\n",
            "Type: <class 'float'>\n"
          ]
        }
      ],
      "source": [
        "# Float - Decimal numbers\n",
        "price = 99.99\n",
        "temperature = 36.6\n",
        "pi = 3.14159\n",
        "print(\"Float examples:\", price, temperature, pi)\n",
        "print(\"Type:\", type(price))"
      ]
    },
    {
      "cell_type": "code",
      "execution_count": null,
      "metadata": {
        "colab": {
          "base_uri": "https://localhost:8080/"
        },
        "id": "182opgG19ZQW",
        "outputId": "1ea5fc45-8118-413b-8d74-e36daed539f4"
      },
      "outputs": [
        {
          "name": "stdout",
          "output_type": "stream",
          "text": [
            "Boolean examples: True False\n",
            "Type: <class 'bool'>\n"
          ]
        }
      ],
      "source": [
        "# Boolean - True or False\n",
        "is_student = True\n",
        "has_passed = False\n",
        "is_adult = True\n",
        "print(\"Boolean examples:\", is_student, has_passed)\n",
        "print(\"Type:\", type(is_student))"
      ]
    },
    {
      "cell_type": "code",
      "execution_count": null,
      "metadata": {
        "colab": {
          "base_uri": "https://localhost:8080/"
        },
        "id": "57D0SI5X9caK",
        "outputId": "2582b3a6-0710-4faf-8f8a-04d9d31cd824"
      },
      "outputs": [
        {
          "name": "stdout",
          "output_type": "stream",
          "text": [
            "Complex example: (3+4j)\n",
            "Type: <class 'complex'>\n"
          ]
        }
      ],
      "source": [
        "# Complex - Complex numbers (rare in basic DA)\n",
        "complex_num = 3 + 4j\n",
        "print(\"Complex example:\", complex_num)\n",
        "print(\"Type:\", type(complex_num))"
      ]
    },
    {
      "cell_type": "code",
      "execution_count": null,
      "metadata": {
        "id": "PIGBSkgQ9fBg"
      },
      "outputs": [],
      "source": [
        "# Real-world example\n",
        "student_name = \"Amit\"\n",
        "student_marks = 87.5\n",
        "is_passed = True\n",
        "total_students = 50"
      ]
    },
    {
      "cell_type": "code",
      "execution_count": null,
      "metadata": {
        "colab": {
          "base_uri": "https://localhost:8080/"
        },
        "id": "Kng1qLLz9gen",
        "outputId": "ef67908c-f20c-4c04-b934-b8eccc2c3eab"
      },
      "outputs": [
        {
          "name": "stdout",
          "output_type": "stream",
          "text": [
            "Student: Amit\n",
            "Marks: 87.5\n",
            "Passed: True\n",
            "Total Students: 50\n"
          ]
        }
      ],
      "source": [
        "print(\"Student:\", student_name)\n",
        "print(\"Marks:\", student_marks)\n",
        "print(\"Passed:\", is_passed)\n",
        "print(\"Total Students:\", total_students)"
      ]
    },
    {
      "cell_type": "markdown",
      "metadata": {
        "id": "TtSzEc1f9j08"
      },
      "source": [
        "\"\"\"\n",
        "PRACTICE EXERCISE 3:\n",
        "1. Create variables for: temperature (float), number of students (int), is_raining (boolean)\n",
        "2. Print each variable with its type\n",
        "3. Create a variable for your height in feet (decimal number)\n",
        "\"\"\""
      ]
    },
    {
      "cell_type": "markdown",
      "metadata": {
        "id": "6mE9DzHZ9l7A"
      },
      "source": [
        "### 4. Sequence Types: Strings, Lists, Tuples\n",
        "\n",
        "## STRINGS - Text data in quotes"
      ]
    },
    {
      "cell_type": "code",
      "execution_count": null,
      "metadata": {
        "id": "CSVIElKG9h_b"
      },
      "outputs": [],
      "source": [
        "# Creating strings\n",
        "single_quote = 'Hello'\n",
        "double_quote = \"World\"\n",
        "multi_line = \"\"\"This is\n",
        "a multi-line\n",
        "string\"\"\""
      ]
    },
    {
      "cell_type": "code",
      "execution_count": null,
      "metadata": {
        "colab": {
          "base_uri": "https://localhost:8080/"
        },
        "id": "i5yayCwk9qt_",
        "outputId": "1ea446ce-50e1-42ee-d131-4a9826d18f47"
      },
      "outputs": [
        {
          "name": "stdout",
          "output_type": "stream",
          "text": [
            "Python\n",
            "Data Science is amazing!\n"
          ]
        }
      ],
      "source": [
        "name = \"Python\"\n",
        "message = \"Data Science is amazing!\"\n",
        "print(name)\n",
        "print(message)"
      ]
    },
    {
      "cell_type": "code",
      "execution_count": null,
      "metadata": {
        "colab": {
          "base_uri": "https://localhost:8080/"
        },
        "id": "aU1PVqc49t1z",
        "outputId": "563e5b65-c750-48c4-fd34-d50d1eb50565"
      },
      "outputs": [
        {
          "name": "stdout",
          "output_type": "stream",
          "text": [
            "Full Name: Ravi Kumar\n"
          ]
        }
      ],
      "source": [
        "# String operations\n",
        "first_name = \"Ravi\"\n",
        "last_name = \"Kumar\"\n",
        "full_name = first_name + \" \" + last_name  # Concatenation\n",
        "print(\"Full Name:\", full_name)"
      ]
    },
    {
      "cell_type": "code",
      "execution_count": null,
      "metadata": {
        "colab": {
          "base_uri": "https://localhost:8080/"
        },
        "id": "t8tx5WNx9vWY",
        "outputId": "75e6695c-4d51-4d60-c6bd-c97b73369cca"
      },
      "outputs": [
        {
          "name": "stdout",
          "output_type": "stream",
          "text": [
            "HaHaHa\n"
          ]
        }
      ],
      "source": [
        "# Repeating strings\n",
        "laugh = \"Ha\" * 3\n",
        "print(laugh)"
      ]
    },
    {
      "cell_type": "code",
      "execution_count": null,
      "metadata": {
        "id": "trJXtkJs90D4"
      },
      "outputs": [],
      "source": [
        "# Creating lists\n",
        "fruits = [\"apple\", \"banana\", \"orange\", \"mango\"]\n",
        "numbers = [1, 2, 3, 4, 5]\n",
        "mixed = [\"Python\", 100, 3.14, True]\n",
        "empty_list = []"
      ]
    },
    {
      "cell_type": "code",
      "execution_count": null,
      "metadata": {
        "colab": {
          "base_uri": "https://localhost:8080/"
        },
        "id": "rDTPy80i93cC",
        "outputId": "416373a5-bc2b-4292-b774-1fecad903e2d"
      },
      "outputs": [
        {
          "name": "stdout",
          "output_type": "stream",
          "text": [
            "Fruits: ['apple', 'banana', 'orange', 'mango']\n",
            "Numbers: [1, 2, 3, 4, 5]\n",
            "Mixed: ['Python', 100, 3.14, True]\n",
            "Type: <class 'list'>\n"
          ]
        }
      ],
      "source": [
        "print(\"Fruits:\", fruits)\n",
        "print(\"Numbers:\", numbers)\n",
        "print(\"Mixed:\", mixed)\n",
        "print(\"Type:\", type(fruits))"
      ]
    },
    {
      "cell_type": "code",
      "execution_count": null,
      "metadata": {
        "colab": {
          "base_uri": "https://localhost:8080/"
        },
        "id": "fZ8fFy7A959u",
        "outputId": "ab990f74-4d01-4a71-cdfc-798f9153981b"
      },
      "outputs": [
        {
          "name": "stdout",
          "output_type": "stream",
          "text": [
            "First fruit: apple\n",
            "Second fruit: banana\n",
            "Last fruit: mango\n"
          ]
        }
      ],
      "source": [
        "# Accessing list elements (indexing starts at 0)\n",
        "print(\"First fruit:\", fruits[0])\n",
        "print(\"Second fruit:\", fruits[1])\n",
        "print(\"Last fruit:\", fruits[-1])"
      ]
    },
    {
      "cell_type": "code",
      "execution_count": null,
      "metadata": {
        "colab": {
          "base_uri": "https://localhost:8080/"
        },
        "id": "lyFqObRa98Oy",
        "outputId": "91309b22-51e6-4b7b-b045-e03e40a789f6"
      },
      "outputs": [
        {
          "name": "stdout",
          "output_type": "stream",
          "text": [
            "Modified fruits: ['apple', 'grapes', 'orange', 'mango']\n"
          ]
        }
      ],
      "source": [
        "# List can be modified\n",
        "fruits[1] = \"grapes\"\n",
        "print(\"Modified fruits:\", fruits)"
      ]
    },
    {
      "cell_type": "code",
      "execution_count": null,
      "metadata": {
        "colab": {
          "base_uri": "https://localhost:8080/"
        },
        "id": "SiAajtbD99yB",
        "outputId": "73d8de67-08f0-4a49-e4cc-c211f579b074"
      },
      "outputs": [
        {
          "name": "stdout",
          "output_type": "stream",
          "text": [
            "All marks: [85, 90, 78, 92, 88]\n",
            "First student marks: 85\n",
            "Last student marks: 88\n"
          ]
        }
      ],
      "source": [
        "# Real-world example\n",
        "student_marks = [85, 90, 78, 92, 88]\n",
        "print(\"All marks:\", student_marks)\n",
        "print(\"First student marks:\", student_marks[0])\n",
        "print(\"Last student marks:\", student_marks[-1])"
      ]
    },
    {
      "cell_type": "markdown",
      "metadata": {
        "id": "ijIOsEAw-Cwy"
      },
      "source": [
        "## TUPLES - Ordered, immutable collection"
      ]
    },
    {
      "cell_type": "code",
      "execution_count": null,
      "metadata": {
        "id": "QX1730bI9_sp"
      },
      "outputs": [],
      "source": [
        "# Creating tuples\n",
        "coordinates = (10, 20)\n",
        "rgb_color = (255, 0, 128)\n",
        "student_info = (\"Rahul\", 20, \"Computer Science\")\n",
        "single_item = (42,) # Note the comma for single item"
      ]
    },
    {
      "cell_type": "code",
      "execution_count": null,
      "metadata": {
        "colab": {
          "base_uri": "https://localhost:8080/"
        },
        "id": "pbO5O5rC-ErJ",
        "outputId": "45e9ea25-392b-4d8c-ea71-c5c0af04cd35"
      },
      "outputs": [
        {
          "name": "stdout",
          "output_type": "stream",
          "text": [
            "Coordinates: (10, 20)\n",
            "Color: (255, 0, 128)\n",
            "Student: ('Rahul', 20, 'Computer Science')\n",
            "Type: <class 'tuple'>\n"
          ]
        }
      ],
      "source": [
        "print(\"Coordinates:\", coordinates)\n",
        "print(\"Color:\", rgb_color)\n",
        "print(\"Student:\", student_info)\n",
        "print(\"Type:\", type(coordinates))"
      ]
    },
    {
      "cell_type": "code",
      "execution_count": null,
      "metadata": {
        "colab": {
          "base_uri": "https://localhost:8080/"
        },
        "id": "61hgcmNX-ILB",
        "outputId": "31967a2f-ac53-4a3d-f7a0-be01d183dc0f"
      },
      "outputs": [
        {
          "name": "stdout",
          "output_type": "stream",
          "text": [
            "X coordinate: 10\n",
            "Y coordinate: 20\n",
            "Student name: Rahul\n"
          ]
        }
      ],
      "source": [
        "# Accessing tuple elements\n",
        "print(\"X coordinate:\", coordinates[0])\n",
        "print(\"Y coordinate:\", coordinates[1])\n",
        "print(\"Student name:\", student_info[0])"
      ]
    },
    {
      "cell_type": "code",
      "execution_count": null,
      "metadata": {
        "id": "6u2Sbg2I-NAT"
      },
      "outputs": [],
      "source": [
        "# Tuples cannot be modified\n",
        "# coordinates[0] = 30"
      ]
    },
    {
      "cell_type": "code",
      "execution_count": null,
      "metadata": {
        "id": "-FljbKQ_-P_N"
      },
      "outputs": [],
      "source": [
        "# When to use List vs Tuple?\n",
        "# List: When data might change (shopping cart items)\n",
        "# Tuple: When data should not change (latitude-longitude, RGB colors)"
      ]
    },
    {
      "cell_type": "markdown",
      "metadata": {
        "id": "Kx2JYqFr-dWg"
      },
      "source": [
        "\"\"\"\n",
        "PRACTICE EXERCISE 4:\n",
        "1. Create a list of your 5 favorite movies\n",
        "2. Print the first and last movie from the list\n",
        "3. Change the second movie to a different one\n",
        "4. Create a tuple with your birth date (day, month, year)\n",
        "5. Print the year from the tuple\n",
        "\"\"\""
      ]
    },
    {
      "cell_type": "markdown",
      "metadata": {
        "id": "xPcjTM4H-kaA"
      },
      "source": [
        "## Day 4: Type Casting and String Operations\n",
        "\n",
        "### 1. Type Casting - Converting Data Types\n",
        "\n",
        "\n",
        "-Type Casting: Converting one data type to another\n",
        "\n",
        "* Why needed? To perform operations that require specific types\n"
      ]
    },
    {
      "cell_type": "code",
      "execution_count": null,
      "metadata": {
        "colab": {
          "base_uri": "https://localhost:8080/"
        },
        "id": "tr22ErnZ-o4W",
        "outputId": "1403ffe5-981c-4eb6-9b35-50913ca29574"
      },
      "outputs": [
        {
          "name": "stdout",
          "output_type": "stream",
          "text": [
            "Integer: 10 <class 'int'>\n",
            "To Float: 10.0 <class 'float'>\n"
          ]
        }
      ],
      "source": [
        "# Integer to Float\n",
        "num_int = 10\n",
        "num_float = float(num_int)\n",
        "print(\"Integer:\", num_int, type(num_int))\n",
        "print(\"To Float:\", num_float, type(num_float))"
      ]
    },
    {
      "cell_type": "code",
      "execution_count": null,
      "metadata": {
        "colab": {
          "base_uri": "https://localhost:8080/"
        },
        "id": "369HewHY-3Xk",
        "outputId": "91f15473-f6c7-4c13-c929-fb8aaf932510"
      },
      "outputs": [
        {
          "name": "stdout",
          "output_type": "stream",
          "text": [
            "Float: 99.99 <class 'float'>\n",
            "To Integer: 99 <class 'int'>\n"
          ]
        }
      ],
      "source": [
        "# Float to Integer (decimal part is removed, not rounded)\n",
        "price = 99.99\n",
        "price_int = int(price)\n",
        "print(\"Float:\", price, type(price))\n",
        "print(\"To Integer:\", price_int, type(price_int))"
      ]
    },
    {
      "cell_type": "code",
      "execution_count": null,
      "metadata": {
        "colab": {
          "base_uri": "https://localhost:8080/"
        },
        "id": "74C2cs3I_FPM",
        "outputId": "5b893c23-5a8f-4859-8667-f8c3e4bb5f39"
      },
      "outputs": [
        {
          "name": "stdout",
          "output_type": "stream",
          "text": [
            "String: 25 <class 'str'>\n",
            "To Integer: 25 <class 'int'>\n"
          ]
        }
      ],
      "source": [
        "# String to Integer\n",
        "age_str = \"25\"\n",
        "age_int = int(age_str)\n",
        "print(\"String:\", age_str, type(age_str))\n",
        "print(\"To Integer:\", age_int, type(age_int))"
      ]
    },
    {
      "cell_type": "code",
      "execution_count": null,
      "metadata": {
        "colab": {
          "base_uri": "https://localhost:8080/"
        },
        "id": "04EQ9XNp_H0W",
        "outputId": "2ba1f514-bb3d-47f7-95c2-3925800ee7c7"
      },
      "outputs": [
        {
          "name": "stdout",
          "output_type": "stream",
          "text": [
            "String: 49.99 <class 'str'>\n",
            "To Float: 49.99 <class 'float'>\n"
          ]
        }
      ],
      "source": [
        "# String to Float\n",
        "price_str = \"49.99\"\n",
        "price_float = float(price_str)\n",
        "print(\"String:\", price_str, type(price_str))\n",
        "print(\"To Float:\", price_float, type(price_float))"
      ]
    },
    {
      "cell_type": "code",
      "execution_count": null,
      "metadata": {
        "colab": {
          "base_uri": "https://localhost:8080/"
        },
        "id": "aa2-wHel_JxI",
        "outputId": "3e89bbd6-ebb5-49c3-f5c8-ec71a1195bad"
      },
      "outputs": [
        {
          "name": "stdout",
          "output_type": "stream",
          "text": [
            "Integer: 95 <class 'int'>\n",
            "To String: 95 <class 'str'>\n"
          ]
        }
      ],
      "source": [
        "# Integer/Float to String\n",
        "marks = 95\n",
        "marks_str = str(marks)\n",
        "print(\"Integer:\", marks, type(marks))\n",
        "print(\"To String:\", marks_str, type(marks_str))"
      ]
    },
    {
      "cell_type": "code",
      "execution_count": null,
      "metadata": {
        "colab": {
          "base_uri": "https://localhost:8080/"
        },
        "id": "1M-hU96u_LcB",
        "outputId": "0bae9ed7-0609-4ad7-c163-d427c81cdc74"
      },
      "outputs": [
        {
          "name": "stdout",
          "output_type": "stream",
          "text": [
            "To Boolean:\n",
            "int to bool: False True True\n",
            "str to bool: False True\n"
          ]
        }
      ],
      "source": [
        "# Boolean conversions\n",
        "print(\"To Boolean:\")\n",
        "print(\"int to bool:\", bool(0), bool(1), bool(100))  # 0 is False, non-zero is True\n",
        "print(\"str to bool:\", bool(\"\"), bool(\"Hello\"))"
      ]
    },
    {
      "cell_type": "code",
      "execution_count": null,
      "metadata": {
        "colab": {
          "base_uri": "https://localhost:8080/"
        },
        "id": "mr3WNdD-_NRc",
        "outputId": "7a410ec9-5688-413f-b867-1fb20437f476"
      },
      "outputs": [
        {
          "name": "stdout",
          "output_type": "stream",
          "text": [
            "Current age: 22\n",
            "Next year: 23\n"
          ]
        }
      ],
      "source": [
        "# Real-world example: User input\n",
        "user_age = \"22\"  # User inputs are always strings\n",
        "user_age_int = int(user_age)\n",
        "next_year_age = user_age_int + 1\n",
        "print(\"Current age:\", user_age_int)\n",
        "print(\"Next year:\", next_year_age)"
      ]
    },
    {
      "cell_type": "code",
      "execution_count": null,
      "metadata": {
        "id": "Zu1DFuQv_PlG"
      },
      "outputs": [],
      "source": [
        "# Calculation example\n",
        "num1_str = \"10\"\n",
        "num2_str = \"20\""
      ]
    },
    {
      "cell_type": "code",
      "execution_count": null,
      "metadata": {
        "colab": {
          "base_uri": "https://localhost:8080/"
        },
        "id": "P6dkbzBp_RU5",
        "outputId": "6697350b-397d-4c37-8658-c2dbea4437f3"
      },
      "outputs": [
        {
          "name": "stdout",
          "output_type": "stream",
          "text": [
            "Correct sum: 30\n"
          ]
        }
      ],
      "source": [
        "# sum_wrong = num1_str + num2_str  # This gives \"1020\" (concatenation)\n",
        "sum_correct = int(num1_str) + int(num2_str)\n",
        "print(\"Correct sum:\", sum_correct)"
      ]
    },
    {
      "cell_type": "markdown",
      "metadata": {
        "id": "PFPGT3c1_V4C"
      },
      "source": [
        "PRACTICE EXERCISE 5:\n",
        "1. Create a string variable with value \"100\" and convert it to integer\n",
        "2. Create a float variable 78.9 and convert it to integer\n",
        "3. Create an integer 50 and convert it to string, then print its type\n",
        "4. Take two string numbers \"15\" and \"25\", convert to integers and find their sum\n"
      ]
    },
    {
      "cell_type": "markdown",
      "metadata": {
        "id": "KrHFJWX2_Zpm"
      },
      "source": [
        "### 2. Strings: String Methods, Indexing, Slicing\n",
        "\n",
        "## String Indexing"
      ]
    },
    {
      "cell_type": "code",
      "execution_count": null,
      "metadata": {
        "colab": {
          "base_uri": "https://localhost:8080/"
        },
        "id": "CfB7sl2i_UaR",
        "outputId": "d8cd6c6b-87b0-4278-d315-87ada7a1ff00"
      },
      "outputs": [
        {
          "name": "stdout",
          "output_type": "stream",
          "text": [
            "First character: P\n",
            "Third character: t\n",
            "Last character: n\n",
            "Second last: o\n"
          ]
        }
      ],
      "source": [
        "text = \"Python\"\n",
        "# Index:  0 1 2 3 4 5\n",
        "#        -6-5-4-3-2-1\n",
        "\n",
        "print(\"First character:\", text[0])\n",
        "print(\"Third character:\", text[2])\n",
        "print(\"Last character:\", text[-1])\n",
        "print(\"Second last:\", text[-2])"
      ]
    },
    {
      "cell_type": "code",
      "execution_count": null,
      "metadata": {
        "id": "1FLeVIkn_ehQ"
      },
      "outputs": [],
      "source": [
        "## String Slicing - Extracting parts of string\n",
        "message = \"Data Science\""
      ]
    },
    {
      "cell_type": "markdown",
      "metadata": {
        "id": "zj0gRKur_rcp"
      },
      "source": [
        "## String Slicing - Extracting parts of string"
      ]
    },
    {
      "cell_type": "code",
      "execution_count": null,
      "metadata": {
        "colab": {
          "base_uri": "https://localhost:8080/"
        },
        "id": "DBRniNwa_pjx",
        "outputId": "94b2c524-02f0-4795-b8e8-822a5ed3aff3"
      },
      "outputs": [
        {
          "name": "stdout",
          "output_type": "stream",
          "text": [
            "First 4 characters: Data\n",
            "From index 5 to end: Science\n",
            "From start to index 4: Data\n",
            "Last 7 characters: Science\n",
            "Every 2nd character: Dt cec\n",
            "Reverse string: ecneicS ataD\n"
          ]
        }
      ],
      "source": [
        "message = \"Data Science\"\n",
        "# Syntax: string[start:end]  (end is not included)\n",
        "\n",
        "print(\"First 4 characters:\", message[0:4])\n",
        "print(\"From index 5 to end:\", message[5:])\n",
        "print(\"From start to index 4:\", message[:4])\n",
        "print(\"Last 7 characters:\", message[-7:])\n",
        "print(\"Every 2nd character:\", message[::2])\n",
        "print(\"Reverse string:\", message[::-1])"
      ]
    },
    {
      "cell_type": "code",
      "execution_count": null,
      "metadata": {
        "colab": {
          "base_uri": "https://localhost:8080/"
        },
        "id": "Gq56o2ki_tXb",
        "outputId": "0e6866c9-aefc-4e4e-e9fa-6df393c85f1a"
      },
      "outputs": [
        {
          "name": "stdout",
          "output_type": "stream",
          "text": [
            "Username: student\n",
            "Area code: 987\n"
          ]
        }
      ],
      "source": [
        "# Practical examples\n",
        "email = \"student@gmail.com\"\n",
        "username = email[0:7]  # Extract username\n",
        "print(\"Username:\", username)\n",
        "\n",
        "phone = \"9876543210\"\n",
        "area_code = phone[0:3]\n",
        "print(\"Area code:\", area_code)"
      ]
    },
    {
      "cell_type": "markdown",
      "metadata": {
        "id": "oSJeeEMM_1z8"
      },
      "source": [
        "## String Methods"
      ]
    },
    {
      "cell_type": "code",
      "execution_count": null,
      "metadata": {
        "colab": {
          "base_uri": "https://localhost:8080/"
        },
        "id": "f62O7KW9_weQ",
        "outputId": "a93103cc-0b17-426e-f265-7c39a3df243a"
      },
      "outputs": [
        {
          "name": "stdout",
          "output_type": "stream",
          "text": [
            "Upper:   HELLO WORLD  \n",
            "Lower:   hello world  \n",
            "Title:   Hello World  \n",
            "Capitalize:   hello world  \n",
            "Swap case:   hELLO wORLD  \n"
          ]
        }
      ],
      "source": [
        "text = \"  Hello World  \"\n",
        "# Case conversion\n",
        "print(\"Upper:\", text.upper())\n",
        "print(\"Lower:\", text.lower())\n",
        "print(\"Title:\", text.title())\n",
        "print(\"Capitalize:\", text.capitalize())\n",
        "print(\"Swap case:\", text.swapcase())"
      ]
    },
    {
      "cell_type": "code",
      "execution_count": null,
      "metadata": {
        "colab": {
          "base_uri": "https://localhost:8080/"
        },
        "id": "oDHbAAse_4Yh",
        "outputId": "f19dc80b-d7aa-47ea-83fa-1c3e3c74ed44"
      },
      "outputs": [
        {
          "name": "stdout",
          "output_type": "stream",
          "text": [
            "Find 'easy': 10\n",
            "Find 'hard': -1\n",
            "Count 'a': 2\n"
          ]
        }
      ],
      "source": [
        "# Searching\n",
        "sentence = \"Python is easy to learn\"\n",
        "print(\"Find 'easy':\", sentence.find(\"easy\"))\n",
        "print(\"Find 'hard':\", sentence.find(\"hard\"))  # Returns -1 if not found\n",
        "print(\"Count 'a':\", sentence.count(\"a\"))"
      ]
    },
    {
      "cell_type": "code",
      "execution_count": null,
      "metadata": {
        "colab": {
          "base_uri": "https://localhost:8080/"
        },
        "id": "_hvOT-dwAyeH",
        "outputId": "d1e03563-931d-4d7d-b25e-9465bd5077cd"
      },
      "outputs": [
        {
          "name": "stdout",
          "output_type": "stream",
          "text": [
            "Replace: Python is powerful to learn\n"
          ]
        }
      ],
      "source": [
        "# Replacing\n",
        "print(\"Replace:\", sentence.replace(\"easy\", \"powerful\"))"
      ]
    },
    {
      "cell_type": "code",
      "execution_count": null,
      "metadata": {
        "colab": {
          "base_uri": "https://localhost:8080/"
        },
        "id": "joTK4uRwA0Wh",
        "outputId": "6b553c49-fb09-43b8-d5ef-636cb9264998"
      },
      "outputs": [
        {
          "name": "stdout",
          "output_type": "stream",
          "text": [
            "Split: ['Python', 'is', 'easy', 'to', 'learn']\n"
          ]
        }
      ],
      "source": [
        "# Splitting and Joining\n",
        "words = sentence.split()  # Split by space\n",
        "print(\"Split:\", words)"
      ]
    },
    {
      "cell_type": "code",
      "execution_count": null,
      "metadata": {
        "colab": {
          "base_uri": "https://localhost:8080/"
        },
        "id": "Cx5auevgA2CI",
        "outputId": "77742adf-c399-4f02-eeb1-baefc4b49871"
      },
      "outputs": [
        {
          "name": "stdout",
          "output_type": "stream",
          "text": [
            "Join: Python is easy to learn\n"
          ]
        }
      ],
      "source": [
        "joined = \" \".join(words)\n",
        "print(\"Join:\", joined)"
      ]
    },
    {
      "cell_type": "code",
      "execution_count": null,
      "metadata": {
        "colab": {
          "base_uri": "https://localhost:8080/"
        },
        "id": "dwWjJEVHA8Xr",
        "outputId": "c216b54d-01bb-4f4b-ad8e-ba5dcebc8310"
      },
      "outputs": [
        {
          "name": "stdout",
          "output_type": "stream",
          "text": [
            "Is digit: True\n",
            "Is alpha: True\n",
            "Is alphanumeric: True\n",
            "Starts with: True\n",
            "Ends with: True\n"
          ]
        }
      ],
      "source": [
        "# Checking methods\n",
        "print(\"Is digit:\", \"123\".isdigit())\n",
        "print(\"Is alpha:\", \"Hello\".isalpha())\n",
        "print(\"Is alphanumeric:\", \"Hello123\".isalnum())\n",
        "print(\"Starts with:\", sentence.startswith(\"Python\"))\n",
        "print(\"Ends with:\", sentence.endswith(\"learn\"))"
      ]
    },
    {
      "cell_type": "code",
      "execution_count": null,
      "metadata": {
        "colab": {
          "base_uri": "https://localhost:8080/"
        },
        "id": "qQQ0XuGCBF7D",
        "outputId": "b9c4d6e5-7638-44a0-f466-570326dad69a"
      },
      "outputs": [
        {
          "name": "stdout",
          "output_type": "stream",
          "text": [
            "Cleaned: Rahul Kumar\n"
          ]
        }
      ],
      "source": [
        "# Practical example: Data cleaning\n",
        "dirty_data = \"  RAHUL KUMAR  \"\n",
        "clean_data = dirty_data.strip().title()\n",
        "print(\"Cleaned:\", clean_data)"
      ]
    },
    {
      "cell_type": "markdown",
      "metadata": {
        "id": "5avuvuLOBPO0"
      },
      "source": [
        "PRACTICE EXERCISE 6:\n",
        "1. Create a string \"Data Analysis\" and print characters at index 0, 5, and -1\n",
        "2. Extract the word \"Analysis\" using slicing\n",
        "3. Convert the string to uppercase\n",
        "4. Count how many times letter 'a' appears\n",
        "5. Replace \"Analysis\" with \"Science\""
      ]
    },
    {
      "cell_type": "markdown",
      "metadata": {
        "id": "jz4r5Yj5BR90"
      },
      "source": [
        "### 3. Concatenation"
      ]
    },
    {
      "cell_type": "code",
      "execution_count": null,
      "metadata": {
        "colab": {
          "base_uri": "https://localhost:8080/"
        },
        "id": "f3t-9WItBL3w",
        "outputId": "7efc06ec-45a1-4eeb-c96e-51680dfa31bb"
      },
      "outputs": [
        {
          "name": "stdout",
          "output_type": "stream",
          "text": [
            "Concatenation: Data Science\n"
          ]
        }
      ],
      "source": [
        "# String concatenation with +\n",
        "first = \"Data\"\n",
        "second = \"Science\"\n",
        "combined = first + \" \" + second\n",
        "print(\"Concatenation:\", combined)"
      ]
    },
    {
      "cell_type": "code",
      "execution_count": null,
      "metadata": {
        "colab": {
          "base_uri": "https://localhost:8080/"
        },
        "id": "uMkW_lSuBUVU",
        "outputId": "71e6064b-cefe-4cfb-f7e5-28581e300367"
      },
      "outputs": [
        {
          "name": "stdout",
          "output_type": "stream",
          "text": [
            "Hello Student!\n"
          ]
        }
      ],
      "source": [
        "# Concatenating multiple strings\n",
        "greeting = \"Hello\" + \" \" + \"Student\" + \"!\"\n",
        "print(greeting)"
      ]
    },
    {
      "cell_type": "code",
      "execution_count": null,
      "metadata": {
        "colab": {
          "base_uri": "https://localhost:8080/"
        },
        "id": "mdvEoyARBWjK",
        "outputId": "ab12f035-97ce-4f70-de5f-5046842ffb44"
      },
      "outputs": [
        {
          "name": "stdout",
          "output_type": "stream",
          "text": [
            "Name: Priya, Age: 21\n"
          ]
        }
      ],
      "source": [
        "# Concatenation with variables\n",
        "name = \"Priya\"\n",
        "age = 21\n",
        "# message = \"Name: \" + name + \", Age: \" + age  # Error! Can't concat string with int\n",
        "message = \"Name: \" + name + \", Age: \" + str(age)\n",
        "print(message)"
      ]
    },
    {
      "cell_type": "code",
      "execution_count": null,
      "metadata": {
        "colab": {
          "base_uri": "https://localhost:8080/"
        },
        "id": "02DVYJaABX8P",
        "outputId": "54ed2a04-6502-4761-fee6-19221431a14b"
      },
      "outputs": [
        {
          "name": "stdout",
          "output_type": "stream",
          "text": [
            "Name: Priya, Age: 21\n"
          ]
        }
      ],
      "source": [
        "# Better way: f-strings (formatted strings)\n",
        "message_f = f\"Name: {name}, Age: {age}\"\n",
        "print(message_f)"
      ]
    },
    {
      "cell_type": "code",
      "execution_count": null,
      "metadata": {
        "colab": {
          "base_uri": "https://localhost:8080/"
        },
        "id": "_1sKlZ50Badf",
        "outputId": "a73c1b22-df07-455e-c433-d271ea315ffe"
      },
      "outputs": [
        {
          "name": "stdout",
          "output_type": "stream",
          "text": [
            "Name: Priya, Age: 21\n"
          ]
        }
      ],
      "source": [
        "# Using format method\n",
        "message_format = \"Name: {}, Age: {}\".format(name, age)\n",
        "print(message_format)"
      ]
    },
    {
      "cell_type": "code",
      "execution_count": null,
      "metadata": {
        "colab": {
          "base_uri": "https://localhost:8080/"
        },
        "id": "UI1wnWooBc1L",
        "outputId": "c6b7b2df-6750-43e2-d001-7b865dc9d0c1"
      },
      "outputs": [
        {
          "name": "stdout",
          "output_type": "stream",
          "text": [
            "Student Amit scored 85 marks with 85.5% percentage\n"
          ]
        }
      ],
      "source": [
        "# Practical example\n",
        "student = \"Amit\"\n",
        "marks = 85\n",
        "percentage = 85.5\n",
        "result = f\"Student {student} scored {marks} marks with {percentage}% percentage\"\n",
        "print(result)"
      ]
    },
    {
      "cell_type": "code",
      "execution_count": null,
      "metadata": {
        "colab": {
          "base_uri": "https://localhost:8080/"
        },
        "id": "p2JBKbglBfTq",
        "outputId": "20f7ad73-e00b-4179-c8bf-b97e91e11667"
      },
      "outputs": [
        {
          "name": "stdout",
          "output_type": "stream",
          "text": [
            "House No: 123\n",
            "Street: MG Road\n",
            "City: Pune\n"
          ]
        }
      ],
      "source": [
        "# Multiple line concatenation\n",
        "address = \"House No: 123\" + \"\\n\" + \"Street: MG Road\" + \"\\n\" + \"City: Pune\"\n",
        "print(address)"
      ]
    },
    {
      "cell_type": "markdown",
      "metadata": {
        "id": "xv8D_K_5BmsQ"
      },
      "source": [
        "PRACTICE EXERCISE 7:\n",
        "1. Create two string variables with your first name and last name\n",
        "2. Concatenate them with a space in between\n",
        "3. Create variables for item name and price, then create a message like \"Item: Laptop, Price: 50000\"\n",
        "4. Use f-string to create a message with your name and age"
      ]
    },
    {
      "cell_type": "markdown",
      "metadata": {
        "id": "Es7PdH2wKLRX"
      },
      "source": [
        "## Day 5: Operators"
      ]
    },
    {
      "cell_type": "code",
      "execution_count": null,
      "metadata": {
        "colab": {
          "base_uri": "https://localhost:8080/"
        },
        "id": "hexFnXwz3f4S",
        "outputId": "9a66e508-714d-494b-a10b-889ec779686e"
      },
      "outputs": [
        {
          "name": "stdout",
          "output_type": "stream",
          "text": [
            "Addition: 13\n"
          ]
        }
      ],
      "source": [
        "### 1. Arithmetic Operators\n",
        "\n",
        "# Addition\n",
        "a = 10\n",
        "b = 3\n",
        "print(\"Addition:\", a + b)"
      ]
    },
    {
      "cell_type": "code",
      "execution_count": null,
      "metadata": {
        "colab": {
          "base_uri": "https://localhost:8080/"
        },
        "id": "AQoFCEJ8KPAF",
        "outputId": "3bf560d9-361f-437f-ec18-cad45437c268"
      },
      "outputs": [
        {
          "name": "stdout",
          "output_type": "stream",
          "text": [
            "Subtraction: 7\n"
          ]
        }
      ],
      "source": [
        "# Subtraction\n",
        "print(\"Subtraction:\", a - b)"
      ]
    },
    {
      "cell_type": "code",
      "execution_count": null,
      "metadata": {
        "colab": {
          "base_uri": "https://localhost:8080/"
        },
        "id": "52T85yQUKQlg",
        "outputId": "3d070bdc-3dd8-41b2-ef3b-9c62554d5b64"
      },
      "outputs": [
        {
          "name": "stdout",
          "output_type": "stream",
          "text": [
            "Multiplication: 30\n"
          ]
        }
      ],
      "source": [
        "#  Multiplication\n",
        "print(\"Multiplication:\", a * b)"
      ]
    },
    {
      "cell_type": "code",
      "execution_count": null,
      "metadata": {
        "colab": {
          "base_uri": "https://localhost:8080/"
        },
        "id": "X-MNwtNZKSlp",
        "outputId": "316ed948-a215-495a-c3a4-488b8b4f3d50"
      },
      "outputs": [
        {
          "name": "stdout",
          "output_type": "stream",
          "text": [
            "Division: 3.3333333333333335\n"
          ]
        }
      ],
      "source": [
        "#  Division (always returns float)\n",
        "print(\"Division:\", a / b)"
      ]
    },
    {
      "cell_type": "code",
      "execution_count": null,
      "metadata": {
        "colab": {
          "base_uri": "https://localhost:8080/"
        },
        "id": "_P_NZ-ZmKUU_",
        "outputId": "d14167c6-d35f-4b93-9d44-58ff0c47a718"
      },
      "outputs": [
        {
          "name": "stdout",
          "output_type": "stream",
          "text": [
            "Floor Division: 3\n"
          ]
        }
      ],
      "source": [
        "#  Floor Division (returns integer, no decimal)\n",
        "print(\"Floor Division:\", a // b)"
      ]
    },
    {
      "cell_type": "code",
      "execution_count": null,
      "metadata": {
        "colab": {
          "base_uri": "https://localhost:8080/"
        },
        "id": "ua0B7yCWKWpc",
        "outputId": "9e6263bb-82c1-492a-c14a-31a584189104"
      },
      "outputs": [
        {
          "name": "stdout",
          "output_type": "stream",
          "text": [
            "Modulus: 1\n"
          ]
        }
      ],
      "source": [
        "# Modulus (remainder)\n",
        "print(\"Modulus:\", a % b)"
      ]
    },
    {
      "cell_type": "code",
      "execution_count": null,
      "metadata": {
        "colab": {
          "base_uri": "https://localhost:8080/"
        },
        "id": "PwRdJigDKgyC",
        "outputId": "f3363659-2a79-4ae9-e611-56b17f8e89aa"
      },
      "outputs": [
        {
          "name": "stdout",
          "output_type": "stream",
          "text": [
            "Exponentiation: 1000\n"
          ]
        }
      ],
      "source": [
        "# Exponentiation (power)\n",
        "print(\"Exponentiation:\", a ** b)  # 10^3 = 1000"
      ]
    },
    {
      "cell_type": "code",
      "execution_count": null,
      "metadata": {
        "colab": {
          "base_uri": "https://localhost:8080/"
        },
        "id": "oM6pcUDnKidH",
        "outputId": "80bcdbca-45a2-4bbb-c5ad-f40e3e7639d7"
      },
      "outputs": [
        {
          "name": "stdout",
          "output_type": "stream",
          "text": [
            "Average marks: 90.0\n"
          ]
        }
      ],
      "source": [
        "# Real-world examples\n",
        "total_marks = 450\n",
        "num_subjects = 5\n",
        "average = total_marks / num_subjects\n",
        "print(\"Average marks:\", average)\n"
      ]
    },
    {
      "cell_type": "code",
      "execution_count": null,
      "metadata": {
        "colab": {
          "base_uri": "https://localhost:8080/"
        },
        "id": "le5O-R2sKjoy",
        "outputId": "be7fb251-09fd-4c24-d5b5-f828185d58f7"
      },
      "outputs": [
        {
          "name": "stdout",
          "output_type": "stream",
          "text": [
            "Final price: 949\n"
          ]
        }
      ],
      "source": [
        "price = 999\n",
        "discount = 50\n",
        "final_price = price - discount\n",
        "print(\"Final price:\", final_price)"
      ]
    },
    {
      "cell_type": "code",
      "execution_count": null,
      "metadata": {
        "colab": {
          "base_uri": "https://localhost:8080/"
        },
        "id": "Mo_Ztj5zKlaj",
        "outputId": "7cad0d93-3d66-4ee0-b7fe-6ed4a96a31f2"
      },
      "outputs": [
        {
          "name": "stdout",
          "output_type": "stream",
          "text": [
            "Area: 150\n"
          ]
        }
      ],
      "source": [
        "# Calculate area of rectangle\n",
        "length = 15\n",
        "width = 10\n",
        "area = length * width\n",
        "print(\"Area:\", area)"
      ]
    },
    {
      "cell_type": "code",
      "execution_count": null,
      "metadata": {
        "colab": {
          "base_uri": "https://localhost:8080/"
        },
        "id": "yygSdKHUKnF8",
        "outputId": "abdfaca2-0044-40e9-fd0d-eba6b11934ae"
      },
      "outputs": [
        {
          "name": "stdout",
          "output_type": "stream",
          "text": [
            "17 is odd\n"
          ]
        }
      ],
      "source": [
        "# Check if number is even or odd\n",
        "number = 17\n",
        "remainder = number % 2\n",
        "if remainder == 0:\n",
        "    print(f\"{number} is even\")\n",
        "else:\n",
        "    print(f\"{number} is odd\")"
      ]
    },
    {
      "cell_type": "markdown",
      "metadata": {
        "id": "eJIQFUUUKtEm"
      },
      "source": [
        "PRACTICE EXERCISE 8:\n",
        "1. Calculate the sum of 456 and 789\n",
        "2. Divide 100 by 7 and print both regular division and floor division\n",
        "3. Find the remainder when 50 is divided by 8\n",
        "4. Calculate 2 to the power of 10\n",
        "5. Calculate the average of three numbers: 85, 90, 78"
      ]
    },
    {
      "cell_type": "markdown",
      "metadata": {
        "id": "CfRNbVxHKxpE"
      },
      "source": [
        "### 2. Logical Operators: and, or, not"
      ]
    },
    {
      "cell_type": "markdown",
      "metadata": {
        "id": "0BJFfe5LKzp8"
      },
      "source": [
        "* Logical operators work with boolean values\n",
        "\n",
        "* and: True if BOTH conditions are True\n",
        "\n",
        "* or: True if AT LEAST ONE condition is True\n",
        "\n",
        "* not: Reverses the boolean value"
      ]
    },
    {
      "cell_type": "code",
      "execution_count": null,
      "metadata": {
        "colab": {
          "base_uri": "https://localhost:8080/"
        },
        "id": "hObLJr8YKrMM",
        "outputId": "3ae2d921-f953-4a06-f4ec-156f67ee87c1"
      },
      "outputs": [
        {
          "name": "stdout",
          "output_type": "stream",
          "text": [
            "True and True: True\n",
            "True and False: False\n",
            "False and False: False\n"
          ]
        }
      ],
      "source": [
        "# AND operator\n",
        "print(\"True and True:\", True and True)\n",
        "print(\"True and False:\", True and False)\n",
        "print(\"False and False:\", False and False)"
      ]
    },
    {
      "cell_type": "code",
      "execution_count": null,
      "metadata": {
        "colab": {
          "base_uri": "https://localhost:8080/"
        },
        "id": "RSRB3SPrLAwK",
        "outputId": "aede3d52-aa4d-4f82-84cf-5e3cc6932f6d"
      },
      "outputs": [
        {
          "name": "stdout",
          "output_type": "stream",
          "text": [
            "Can vote: True\n"
          ]
        }
      ],
      "source": [
        "age = 20\n",
        "has_id = True\n",
        "can_vote = age >= 18 and has_id\n",
        "print(\"Can vote:\", can_vote)"
      ]
    },
    {
      "cell_type": "code",
      "execution_count": null,
      "metadata": {
        "colab": {
          "base_uri": "https://localhost:8080/"
        },
        "id": "0ke9jeaVLDBs",
        "outputId": "25d1628e-652e-44d3-8827-ca86f0d477c0"
      },
      "outputs": [
        {
          "name": "stdout",
          "output_type": "stream",
          "text": [
            "True or True: True\n",
            "True or False: True\n",
            "False or False: False\n"
          ]
        }
      ],
      "source": [
        "# OR operator\n",
        "print(\"True or True:\", True or True)\n",
        "print(\"True or False:\", True or False)\n",
        "print(\"False or False:\", False or False)"
      ]
    },
    {
      "cell_type": "code",
      "execution_count": null,
      "metadata": {
        "colab": {
          "base_uri": "https://localhost:8080/"
        },
        "id": "Omms5bGULeuU",
        "outputId": "33c736a3-2144-431d-c8b8-e1ceedb9ad6d"
      },
      "outputs": [
        {
          "name": "stdout",
          "output_type": "stream",
          "text": [
            "Can relax: True\n"
          ]
        }
      ],
      "source": [
        "is_weekend = False\n",
        "is_holiday = True\n",
        "can_relax = is_weekend or is_holiday\n",
        "print(\"Can relax:\", can_relax)"
      ]
    },
    {
      "cell_type": "code",
      "execution_count": null,
      "metadata": {
        "colab": {
          "base_uri": "https://localhost:8080/"
        },
        "id": "w4NyybweLgts",
        "outputId": "51353983-1d82-46eb-e0d0-d2370ce48d78"
      },
      "outputs": [
        {
          "name": "stdout",
          "output_type": "stream",
          "text": [
            "not True: False\n",
            "not False: True\n"
          ]
        }
      ],
      "source": [
        "# NOT operator\n",
        "print(\"not True:\", not True)\n",
        "print(\"not False:\", not False)"
      ]
    },
    {
      "cell_type": "code",
      "execution_count": null,
      "metadata": {
        "colab": {
          "base_uri": "https://localhost:8080/"
        },
        "id": "j3zhYy_IMYT-",
        "outputId": "5c863aa2-9ec5-48e4-a464-9817c5972b98"
      },
      "outputs": [
        {
          "name": "stdout",
          "output_type": "stream",
          "text": [
            "Can play outside: True\n"
          ]
        }
      ],
      "source": [
        "is_raining = False\n",
        "can_play_outside = not is_raining\n",
        "print(\"Can play outside:\", can_play_outside)"
      ]
    },
    {
      "cell_type": "code",
      "execution_count": null,
      "metadata": {
        "colab": {
          "base_uri": "https://localhost:8080/"
        },
        "id": "9TAwjeZ6Lzy9",
        "outputId": "0f2dc9e3-c8e1-4cc6-da55-26de75d4605a"
      },
      "outputs": [
        {
          "name": "stdout",
          "output_type": "stream",
          "text": [
            "You can go outside!\n"
          ]
        }
      ],
      "source": [
        "is_raining = False\n",
        "\n",
        "if not is_raining:\n",
        "    print(\"You can go outside!\")\n",
        "else:\n",
        "    print(\"Stay indoors.\")"
      ]
    },
    {
      "cell_type": "code",
      "execution_count": null,
      "metadata": {
        "id": "lmyB8XDVMVJL"
      },
      "outputs": [],
      "source": [
        "# Complex conditions\n",
        "marks = 85\n",
        "attendance = 80"
      ]
    },
    {
      "cell_type": "code",
      "execution_count": null,
      "metadata": {
        "colab": {
          "base_uri": "https://localhost:8080/"
        },
        "id": "-e5lPPFXMe0m",
        "outputId": "aae14953-d12b-4df2-8b46-80f910a41c92"
      },
      "outputs": [
        {
          "name": "stdout",
          "output_type": "stream",
          "text": [
            "Student passed: True\n"
          ]
        }
      ],
      "source": [
        "passed = marks >= 40 and attendance >= 75\n",
        "print(\"Student passed:\", passed)"
      ]
    },
    {
      "cell_type": "code",
      "execution_count": null,
      "metadata": {
        "colab": {
          "base_uri": "https://localhost:8080/"
        },
        "id": "4Z8b3szUMhu1",
        "outputId": "a9b4b2eb-532e-46bc-feba-37a3524a6237"
      },
      "outputs": [
        {
          "name": "stdout",
          "output_type": "stream",
          "text": [
            "Gets scholarship: False\n"
          ]
        }
      ],
      "source": [
        "scholarship = marks >= 90 or attendance >= 95\n",
        "print(\"Gets scholarship:\", scholarship)"
      ]
    },
    {
      "cell_type": "code",
      "execution_count": null,
      "metadata": {
        "id": "1zBWLhL-MjnL"
      },
      "outputs": [],
      "source": [
        "# Real-world example: Login system\n",
        "username_correct = True\n",
        "password_correct = True\n",
        "account_active   = True"
      ]
    },
    {
      "cell_type": "code",
      "execution_count": null,
      "metadata": {
        "colab": {
          "base_uri": "https://localhost:8080/"
        },
        "id": "cnWNmgt6M_PU",
        "outputId": "76eb64f5-e2bf-4409-df60-b9938e54a6e6"
      },
      "outputs": [
        {
          "name": "stdout",
          "output_type": "stream",
          "text": [
            "Login successful: True\n"
          ]
        }
      ],
      "source": [
        "login_success = username_correct and password_correct and account_active\n",
        "print(\"Login successful:\", login_success)"
      ]
    },
    {
      "cell_type": "code",
      "execution_count": null,
      "metadata": {
        "colab": {
          "base_uri": "https://localhost:8080/"
        },
        "id": "Sq0z0Jw0NBl9",
        "outputId": "ed29d160-c3ed-4b0a-ef42-7df8b8474b61"
      },
      "outputs": [
        {
          "name": "stdout",
          "output_type": "stream",
          "text": [
            "Can buy product: False\n"
          ]
        }
      ],
      "source": [
        "# E-commerce example\n",
        "in_stock = True\n",
        "price_affordable = True\n",
        "delivery_available = False\n",
        "\n",
        "can_buy = in_stock and price_affordable and delivery_available\n",
        "print(\"Can buy product:\", can_buy)"
      ]
    },
    {
      "cell_type": "markdown",
      "metadata": {
        "id": "uVjotA_2Seen"
      },
      "source": [
        "PRACTICE EXERCISE 9:\n",
        "1. Create two boolean variables: is_sunny = True, is_warm = True\n",
        "2. Use 'and' to check if it's both sunny AND warm\n",
        "3. Create variables: has_bike = False, has_car = True\n",
        "4. Use 'or' to check if person has any vehicle\n",
        "5. Use 'not' to reverse the value of is_raining = False"
      ]
    },
    {
      "cell_type": "markdown",
      "metadata": {
        "id": "LxrGX85mSnoT"
      },
      "source": [
        "### 3. Assignment Operators"
      ]
    },
    {
      "cell_type": "code",
      "execution_count": null,
      "metadata": {
        "colab": {
          "base_uri": "https://localhost:8080/"
        },
        "id": "udayTYqpNgIX",
        "outputId": "a3e22ef7-869f-45b1-8f43-749a0b4a028d"
      },
      "outputs": [
        {
          "name": "stdout",
          "output_type": "stream",
          "text": [
            "x = 10\n"
          ]
        }
      ],
      "source": [
        "# Basic assignment\n",
        "x = 10\n",
        "print(\"x =\", x)"
      ]
    },
    {
      "cell_type": "code",
      "execution_count": null,
      "metadata": {
        "colab": {
          "base_uri": "https://localhost:8080/"
        },
        "id": "7Wpt7UrQSqqL",
        "outputId": "0fc31cc0-2341-4e18-e7b5-9e42f252db3b"
      },
      "outputs": [
        {
          "name": "stdout",
          "output_type": "stream",
          "text": [
            "After +=: 15\n"
          ]
        }
      ],
      "source": [
        "# Add and assign (+=)\n",
        "x = 10\n",
        "x += 5  # Same as: x = x + 5\n",
        "print(\"After +=:\", x)"
      ]
    },
    {
      "cell_type": "code",
      "execution_count": null,
      "metadata": {
        "colab": {
          "base_uri": "https://localhost:8080/"
        },
        "id": "QAbC-hdQStWU",
        "outputId": "51ae9e94-b448-4308-eddb-800767771a32"
      },
      "outputs": [
        {
          "name": "stdout",
          "output_type": "stream",
          "text": [
            "After -=: 7\n"
          ]
        }
      ],
      "source": [
        "#  Subtract and assign (-=)\n",
        "x = 10\n",
        "x -= 3  # Same as: x = x - 3\n",
        "print(\"After -=:\", x)"
      ]
    },
    {
      "cell_type": "code",
      "execution_count": null,
      "metadata": {
        "colab": {
          "base_uri": "https://localhost:8080/"
        },
        "id": "mV06sxIbSwuw",
        "outputId": "e61916cf-2e21-4f2b-a9df-e14cdc8606d3"
      },
      "outputs": [
        {
          "name": "stdout",
          "output_type": "stream",
          "text": [
            "After *=: 20\n"
          ]
        }
      ],
      "source": [
        "# Multiply and assign (*=)\n",
        "x = 10\n",
        "x *= 2  # Same as: x = x * 2\n",
        "print(\"After *=:\", x)"
      ]
    },
    {
      "cell_type": "code",
      "execution_count": null,
      "metadata": {
        "colab": {
          "base_uri": "https://localhost:8080/"
        },
        "id": "z1CSgJ7QSzUA",
        "outputId": "e43826dd-176c-466a-ae15-f77ad19e2901"
      },
      "outputs": [
        {
          "name": "stdout",
          "output_type": "stream",
          "text": [
            "After /=: 5.0\n"
          ]
        }
      ],
      "source": [
        "# Divide and assign (/=)\n",
        "x = 10\n",
        "x /= 2  # Same as: x = x / 2\n",
        "print(\"After /=:\", x)"
      ]
    },
    {
      "cell_type": "code",
      "execution_count": null,
      "metadata": {
        "colab": {
          "base_uri": "https://localhost:8080/"
        },
        "id": "eV2v29UjS1gx",
        "outputId": "e23156d9-ad95-467a-c133-eb5511778ea4"
      },
      "outputs": [
        {
          "name": "stdout",
          "output_type": "stream",
          "text": [
            "After //=: 3\n"
          ]
        }
      ],
      "source": [
        "# Floor divide and assign (//=)\n",
        "x = 10\n",
        "x //= 3  # Same as: x = x // 3\n",
        "print(\"After //=:\", x)"
      ]
    },
    {
      "cell_type": "code",
      "execution_count": null,
      "metadata": {
        "colab": {
          "base_uri": "https://localhost:8080/"
        },
        "id": "GcNKou_GS34m",
        "outputId": "dfab2661-8b2c-4a17-a285-460ce21d8e13"
      },
      "outputs": [
        {
          "name": "stdout",
          "output_type": "stream",
          "text": [
            "After %=: 1\n"
          ]
        }
      ],
      "source": [
        "# Modulus and assign (%=)\n",
        "x = 10\n",
        "x %= 3  # Same as: x = x % 3\n",
        "print(\"After %=:\", x)"
      ]
    },
    {
      "cell_type": "code",
      "execution_count": null,
      "metadata": {
        "colab": {
          "base_uri": "https://localhost:8080/"
        },
        "id": "GGmKaCXTS6Mh",
        "outputId": "fa0a69f4-a43d-41a5-fd4a-c74ee58b897f"
      },
      "outputs": [
        {
          "name": "stdout",
          "output_type": "stream",
          "text": [
            "After **=: 8\n"
          ]
        }
      ],
      "source": [
        "# Exponent and assign (**=)\n",
        "x = 2\n",
        "x **= 3  # Same as: x = x ** 3\n",
        "print(\"After **=:\", x)"
      ]
    },
    {
      "cell_type": "code",
      "execution_count": null,
      "metadata": {
        "colab": {
          "base_uri": "https://localhost:8080/"
        },
        "id": "cgaORM5hS85x",
        "outputId": "13b5b693-fff9-4a49-a5e9-4a6d3b3011e8"
      },
      "outputs": [
        {
          "name": "stdout",
          "output_type": "stream",
          "text": [
            "Initial balance: 5000\n",
            "After deposit: 7000\n",
            "After withdrawal: 5500\n"
          ]
        }
      ],
      "source": [
        "# Bank account\n",
        "balance = 5000\n",
        "print(\"Initial balance:\", balance)\n",
        "\n",
        "balance += 2000  # Deposit\n",
        "print(\"After deposit:\", balance)\n",
        "\n",
        "balance -= 1500  # Withdrawal\n",
        "print(\"After withdrawal:\", balance)"
      ]
    },
    {
      "cell_type": "code",
      "execution_count": null,
      "metadata": {
        "colab": {
          "base_uri": "https://localhost:8080/"
        },
        "id": "z27z5rXTS_uL",
        "outputId": "e6d63afd-ea0e-4cff-912c-300b8a609111"
      },
      "outputs": [
        {
          "name": "stdout",
          "output_type": "stream",
          "text": [
            "Total cart value: 2000\n"
          ]
        }
      ],
      "source": [
        "# Shopping cart\n",
        "total = 0\n",
        "total += 500\n",
        "total += 1200\n",
        "total += 300\n",
        "print(\"Total cart value:\", total)"
      ]
    },
    {
      "cell_type": "code",
      "execution_count": null,
      "metadata": {
        "colab": {
          "base_uri": "https://localhost:8080/"
        },
        "id": "ak0_dyt4TCG3",
        "outputId": "afe58e7b-1aac-4912-f518-617cc3bbb37b"
      },
      "outputs": [
        {
          "name": "stdout",
          "output_type": "stream",
          "text": [
            "Total score: 45\n"
          ]
        }
      ],
      "source": [
        "# Score tracking\n",
        "score = 0\n",
        "score += 10  # Level 1\n",
        "score += 20  # Level 2\n",
        "score += 15  # Level 3\n",
        "print(\"Total score:\", score)"
      ]
    },
    {
      "cell_type": "markdown",
      "metadata": {
        "id": "Wz2FwPB8TUsJ"
      },
      "source": [
        "PRACTICE EXERCISE 10:\n",
        "1. Create a variable count = 5\n",
        "2. Use += to add 10 to it\n",
        "3. Use -= to subtract 3 from it\n",
        "4. Use *= to multiply it by 2\n",
        "5. Print the final value"
      ]
    },
    {
      "cell_type": "markdown",
      "metadata": {
        "id": "ce9aH6LQTX0b"
      },
      "source": [
        "### 4. Comparison Operators"
      ]
    },
    {
      "cell_type": "code",
      "execution_count": null,
      "metadata": {
        "colab": {
          "base_uri": "https://localhost:8080/",
          "height": 35
        },
        "id": "FTGSpfL-THCj",
        "outputId": "ac33c632-4929-44f6-c2c3-31be57ac9976"
      },
      "outputs": [
        {
          "data": {
            "application/vnd.google.colaboratory.intrinsic+json": {
              "type": "string"
            },
            "text/plain": [
              "'Comparison operators return True or False\\n== : Equal to\\n!= : Not equal to\\n>  : Greater than\\n<  : Less than\\n>= : Greater than or equal to\\n<= : Less than or equal to\\n'"
            ]
          },
          "execution_count": 52,
          "metadata": {},
          "output_type": "execute_result"
        }
      ],
      "source": [
        "'''Comparison operators return True or False\n",
        "== : Equal to\n",
        "!= : Not equal to\n",
        ">  : Greater than\n",
        "<  : Less than\n",
        ">= : Greater than or equal to\n",
        "<= : Less than or equal to\n",
        "'''"
      ]
    },
    {
      "cell_type": "code",
      "execution_count": null,
      "metadata": {
        "colab": {
          "base_uri": "https://localhost:8080/"
        },
        "id": "TCVERFwXTp8_",
        "outputId": "46169530-425a-438c-bd67-e20d08496cbd"
      },
      "outputs": [
        {
          "name": "stdout",
          "output_type": "stream",
          "text": [
            "10 == 10: True\n",
            "10 == 5: False\n",
            "'hi' == 'hi': True\n"
          ]
        }
      ],
      "source": [
        "# Equal to (==)\n",
        "print(\"10 == 10:\", 10 == 10)    # True\n",
        "print(\"10 == 5:\", 10 == 5)      # False\n",
        "print(\"'hi' == 'hi':\", \"hi\" == \"hi\")  # True"
      ]
    },
    {
      "cell_type": "code",
      "execution_count": null,
      "metadata": {
        "colab": {
          "base_uri": "https://localhost:8080/"
        },
        "id": "bMEbvO9ZTuIk",
        "outputId": "186e190f-0460-44dc-ca02-a40dae157248"
      },
      "outputs": [
        {
          "name": "stdout",
          "output_type": "stream",
          "text": [
            "10 != 5: True\n",
            "10 != 10: False\n"
          ]
        }
      ],
      "source": [
        "# Not equal to (!=)\n",
        "print(\"10 != 5:\", 10 != 5)      # True\n",
        "print(\"10 != 10:\", 10 != 10)    # False\n"
      ]
    },
    {
      "cell_type": "code",
      "execution_count": null,
      "metadata": {
        "colab": {
          "base_uri": "https://localhost:8080/"
        },
        "id": "fybmmNkoTv-i",
        "outputId": "7dc7e802-25df-4119-d435-af33e0752368"
      },
      "outputs": [
        {
          "name": "stdout",
          "output_type": "stream",
          "text": [
            "10 > 5: True\n",
            "5 > 10: False\n"
          ]
        }
      ],
      "source": [
        "# Greater than (>)\n",
        "print(\"10 > 5:\", 10 > 5)        # True\n",
        "print(\"5 > 10:\", 5 > 10)        # False"
      ]
    },
    {
      "cell_type": "code",
      "execution_count": null,
      "metadata": {
        "colab": {
          "base_uri": "https://localhost:8080/"
        },
        "id": "ZzsESgiLTxhy",
        "outputId": "136911b1-e36b-496f-a33f-84c3d4194638"
      },
      "outputs": [
        {
          "name": "stdout",
          "output_type": "stream",
          "text": [
            "5 < 10: True\n",
            "10 < 5: False\n"
          ]
        }
      ],
      "source": [
        "# Less than (<)\n",
        "print(\"5 < 10:\", 5 < 10)        # True\n",
        "print(\"10 < 5:\", 10 < 5)        # False"
      ]
    },
    {
      "cell_type": "markdown",
      "metadata": {
        "id": "QflFA7rRT40v"
      },
      "source": [
        "# Real-world examples"
      ]
    },
    {
      "cell_type": "code",
      "execution_count": null,
      "metadata": {
        "colab": {
          "base_uri": "https://localhost:8080/"
        },
        "id": "0-GV3weRT25B",
        "outputId": "312b9612-8e86-4adc-de80-baceb87b2796"
      },
      "outputs": [
        {
          "name": "stdout",
          "output_type": "stream",
          "text": [
            "Is adult: False\n"
          ]
        }
      ],
      "source": [
        "# Age verification\n",
        "age = 17\n",
        "is_adult = age >= 18\n",
        "print(\"Is adult:\", is_adult)"
      ]
    },
    {
      "cell_type": "code",
      "execution_count": null,
      "metadata": {
        "colab": {
          "base_uri": "https://localhost:8080/"
        },
        "id": "LsPuGUteT4On",
        "outputId": "e5eaa39f-2ebf-4259-cc4a-ac8c9edc2628"
      },
      "outputs": [
        {
          "name": "stdout",
          "output_type": "stream",
          "text": [
            "Passed: True\n"
          ]
        }
      ],
      "source": [
        "# Grade checking\n",
        "marks = 85\n",
        "passed = marks >= 40\n",
        "print(\"Passed:\", passed)"
      ]
    },
    {
      "cell_type": "code",
      "execution_count": null,
      "metadata": {
        "colab": {
          "base_uri": "https://localhost:8080/"
        },
        "id": "CgB08Az2T7V4",
        "outputId": "67061372-ea30-43be-926a-75a732638eb4"
      },
      "outputs": [
        {
          "name": "stdout",
          "output_type": "stream",
          "text": [
            "Grade A: False\n"
          ]
        }
      ],
      "source": [
        "grade_a = marks >= 90\n",
        "print(\"Grade A:\", grade_a)"
      ]
    },
    {
      "cell_type": "code",
      "execution_count": null,
      "metadata": {
        "colab": {
          "base_uri": "https://localhost:8080/"
        },
        "id": "yDzKs_8tT9VC",
        "outputId": "6f2780a5-9b8b-43a9-9430-6e92d2896263"
      },
      "outputs": [
        {
          "name": "stdout",
          "output_type": "stream",
          "text": [
            "Can afford: True\n"
          ]
        }
      ],
      "source": [
        "# Price comparison\n",
        "budget = 5000\n",
        "item_price = 4500\n",
        "can_afford = item_price <= budget\n",
        "print(\"Can afford:\", can_afford)"
      ]
    },
    {
      "cell_type": "code",
      "execution_count": null,
      "metadata": {
        "colab": {
          "base_uri": "https://localhost:8080/"
        },
        "id": "WhbwC0lfT_Lz",
        "outputId": "36b20ca0-671d-438e-875d-5ae680bebb38"
      },
      "outputs": [
        {
          "name": "stdout",
          "output_type": "stream",
          "text": [
            "Has fever: True\n"
          ]
        }
      ],
      "source": [
        "# Temperature check\n",
        "temperature = 38\n",
        "has_fever = temperature > 37\n",
        "print(\"Has fever:\", has_fever)"
      ]
    },
    {
      "cell_type": "code",
      "execution_count": null,
      "metadata": {
        "colab": {
          "base_uri": "https://localhost:8080/"
        },
        "id": "2wiUiTAhUBlk",
        "outputId": "be4905bf-efbb-4d4a-b77c-75c14ea0ec4c"
      },
      "outputs": [
        {
          "name": "stdout",
          "output_type": "stream",
          "text": [
            "Eligible for scholarship: False\n"
          ]
        }
      ],
      "source": [
        "# Combining with logical operators\n",
        "marks = 85\n",
        "attendance = 80\n",
        "scholarship = marks >= 90 and attendance >= 75\n",
        "print(\"Eligible for scholarship:\", scholarship)"
      ]
    },
    {
      "cell_type": "code",
      "execution_count": null,
      "metadata": {
        "colab": {
          "base_uri": "https://localhost:8080/"
        },
        "id": "gasFuhuXUDqS",
        "outputId": "7b50b3bb-bd12-4ed5-f2b5-8d7a9f6ddaac"
      },
      "outputs": [
        {
          "name": "stdout",
          "output_type": "stream",
          "text": [
            "Valid username length: True\n"
          ]
        }
      ],
      "source": [
        "# Username validation\n",
        "username = \"student123\"\n",
        "valid_length = len(username) >= 6\n",
        "print(\"Valid username length:\", valid_length)"
      ]
    },
    {
      "cell_type": "markdown",
      "metadata": {
        "id": "aurHEV6KUKEp"
      },
      "source": [
        "## PRACTICE EXERCISE 11:\n",
        "\n",
        "1. Create two variables: marks1 = 75, marks2 = 80\n",
        "2. Check if marks1 is equal to marks2\n",
        "3. Check if marks1 is less than marks2\n",
        "4. Create a variable age = 25, check if age >= 21\n",
        "5. Create price = 1500, budget = 2000, check if price <= budget"
      ]
    },
    {
      "cell_type": "code",
      "execution_count": null,
      "metadata": {
        "colab": {
          "base_uri": "https://localhost:8080/"
        },
        "id": "xIdu6tdWUFh3",
        "outputId": "e9ff6b78-e87d-437c-cb20-64322a3882d5"
      },
      "outputs": [
        {
          "name": "stdout",
          "output_type": "stream",
          "text": [
            "\n",
            "==================================================\n",
            "FINAL COMPREHENSIVE EXAMPLE\n",
            "==================================================\n",
            "\n"
          ]
        }
      ],
      "source": [
        "print(\"\\n\" + \"=\"*50)\n",
        "print(\"FINAL COMPREHENSIVE EXAMPLE\")\n",
        "print(\"=\"*50 + \"\\n\")"
      ]
    },
    {
      "cell_type": "code",
      "execution_count": null,
      "metadata": {
        "id": "VVbMozYiUHMa"
      },
      "outputs": [],
      "source": [
        "# Student information\n",
        "student_name = \"Rahul Sharma\"\n",
        "student_age = 21\n",
        "student_email = \"rahul.sharma@email.com\""
      ]
    },
    {
      "cell_type": "code",
      "execution_count": null,
      "metadata": {
        "id": "QS_3tMmaUR56"
      },
      "outputs": [],
      "source": [
        "# Marks in different subjects\n",
        "math_marks = 85\n",
        "science_marks = 90\n",
        "english_marks = 78\n",
        "history_marks = 82\n",
        "computer_marks = 95"
      ]
    },
    {
      "cell_type": "code",
      "execution_count": null,
      "metadata": {
        "id": "XW_JWyAVUT5H"
      },
      "outputs": [],
      "source": [
        "# Calculate total and average\n",
        "total_marks = math_marks + science_marks + english_marks + history_marks + computer_marks\n",
        "average_marks = total_marks / 5"
      ]
    },
    {
      "cell_type": "code",
      "execution_count": null,
      "metadata": {
        "colab": {
          "base_uri": "https://localhost:8080/"
        },
        "id": "tDixWtVEUVo4",
        "outputId": "785a327a-3039-406d-e06a-034e68d2fc76"
      },
      "outputs": [
        {
          "name": "stdout",
          "output_type": "stream",
          "text": [
            "STUDENT REPORT CARD\n",
            "--------------------------------------------------\n",
            "Name: Rahul Sharma\n",
            "Age: 21\n",
            "Email: rahul.sharma@email.com\n",
            "--------------------------------------------------\n"
          ]
        }
      ],
      "source": [
        "# Display student information\n",
        "print(\"STUDENT REPORT CARD\")\n",
        "print(\"-\" * 50)\n",
        "print(f\"Name: {student_name}\")\n",
        "print(f\"Age: {student_age}\")\n",
        "print(f\"Email: {student_email}\")\n",
        "print(\"-\" * 50)"
      ]
    },
    {
      "cell_type": "code",
      "execution_count": null,
      "metadata": {
        "colab": {
          "base_uri": "https://localhost:8080/"
        },
        "id": "fJtHJIubUaeR",
        "outputId": "7627f442-2eaa-423f-8f48-11df7663365b"
      },
      "outputs": [
        {
          "name": "stdout",
          "output_type": "stream",
          "text": [
            "SUBJECT-WISE MARKS:\n",
            "Mathematics: 85\n",
            "Science: 90\n",
            "English: 78\n",
            "History: 82\n",
            "Computer: 95\n",
            "--------------------------------------------------\n"
          ]
        }
      ],
      "source": [
        "# Display marks\n",
        "print(\"SUBJECT-WISE MARKS:\")\n",
        "print(f\"Mathematics: {math_marks}\")\n",
        "print(f\"Science: {science_marks}\")\n",
        "print(f\"English: {english_marks}\")\n",
        "print(f\"History: {history_marks}\")\n",
        "print(f\"Computer: {computer_marks}\")\n",
        "print(\"-\" * 50)"
      ]
    },
    {
      "cell_type": "code",
      "execution_count": null,
      "metadata": {
        "colab": {
          "base_uri": "https://localhost:8080/"
        },
        "id": "tLeeBrRjUdPl",
        "outputId": "40c47218-f6c4-4f63-b51c-cfa17fdf7f87"
      },
      "outputs": [
        {
          "name": "stdout",
          "output_type": "stream",
          "text": [
            "Total Marks: 430 / 500\n",
            "Average Marks: 86.00\n",
            "Percentage: 86.00%\n"
          ]
        }
      ],
      "source": [
        "# Display results\n",
        "print(f\"Total Marks: {total_marks} / 500\")\n",
        "print(f\"Average Marks: {average_marks:.2f}\")\n",
        "print(f\"Percentage: {(average_marks):.2f}%\")"
      ]
    },
    {
      "cell_type": "markdown",
      "metadata": {
        "id": "_wxodiSyVPVA"
      },
      "source": [
        "# Conditional Statements in Python - Making Decisions"
      ]
    },
    {
      "cell_type": "markdown",
      "metadata": {
        "id": "YTCsqXoSVXGY"
      },
      "source": [
        "## The Traffic Signal Story - Introduction\n",
        "\n",
        "\n",
        "Imagine you're driving to college every morning. What happens at traffic signals?\n",
        "\n",
        "🔴 RED Light → You STOP\n",
        "\n",
        "🟡 YELLOW Light → You SLOW DOWN\n",
        "\n",
        "🟢 GREEN Light → You GO\n",
        "\n",
        "Your brain automatically makes decisions based on conditions.\n",
        "This is exactly what conditional statements do in programming!\n",
        "\n",
        "Real-life decisions:\n",
        "- IF it's raining → Take umbrella\n",
        "- IF marks >= 40 → Student passes\n",
        "- IF age >= 18 → Can vote\n",
        "- IF price <= budget → Buy the product\n",
        "\n",
        "Today we'll teach Python to make intelligent decisions!\n",
        "\n",
        "-------------------\n",
        "\n",
        "## Structure of Conditional Statements\n",
        "\n",
        "BASIC STRUCTURE:\n",
        "\n",
        "if condition:\n",
        "    \n",
        "    # code to execute if condition is True\n",
        "\n",
        "    # This block runs only when condition is True\n",
        "\n",
        "SYNTAX RULES:\n",
        "1. 'if' keyword in lowercase\n",
        "2. Condition (returns True or False)\n",
        "3. Colon : at the end\n",
        "4. Indentation (4 spaces or 1 tab) is MANDATORY\n",
        "5. All code in the if-block must be indented equally\n",
        "\n",
        "Think of indentation as showing \"this code belongs to if statement\""
      ]
    },
    {
      "cell_type": "code",
      "execution_count": null,
      "metadata": {
        "colab": {
          "base_uri": "https://localhost:8080/"
        },
        "id": "Iv34uKmVUkLP",
        "outputId": "67312d33-8a34-4367-cae8-e5879319a61f"
      },
      "outputs": [
        {
          "name": "stdout",
          "output_type": "stream",
          "text": [
            "You are an adult\n",
            "You can vote\n",
            "This line always executes\n"
          ]
        }
      ],
      "source": [
        "# Example 1: Basic if statement\n",
        "\n",
        "age = 20\n",
        "\n",
        "if age >= 18:\n",
        "    print(\"You are an adult\")\n",
        "    print(\"You can vote\")\n",
        "\n",
        "print(\"This line always executes\")"
      ]
    },
    {
      "cell_type": "code",
      "execution_count": null,
      "metadata": {
        "colab": {
          "base_uri": "https://localhost:8080/"
        },
        "id": "QWQPRFMUWUEr",
        "outputId": "30ef0c61-d015-49b3-d4ac-944000587d0b"
      },
      "outputs": [
        {
          "name": "stdout",
          "output_type": "stream",
          "text": [
            "You have fever!\n",
            "Please consult a doctor\n"
          ]
        }
      ],
      "source": [
        "# Example 2: Checking temperature\n",
        "temperature = 38\n",
        "\n",
        "if temperature > 37:\n",
        "    print(\"You have fever!\")\n",
        "    print(\"Please consult a doctor\")\n"
      ]
    },
    {
      "cell_type": "code",
      "execution_count": null,
      "metadata": {
        "colab": {
          "base_uri": "https://localhost:8080/"
        },
        "id": "BFNEZKzCWvEb",
        "outputId": "87593e90-ce3f-4cf4-b0e1-7cfab25bdd39"
      },
      "outputs": [
        {
          "name": "stdout",
          "output_type": "stream",
          "text": [
            "Congratulations! You passed\n"
          ]
        }
      ],
      "source": [
        "# Example 3: variables and comparison\n",
        "marks = 85\n",
        "\n",
        "if marks >= 40:\n",
        "    print(\"Congratulations! You passed\")\n",
        "\n",
        "if marks >= 90:\n",
        "    print(\"Excellent! You got A+ grade\")"
      ]
    },
    {
      "cell_type": "code",
      "execution_count": null,
      "metadata": {
        "colab": {
          "base_uri": "https://localhost:8080/"
        },
        "id": "0pZJ2d1-W_h3",
        "outputId": "9b1e8a65-3373-48af-f49f-1a276c82a035"
      },
      "outputs": [
        {
          "name": "stdout",
          "output_type": "stream",
          "text": [
            "Welcome back, Student!\n"
          ]
        }
      ],
      "source": [
        "# Example 4: String comparison\n",
        "username = \"student123\"\n",
        "\n",
        "if username == \"student123\":\n",
        "    print(\"Welcome back, Student!\")"
      ]
    },
    {
      "cell_type": "code",
      "execution_count": null,
      "metadata": {
        "colab": {
          "base_uri": "https://localhost:8080/"
        },
        "id": "rJu-DXYCXHXo",
        "outputId": "3df332d4-a722-49f9-b854-1d92f9a795cb"
      },
      "outputs": [
        {
          "name": "stdout",
          "output_type": "stream",
          "text": [
            "You are eligible for final exam\n"
          ]
        }
      ],
      "source": [
        "# Example 5: Using logical operators with if\n",
        "marks = 85\n",
        "attendance = 80\n",
        "\n",
        "if marks >= 40 and attendance >= 75:\n",
        "    print(\"You are eligible for final exam\")"
      ]
    },
    {
      "cell_type": "markdown",
      "metadata": {
        "id": "nMeYL72NXPc_"
      },
      "source": [
        "PRACTICE EXERCISE 1:\n",
        "1. Create a variable price = 1500 and budget = 2000\n",
        "2. Use if to check if price <= budget, print \"You can buy this product\"\n",
        "3. Create a variable is_raining = True\n",
        "4. Use if to check is_raining, print \"Take an umbrella\"\n",
        "5. Create age = 16, use if to check if age >= 18, print \"You can get driving license\""
      ]
    },
    {
      "cell_type": "markdown",
      "metadata": {
        "id": "fSS5m9wBXjqx"
      },
      "source": [
        "## 2. if-else Statement"
      ]
    },
    {
      "cell_type": "code",
      "execution_count": null,
      "metadata": {
        "colab": {
          "base_uri": "https://localhost:8080/",
          "height": 52
        },
        "id": "EHr3-7HIXLwf",
        "outputId": "00901b7c-bbe1-48e1-877d-d500eb85294f"
      },
      "outputs": [
        {
          "data": {
            "application/vnd.google.colaboratory.intrinsic+json": {
              "type": "string"
            },
            "text/plain": [
              "\"\\nThe 'if-else' statement:\\n- Checks a condition\\n- If True, executes if-block\\n- If False, executes else-block\\n- One of the two blocks ALWAYS executes\\n\\nStructure:\\nif condition:\\n    # executes when condition is True\\nelse:\\n    # executes when condition is False\\n\""
            ]
          },
          "execution_count": 85,
          "metadata": {},
          "output_type": "execute_result"
        }
      ],
      "source": [
        "\"\"\"\n",
        "The 'if-else' statement:\n",
        "- Checks a condition\n",
        "- If True, executes if-block\n",
        "- If False, executes else-block\n",
        "- One of the two blocks ALWAYS executes\n",
        "\n",
        "Structure:\n",
        "if condition:\n",
        "    # executes when condition is True\n",
        "else:\n",
        "    # executes when condition is False\n",
        "\"\"\"\n"
      ]
    },
    {
      "cell_type": "code",
      "execution_count": null,
      "metadata": {
        "colab": {
          "base_uri": "https://localhost:8080/"
        },
        "id": "jJ25O7xVXi4I",
        "outputId": "c39e0b8c-87fd-4589-d051-ddb2acd5c98f"
      },
      "outputs": [
        {
          "name": "stdout",
          "output_type": "stream",
          "text": [
            "You are a minor\n",
            "You cannot vote yet\n"
          ]
        }
      ],
      "source": [
        "# Example 1: Basic if-else\n",
        "age = 16\n",
        "\n",
        "if age >= 18:\n",
        "    print(\"You are an adult\")\n",
        "    print(\"You can vote\")\n",
        "else:\n",
        "    print(\"You are a minor\")\n",
        "    print(\"You cannot vote yet\")"
      ]
    },
    {
      "cell_type": "code",
      "execution_count": null,
      "metadata": {
        "colab": {
          "base_uri": "https://localhost:8080/"
        },
        "id": "v_NUzDWFXuLN",
        "outputId": "4a2fe50b-66ad-4a83-d53e-f218f4590d96"
      },
      "outputs": [
        {
          "name": "stdout",
          "output_type": "stream",
          "text": [
            "17 is an ODD number\n"
          ]
        }
      ],
      "source": [
        "# Example 2: Even or Odd\n",
        "number = 17\n",
        "\n",
        "if number % 2 == 0:\n",
        "    print(f\"{number} is an EVEN number\")\n",
        "else:\n",
        "    print(f\"{number} is an ODD number\")"
      ]
    },
    {
      "cell_type": "code",
      "execution_count": null,
      "metadata": {
        "colab": {
          "base_uri": "https://localhost:8080/"
        },
        "id": "shTaYomoX2oL",
        "outputId": "139724f6-6af7-49b8-92d9-504273922031"
      },
      "outputs": [
        {
          "name": "stdout",
          "output_type": "stream",
          "text": [
            "Result: FAILED\n",
            "Better luck next time\n"
          ]
        }
      ],
      "source": [
        "# Example 3: Pass or Fail\n",
        "marks = 35\n",
        "\n",
        "if marks >= 40:\n",
        "    print(\"Result: PASSED\")\n",
        "    print(\"Congratulations!\")\n",
        "else:\n",
        "    print(\"Result: FAILED\")\n",
        "    print(\"Better luck next time\")"
      ]
    },
    {
      "cell_type": "code",
      "execution_count": null,
      "metadata": {
        "colab": {
          "base_uri": "https://localhost:8080/"
        },
        "id": "pEmbjjS8X-E0",
        "outputId": "e2877726-c987-4c1a-9df3-92cda7b49534"
      },
      "outputs": [
        {
          "name": "stdout",
          "output_type": "stream",
          "text": [
            "Product is out of stock\n",
            "Please check back later\n"
          ]
        }
      ],
      "source": [
        "# Example 4: Product availability\n",
        "in_stock = False\n",
        "\n",
        "if in_stock:\n",
        "    print(\"Product is available\")\n",
        "    print(\"You can place order\")\n",
        "else:\n",
        "    print(\"Product is out of stock\")\n",
        "    print(\"Please check back later\")"
      ]
    },
    {
      "cell_type": "code",
      "execution_count": null,
      "metadata": {
        "colab": {
          "base_uri": "https://localhost:8080/"
        },
        "id": "f7XCjMgyYAhW",
        "outputId": "978e3003-8e42-4a58-ab29-619ba21889d0"
      },
      "outputs": [
        {
          "name": "stdout",
          "output_type": "stream",
          "text": [
            "Your temperature is normal\n"
          ]
        }
      ],
      "source": [
        "# Example 5: Temperature check\n",
        "temperature = 36\n",
        "\n",
        "if temperature > 37:\n",
        "    print(\"You have fever\")\n",
        "else:\n",
        "    print(\"Your temperature is normal\")"
      ]
    },
    {
      "cell_type": "code",
      "execution_count": null,
      "metadata": {
        "colab": {
          "base_uri": "https://localhost:8080/"
        },
        "id": "PT8jqIEIYEm2",
        "outputId": "860d9e1b-71fa-4107-a84a-9ece734baa5f"
      },
      "outputs": [
        {
          "name": "stdout",
          "output_type": "stream",
          "text": [
            "Strong password\n"
          ]
        }
      ],
      "source": [
        "# Example 6: Using string methods from previous notes\n",
        "password = \"Python123\"\n",
        "\n",
        "if len(password) >= 8:\n",
        "    print(\"Strong password\")\n",
        "else:\n",
        "    print(\"Weak password - Use at least 8 characters\")"
      ]
    },
    {
      "cell_type": "code",
      "execution_count": null,
      "metadata": {
        "colab": {
          "base_uri": "https://localhost:8080/",
          "height": 52
        },
        "id": "EyTDArwCYHCz",
        "outputId": "bc7f5adc-b89b-4534-f52b-b342f84c12b5"
      },
      "outputs": [
        {
          "data": {
            "application/vnd.google.colaboratory.intrinsic+json": {
              "type": "string"
            },
            "text/plain": [
              "'\\nPRACTICE EXERCISE 2:\\n1. Create a variable marks = 55\\n2. Use if-else to check if marks >= 40, print \"Passed\" or \"Failed\"\\n3. Create a variable age = 25\\n4. Use if-else to check if age >= 21, print \"Can drive car\" or \"Cannot drive car\"\\n5. Create number = 50, check if divisible by 5, print \"Divisible\" or \"Not divisible\"\\n'"
            ]
          },
          "execution_count": 92,
          "metadata": {},
          "output_type": "execute_result"
        }
      ],
      "source": [
        "\"\"\"\n",
        "PRACTICE EXERCISE 2:\n",
        "1. Create a variable marks = 55\n",
        "2. Use if-else to check if marks >= 40, print \"Passed\" or \"Failed\"\n",
        "3. Create a variable age = 25\n",
        "4. Use if-else to check if age >= 21, print \"Can drive car\" or \"Cannot drive car\"\n",
        "5. Create number = 50, check if divisible by 5, print \"Divisible\" or \"Not divisible\"\n",
        "\"\"\""
      ]
    },
    {
      "cell_type": "markdown",
      "metadata": {
        "id": "5_idNkQ8YOcR"
      },
      "source": [
        "## 3. elif Statement (else-if)"
      ]
    },
    {
      "cell_type": "markdown",
      "metadata": {
        "id": "R1ttn9JdYQLt"
      },
      "source": [
        "\"\"\"\n",
        "The 'elif' statement:\n",
        "- Used for multiple conditions\n",
        "- Checks conditions one by one from top to bottom\n",
        "- Executes the FIRST True condition and skips rest\n",
        "- Can have multiple elif statements\n",
        "- Optional else at the end as default case\n",
        "\n",
        "Structure:\n",
        "\n",
        "\n",
        "```\n",
        "#\n",
        "if condition1:\n",
        "    # executes if condition1 is True\n",
        "elif condition2:\n",
        "    # executes if condition1 is False and condition2 is True\n",
        "elif condition3:\n",
        "    # executes if condition1 and condition2 are False and condition3 is True\n",
        "else:\n",
        "    # executes if all conditions are False\n",
        "```\n",
        "\n"
      ]
    },
    {
      "cell_type": "code",
      "execution_count": null,
      "metadata": {
        "colab": {
          "base_uri": "https://localhost:8080/"
        },
        "id": "ixjagMdTYrsp",
        "outputId": "9467363f-e723-4a4a-c966-673ca2a9f1e6"
      },
      "outputs": [
        {
          "name": "stdout",
          "output_type": "stream",
          "text": [
            "GO - Drive ahead\n"
          ]
        }
      ],
      "source": [
        "# Example 1: Traffic Signal (our opening story!)\n",
        "signal = \"GREEN\"\n",
        "\n",
        "if signal == \"GREEN\":\n",
        "    print(\"GO - Drive ahead\")\n",
        "elif signal == \"YELLOW\":\n",
        "    print(\"SLOW DOWN - Prepare to stop\")\n",
        "elif signal == \"RED\":\n",
        "    print(\"STOP - Wait for green\")\n",
        "else:\n",
        "    print(\"Invalid signal\")"
      ]
    },
    {
      "cell_type": "code",
      "execution_count": null,
      "metadata": {
        "colab": {
          "base_uri": "https://localhost:8080/"
        },
        "id": "Y6xS-mz7YK_C",
        "outputId": "b71beafd-9d63-43bc-c7f6-0373224c741a"
      },
      "outputs": [
        {
          "name": "stdout",
          "output_type": "stream",
          "text": [
            "Grade: A\n",
            "Excellent work!\n"
          ]
        }
      ],
      "source": [
        "# Example 2: Grade calculation\n",
        "marks = 85\n",
        "\n",
        "if marks >= 90:\n",
        "    print(\"Grade: A+\")\n",
        "    print(\"Outstanding performance!\")\n",
        "elif marks >= 80:\n",
        "    print(\"Grade: A\")\n",
        "    print(\"Excellent work!\")\n",
        "elif marks >= 70:\n",
        "    print(\"Grade: B\")\n",
        "    print(\"Good job!\")\n",
        "elif marks >= 60:\n",
        "    print(\"Grade: C\")\n",
        "    print(\"Satisfactory\")\n",
        "elif marks >= 40:\n",
        "    print(\"Grade: D\")\n",
        "    print(\"Just passed\")\n",
        "else:\n",
        "    print(\"Grade: F\")\n",
        "    print(\"Failed - Need to work harder\")"
      ]
    },
    {
      "cell_type": "code",
      "execution_count": null,
      "metadata": {
        "colab": {
          "base_uri": "https://localhost:8080/"
        },
        "id": "nQUHZqdJY5Nj",
        "outputId": "3230dc76-c7d6-4aea-9737-336b3d5c7555"
      },
      "outputs": [
        {
          "name": "stdout",
          "output_type": "stream",
          "text": [
            "Monday\n"
          ]
        }
      ],
      "source": [
        "# Example 3: Day of the week\n",
        "day = 1\n",
        "\n",
        "if day == 1:\n",
        "    print(\"Monday\")\n",
        "elif day == 2:\n",
        "    print(\"Tuesday\")\n",
        "elif day == 3:\n",
        "    print(\"Wednesday\")\n",
        "elif day == 4:\n",
        "    print(\"Thursday\")\n",
        "elif day == 5:\n",
        "    print(\"Friday\")\n",
        "elif day == 6:\n",
        "    print(\"Saturday\")\n",
        "elif day == 7:\n",
        "    print(\"Sunday\")\n",
        "else:\n",
        "    print(\"Invalid day number\")"
      ]
    },
    {
      "cell_type": "code",
      "execution_count": null,
      "metadata": {
        "colab": {
          "base_uri": "https://localhost:8080/"
        },
        "id": "gNNxss4EZHiV",
        "outputId": "c629c4e8-783b-4981-c696-e115b0d6b13b"
      },
      "outputs": [
        {
          "name": "stdout",
          "output_type": "stream",
          "text": [
            "You are an adult\n"
          ]
        }
      ],
      "source": [
        "# Example 4: Age categories\n",
        "age = 45\n",
        "\n",
        "if age < 13:\n",
        "    print(\"You are a child\")\n",
        "elif age < 20:\n",
        "    print(\"You are a teenager\")\n",
        "elif age < 60:\n",
        "    print(\"You are an adult\")\n",
        "else:\n",
        "    print(\"You are a senior citizen\")"
      ]
    },
    {
      "cell_type": "code",
      "execution_count": null,
      "metadata": {
        "colab": {
          "base_uri": "https://localhost:8080/"
        },
        "id": "pVQL_wOFZQ_N",
        "outputId": "897c7b84-c663-4cbd-a45d-30682c495e83"
      },
      "outputs": [
        {
          "name": "stdout",
          "output_type": "stream",
          "text": [
            "Extremely hot - Stay indoors\n"
          ]
        }
      ],
      "source": [
        "# Example 5: Temperature categories\n",
        "temperature = 42\n",
        "\n",
        "if temperature >= 40:\n",
        "    print(\"Extremely hot - Stay indoors\")\n",
        "elif temperature >= 30:\n",
        "    print(\"Hot - Use air conditioning\")\n",
        "elif temperature >= 20:\n",
        "    print(\"Pleasant - Enjoy the weather\")\n",
        "elif temperature >= 10:\n",
        "    print(\"Cool - Wear light jacket\")\n",
        "else:\n",
        "    print(\"Cold - Wear warm clothes\")\n"
      ]
    },
    {
      "cell_type": "markdown",
      "metadata": {
        "id": "3teJmeCRZYBm"
      },
      "source": [
        "\n",
        "\n",
        "```\n",
        "PRACTICE EXERCISE 3:\n",
        "1. Create a variable time = 14 (24-hour format)\n",
        "2. Use if-elif-else to print:\n",
        "   - \"Good Morning\" if time < 12\n",
        "   - \"Good Afternoon\" if time < 17\n",
        "   - \"Good Evening\" if time < 21\n",
        "   - \"Good Night\" otherwise\n",
        "3. Create percentage = 75, categorize as:\n",
        "   - Distinction (>= 75)\n",
        "   - First Class (>= 60)\n",
        "   - Second Class (>= 50)\n",
        "   - Pass (>= 40)\n",
        "   - Fail (< 40)\n",
        "```\n",
        "\n"
      ]
    },
    {
      "cell_type": "code",
      "execution_count": null,
      "metadata": {
        "colab": {
          "base_uri": "https://localhost:8080/"
        },
        "id": "9kKGxVjEZ3gq",
        "outputId": "6fcb7fe5-a7a4-4468-c94b-9735d994bed2"
      },
      "outputs": [
        {
          "name": "stdout",
          "output_type": "stream",
          "text": [
            "\n",
            "==================================================\n",
            "EXAMPLE 1: CALCULATOR WITH DECISIONS\n",
            "==================================================\n",
            "10 + 5 = 15\n"
          ]
        }
      ],
      "source": [
        "## 4. Complete Examples with Previous Concepts\n",
        "\n",
        "# Example 1: Using variables and operators from previous notes\n",
        "print(\"\\n\" + \"=\"*50)\n",
        "print(\"EXAMPLE 1: CALCULATOR WITH DECISIONS\")\n",
        "print(\"=\"*50)\n",
        "\n",
        "num1 = 10\n",
        "num2 = 5\n",
        "operation = \"add\"\n",
        "\n",
        "if operation == \"add\":\n",
        "    result = num1 + num2\n",
        "    print(f\"{num1} + {num2} = {result}\")\n",
        "elif operation == \"subtract\":\n",
        "    result = num1 - num2\n",
        "    print(f\"{num1} - {num2} = {result}\")\n",
        "elif operation == \"multiply\":\n",
        "    result = num1 * num2\n",
        "    print(f\"{num1} * {num2} = {result}\")\n",
        "elif operation == \"divide\":\n",
        "    if num2 != 0:  # Nested if to check division by zero\n",
        "        result = num1 / num2\n",
        "        print(f\"{num1} / {num2} = {result}\")\n",
        "    else:\n",
        "        print(\"Error: Cannot divide by zero\")\n",
        "else:\n",
        "    print(\"Invalid operation\")"
      ]
    },
    {
      "cell_type": "code",
      "execution_count": null,
      "metadata": {
        "colab": {
          "base_uri": "https://localhost:8080/"
        },
        "id": "y9qqqQmSZ3xd",
        "outputId": "5389b7c0-6f3e-4d93-b610-71e531ce03ae"
      },
      "outputs": [
        {
          "name": "stdout",
          "output_type": "stream",
          "text": [
            "\n",
            "==================================================\n",
            "EXAMPLE 2: USER LOGIN SYSTEM\n",
            "==================================================\n",
            "Login Successful!\n",
            "Welcome, STUDENT123\n"
          ]
        }
      ],
      "source": [
        "# Example 2: Using strings and type casting from previous notes\n",
        "\n",
        "print(\"\\n\" + \"=\"*50)\n",
        "print(\"EXAMPLE 2: USER LOGIN SYSTEM\")\n",
        "print(\"=\"*50)\n",
        "\n",
        "stored_username = \"student123\"\n",
        "stored_password = \"python2024\"\n",
        "\n",
        "input_username = \"student123\"\n",
        "input_password = \"python2024\"\n",
        "\n",
        "if input_username == stored_username and input_password == stored_password:\n",
        "    print(\"Login Successful!\")\n",
        "    print(f\"Welcome, {input_username.upper()}\")\n",
        "else:\n",
        "    print(\"Login Failed!\")\n",
        "    print(\"Invalid username or password\")"
      ]
    },
    {
      "cell_type": "code",
      "execution_count": null,
      "metadata": {
        "colab": {
          "base_uri": "https://localhost:8080/"
        },
        "id": "w6PysSDCaEvz",
        "outputId": "c7f7f789-9e86-469a-ed31-5282a4e5c221"
      },
      "outputs": [
        {
          "name": "stdout",
          "output_type": "stream",
          "text": [
            "\n",
            "==================================================\n",
            "EXAMPLE 3: SHOPPING CART\n",
            "==================================================\n",
            "You have 3 items in cart\n",
            "Items: ['Laptop', 'Mouse', 'Keyboard']\n"
          ]
        }
      ],
      "source": [
        "# Example 3: Using lists from previous notes\n",
        "print(\"\\n\" + \"=\"*50)\n",
        "print(\"EXAMPLE 3: SHOPPING CART\")\n",
        "print(\"=\"*50)\n",
        "\n",
        "cart_items = [\"Laptop\", \"Mouse\", \"Keyboard\"]\n",
        "cart_count = len(cart_items)\n",
        "\n",
        "if cart_count == 0:\n",
        "    print(\"Your cart is empty\")\n",
        "    print(\"Start shopping!\")\n",
        "elif cart_count <= 3:\n",
        "    print(f\"You have {cart_count} items in cart\")\n",
        "    print(\"Items:\", cart_items)\n",
        "else:\n",
        "    print(f\"You have {cart_count} items in cart\")\n",
        "    print(\"You get free delivery!\")"
      ]
    },
    {
      "cell_type": "code",
      "execution_count": null,
      "metadata": {
        "colab": {
          "base_uri": "https://localhost:8080/"
        },
        "id": "TMb7tq73aK9B",
        "outputId": "e2b43429-e68a-4551-e275-b09663a29e2f"
      },
      "outputs": [
        {
          "name": "stdout",
          "output_type": "stream",
          "text": [
            "\n",
            "============================================================\n",
            "PROJECT 1: STUDENT GRADING SYSTEM\n",
            "============================================================\n",
            "\n",
            "Student Name: Rahul Sharma\n",
            "Roll Number: 101\n",
            "------------------------------------------------------------\n",
            "SUBJECT-WISE MARKS:\n",
            "Mathematics: 85\n",
            "Science: 90\n",
            "English: 78\n",
            "History: 82\n",
            "Computer: 95\n",
            "------------------------------------------------------------\n",
            "Total Marks: 430 / 500\n",
            "Percentage: 86.00%\n",
            "------------------------------------------------------------\n",
            "Grade: A\n",
            "Remarks: Excellent Work!\n",
            "------------------------------------------------------------\n",
            "RESULT: ✓ PASSED\n",
            "STATUS: PASSED WITH DISTINCTION\n",
            "SCHOLARSHIP: ✓ ELIGIBLE\n",
            "Congratulations! You qualify for Merit Scholarship\n",
            "------------------------------------------------------------\n",
            "SUBJECT-WISE ANALYSIS:\n",
            "✓ Mathematics: EXCELLENT\n",
            "✓ Science: EXCELLENT\n",
            "✓ English: PASS\n",
            "============================================================\n"
          ]
        }
      ],
      "source": [
        "## 5. REAL-WORLD PROJECT 1: Student Grading System\n",
        "\n",
        "print(\"\\n\" + \"=\"*60)\n",
        "print(\"PROJECT 1: STUDENT GRADING SYSTEM\")\n",
        "print(\"=\"*60)\n",
        "\n",
        "# Student information (using variables from Day 3)\n",
        "student_name = \"Rahul Sharma\"\n",
        "student_roll = 101\n",
        "\n",
        "# Marks in different subjects (using integers from Day 3)\n",
        "math_marks = 85\n",
        "science_marks = 90\n",
        "english_marks = 78\n",
        "history_marks = 82\n",
        "computer_marks = 95\n",
        "\n",
        "# Calculate total and average (using arithmetic operators from Day 5)\n",
        "total_marks = math_marks + science_marks + english_marks + history_marks + computer_marks\n",
        "average_marks = total_marks / 5\n",
        "percentage = average_marks  # Since each subject is out of 100\n",
        "\n",
        "# Display student info (using f-strings from Day 4)\n",
        "print(f\"\\nStudent Name: {student_name}\")\n",
        "print(f\"Roll Number: {student_roll}\")\n",
        "print(\"-\" * 60)\n",
        "\n",
        "# Display marks (using variables)\n",
        "print(\"SUBJECT-WISE MARKS:\")\n",
        "print(f\"Mathematics: {math_marks}\")\n",
        "print(f\"Science: {science_marks}\")\n",
        "print(f\"English: {english_marks}\")\n",
        "print(f\"History: {history_marks}\")\n",
        "print(f\"Computer: {computer_marks}\")\n",
        "print(\"-\" * 60)\n",
        "\n",
        "# Calculate and display totals (using operators)\n",
        "print(f\"Total Marks: {total_marks} / 500\")\n",
        "print(f\"Percentage: {percentage:.2f}%\")\n",
        "\n",
        "# Determine grade using if-elif-else\n",
        "print(\"-\" * 60)\n",
        "if percentage >= 90:\n",
        "    grade = \"A+\"\n",
        "    remarks = \"Outstanding Performance!\"\n",
        "elif percentage >= 80:\n",
        "    grade = \"A\"\n",
        "    remarks = \"Excellent Work!\"\n",
        "elif percentage >= 70:\n",
        "    grade = \"B\"\n",
        "    remarks = \"Good Job!\"\n",
        "elif percentage >= 60:\n",
        "    grade = \"C\"\n",
        "    remarks = \"Satisfactory\"\n",
        "elif percentage >= 40:\n",
        "    grade = \"D\"\n",
        "    remarks = \"Need Improvement\"\n",
        "else:\n",
        "    grade = \"F\"\n",
        "    remarks = \"Failed - Work Harder\"\n",
        "\n",
        "print(f\"Grade: {grade}\")\n",
        "print(f\"Remarks: {remarks}\")\n",
        "\n",
        "# Check pass/fail using if-else\n",
        "print(\"-\" * 60)\n",
        "if percentage >= 40:\n",
        "    print(\"RESULT: ✓ PASSED\")\n",
        "\n",
        "    # Check for distinction using nested if\n",
        "    if percentage >= 75:\n",
        "        print(\"STATUS: PASSED WITH DISTINCTION\")\n",
        "    elif percentage >= 60:\n",
        "        print(\"STATUS: PASSED WITH FIRST CLASS\")\n",
        "    else:\n",
        "        print(\"STATUS: PASSED\")\n",
        "\n",
        "    # Check scholarship eligibility (using logical operators from Day 5)\n",
        "    if percentage >= 85 and math_marks >= 80 and science_marks >= 80:\n",
        "        print(\"SCHOLARSHIP: ✓ ELIGIBLE\")\n",
        "        print(\"Congratulations! You qualify for Merit Scholarship\")\n",
        "    else:\n",
        "        print(\"SCHOLARSHIP: ✗ NOT ELIGIBLE\")\n",
        "else:\n",
        "    print(\"RESULT: ✗ FAILED\")\n",
        "    print(\"Please work harder and try again\")\n",
        "\n",
        "# Subject-wise analysis\n",
        "print(\"-\" * 60)\n",
        "print(\"SUBJECT-WISE ANALYSIS:\")\n",
        "\n",
        "if math_marks < 40:\n",
        "    print(\"⚠ Mathematics: FAIL - Need to improve\")\n",
        "elif math_marks >= 80:\n",
        "    print(\"✓ Mathematics: EXCELLENT\")\n",
        "else:\n",
        "    print(\"✓ Mathematics: PASS\")\n",
        "\n",
        "if science_marks < 40:\n",
        "    print(\"⚠ Science: FAIL - Need to improve\")\n",
        "elif science_marks >= 80:\n",
        "    print(\"✓ Science: EXCELLENT\")\n",
        "else:\n",
        "    print(\"✓ Science: PASS\")\n",
        "\n",
        "if english_marks < 40:\n",
        "    print(\"⚠ English: FAIL - Need to improve\")\n",
        "elif english_marks >= 80:\n",
        "    print(\"✓ English: EXCELLENT\")\n",
        "else:\n",
        "    print(\"✓ English: PASS\")\n",
        "\n",
        "print(\"=\"*60)\n"
      ]
    },
    {
      "cell_type": "code",
      "execution_count": null,
      "metadata": {
        "id": "OShbwUhDaNRA",
        "outputId": "0a47985d-dcb1-42e4-da28-34aefed9c535"
      },
      "outputs": [
        {
          "name": "stdout",
          "output_type": "stream",
          "text": [
            "Ticket Price: ₹100 — Child Ticket\n"
          ]
        }
      ],
      "source": [
        "age = int(input(\"Enter your age: \"))\n",
        "\n",
        "if age < 5:\n",
        "    print(\"Ticket Price: ₹0 — Free Entry\")\n",
        "elif age <= 18:\n",
        "    print(\"Ticket Price: ₹100 — Child Ticket\")\n",
        "elif age <= 60:\n",
        "    print(\"Ticket Price: ₹250 — Adult Ticket\")\n",
        "else:\n",
        "    print(\"Ticket Price: ₹150 — Senior Citizen Ticket\")\n"
      ]
    },
    {
      "cell_type": "markdown",
      "metadata": {
        "id": "LXXWW6-S9SrL"
      },
      "source": [
        "DAY 7: LISTS & TUPLES - STUDENT GRADE MANAGER PROJECT\n",
        "=====================================================\n",
        "Topics Covered:\n",
        "- Understanding Lists\n",
        "- Indexing and slicing in lists\n",
        "- List methods: append(), extend(), insert(), remove(), pop(), clear(), index(), count(), sort(), reverse()\n",
        "- Tuples basics\n",
        "- Real-world application with if-elif-else"
      ]
    },
    {
      "cell_type": "code",
      "execution_count": null,
      "metadata": {
        "id": "_JR6owqv9SrL",
        "outputId": "9926f95c-ca01-4b65-f0b8-41f793314915"
      },
      "outputs": [
        {
          "name": "stdout",
          "output_type": "stream",
          "text": [
            "======================================================================\n",
            "     DAY 7: MASTERING LISTS & TUPLES\n",
            "======================================================================\n",
            "\n",
            "📚 PART 1: UNDERSTANDING LISTS\n",
            "----------------------------------------------------------------------\n",
            "Subjects List: ['Math', 'Science', 'English', 'History', 'Computer']\n",
            "Type: <class 'list'>\n",
            "Number of subjects: 5\n"
          ]
        }
      ],
      "source": [
        "print(\"=\"*70)\n",
        "print(\"     DAY 7: MASTERING LISTS & TUPLES\")\n",
        "print(\"=\"*70)\n",
        "\n",
        "# ============================================================================\n",
        "# PART 1: UNDERSTANDING LISTS BASICS\n",
        "# ============================================================================\n",
        "print(\"\\n📚 PART 1: UNDERSTANDING LISTS\")\n",
        "print(\"-\"*70)\n",
        "\n",
        "# Creating a list of subjects\n",
        "subjects = [\"Math\", \"Science\", \"English\", \"History\", \"Computer\"]\n",
        "print(f\"Subjects List: {subjects}\")\n",
        "print(f\"Type: {type(subjects)}\")\n",
        "print(f\"Number of subjects: {len(subjects)}\")\n"
      ]
    },
    {
      "cell_type": "code",
      "execution_count": null,
      "metadata": {
        "id": "ajGqmn9n9SrL",
        "outputId": "0a1550aa-c358-4bac-d3df-edbe71ee5817"
      },
      "outputs": [
        {
          "name": "stdout",
          "output_type": "stream",
          "text": [
            "\n",
            "📚 PART 2: INDEXING AND SLICING\n",
            "----------------------------------------------------------------------\n",
            "Rahul's Marks: [85, 90, 78, 82, 95]\n",
            "\n",
            "First subject marks (index 0): 85\n",
            "Last subject marks (index -1): 95\n",
            "Third subject marks (index 2): 78\n",
            "\n",
            "First 3 subjects marks: [85, 90, 78]\n",
            "Last 2 subjects marks: [82, 95]\n",
            "All marks from index 2: [78, 82, 95]\n",
            "Marks up to index 3: [85, 90, 78]\n"
          ]
        }
      ],
      "source": [
        "# ============================================================================\n",
        "# PART 2: INDEXING AND SLICING\n",
        "# ============================================================================\n",
        "print(\"\\n📚 PART 2: INDEXING AND SLICING\")\n",
        "print(\"-\"*70)\n",
        "\n",
        "# Student marks for 5 subjects\n",
        "rahul_marks = [85, 90, 78, 82, 95]\n",
        "print(f\"Rahul's Marks: {rahul_marks}\")\n",
        "\n",
        "# Indexing - Accessing individual elements\n",
        "print(f\"\\nFirst subject marks (index 0): {rahul_marks[0]}\")\n",
        "print(f\"Last subject marks (index -1): {rahul_marks[-1]}\")\n",
        "print(f\"Third subject marks (index 2): {rahul_marks[2]}\")\n",
        "\n",
        "# Slicing - Accessing multiple elements\n",
        "print(f\"\\nFirst 3 subjects marks: {rahul_marks[0:3]}\")\n",
        "print(f\"Last 2 subjects marks: {rahul_marks[3:5]}\")\n",
        "print(f\"All marks from index 2: {rahul_marks[2:]}\")\n",
        "print(f\"Marks up to index 3: {rahul_marks[:3]}\")"
      ]
    },
    {
      "cell_type": "code",
      "execution_count": null,
      "metadata": {
        "id": "vPqo_ENN9SrL",
        "outputId": "2a02b648-6546-4746-a8a8-9ce525982756"
      },
      "outputs": [
        {
          "name": "stdout",
          "output_type": "stream",
          "text": [
            "\n",
            "📚 PART 3: LIST METHODS - ADDING ELEMENTS\n",
            "----------------------------------------------------------------------\n",
            "Priya's initial marks: [88, 92, 85]\n",
            "After append(90): [88, 92, 85, 90]\n",
            "After extend([87]): [88, 92, 85, 90, 87]\n",
            "After insert(2, 94): [88, 92, 94, 85, 90, 87]\n"
          ]
        }
      ],
      "source": [
        "# ============================================================================\n",
        "# PART 3: LIST METHODS - ADDING ELEMENTS\n",
        "# ============================================================================\n",
        "print(\"\\n📚 PART 3: LIST METHODS - ADDING ELEMENTS\")\n",
        "print(\"-\"*70)\n",
        "\n",
        "# Starting with Priya's marks for 3 subjects\n",
        "priya_marks = [88, 92, 85]\n",
        "print(f\"Priya's initial marks: {priya_marks}\")\n",
        "\n",
        "# append() - Add one element at the end\n",
        "priya_marks.append(90)\n",
        "print(f\"After append(90): {priya_marks}\")\n",
        "\n",
        "# extend() - Add multiple elements at the end\n",
        "priya_marks.extend([87])\n",
        "print(f\"After extend([87]): {priya_marks}\")\n",
        "\n",
        "# insert() - Add element at specific position\n",
        "priya_marks.insert(2, 94)  # Insert 94 at index 2\n",
        "print(f\"After insert(2, 94): {priya_marks}\")"
      ]
    },
    {
      "cell_type": "code",
      "execution_count": null,
      "metadata": {
        "id": "2N_Fz0KL9SrM",
        "outputId": "46e3e468-7022-43ea-ba55-4c4d3a626028"
      },
      "outputs": [
        {
          "name": "stdout",
          "output_type": "stream",
          "text": [
            "\n",
            "📚 PART 4: LIST METHODS - REMOVING ELEMENTS\n",
            "----------------------------------------------------------------------\n",
            "Arjun's marks (with extra entry): [75, 80, 94, 85, 78, 88]\n",
            "After remove(94): [75, 80, 85, 78, 88]\n",
            "After pop(): [75, 80, 85, 78]\n",
            "Removed mark: 88\n",
            "After pop(1): [75, 85, 78]\n",
            "Removed mark: 80\n"
          ]
        }
      ],
      "source": [
        "# ============================================================================\n",
        "# PART 4: LIST METHODS - REMOVING ELEMENTS\n",
        "# ============================================================================\n",
        "print(\"\\n📚 PART 4: LIST METHODS - REMOVING ELEMENTS\")\n",
        "print(\"-\"*70)\n",
        "\n",
        "# Arjun's marks with a mistake\n",
        "arjun_marks = [75, 80, 94, 85, 78, 88]\n",
        "print(f\"Arjun's marks (with extra entry): {arjun_marks}\")\n",
        "\n",
        "# remove() - Remove first occurrence of value\n",
        "arjun_marks.remove(94)  # Remove the extra 94\n",
        "print(f\"After remove(94): {arjun_marks}\")\n",
        "\n",
        "# pop() - Remove and return element at index\n",
        "removed_mark = arjun_marks.pop()  # Removes last element\n",
        "print(f\"After pop(): {arjun_marks}\")\n",
        "print(f\"Removed mark: {removed_mark}\")\n",
        "\n",
        "# pop() with index\n",
        "removed_mark2 = arjun_marks.pop(1)  # Removes element at index 1\n",
        "print(f\"After pop(1): {arjun_marks}\")\n",
        "print(f\"Removed mark: {removed_mark2}\")"
      ]
    },
    {
      "cell_type": "code",
      "execution_count": null,
      "metadata": {
        "id": "cmcHu-Yu9SrM",
        "outputId": "c6ec4e70-8070-4f5e-8b4b-523531cad24b"
      },
      "outputs": [
        {
          "name": "stdout",
          "output_type": "stream",
          "text": [
            "\n",
            " PART 5: LIST METHODS - UTILITY METHODS\n",
            "----------------------------------------------------------------------\n",
            "Demo marks: [85, 90, 85, 78, 92, 85]\n",
            "Number of times 85 appears: 3\n",
            "Index of first 90: 1\n",
            "After sort(): [78, 85, 85, 85, 90, 92]\n",
            "After sort(reverse=True): [92, 90, 85, 85, 85, 78]\n",
            "After reverse(): [78, 85, 85, 85, 90, 92]\n"
          ]
        }
      ],
      "source": [
        "# ============================================================================\n",
        "# PART 5: LIST METHODS - UTILITY METHODS\n",
        "# ============================================================================\n",
        "print(\"\\n PART 5: LIST METHODS - UTILITY METHODS\")\n",
        "print(\"-\"*70)\n",
        "\n",
        "# Sample marks for demonstration\n",
        "demo_marks = [85, 90, 85, 78, 92, 85]\n",
        "print(f\"Demo marks: {demo_marks}\")\n",
        "\n",
        "# count() - Count occurrences of a value\n",
        "count_85 = demo_marks.count(85)\n",
        "print(f\"Number of times 85 appears: {count_85}\")\n",
        "\n",
        "# index() - Find index of first occurrence\n",
        "index_90 = demo_marks.index(90)\n",
        "print(f\"Index of first 90: {index_90}\")\n",
        "\n",
        "# sort() - Sort the list in ascending order\n",
        "demo_marks.sort()\n",
        "print(f\"After sort(): {demo_marks}\")\n",
        "\n",
        "# sort(reverse=True) - Sort in descending order\n",
        "demo_marks.sort(reverse=True)\n",
        "print(f\"After sort(reverse=True): {demo_marks}\")\n",
        "\n",
        "# reverse() - Reverse the list order\n",
        "demo_marks.reverse()\n",
        "print(f\"After reverse(): {demo_marks}\")"
      ]
    },
    {
      "cell_type": "code",
      "execution_count": null,
      "metadata": {
        "id": "o7HOIEeL9SrM",
        "outputId": "1298ac0f-d6cc-4036-e0ea-6ca8b0246eba"
      },
      "outputs": [
        {
          "name": "stdout",
          "output_type": "stream",
          "text": [
            "\n",
            "📚 PART 6: UNDERSTANDING TUPLES\n",
            "----------------------------------------------------------------------\n",
            "Student Info Tuple: ('Rahul Sharma', 101, 'Class 10-A')\n",
            "Type: <class 'tuple'>\n",
            "Student Name: Rahul Sharma\n",
            "Roll Number: 101\n",
            "Class: Class 10-A\n",
            "\n",
            "Grade Boundaries: (90, 80, 70, 60, 40)\n"
          ]
        }
      ],
      "source": [
        "# ============================================================================\n",
        "# PART 6: TUPLES - IMMUTABLE LISTS\n",
        "# ============================================================================\n",
        "print(\"\\n📚 PART 6: UNDERSTANDING TUPLES\")\n",
        "print(\"-\"*70)\n",
        "\n",
        "# Creating tuples - fixed student information\n",
        "student_info = (\"Rahul Sharma\", 101, \"Class 10-A\")\n",
        "print(f\"Student Info Tuple: {student_info}\")\n",
        "print(f\"Type: {type(student_info)}\")\n",
        "\n",
        "# Accessing tuple elements\n",
        "print(f\"Student Name: {student_info[0]}\")\n",
        "print(f\"Roll Number: {student_info[1]}\")\n",
        "print(f\"Class: {student_info[2]}\")\n",
        "\n",
        "# Grade boundaries (fixed values)\n",
        "grade_boundaries = (90, 80, 70, 60, 40)\n",
        "print(f\"\\nGrade Boundaries: {grade_boundaries}\")"
      ]
    },
    {
      "cell_type": "code",
      "execution_count": null,
      "metadata": {
        "id": "_vy1XcbP9SrM",
        "outputId": "73671bed-0156-41ef-a600-60bb73aecbad"
      },
      "outputs": [
        {
          "name": "stdout",
          "output_type": "stream",
          "text": [
            "\n",
            "======================================================================\n",
            "MINI PROJECT: STUDENT GRADE MANAGER\n",
            "======================================================================\n",
            "\n",
            "Student Name: Ananya Verma\n",
            "Roll Number: 105\n",
            "Class: Class 10-B\n",
            "----------------------------------------------------------------------\n",
            "\n",
            " ORIGINAL SUBJECT-WISE MARKS:\n",
            "Math: 88\n",
            "Science: 92\n",
            "English: 85\n",
            "History: 90\n",
            "Computer: 94\n",
            "----------------------------------------------------------------------\n",
            "Total Marks: 449 / 500\n",
            "Average Marks: 89.80\n",
            "Percentage: 89.80%\n",
            "----------------------------------------------------------------------\n",
            "GRADE: A\n",
            "REMARKS: Excellent!\n",
            "----------------------------------------------------------------------\n",
            "PERFORMANCE ANALYSIS:\n",
            "Highest Marks: 94\n",
            "Lowest Marks: 85\n",
            "Best Subject: Computer (94)\n",
            "Needs Focus: English (85)\n",
            "----------------------------------------------------------------------\n",
            "SUBJECT-WISE EXCELLENCE:\n",
            "✓ Math: EXCELLENT\n",
            "✓ Science: OUTSTANDING\n",
            "✓ English: EXCELLENT\n",
            "----------------------------------------------------------------------\n",
            " Outstanding Subjects Count: 3\n",
            "SCHOLARSHIP: ELIGIBLE\n",
            "Congratulations! You qualify for Merit Scholarship!\n",
            "\n",
            "======================================================================\n",
            "     END OF DAY 7 - LISTS & TUPLES MASTERY\n",
            "======================================================================\n"
          ]
        }
      ],
      "source": [
        "# ============================================================================\n",
        "# MINI PROJECT: COMPREHENSIVE STUDENT GRADE MANAGER\n",
        "# ============================================================================\n",
        "print(\"\\n\" + \"=\"*70)\n",
        "print(\"MINI PROJECT: STUDENT GRADE MANAGER\")\n",
        "print(\"=\"*70)\n",
        "\n",
        "# Student Information (Tuple - Immutable)\n",
        "student = (\"Ananya Verma\", 105, \"Class 10-B\")\n",
        "print(f\"\\nStudent Name: {student[0]}\")\n",
        "print(f\"Roll Number: {student[1]}\")\n",
        "print(f\"Class: {student[2]}\")\n",
        "print(\"-\"*70)\n",
        "\n",
        "# Subject names (List)\n",
        "subjects_list = [\"Math\", \"Science\", \"English\", \"History\", \"Computer\"]\n",
        "\n",
        "# Student marks (List - Mutable)\n",
        "marks_list = [88, 92, 85, 90, 94]\n",
        "\n",
        "print(\"\\n ORIGINAL SUBJECT-WISE MARKS:\")\n",
        "print(f\"{subjects_list[0]}: {marks_list[0]}\")\n",
        "print(f\"{subjects_list[1]}: {marks_list[1]}\")\n",
        "print(f\"{subjects_list[2]}: {marks_list[2]}\")\n",
        "print(f\"{subjects_list[3]}: {marks_list[3]}\")\n",
        "print(f\"{subjects_list[4]}: {marks_list[4]}\")\n",
        "\n",
        "# Calculate totals using slicing\n",
        "total_marks = marks_list[0] + marks_list[1] + marks_list[2] + marks_list[3] + marks_list[4]\n",
        "average_marks = total_marks / 5\n",
        "percentage = average_marks\n",
        "\n",
        "print(\"-\"*70)\n",
        "print(f\"Total Marks: {total_marks} / 500\")\n",
        "print(f\"Average Marks: {average_marks:.2f}\")\n",
        "print(f\"Percentage: {percentage:.2f}%\")\n",
        "\n",
        "# Grade determination using if-elif-else\n",
        "print(\"-\"*70)\n",
        "if percentage >= 90:\n",
        "    grade = \"A+\"\n",
        "    remarks = \"Outstanding!\"\n",
        "elif percentage >= 80:\n",
        "    grade = \"A\"\n",
        "    remarks = \"Excellent!\"\n",
        "elif percentage >= 70:\n",
        "    grade = \"B\"\n",
        "    remarks = \"Good!\"\n",
        "elif percentage >= 60:\n",
        "    grade = \"C\"\n",
        "    remarks = \"Satisfactory\"\n",
        "else:\n",
        "    grade = \"D\"\n",
        "    remarks = \"Need Improvement\"\n",
        "\n",
        "print(f\"GRADE: {grade}\")\n",
        "print(f\"REMARKS: {remarks}\")\n",
        "\n",
        "# Find highest and lowest marks using list methods\n",
        "print(\"-\"*70)\n",
        "print(\"PERFORMANCE ANALYSIS:\")\n",
        "\n",
        "# Create a copy for sorting\n",
        "sorted_marks = [marks_list[0], marks_list[1], marks_list[2], marks_list[3], marks_list[4]]\n",
        "sorted_marks.sort()\n",
        "\n",
        "lowest_mark = sorted_marks[0]\n",
        "highest_mark = sorted_marks[-1]\n",
        "\n",
        "print(f\"Highest Marks: {highest_mark}\")\n",
        "print(f\"Lowest Marks: {lowest_mark}\")\n",
        "\n",
        "# Find which subject has highest and lowest\n",
        "if marks_list[0] == highest_mark:\n",
        "    best_subject = subjects_list[0]\n",
        "elif marks_list[1] == highest_mark:\n",
        "    best_subject = subjects_list[1]\n",
        "elif marks_list[2] == highest_mark:\n",
        "    best_subject = subjects_list[2]\n",
        "elif marks_list[3] == highest_mark:\n",
        "    best_subject = subjects_list[3]\n",
        "else:\n",
        "    best_subject = subjects_list[4]\n",
        "\n",
        "if marks_list[0] == lowest_mark:\n",
        "    weak_subject = subjects_list[0]\n",
        "elif marks_list[1] == lowest_mark:\n",
        "    weak_subject = subjects_list[1]\n",
        "elif marks_list[2] == lowest_mark:\n",
        "    weak_subject = subjects_list[2]\n",
        "elif marks_list[3] == lowest_mark:\n",
        "    weak_subject = subjects_list[3]\n",
        "else:\n",
        "    weak_subject = subjects_list[4]\n",
        "\n",
        "print(f\"Best Subject: {best_subject} ({highest_mark})\")\n",
        "print(f\"Needs Focus: {weak_subject} ({lowest_mark})\")\n",
        "\n",
        "# Check subject-wise excellence\n",
        "print(\"-\"*70)\n",
        "print(\"SUBJECT-WISE EXCELLENCE:\")\n",
        "\n",
        "if marks_list[0] >= 90:\n",
        "    print(f\"✓ {subjects_list[0]}: OUTSTANDING\")\n",
        "elif marks_list[0] >= 75:\n",
        "    print(f\"✓ {subjects_list[0]}: EXCELLENT\")\n",
        "else:\n",
        "    print(f\"• {subjects_list[0]}: GOOD\")\n",
        "\n",
        "if marks_list[1] >= 90:\n",
        "    print(f\"✓ {subjects_list[1]}: OUTSTANDING\")\n",
        "elif marks_list[1] >= 75:\n",
        "    print(f\"✓ {subjects_list[1]}: EXCELLENT\")\n",
        "else:\n",
        "    print(f\"• {subjects_list[1]}: GOOD\")\n",
        "\n",
        "if marks_list[2] >= 90:\n",
        "    print(f\"✓ {subjects_list[2]}: OUTSTANDING\")\n",
        "elif marks_list[2] >= 75:\n",
        "    print(f\"✓ {subjects_list[2]}: EXCELLENT\")\n",
        "else:\n",
        "    print(f\"• {subjects_list[2]}: GOOD\")\n",
        "\n",
        "# Count outstanding performances\n",
        "outstanding_count = 0\n",
        "if marks_list[0] >= 90:\n",
        "    outstanding_count = outstanding_count + 1\n",
        "if marks_list[1] >= 90:\n",
        "    outstanding_count = outstanding_count + 1\n",
        "if marks_list[2] >= 90:\n",
        "    outstanding_count = outstanding_count + 1\n",
        "if marks_list[3] >= 90:\n",
        "    outstanding_count = outstanding_count + 1\n",
        "if marks_list[4] >= 90:\n",
        "    outstanding_count = outstanding_count + 1\n",
        "\n",
        "print(\"-\"*70)\n",
        "print(f\" Outstanding Subjects Count: {outstanding_count}\")\n",
        "\n",
        "# Scholarship eligibility\n",
        "if percentage >= 85 and outstanding_count >= 2:\n",
        "    print(\"SCHOLARSHIP: ELIGIBLE\")\n",
        "    print(\"Congratulations! You qualify for Merit Scholarship!\")\n",
        "else:\n",
        "    print(\"SCHOLARSHIP: Keep working hard for next year!\")\n",
        "\n",
        "print(\"\\n\" + \"=\"*70)\n",
        "print(\"     END OF DAY 7 - LISTS & TUPLES MASTERY\")\n",
        "print(\"=\"*70)"
      ]
    },
    {
      "cell_type": "markdown",
      "metadata": {
        "id": "8lb_lBPG9SrM"
      },
      "source": [
        "\n",
        "DAY 8: LISTS vs TUPLES - UNDERSTANDING THE DIFFERENCE\n",
        "======================================================\n",
        "Real-World Scenarios and Technical Deep Dive\n"
      ]
    },
    {
      "cell_type": "code",
      "execution_count": null,
      "metadata": {
        "id": "_iMqqpWK9SrM",
        "outputId": "5988a60c-b605-4b31-b24b-57d0d3f80eca"
      },
      "outputs": [
        {
          "name": "stdout",
          "output_type": "stream",
          "text": [
            "================================================================================\n",
            "     DAY 8: LISTS vs TUPLES - WHEN TO USE WHAT?\n",
            "================================================================================\n",
            "\n",
            " SCENARIO 1: GROCERY SHOPPING\n",
            "--------------------------------------------------------------------------------\n",
            "\n",
            "YOU (Human): I'm going to the store. Let me write my shopping list:\n",
            "- Milk\n",
            "- Bread\n",
            "- Eggs\n",
            "- Rice\n",
            "- Oil\n",
            "\n",
            "Wait! I forgot to add \"Butter\". Let me add it to my list.\n",
            "Oh, I already have rice at home. Let me cross it out.\n",
            "Actually, let me rearrange - I'll pick dairy items first.\n",
            "\n",
            "MACHINE: This is a LIST! Your shopping list CHANGES - you add, remove, reorder.\n",
            "\n",
            "\n",
            "Initial Shopping List: ['Milk', 'Bread', 'Eggs', 'Rice', 'Oil']\n",
            "After adding Butter: ['Milk', 'Bread', 'Eggs', 'Rice', 'Oil', 'Butter']\n",
            "After removing Rice: ['Milk', 'Bread', 'Eggs', 'Oil', 'Butter']\n",
            "After sorting (organized): ['Bread', 'Butter', 'Eggs', 'Milk', 'Oil']\n",
            "\n",
            " USE LIST: When data CHANGES - add, remove, modify, reorder\n"
          ]
        }
      ],
      "source": [
        "print(\"=\"*80)\n",
        "print(\"     DAY 8: LISTS vs TUPLES - WHEN TO USE WHAT?\")\n",
        "print(\"=\"*80)\n",
        "\n",
        "# ============================================================================\n",
        "# REAL-WORLD SCENARIO 1: SHOPPING AT A GROCERY STORE\n",
        "# ============================================================================\n",
        "\n",
        "print(\"\\n SCENARIO 1: GROCERY SHOPPING\")\n",
        "print(\"-\"*80)\n",
        "print(\"\"\"\n",
        "YOU (Human): I'm going to the store. Let me write my shopping list:\n",
        "- Milk\n",
        "- Bread\n",
        "- Eggs\n",
        "- Rice\n",
        "- Oil\n",
        "\n",
        "Wait! I forgot to add \"Butter\". Let me add it to my list.\n",
        "Oh, I already have rice at home. Let me cross it out.\n",
        "Actually, let me rearrange - I'll pick dairy items first.\n",
        "\n",
        "MACHINE: This is a LIST! Your shopping list CHANGES - you add, remove, reorder.\n",
        "\"\"\")\n",
        "\n",
        "# Human behavior: Shopping list that changes\n",
        "shopping_list = [\"Milk\", \"Bread\", \"Eggs\", \"Rice\", \"Oil\"]\n",
        "print(f\"\\nInitial Shopping List: {shopping_list}\")\n",
        "\n",
        "# Adding forgotten item\n",
        "shopping_list.append(\"Butter\")\n",
        "print(f\"After adding Butter: {shopping_list}\")\n",
        "\n",
        "# Removing item (already have at home)\n",
        "shopping_list.remove(\"Rice\")\n",
        "print(f\"After removing Rice: {shopping_list}\")\n",
        "\n",
        "# Reordering items\n",
        "shopping_list.sort()\n",
        "print(f\"After sorting (organized): {shopping_list}\")\n",
        "\n",
        "print(\"\\n USE LIST: When data CHANGES - add, remove, modify, reorder\")\n"
      ]
    },
    {
      "cell_type": "code",
      "execution_count": null,
      "metadata": {
        "id": "SceOFUev9SrM",
        "outputId": "06a181cf-d376-462a-9e43-768bb888775c"
      },
      "outputs": [
        {
          "name": "stdout",
          "output_type": "stream",
          "text": [
            "\n",
            "================================================================================\n",
            " SCENARIO 2: YOUR IDENTITY CARD\n",
            "--------------------------------------------------------------------------------\n",
            "\n",
            "YOU (Human): My identity information:\n",
            "- Name: Rahul Sharma\n",
            "- Date of Birth: 15-08-2005\n",
            "- Aadhaar: 1234-5678-9012\n",
            "- Blood Group: O+\n",
            "\n",
            "Can I change my name on Aadhaar? NO (without official process)\n",
            "Can I change my date of birth? NO (it's permanent)\n",
            "Can I change my Aadhaar number? NO (it's fixed for life)\n",
            "Can I change my blood group? NO (biological fact)\n",
            "\n",
            "MACHINE: This is a TUPLE! Your identity is FIXED - cannot be changed easily.\n",
            "\n",
            "\n",
            "Identity Information: ('Rahul Sharma', '15-08-2005', '1234-5678-9012', 'O+')\n",
            "Name: Rahul Sharma\n",
            "Date of Birth: 15-08-2005\n",
            "Aadhaar Number: 1234-5678-9012\n",
            "Blood Group: O+\n",
            "\n",
            " Trying to change name: identity_info[0] = 'New Name'\n",
            "   ERROR! Tuples are IMMUTABLE - cannot be changed!\n",
            "\n",
            " USE TUPLE: When data is PERMANENT - identity, coordinates, dates\n"
          ]
        }
      ],
      "source": [
        "# ============================================================================\n",
        "# REAL-WORLD SCENARIO 2: YOUR IDENTITY CARD (AADHAAR/PAN)\n",
        "# ============================================================================\n",
        "\n",
        "print(\"\\n\" + \"=\"*80)\n",
        "print(\" SCENARIO 2: YOUR IDENTITY CARD\")\n",
        "print(\"-\"*80)\n",
        "\n",
        "print(\"\"\"\n",
        "YOU (Human): My identity information:\n",
        "- Name: Rahul Sharma\n",
        "- Date of Birth: 15-08-2005\n",
        "- Aadhaar: 1234-5678-9012\n",
        "- Blood Group: O+\n",
        "\n",
        "Can I change my name on Aadhaar? NO (without official process)\n",
        "Can I change my date of birth? NO (it's permanent)\n",
        "Can I change my Aadhaar number? NO (it's fixed for life)\n",
        "Can I change my blood group? NO (biological fact)\n",
        "\n",
        "MACHINE: This is a TUPLE! Your identity is FIXED - cannot be changed easily.\n",
        "\"\"\")\n",
        "\n",
        "# Machine behavior: Identity information that's fixed\n",
        "identity_info = (\"Rahul Sharma\", \"15-08-2005\", \"1234-5678-9012\", \"O+\")\n",
        "print(f\"\\nIdentity Information: {identity_info}\")\n",
        "print(f\"Name: {identity_info[0]}\")\n",
        "print(f\"Date of Birth: {identity_info[1]}\")\n",
        "print(f\"Aadhaar Number: {identity_info[2]}\")\n",
        "print(f\"Blood Group: {identity_info[3]}\")\n",
        "\n",
        "# Try to change (will show error in explanation)\n",
        "print(\"\\n Trying to change name: identity_info[0] = 'New Name'\")\n",
        "print(\"   ERROR! Tuples are IMMUTABLE - cannot be changed!\")\n",
        "\n",
        "print(\"\\n USE TUPLE: When data is PERMANENT - identity, coordinates, dates\")\n"
      ]
    },
    {
      "cell_type": "code",
      "execution_count": null,
      "metadata": {
        "id": "YHl5XEFf9SrM",
        "outputId": "d3666914-80b1-4aff-ef32-8f2e1dac3376"
      },
      "outputs": [
        {
          "name": "stdout",
          "output_type": "stream",
          "text": [
            "\n",
            "================================================================================\n",
            " SCENARIO 3: RESTAURANT - MENU vs ORDERS\n",
            "--------------------------------------------------------------------------------\n",
            "\n",
            "RESTAURANT OWNER: \n",
            "\n",
            "FIXED MENU ITEMS (don't change daily):\n",
            "- Item 1: Paneer Tikka - ₹250\n",
            "- Item 2: Dal Makhani - ₹180\n",
            "- Item 3: Naan - ₹40\n",
            "→ These are TUPLES (menu stays same)\n",
            "\n",
            "TODAY'S ORDERS (keep changing):\n",
            "- Order 1: Paneer Tikka\n",
            "- Order 2: Dal Makhani\n",
            "- New order comes: Naan\n",
            "- Order cancelled: Dal Makhani\n",
            "→ This is a LIST (orders keep changing)\n",
            "\n",
            "\n",
            "Menu Item 1: Paneer Tikka - ₹250\n",
            "Menu Item 2: Dal Makhani - ₹180\n",
            "Menu Item 3: Naan - ₹40\n",
            "\n",
            "Initial Orders: ['Paneer Tikka', 'Dal Makhani']\n",
            "New order added: ['Paneer Tikka', 'Dal Makhani', 'Naan']\n",
            "Order cancelled: ['Paneer Tikka', 'Naan']\n",
            "\n",
            " MENU = TUPLE (fixed), ORDERS = LIST (dynamic)\n"
          ]
        }
      ],
      "source": [
        "# ============================================================================\n",
        "# REAL-WORLD SCENARIO 3: RESTAURANT MENU vs DAILY ORDERS\n",
        "# ============================================================================\n",
        "print(\"\\n\" + \"=\"*80)\n",
        "print(\" SCENARIO 3: RESTAURANT - MENU vs ORDERS\")\n",
        "print(\"-\"*80)\n",
        "print(\"\"\"\n",
        "RESTAURANT OWNER:\n",
        "\n",
        "FIXED MENU ITEMS (don't change daily):\n",
        "- Item 1: Paneer Tikka - ₹250\n",
        "- Item 2: Dal Makhani - ₹180\n",
        "- Item 3: Naan - ₹40\n",
        "→ These are TUPLES (menu stays same)\n",
        "\n",
        "TODAY'S ORDERS (keep changing):\n",
        "- Order 1: Paneer Tikka\n",
        "- Order 2: Dal Makhani\n",
        "- New order comes: Naan\n",
        "- Order cancelled: Dal Makhani\n",
        "→ This is a LIST (orders keep changing)\n",
        "\"\"\")\n",
        "\n",
        "# Menu items (fixed prices)\n",
        "menu_item_1 = (\"Paneer Tikka\", 250)\n",
        "menu_item_2 = (\"Dal Makhani\", 180)\n",
        "menu_item_3 = (\"Naan\", 40)\n",
        "\n",
        "print(f\"\\nMenu Item 1: {menu_item_1[0]} - ₹{menu_item_1[1]}\")\n",
        "print(f\"Menu Item 2: {menu_item_2[0]} - ₹{menu_item_2[1]}\")\n",
        "print(f\"Menu Item 3: {menu_item_3[0]} - ₹{menu_item_3[1]}\")\n",
        "\n",
        "# Today's orders (keep changing)\n",
        "todays_orders = [\"Paneer Tikka\", \"Dal Makhani\"]\n",
        "print(f\"\\nInitial Orders: {todays_orders}\")\n",
        "\n",
        "todays_orders.append(\"Naan\")\n",
        "print(f\"New order added: {todays_orders}\")\n",
        "\n",
        "todays_orders.remove(\"Dal Makhani\")\n",
        "print(f\"Order cancelled: {todays_orders}\")\n",
        "\n",
        "print(\"\\n MENU = TUPLE (fixed), ORDERS = LIST (dynamic)\")\n"
      ]
    },
    {
      "cell_type": "code",
      "execution_count": null,
      "metadata": {
        "id": "Aq6Rjry29SrM",
        "outputId": "c948d0fa-cea5-4610-b8f4-68f6f0a46b1f"
      },
      "outputs": [
        {
          "name": "stdout",
          "output_type": "stream",
          "text": [
            "\n",
            "================================================================================\n",
            " CONCEPT 1: MUTABILITY - CAN DATA BE CHANGED?\n",
            "================================================================================\n",
            "\n",
            " LISTS are MUTABLE (Can be changed)\n",
            "--------------------------------------------------------------------------------\n",
            "Original List: [10, 20, 30, 40, 50]\n",
            "After changing index 0: [100, 20, 30, 40, 50]\n",
            "After appending 60: [100, 20, 30, 40, 50, 60]\n",
            "After removing 30: [100, 20, 40, 50, 60]\n",
            "\n",
            " Lists allow: modify, add, remove, sort, reverse\n",
            "\n",
            " TUPLES are IMMUTABLE (Cannot be changed)\n",
            "--------------------------------------------------------------------------------\n",
            "Original Tuple: (10, 20, 30, 40, 50)\n",
            "\n",
            "❌ CANNOT do these operations on tuples:\n",
            "   • immutable_tuple[0] = 100  → ERROR!\n",
            "   • immutable_tuple.append(60) → ERROR!\n",
            "   • immutable_tuple.remove(30) → ERROR!\n",
            "   • immutable_tuple.sort()     → ERROR!\n",
            "\n",
            " Tuples allow: access, slice, count, index ONLY\n",
            "\n",
            "Access element: 10\n",
            "Slice tuple: (20, 30, 40)\n",
            "Count occurrences: 1\n",
            "Find index: 2\n",
            "\n",
            "================================================================================\n",
            " CONCEPT 2: SYNTAX - HOW TO CREATE THEM?\n",
            "================================================================================\n",
            "\n",
            " LISTS use SQUARE BRACKETS [ ]\n",
            "--------------------------------------------------------------------------------\n",
            "Number list: [1, 2, 3, 4, 5]\n",
            "String list: ['apple', 'banana', 'cherry']\n",
            "Mixed list: [10, 'hello', 3.14, True]\n",
            "Empty list: []\n",
            "Type: <class 'list'>\n",
            "\n",
            " TUPLES use PARENTHESES ( )\n",
            "--------------------------------------------------------------------------------\n",
            "Number tuple: (1, 2, 3, 4, 5)\n",
            "String tuple: ('apple', 'banana', 'cherry')\n",
            "Mixed tuple: (10, 'hello', 3.14, True)\n",
            "Empty tuple: ()\n",
            "Type: <class 'tuple'>\n",
            "\n",
            " SPECIAL: Tuple without parentheses!\n",
            "--------------------------------------------------------------------------------\n",
            "Tuple without (): (1, 2, 3, 4, 5)\n",
            "Type: <class 'tuple'>\n",
            "\n",
            "Single element tuple: (10,)\n",
            "Type: <class 'tuple'>\n",
            "\n",
            "⚠️ IMPORTANT: Single element tuple needs a comma!\n",
            "(10) is type: <class 'int'>\n",
            "(10,) is type: <class 'tuple'>\n"
          ]
        }
      ],
      "source": [
        "# ============================================================================\n",
        "# TECHNICAL CONCEPT 1: MUTABILITY\n",
        "# ============================================================================\n",
        "print(\"\\n\" + \"=\"*80)\n",
        "print(\" CONCEPT 1: MUTABILITY - CAN DATA BE CHANGED?\")\n",
        "print(\"=\"*80)\n",
        "\n",
        "print(\"\\n LISTS are MUTABLE (Can be changed)\")\n",
        "print(\"-\"*80)\n",
        "mutable_list = [10, 20, 30, 40, 50]\n",
        "print(f\"Original List: {mutable_list}\")\n",
        "\n",
        "# We CAN change list elements\n",
        "mutable_list[0] = 100\n",
        "print(f\"After changing index 0: {mutable_list}\")\n",
        "\n",
        "mutable_list.append(60)\n",
        "print(f\"After appending 60: {mutable_list}\")\n",
        "\n",
        "mutable_list.remove(30)\n",
        "print(f\"After removing 30: {mutable_list}\")\n",
        "\n",
        "print(\"\\n Lists allow: modify, add, remove, sort, reverse\")\n",
        "\n",
        "print(\"\\n TUPLES are IMMUTABLE (Cannot be changed)\")\n",
        "print(\"-\"*80)\n",
        "immutable_tuple = (10, 20, 30, 40, 50)\n",
        "print(f\"Original Tuple: {immutable_tuple}\")\n",
        "\n",
        "print(\"\\n❌ CANNOT do these operations on tuples:\")\n",
        "print(\"   • immutable_tuple[0] = 100  → ERROR!\")\n",
        "print(\"   • immutable_tuple.append(60) → ERROR!\")\n",
        "print(\"   • immutable_tuple.remove(30) → ERROR!\")\n",
        "print(\"   • immutable_tuple.sort()     → ERROR!\")\n",
        "\n",
        "print(\"\\n Tuples allow: access, slice, count, index ONLY\")\n",
        "\n",
        "# What you CAN do with tuples\n",
        "print(f\"\\nAccess element: {immutable_tuple[0]}\")\n",
        "print(f\"Slice tuple: {immutable_tuple[1:4]}\")\n",
        "print(f\"Count occurrences: {immutable_tuple.count(20)}\")\n",
        "print(f\"Find index: {immutable_tuple.index(30)}\")\n",
        "\n",
        "# ============================================================================\n",
        "# TECHNICAL CONCEPT 2: SYNTAX\n",
        "# ============================================================================\n",
        "print(\"\\n\" + \"=\"*80)\n",
        "print(\" CONCEPT 2: SYNTAX - HOW TO CREATE THEM?\")\n",
        "print(\"=\"*80)\n",
        "\n",
        "print(\"\\n LISTS use SQUARE BRACKETS [ ]\")\n",
        "print(\"-\"*80)\n",
        "list_example1 = [1, 2, 3, 4, 5]\n",
        "list_example2 = [\"apple\", \"banana\", \"cherry\"]\n",
        "list_example3 = [10, \"hello\", 3.14, True]\n",
        "empty_list = []\n",
        "\n",
        "print(f\"Number list: {list_example1}\")\n",
        "print(f\"String list: {list_example2}\")\n",
        "print(f\"Mixed list: {list_example3}\")\n",
        "print(f\"Empty list: {empty_list}\")\n",
        "print(f\"Type: {type(list_example1)}\")\n",
        "\n",
        "print(\"\\n TUPLES use PARENTHESES ( )\")\n",
        "print(\"-\"*80)\n",
        "tuple_example1 = (1, 2, 3, 4, 5)\n",
        "tuple_example2 = (\"apple\", \"banana\", \"cherry\")\n",
        "tuple_example3 = (10, \"hello\", 3.14, True)\n",
        "empty_tuple = ()\n",
        "\n",
        "print(f\"Number tuple: {tuple_example1}\")\n",
        "print(f\"String tuple: {tuple_example2}\")\n",
        "print(f\"Mixed tuple: {tuple_example3}\")\n",
        "print(f\"Empty tuple: {empty_tuple}\")\n",
        "print(f\"Type: {type(tuple_example1)}\")\n",
        "\n",
        "print(\"\\n SPECIAL: Tuple without parentheses!\")\n",
        "print(\"-\"*80)\n",
        "tuple_without_brackets = 1, 2, 3, 4, 5\n",
        "print(f\"Tuple without (): {tuple_without_brackets}\")\n",
        "print(f\"Type: {type(tuple_without_brackets)}\")\n",
        "\n",
        "single_value = 10,\n",
        "print(f\"\\nSingle element tuple: {single_value}\")\n",
        "print(f\"Type: {type(single_value)}\")\n",
        "\n",
        "print(\"\\n⚠️ IMPORTANT: Single element tuple needs a comma!\")\n",
        "not_a_tuple = (10)  # This is just a number\n",
        "actual_tuple = (10,)  # This is a tuple\n",
        "\n",
        "print(f\"(10) is type: {type(not_a_tuple)}\")\n",
        "print(f\"(10,) is type: {type(actual_tuple)}\")"
      ]
    },
    {
      "cell_type": "code",
      "execution_count": null,
      "metadata": {
        "id": "-23wZgoh9SrN",
        "outputId": "c2045141-c31c-4b26-8670-4d4fd2284250"
      },
      "outputs": [
        {
          "name": "stdout",
          "output_type": "stream",
          "text": [
            "\n",
            "================================================================================\n",
            " CONCEPT 3: MEMORY USAGE - WHICH USES LESS SPACE?\n",
            "================================================================================\n",
            "\n",
            "List [1,2,3...10] uses: 152 bytes\n",
            "Tuple (1,2,3...10) uses: 120 bytes\n",
            "Difference: 32 bytes\n",
            "\n",
            " WHY?\n",
            "--------------------------------------------------------------------------------\n",
            "\n",
            "LISTS need extra space for:\n",
            "✗ Tracking changes (mutations)\n",
            "✗ Space for adding new elements\n",
            "✗ Managing dynamic size\n",
            "→ Uses MORE memory\n",
            "\n",
            "TUPLES are:\n",
            "✓ Fixed size (cannot change)\n",
            "✓ Optimized storage\n",
            "✓ No mutation tracking needed\n",
            "→ Uses LESS memory\n",
            "\n",
            " For large datasets with fixed data, tuples save memory!\n",
            "\n",
            "================================================================================\n",
            "📚 CONCEPT 4: USE CASES - WHEN TO USE WHAT?\n",
            "================================================================================\n",
            "\n",
            " USE LISTS WHEN:\n",
            "--------------------------------------------------------------------------------\n",
            "✓ Data needs to CHANGE (add, remove, modify)\n",
            "✓ Shopping lists, to-do lists, task queues\n",
            "✓ Collecting user inputs\n",
            "✓ Storing game scores that update\n",
            "✓ Managing inventory that changes\n",
            "\n",
            "EXAMPLE 1: Student attendance (changes daily)\n",
            "Present: ['Rahul', 'Priya', 'Arjun']\n",
            "Updated: ['Rahul', 'Priya', 'Arjun', 'Ananya']\n",
            "\n",
            "EXAMPLE 2: Shopping cart (items added/removed)\n",
            "Cart: ['Laptop', 'Mouse']\n",
            "Final Cart: ['Laptop', 'Keyboard', 'Monitor']\n",
            "\n",
            " USE TUPLES WHEN:\n",
            "--------------------------------------------------------------------------------\n",
            "✓ Data should NEVER change (permanent)\n",
            "✓ Coordinates (latitude, longitude)\n",
            "✓ RGB colors (255, 0, 0)\n",
            "✓ Date of birth, ID numbers\n",
            "✓ Database records (read-only)\n",
            "✓ Function return multiple values\n"
          ]
        }
      ],
      "source": [
        "# ============================================================================\n",
        "# TECHNICAL CONCEPT 3: MEMORY USAGE\n",
        "# ============================================================================\n",
        "print(\"\\n\" + \"=\"*80)\n",
        "print(\" CONCEPT 3: MEMORY USAGE - WHICH USES LESS SPACE?\")\n",
        "print(\"=\"*80)\n",
        "\n",
        "import sys\n",
        "\n",
        "same_data_list = [1, 2, 3, 4, 5, 6, 7, 8, 9, 10]\n",
        "same_data_tuple = (1, 2, 3, 4, 5, 6, 7, 8, 9, 10)\n",
        "\n",
        "list_size = sys.getsizeof(same_data_list)\n",
        "tuple_size = sys.getsizeof(same_data_tuple)\n",
        "\n",
        "print(f\"\\nList [1,2,3...10] uses: {list_size} bytes\")\n",
        "print(f\"Tuple (1,2,3...10) uses: {tuple_size} bytes\")\n",
        "print(f\"Difference: {list_size - tuple_size} bytes\")\n",
        "\n",
        "print(\"\\n WHY?\")\n",
        "print(\"-\"*80)\n",
        "print(\"\"\"\n",
        "LISTS need extra space for:\n",
        "✗ Tracking changes (mutations)\n",
        "✗ Space for adding new elements\n",
        "✗ Managing dynamic size\n",
        "→ Uses MORE memory\n",
        "\n",
        "TUPLES are:\n",
        "✓ Fixed size (cannot change)\n",
        "✓ Optimized storage\n",
        "✓ No mutation tracking needed\n",
        "→ Uses LESS memory\n",
        "\"\"\")\n",
        "\n",
        "print(\" For large datasets with fixed data, tuples save memory!\")\n",
        "\n",
        "# ============================================================================\n",
        "# TECHNICAL CONCEPT 4: USE CASES\n",
        "# ============================================================================\n",
        "print(\"\\n\" + \"=\"*80)\n",
        "print(\"📚 CONCEPT 4: USE CASES - WHEN TO USE WHAT?\")\n",
        "print(\"=\"*80)\n",
        "\n",
        "print(\"\\n USE LISTS WHEN:\")\n",
        "print(\"-\"*80)\n",
        "print(\"✓ Data needs to CHANGE (add, remove, modify)\")\n",
        "print(\"✓ Shopping lists, to-do lists, task queues\")\n",
        "print(\"✓ Collecting user inputs\")\n",
        "print(\"✓ Storing game scores that update\")\n",
        "print(\"✓ Managing inventory that changes\")\n",
        "\n",
        "print(\"\\nEXAMPLE 1: Student attendance (changes daily)\")\n",
        "attendance_today = [\"Rahul\", \"Priya\", \"Arjun\"]\n",
        "print(f\"Present: {attendance_today}\")\n",
        "attendance_today.append(\"Ananya\")  # New student joined\n",
        "print(f\"Updated: {attendance_today}\")\n",
        "\n",
        "print(\"\\nEXAMPLE 2: Shopping cart (items added/removed)\")\n",
        "cart = [\"Laptop\", \"Mouse\"]\n",
        "print(f\"Cart: {cart}\")\n",
        "cart.append(\"Keyboard\")\n",
        "cart.append(\"Monitor\")\n",
        "cart.remove(\"Mouse\")  # Changed mind\n",
        "print(f\"Final Cart: {cart}\")\n",
        "\n",
        "print(\"\\n USE TUPLES WHEN:\")\n",
        "print(\"-\"*80)\n",
        "print(\"✓ Data should NEVER change (permanent)\")\n",
        "print(\"✓ Coordinates (latitude, longitude)\")\n",
        "print(\"✓ RGB colors (255, 0, 0)\")\n",
        "print(\"✓ Date of birth, ID numbers\")\n",
        "print(\"✓ Database records (read-only)\")\n",
        "print(\"✓ Function return multiple values\")"
      ]
    },
    {
      "cell_type": "code",
      "execution_count": null,
      "metadata": {
        "id": "7ZYLXfnd9SrN",
        "outputId": "8eecd277-77b5-43ef-b93c-a1d50944cd13"
      },
      "outputs": [
        {
          "name": "stdout",
          "output_type": "stream",
          "text": [
            "\n",
            "EXAMPLE 1: Location coordinates (never change)\n",
            "Mumbai coordinates: (19.076, 72.8777)\n",
            "Latitude: 19.076, Longitude: 72.8777\n",
            "\n",
            "EXAMPLE 2: RGB color codes (fixed)\n",
            "Red: (255, 0, 0), Green: (0, 255, 0), Blue: (0, 0, 255)\n",
            "\n",
            "EXAMPLE 3: Student permanent record\n",
            "Student Record: ('Rahul Sharma', 101, '15-08-2005', 'O+')\n",
            "(Name, Roll, DOB, Blood Group - Cannot be changed)\n"
          ]
        }
      ],
      "source": [
        "print(\"\\nEXAMPLE 1: Location coordinates (never change)\")\n",
        "mumbai_coords = (19.0760, 72.8777)\n",
        "print(f\"Mumbai coordinates: {mumbai_coords}\")\n",
        "print(f\"Latitude: {mumbai_coords[0]}, Longitude: {mumbai_coords[1]}\")\n",
        "\n",
        "print(\"\\nEXAMPLE 2: RGB color codes (fixed)\")\n",
        "red_color = (255, 0, 0)\n",
        "green_color = (0, 255, 0)\n",
        "blue_color = (0, 0, 255)\n",
        "print(f\"Red: {red_color}, Green: {green_color}, Blue: {blue_color}\")\n",
        "\n",
        "print(\"\\nEXAMPLE 3: Student permanent record\")\n",
        "student_record = (\"Rahul Sharma\", 101, \"15-08-2005\", \"O+\")\n",
        "print(f\"Student Record: {student_record}\")\n",
        "print(\"(Name, Roll, DOB, Blood Group - Cannot be changed)\")"
      ]
    },
    {
      "cell_type": "code",
      "execution_count": null,
      "metadata": {
        "id": "iWN18yq29SrN",
        "outputId": "6f50581b-b550-4d31-e2f3-a3908c17d1bf"
      },
      "outputs": [
        {
          "name": "stdout",
          "output_type": "stream",
          "text": [
            "\n",
            "================================================================================\n",
            "📚 CONCEPT 5: AVAILABLE METHODS\n",
            "================================================================================\n",
            "\n",
            "📋 LIST METHODS (11 methods)\n",
            "--------------------------------------------------------------------------------\n",
            "Demo List: [3, 1, 4, 1, 5, 9, 2, 6]\n",
            "\n",
            "1️⃣ append() - Add element at end\n",
            "   After append(7): [3, 1, 4, 1, 5, 9, 2, 6, 7]\n",
            "\n",
            "2️⃣ insert() - Add element at specific position\n",
            "   After insert(0, 0): [0, 3, 1, 4, 1, 5, 9, 2, 6, 7]\n",
            "\n",
            "3️⃣ extend() - Add multiple elements\n",
            "   After extend([8,9]): [0, 3, 1, 4, 1, 5, 9, 2, 6, 7, 8, 9]\n",
            "\n",
            "4️⃣ remove() - Remove first occurrence\n",
            "   After remove(1): [0, 3, 4, 1, 5, 9, 2, 6, 7, 8, 9]\n",
            "\n",
            "5️⃣ pop() - Remove and return last element\n",
            "   After pop(): [0, 3, 4, 1, 5, 9, 2, 6, 7, 8], Removed: 9\n",
            "\n",
            "6️⃣ clear() - Remove all elements\n",
            "   Before clear(): [1, 2, 3]\n",
            "   After clear(): []\n"
          ]
        }
      ],
      "source": [
        "# ============================================================================\n",
        "# TECHNICAL CONCEPT 5: METHODS COMPARISON\n",
        "# ============================================================================\n",
        "print(\"\\n\" + \"=\"*80)\n",
        "print(\"📚 CONCEPT 5: AVAILABLE METHODS\")\n",
        "print(\"=\"*80)\n",
        "\n",
        "print(\"\\n📋 LIST METHODS (11 methods)\")\n",
        "print(\"-\"*80)\n",
        "\n",
        "demo_list = [3, 1, 4, 1, 5, 9, 2, 6]\n",
        "print(f\"Demo List: {demo_list}\")\n",
        "\n",
        "print(\"\\n1️⃣ append() - Add element at end\")\n",
        "demo_list.append(7)\n",
        "print(f\"   After append(7): {demo_list}\")\n",
        "\n",
        "print(\"\\n2️⃣ insert() - Add element at specific position\")\n",
        "demo_list.insert(0, 0)\n",
        "print(f\"   After insert(0, 0): {demo_list}\")\n",
        "\n",
        "print(\"\\n3️⃣ extend() - Add multiple elements\")\n",
        "demo_list.extend([8, 9])\n",
        "print(f\"   After extend([8,9]): {demo_list}\")\n",
        "\n",
        "print(\"\\n4️⃣ remove() - Remove first occurrence\")\n",
        "demo_list.remove(1)\n",
        "print(f\"   After remove(1): {demo_list}\")\n",
        "\n",
        "print(\"\\n5️⃣ pop() - Remove and return last element\")\n",
        "removed = demo_list.pop()\n",
        "print(f\"   After pop(): {demo_list}, Removed: {removed}\")\n",
        "\n",
        "print(\"\\n6️⃣ clear() - Remove all elements\")\n",
        "temp_list = [1, 2, 3]\n",
        "print(f\"   Before clear(): {temp_list}\")\n",
        "temp_list.clear()\n",
        "print(f\"   After clear(): {temp_list}\")"
      ]
    },
    {
      "cell_type": "code",
      "execution_count": null,
      "metadata": {
        "id": "pkTGrgv69SrN",
        "outputId": "9ac41dd5-2ed3-49f2-d7db-21b08e91f7a8"
      },
      "outputs": [
        {
          "name": "stdout",
          "output_type": "stream",
          "text": [
            "\n",
            "7️⃣ index() - Find position of element\n",
            "   Position of 5: 4\n",
            "\n",
            "8️⃣ count() - Count occurrences\n",
            "   Count of 1: 2\n",
            "\n",
            "9️⃣ sort() - Sort in ascending order\n",
            "   After sort(): [1, 1, 2, 3, 4, 5, 6, 9]\n",
            "\n",
            "🔟 reverse() - Reverse order\n",
            "   After reverse(): [9, 6, 5, 4, 3, 2, 1, 1]\n",
            "\n",
            "1️⃣1️⃣ copy() - Create a copy\n",
            "   Copied list: [9, 6, 5, 4, 3, 2, 1, 1]\n"
          ]
        }
      ],
      "source": [
        "demo_list = [3, 1, 4, 1, 5, 9, 2, 6]  # Reset\n",
        "\n",
        "print(\"\\n7️⃣ index() - Find position of element\")\n",
        "position = demo_list.index(5)\n",
        "print(f\"   Position of 5: {position}\")\n",
        "\n",
        "print(\"\\n8️⃣ count() - Count occurrences\")\n",
        "count_1 = demo_list.count(1)\n",
        "print(f\"   Count of 1: {count_1}\")\n",
        "\n",
        "print(\"\\n9️⃣ sort() - Sort in ascending order\")\n",
        "demo_list.sort()\n",
        "print(f\"   After sort(): {demo_list}\")\n",
        "\n",
        "print(\"\\n🔟 reverse() - Reverse order\")\n",
        "demo_list.reverse()\n",
        "print(f\"   After reverse(): {demo_list}\")\n",
        "\n",
        "print(\"\\n1️⃣1️⃣ copy() - Create a copy\")\n",
        "copied = demo_list.copy()\n",
        "print(f\"   Copied list: {copied}\")"
      ]
    },
    {
      "cell_type": "code",
      "execution_count": null,
      "metadata": {
        "id": "bssPUHYh9SrN",
        "outputId": "8a6410aa-3fc0-4c9c-afc8-bb4fd61dc177"
      },
      "outputs": [
        {
          "name": "stdout",
          "output_type": "stream",
          "text": [
            "\n",
            "📋 TUPLE METHODS (Only 2 methods!)\n",
            "--------------------------------------------------------------------------------\n",
            "Demo Tuple: (3, 1, 4, 1, 5, 9, 2, 6, 1)\n",
            "\n",
            "1️⃣ index() - Find position of element\n",
            "   Position of 5: 4\n",
            "\n",
            "2️⃣ count() - Count occurrences\n",
            "   Count of 1: 3\n",
            "\n",
            "⚠️ WHY ONLY 2 METHODS?\n",
            "   Because tuples are IMMUTABLE - cannot add, remove, or modify!\n"
          ]
        }
      ],
      "source": [
        "print(\"\\n📋 TUPLE METHODS (Only 2 methods!)\")\n",
        "print(\"-\"*80)\n",
        "\n",
        "demo_tuple = (3, 1, 4, 1, 5, 9, 2, 6, 1)\n",
        "print(f\"Demo Tuple: {demo_tuple}\")\n",
        "\n",
        "print(\"\\n1️⃣ index() - Find position of element\")\n",
        "position = demo_tuple.index(5)\n",
        "print(f\"   Position of 5: {position}\")\n",
        "\n",
        "print(\"\\n2️⃣ count() - Count occurrences\")\n",
        "count_1 = demo_tuple.count(1)\n",
        "print(f\"   Count of 1: {count_1}\")\n",
        "\n",
        "print(\"\\n⚠️ WHY ONLY 2 METHODS?\")\n",
        "print(\"   Because tuples are IMMUTABLE - cannot add, remove, or modify!\")"
      ]
    },
    {
      "cell_type": "code",
      "execution_count": null,
      "metadata": {
        "id": "vgZ61Z6G9SrN",
        "outputId": "048ec350-67d9-4bf3-eb5c-2e27d9a7094a"
      },
      "outputs": [
        {
          "name": "stdout",
          "output_type": "stream",
          "text": [
            "\n",
            "================================================================================\n",
            " QUICK COMPARISON TABLE\n",
            "================================================================================\n",
            "\n",
            "╔═══════════════════╦═══════════════════════╦═══════════════════════╗\n",
            "║    FEATURE        ║        LIST           ║       TUPLE           ║\n",
            "╠═══════════════════╬═══════════════════════╬═══════════════════════╣\n",
            "║ Syntax            ║ [ ]                   ║ ( ) or just comma     ║\n",
            "║ Mutable           ║ Yes (can change)      ║ No (cannot change)    ║\n",
            "║ Add items         ║ ✓ Yes                 ║ ✗ No                  ║\n",
            "║ Remove items      ║ ✓ Yes                 ║ ✗ No                  ║\n",
            "║ Modify items      ║ ✓ Yes                 ║ ✗ No                  ║\n",
            "║ Memory usage      ║ More                  ║ Less                  ║\n",
            "║ Speed             ║ Slower                ║ Faster                ║\n",
            "║ Methods           ║ 11 methods            ║ 2 methods             ║\n",
            "║ Use case          ║ Dynamic data          ║ Fixed data            ║\n",
            "║ Example           ║ Shopping list         ║ Date of birth         ║\n",
            "╚═══════════════════╩═══════════════════════╩═══════════════════════╝\n",
            "\n"
          ]
        }
      ],
      "source": [
        "# ============================================================================\n",
        "# COMPARISON TABLE\n",
        "# ============================================================================\n",
        "print(\"\\n\" + \"=\"*80)\n",
        "print(\" QUICK COMPARISON TABLE\")\n",
        "print(\"=\"*80)\n",
        "\n",
        "comparison = \"\"\"\n",
        "╔═══════════════════╦═══════════════════════╦═══════════════════════╗\n",
        "║    FEATURE        ║        LIST           ║       TUPLE           ║\n",
        "╠═══════════════════╬═══════════════════════╬═══════════════════════╣\n",
        "║ Syntax            ║ [ ]                   ║ ( ) or just comma     ║\n",
        "║ Mutable           ║ Yes (can change)      ║ No (cannot change)    ║\n",
        "║ Add items         ║ ✓ Yes                 ║ ✗ No                  ║\n",
        "║ Remove items      ║ ✓ Yes                 ║ ✗ No                  ║\n",
        "║ Modify items      ║ ✓ Yes                 ║ ✗ No                  ║\n",
        "║ Memory usage      ║ More                  ║ Less                  ║\n",
        "║ Speed             ║ Slower                ║ Faster                ║\n",
        "║ Methods           ║ 11 methods            ║ 2 methods             ║\n",
        "║ Use case          ║ Dynamic data          ║ Fixed data            ║\n",
        "║ Example           ║ Shopping list         ║ Date of birth         ║\n",
        "╚═══════════════════╩═══════════════════════╩═══════════════════════╝\n",
        "\"\"\"\n",
        "print(comparison)"
      ]
    },
    {
      "cell_type": "code",
      "execution_count": null,
      "metadata": {
        "id": "L5i8zccZ9SrN",
        "outputId": "792f6470-4160-4373-f402-ad8442321321"
      },
      "outputs": [
        {
          "name": "stdout",
          "output_type": "stream",
          "text": [
            "\n",
            "================================================================================\n",
            "      MINI PROJECT: SMART STUDENT MANAGEMENT\n",
            "================================================================================\n",
            "\n",
            " USING LISTS AND TUPLES TOGETHER\n",
            "--------------------------------------------------------------------------------\n",
            "PERMANENT STUDENT RECORDS (Tuples):\n",
            "Student 1: ('Rahul Sharma', 101, '15-08-2005')\n",
            "Student 2: ('Priya Patel', 102, '22-05-2005')\n",
            "Student 3: ('Arjun Kumar', 103, '10-11-2005')\n",
            "\n",
            "EXAM MARKS (Lists - change with each exam):\n",
            "Rahul's marks: [85, 90, 88]\n",
            "Priya's marks: [92, 88, 95]\n",
            "Arjun's marks: [78, 82, 80]\n",
            "\n",
            " New exam completed! Adding marks...\n",
            "Rahul's updated marks: [85, 90, 88, 87]\n",
            "Priya's updated marks: [92, 88, 95, 90]\n",
            "Arjun's updated marks: [78, 82, 80, 85]\n",
            "\n",
            " PERFORMANCE ANALYSIS:\n",
            "Rahul Sharma (Roll 101): Average = 87.50%\n",
            "Priya Patel (Roll 102): Average = 91.25%\n",
            "Arjun Kumar (Roll 103): Average = 81.25%\n",
            "\n",
            " FINDING TOPPER...\n",
            " TOPPER: Priya Patel with 91.25% average!\n",
            "\n",
            "================================================================================\n",
            " KEY TAKEAWAYS\n",
            "================================================================================\n",
            "\n",
            "1.  LISTS = Mutable (changeable)\n",
            "   → Use for: shopping lists, tasks, scores, anything that updates\n",
            "   \n",
            "2.  TUPLES = Immutable (fixed)\n",
            "   → Use for: coordinates, IDs, dates, permanent data\n",
            "   \n",
            "3.  LISTS have many methods (append, remove, sort, etc.)\n",
            "   \n",
            "4.  TUPLES have only 2 methods (count, index)\n",
            "   \n",
            "5.  TUPLES use less memory than lists\n",
            "   \n",
            "6. ⚡ TUPLES are faster than lists\n",
            "   \n",
            "7.  CHOOSE based on whether data will change or stay fixed\n",
            "\n",
            "REMEMBER:\n",
            "□ Shopping list → LIST (changes)\n",
            "■ Birth date → TUPLE (permanent)\n",
            "\n",
            "\n",
            "================================================================================\n",
            "     END OF DAY 8 - LISTS vs TUPLES MASTERY\n",
            "================================================================================\n"
          ]
        }
      ],
      "source": [
        "# ============================================================================\n",
        "# MINI PROJECT: STUDENT MANAGEMENT SYSTEM\n",
        "# ============================================================================\n",
        "print(\"\\n\" + \"=\"*80)\n",
        "print(\"      MINI PROJECT: SMART STUDENT MANAGEMENT\")\n",
        "print(\"=\"*80)\n",
        "\n",
        "print(\"\\n USING LISTS AND TUPLES TOGETHER\")\n",
        "print(\"-\"*80)\n",
        "\n",
        "# Fixed student information (TUPLE - cannot change)\n",
        "student1 = (\"Rahul Sharma\", 101, \"15-08-2005\")\n",
        "student2 = (\"Priya Patel\", 102, \"22-05-2005\")\n",
        "student3 = (\"Arjun Kumar\", 103, \"10-11-2005\")\n",
        "\n",
        "print(\"PERMANENT STUDENT RECORDS (Tuples):\")\n",
        "print(f\"Student 1: {student1}\")\n",
        "print(f\"Student 2: {student2}\")\n",
        "print(f\"Student 3: {student3}\")\n",
        "\n",
        "# Dynamic marks (LIST - changes every exam)\n",
        "rahul_marks = [85, 90, 88]\n",
        "priya_marks = [92, 88, 95]\n",
        "arjun_marks = [78, 82, 80]\n",
        "\n",
        "print(\"\\nEXAM MARKS (Lists - change with each exam):\")\n",
        "print(f\"Rahul's marks: {rahul_marks}\")\n",
        "print(f\"Priya's marks: {priya_marks}\")\n",
        "print(f\"Arjun's marks: {arjun_marks}\")\n",
        "\n",
        "# Add new exam marks\n",
        "print(\"\\n New exam completed! Adding marks...\")\n",
        "rahul_marks.append(87)\n",
        "priya_marks.append(90)\n",
        "arjun_marks.append(85)\n",
        "\n",
        "print(f\"Rahul's updated marks: {rahul_marks}\")\n",
        "print(f\"Priya's updated marks: {priya_marks}\")\n",
        "print(f\"Arjun's updated marks: {arjun_marks}\")\n",
        "\n",
        "# Calculate averages\n",
        "rahul_avg = sum(rahul_marks) / len(rahul_marks)\n",
        "priya_avg = sum(priya_marks) / len(priya_marks)\n",
        "arjun_avg = sum(arjun_marks) / len(arjun_marks)\n",
        "\n",
        "print(\"\\n PERFORMANCE ANALYSIS:\")\n",
        "print(f\"{student1[0]} (Roll {student1[1]}): Average = {rahul_avg:.2f}%\")\n",
        "print(f\"{student2[0]} (Roll {student2[1]}): Average = {priya_avg:.2f}%\")\n",
        "print(f\"{student3[0]} (Roll {student3[1]}): Average = {arjun_avg:.2f}%\")\n",
        "\n",
        "# Find topper using if-elif-else\n",
        "print(\"\\n FINDING TOPPER...\")\n",
        "if rahul_avg > priya_avg and rahul_avg > arjun_avg:\n",
        "    topper = student1[0]\n",
        "    topper_avg = rahul_avg\n",
        "elif priya_avg > rahul_avg and priya_avg > arjun_avg:\n",
        "    topper = student2[0]\n",
        "    topper_avg = priya_avg\n",
        "else:\n",
        "    topper = student3[0]\n",
        "    topper_avg = arjun_avg\n",
        "\n",
        "print(f\" TOPPER: {topper} with {topper_avg:.2f}% average!\")\n",
        "\n",
        "# ============================================================================\n",
        "# KEY TAKEAWAYS\n",
        "# ============================================================================\n",
        "print(\"\\n\" + \"=\"*80)\n",
        "print(\" KEY TAKEAWAYS\")\n",
        "print(\"=\"*80)\n",
        "\n",
        "takeaways = \"\"\"\n",
        "1.  LISTS = Mutable (changeable)\n",
        "   → Use for: shopping lists, tasks, scores, anything that updates\n",
        "\n",
        "2.  TUPLES = Immutable (fixed)\n",
        "   → Use for: coordinates, IDs, dates, permanent data\n",
        "\n",
        "3.  LISTS have many methods (append, remove, sort, etc.)\n",
        "\n",
        "4.  TUPLES have only 2 methods (count, index)\n",
        "\n",
        "5.  TUPLES use less memory than lists\n",
        "\n",
        "6. ⚡ TUPLES are faster than lists\n",
        "\n",
        "7.  CHOOSE based on whether data will change or stay fixed\n",
        "\n",
        "REMEMBER:\n",
        "□ Shopping list → LIST (changes)\n",
        "■ Birth date → TUPLE (permanent)\n",
        "\"\"\"\n",
        "print(takeaways)\n",
        "\n",
        "print(\"\\n\" + \"=\"*80)\n",
        "print(\"     END OF DAY 8 - LISTS vs TUPLES MASTERY\")\n",
        "print(\"=\"*80)"
      ]
    },
    {
      "cell_type": "markdown",
      "metadata": {
        "id": "opAVK5xI9SrN"
      },
      "source": [
        "DAY 8: LISTS vs TUPLES - INTERVIEW QUESTIONS & ANSWERS\n",
        "=======================================================\n",
        "10 Most Common Interview Questions with Detailed Explanations"
      ]
    },
    {
      "cell_type": "code",
      "execution_count": null,
      "metadata": {
        "id": "VvTv6DOu9SrN",
        "outputId": "20e13ecc-121e-48ca-e059-b15aee603b8b"
      },
      "outputs": [
        {
          "name": "stdout",
          "output_type": "stream",
          "text": [
            "================================================================================\n",
            "     LISTS vs TUPLES - TOP 10 INTERVIEW QUESTIONS\n",
            "================================================================================\n"
          ]
        }
      ],
      "source": [
        "print(\"=\"*80)\n",
        "print(\"     LISTS vs TUPLES - TOP 10 INTERVIEW QUESTIONS\")\n",
        "print(\"=\"*80)"
      ]
    },
    {
      "cell_type": "code",
      "execution_count": null,
      "metadata": {
        "id": "-yG8H7KM9SrO",
        "outputId": "8b8b7d11-f089-4322-e108-2d368119df23"
      },
      "outputs": [
        {
          "name": "stdout",
          "output_type": "stream",
          "text": [
            "\n",
            "================================================================================\n",
            " QUESTION 1: What is the MAIN difference between Lists and Tuples?\n",
            "================================================================================\n",
            "\n",
            " ANSWER:\n",
            "--------------------------------------------------------------------------------\n",
            "\n",
            "The MAIN difference is MUTABILITY:\n",
            "\n",
            " LISTS are MUTABLE:\n",
            "   - Can be changed after creation\n",
            "   - Can add, remove, modify elements\n",
            "   - Example: shopping_list.append(\"Milk\")\n",
            "\n",
            " TUPLES are IMMUTABLE:\n",
            "   - Cannot be changed after creation\n",
            "   - Cannot add, remove, or modify elements\n",
            "   - Example: birth_date = (15, 8, 2005) [permanent]\n",
            "\n",
            "DEMONSTRATION:\n",
            "--------------------------------------------------------------------------------\n",
            "Original List: [1, 2, 3]\n",
            "Modified List: [100, 2, 3, 4] ✓ ALLOWED\n",
            "\n",
            "Original Tuple: (1, 2, 3)\n",
            "Trying: my_tuple[0] = 100\n",
            "Result: ✗ TypeError: 'tuple' object does not support item assignment\n",
            "\n",
            " KEY POINT: Lists change, Tuples don't!\n"
          ]
        }
      ],
      "source": [
        "# ============================================================================\n",
        "# QUESTION 1: What is the main difference between Lists and Tuples?\n",
        "# ============================================================================\n",
        "print(\"\\n\" + \"=\"*80)\n",
        "print(\" QUESTION 1: What is the MAIN difference between Lists and Tuples?\")\n",
        "print(\"=\"*80)\n",
        "\n",
        "print(\"\\n ANSWER:\")\n",
        "print(\"-\"*80)\n",
        "print(\"\"\"\n",
        "The MAIN difference is MUTABILITY:\n",
        "\n",
        " LISTS are MUTABLE:\n",
        "   - Can be changed after creation\n",
        "   - Can add, remove, modify elements\n",
        "   - Example: shopping_list.append(\"Milk\")\n",
        "\n",
        " TUPLES are IMMUTABLE:\n",
        "   - Cannot be changed after creation\n",
        "   - Cannot add, remove, or modify elements\n",
        "   - Example: birth_date = (15, 8, 2005) [permanent]\n",
        "\"\"\")\n",
        "\n",
        "# Demonstration\n",
        "print(\"DEMONSTRATION:\")\n",
        "print(\"-\"*80)\n",
        "\n",
        "# List - Mutable\n",
        "my_list = [1, 2, 3]\n",
        "print(f\"Original List: {my_list}\")\n",
        "my_list[0] = 100\n",
        "my_list.append(4)\n",
        "print(f\"Modified List: {my_list} ✓ ALLOWED\")\n",
        "\n",
        "# Tuple - Immutable\n",
        "my_tuple = (1, 2, 3)\n",
        "print(f\"\\nOriginal Tuple: {my_tuple}\")\n",
        "print(\"Trying: my_tuple[0] = 100\")\n",
        "print(\"Result: ✗ TypeError: 'tuple' object does not support item assignment\")\n",
        "\n",
        "print(\"\\n KEY POINT: Lists change, Tuples don't!\")"
      ]
    },
    {
      "cell_type": "code",
      "execution_count": null,
      "metadata": {
        "id": "ikoLlIYW9SrO",
        "outputId": "93794b81-38c7-4c42-a2ed-d24b4193e16e"
      },
      "outputs": [
        {
          "name": "stdout",
          "output_type": "stream",
          "text": [
            "\n",
            "================================================================================\n",
            " QUESTION 2: How do you create a tuple with only ONE element?\n",
            "================================================================================\n",
            "\n",
            " ANSWER:\n",
            "--------------------------------------------------------------------------------\n",
            "\n",
            "To create a single-element tuple, you MUST add a comma after the element.\n",
            "Without comma, Python treats it as a regular value in parentheses.\n",
            "\n",
            "DEMONSTRATION:\n",
            "--------------------------------------------------------------------------------\n",
            "not_a_tuple = (10)\n",
            "Type: <class 'int'> ✗ This is an INTEGER, not a tuple!\n",
            "\n",
            "correct_tuple = (10,)\n",
            "Type: <class 'tuple'> ✓ This is a TUPLE!\n",
            "\n",
            "another_tuple = 10,\n",
            "Type: <class 'tuple'> ✓ This is also a TUPLE!\n",
            "\n",
            " KEY POINT: Single element tuple needs a trailing comma!\n"
          ]
        }
      ],
      "source": [
        "# ============================================================================\n",
        "# QUESTION 2: How do you create a tuple with only one element?\n",
        "# ============================================================================\n",
        "print(\"\\n\" + \"=\"*80)\n",
        "print(\" QUESTION 2: How do you create a tuple with only ONE element?\")\n",
        "print(\"=\"*80)\n",
        "\n",
        "print(\"\\n ANSWER:\")\n",
        "print(\"-\"*80)\n",
        "print(\"\"\"\n",
        "To create a single-element tuple, you MUST add a comma after the element.\n",
        "Without comma, Python treats it as a regular value in parentheses.\n",
        "\"\"\")\n",
        "\n",
        "# Demonstration\n",
        "print(\"DEMONSTRATION:\")\n",
        "print(\"-\"*80)\n",
        "\n",
        "# Wrong way - NOT a tuple\n",
        "not_a_tuple = (10)\n",
        "print(f\"not_a_tuple = (10)\")\n",
        "print(f\"Type: {type(not_a_tuple)} ✗ This is an INTEGER, not a tuple!\")\n",
        "\n",
        "# Correct way - IS a tuple\n",
        "correct_tuple = (10,)\n",
        "print(f\"\\ncorrect_tuple = (10,)\")\n",
        "print(f\"Type: {type(correct_tuple)} ✓ This is a TUPLE!\")\n",
        "\n",
        "# Without parentheses also works\n",
        "another_tuple = 10,\n",
        "print(f\"\\nanother_tuple = 10,\")\n",
        "print(f\"Type: {type(another_tuple)} ✓ This is also a TUPLE!\")\n",
        "\n",
        "print(\"\\n KEY POINT: Single element tuple needs a trailing comma!\")\n"
      ]
    },
    {
      "cell_type": "code",
      "execution_count": null,
      "metadata": {
        "id": "nXHziVFQ9SrO",
        "outputId": "104a71e9-cf01-4b0b-e8ba-17ee97207d7c"
      },
      "outputs": [
        {
          "name": "stdout",
          "output_type": "stream",
          "text": [
            "\n",
            "================================================================================\n",
            " QUESTION 3: Which is FASTER - List or Tuple? Why?\n",
            "================================================================================\n",
            "\n",
            " ANSWER:\n",
            "--------------------------------------------------------------------------------\n",
            "\n",
            "TUPLES are FASTER than Lists because:\n",
            "\n",
            "1. Fixed Size: Tuples have fixed size, no need to allocate extra space\n",
            "2. Immutable: No overhead for tracking changes\n",
            "3. Optimized: Python optimizes tuple storage in memory\n",
            "4. Simple: Less operations = faster access\n",
            "\n",
            "LISTS are SLOWER because:\n",
            "1. Dynamic Size: Need extra space for potential additions\n",
            "2. Mutable: System tracks possible changes\n",
            "3. Overhead: More memory management needed\n",
            "\n",
            "DEMONSTRATION (Creating 1 million times):\n",
            "--------------------------------------------------------------------------------\n",
            "List creation time: 0.0000698566 seconds\n",
            "Tuple creation time: 0.0000591278 seconds\n",
            "\n",
            "✓ Tuples are faster for access and iteration!\n",
            "\n",
            " KEY POINT: Use tuples for better performance with fixed data!\n"
          ]
        }
      ],
      "source": [
        "# ============================================================================\n",
        "# QUESTION 3: Which is faster - List or Tuple? Why?\n",
        "# ============================================================================\n",
        "print(\"\\n\" + \"=\"*80)\n",
        "print(\" QUESTION 3: Which is FASTER - List or Tuple? Why?\")\n",
        "print(\"=\"*80)\n",
        "\n",
        "print(\"\\n ANSWER:\")\n",
        "print(\"-\"*80)\n",
        "print(\"\"\"\n",
        "TUPLES are FASTER than Lists because:\n",
        "\n",
        "1. Fixed Size: Tuples have fixed size, no need to allocate extra space\n",
        "2. Immutable: No overhead for tracking changes\n",
        "3. Optimized: Python optimizes tuple storage in memory\n",
        "4. Simple: Less operations = faster access\n",
        "\n",
        "LISTS are SLOWER because:\n",
        "1. Dynamic Size: Need extra space for potential additions\n",
        "2. Mutable: System tracks possible changes\n",
        "3. Overhead: More memory management needed\n",
        "\"\"\")\n",
        "\n",
        "# Demonstration with timing\n",
        "import time\n",
        "\n",
        "print(\"DEMONSTRATION (Creating 1 million times):\")\n",
        "print(\"-\"*80)\n",
        "\n",
        "# Timing List creation\n",
        "start_time = time.time()\n",
        "my_list = [1, 2, 3, 4, 5]\n",
        "end_time = time.time()\n",
        "list_time = end_time - start_time\n",
        "\n",
        "# Timing Tuple creation\n",
        "start_time = time.time()\n",
        "my_tuple = (1, 2, 3, 4, 5)\n",
        "end_time = time.time()\n",
        "tuple_time = end_time - start_time\n",
        "\n",
        "print(f\"List creation time: {list_time:.10f} seconds\")\n",
        "print(f\"Tuple creation time: {tuple_time:.10f} seconds\")\n",
        "print(f\"\\n✓ Tuples are faster for access and iteration!\")\n",
        "\n",
        "print(\"\\n KEY POINT: Use tuples for better performance with fixed data!\")"
      ]
    },
    {
      "cell_type": "code",
      "execution_count": null,
      "metadata": {
        "id": "LhQkqWdp9SrO",
        "outputId": "1e5144f6-7e30-43a6-a3e3-7b5c5fa3e8e7"
      },
      "outputs": [
        {
          "name": "stdout",
          "output_type": "stream",
          "text": [
            "\n",
            "================================================================================\n",
            " QUESTION 4: Can you CHANGE a tuple? If yes, how?\n",
            "================================================================================\n",
            "\n",
            " ANSWER:\n",
            "--------------------------------------------------------------------------------\n",
            "\n",
            "NO, you cannot directly change a tuple (it's immutable).\n",
            "\n",
            "HOWEVER, you can:\n",
            "1. Convert to list, modify, convert back to tuple\n",
            "2. Create a new tuple with desired changes\n",
            "3. If tuple contains mutable objects (like lists), those can be modified\n",
            "\n",
            "DEMONSTRATION:\n",
            "--------------------------------------------------------------------------------\n",
            "Original Tuple: (1, 2, 3, 4, 5)\n",
            "New Tuple (via list): (100, 2, 3, 4, 5)\n",
            "New Tuple (concatenation): (100, 2, 3, 4, 5)\n",
            "\n",
            "Tuple with list inside: (1, 2, [3, 4, 5])\n",
            "After modifying inner list: (1, 2, [300, 4, 5])\n",
            "\n",
            " KEY POINT: Tuple itself can't change, but workarounds exist!\n"
          ]
        }
      ],
      "source": [
        "# ============================================================================\n",
        "# QUESTION 4: Can you change a tuple? If yes, how?\n",
        "# ============================================================================\n",
        "print(\"\\n\" + \"=\"*80)\n",
        "print(\" QUESTION 4: Can you CHANGE a tuple? If yes, how?\")\n",
        "print(\"=\"*80)\n",
        "\n",
        "print(\"\\n ANSWER:\")\n",
        "print(\"-\"*80)\n",
        "print(\"\"\"\n",
        "NO, you cannot directly change a tuple (it's immutable).\n",
        "\n",
        "HOWEVER, you can:\n",
        "1. Convert to list, modify, convert back to tuple\n",
        "2. Create a new tuple with desired changes\n",
        "3. If tuple contains mutable objects (like lists), those can be modified\n",
        "\"\"\")\n",
        "\n",
        "# Demonstration\n",
        "print(\"DEMONSTRATION:\")\n",
        "print(\"-\"*80)\n",
        "\n",
        "# Method 1: Convert to list\n",
        "original_tuple = (1, 2, 3, 4, 5)\n",
        "print(f\"Original Tuple: {original_tuple}\")\n",
        "\n",
        "temp_list = list(original_tuple)\n",
        "temp_list[0] = 100\n",
        "new_tuple = tuple(temp_list)\n",
        "print(f\"New Tuple (via list): {new_tuple}\")\n",
        "\n",
        "# Method 2: Create new tuple\n",
        "new_tuple2 = (100,) + original_tuple[1:]\n",
        "print(f\"New Tuple (concatenation): {new_tuple2}\")\n",
        "\n",
        "# Method 3: Tuple with mutable elements\n",
        "tuple_with_list = (1, 2, [3, 4, 5])\n",
        "print(f\"\\nTuple with list inside: {tuple_with_list}\")\n",
        "tuple_with_list[2][0] = 300  # Can modify the list inside\n",
        "print(f\"After modifying inner list: {tuple_with_list}\")\n",
        "\n",
        "print(\"\\n KEY POINT: Tuple itself can't change, but workarounds exist!\")"
      ]
    },
    {
      "cell_type": "code",
      "execution_count": null,
      "metadata": {
        "id": "FDGjW27Y9SrO",
        "outputId": "15c1b758-5cd7-4a26-a90a-302302b9e58d"
      },
      "outputs": [
        {
          "name": "stdout",
          "output_type": "stream",
          "text": [
            "\n",
            "================================================================================\n",
            " QUESTION 5: WHEN should you use List vs Tuple?\n",
            "================================================================================\n",
            "\n",
            " ANSWER:\n",
            "--------------------------------------------------------------------------------\n",
            "\n",
            "USE LISTS when:\n",
            "✓ Data needs to change (add/remove/modify)\n",
            "✓ Building dynamic collections\n",
            "✓ User input that grows/shrinks\n",
            "✓ Temporary data processing\n",
            "\n",
            "USE TUPLES when:\n",
            "✓ Data should never change\n",
            "✓ Protecting data from modification\n",
            "✓ Dictionary keys (lists can't be keys)\n",
            "✓ Function returns multiple values\n",
            "✓ Performance is critical\n",
            "✓ Coordinates, dates, IDs\n",
            "\n",
            "DEMONSTRATION:\n",
            "--------------------------------------------------------------------------------\n",
            "\n",
            " LIST EXAMPLE - Shopping Cart (changes):\n",
            "Initial Cart: ['Laptop', 'Mouse']\n",
            "Updated Cart: ['Laptop', 'Keyboard']\n",
            "\n",
            " TUPLE EXAMPLE - GPS Coordinates (fixed):\n",
            "Mumbai: (19.076, 72.8777)\n",
            "Delhi: (28.7041, 77.1025)\n",
            "(Coordinates never change!)\n",
            "\n",
            " TUPLE as Dictionary Key:\n",
            "Location Dict: {(19.076, 72.8777): 'Mumbai', (28.7041, 77.1025): 'Delhi'}\n",
            "✓ Tuples can be dict keys, lists cannot!\n",
            "\n",
            " KEY POINT: Lists for change, Tuples for permanence!\n"
          ]
        }
      ],
      "source": [
        "# ============================================================================\n",
        "# QUESTION 5: When should you use List vs Tuple?\n",
        "# ============================================================================\n",
        "print(\"\\n\" + \"=\"*80)\n",
        "print(\" QUESTION 5: WHEN should you use List vs Tuple?\")\n",
        "print(\"=\"*80)\n",
        "\n",
        "print(\"\\n ANSWER:\")\n",
        "print(\"-\"*80)\n",
        "print(\"\"\"\n",
        "USE LISTS when:\n",
        "✓ Data needs to change (add/remove/modify)\n",
        "✓ Building dynamic collections\n",
        "✓ User input that grows/shrinks\n",
        "✓ Temporary data processing\n",
        "\n",
        "USE TUPLES when:\n",
        "✓ Data should never change\n",
        "✓ Protecting data from modification\n",
        "✓ Dictionary keys (lists can't be keys)\n",
        "✓ Function returns multiple values\n",
        "✓ Performance is critical\n",
        "✓ Coordinates, dates, IDs\n",
        "\"\"\")\n",
        "\n",
        "# Demonstration\n",
        "print(\"DEMONSTRATION:\")\n",
        "print(\"-\"*80)\n",
        "\n",
        "print(\"\\n LIST EXAMPLE - Shopping Cart (changes):\")\n",
        "shopping_cart = [\"Laptop\", \"Mouse\"]\n",
        "print(f\"Initial Cart: {shopping_cart}\")\n",
        "shopping_cart.append(\"Keyboard\")\n",
        "shopping_cart.remove(\"Mouse\")\n",
        "print(f\"Updated Cart: {shopping_cart}\")\n",
        "\n",
        "print(\"\\n TUPLE EXAMPLE - GPS Coordinates (fixed):\")\n",
        "mumbai_location = (19.0760, 72.8777)\n",
        "delhi_location = (28.7041, 77.1025)\n",
        "print(f\"Mumbai: {mumbai_location}\")\n",
        "print(f\"Delhi: {delhi_location}\")\n",
        "print(\"(Coordinates never change!)\")\n",
        "\n",
        "print(\"\\n TUPLE as Dictionary Key:\")\n",
        "locations = {}\n",
        "locations[mumbai_location] = \"Mumbai\"\n",
        "locations[delhi_location] = \"Delhi\"\n",
        "print(f\"Location Dict: {locations}\")\n",
        "print(\"✓ Tuples can be dict keys, lists cannot!\")\n",
        "\n",
        "print(\"\\n KEY POINT: Lists for change, Tuples for permanence!\")\n"
      ]
    },
    {
      "cell_type": "code",
      "execution_count": null,
      "metadata": {
        "id": "Cq2URqB29SrO",
        "outputId": "6c3c2fb5-7f29-4408-d73c-63246abedd7c"
      },
      "outputs": [
        {
          "name": "stdout",
          "output_type": "stream",
          "text": [
            "\n",
            "================================================================================\n",
            " QUESTION 6: What METHODS are available in List and Tuple?\n",
            "================================================================================\n",
            "\n",
            " ANSWER:\n",
            "--------------------------------------------------------------------------------\n",
            " LIST METHODS (11 total):\n",
            "   Modifying: append(), insert(), extend(), remove(), pop(), clear()\n",
            "   Organizing: sort(), reverse()\n",
            "   Information: index(), count()\n",
            "   Copying: copy()\n",
            "\n",
            " TUPLE METHODS (2 total):\n",
            "   Information only: index(), count()\n",
            "   (No modifying methods because tuples are immutable)\n",
            "\n",
            "DEMONSTRATION:\n",
            "--------------------------------------------------------------------------------\n",
            "List: [1, 2, 3, 2, 4]\n",
            "List methods available: ['append', 'clear', 'copy', 'count', 'extend', 'index', 'insert', 'pop', 'remove', 'reverse', 'sort']\n",
            "\n",
            "Tuple: (1, 2, 3, 2, 4)\n",
            "Tuple methods available: ['count', 'index']\n",
            "\n",
            "Common: count(2) - List: 2, Tuple: 2\n",
            "Common: index(3) - List: 2, Tuple: 2\n",
            "\n",
            " KEY POINT: Lists have 11 methods, Tuples have only 2!\n"
          ]
        }
      ],
      "source": [
        "# ============================================================================\n",
        "# QUESTION 6: What methods are available in List and Tuple?\n",
        "# ============================================================================\n",
        "print(\"\\n\" + \"=\"*80)\n",
        "print(\" QUESTION 6: What METHODS are available in List and Tuple?\")\n",
        "print(\"=\"*80)\n",
        "\n",
        "print(\"\\n ANSWER:\")\n",
        "print(\"-\"*80)\n",
        "\n",
        "print(\" LIST METHODS (11 total):\")\n",
        "print(\"   Modifying: append(), insert(), extend(), remove(), pop(), clear()\")\n",
        "print(\"   Organizing: sort(), reverse()\")\n",
        "print(\"   Information: index(), count()\")\n",
        "print(\"   Copying: copy()\")\n",
        "\n",
        "print(\"\\n TUPLE METHODS (2 total):\")\n",
        "print(\"   Information only: index(), count()\")\n",
        "print(\"   (No modifying methods because tuples are immutable)\")\n",
        "\n",
        "# Demonstration\n",
        "print(\"\\nDEMONSTRATION:\")\n",
        "print(\"-\"*80)\n",
        "\n",
        "demo_list = [1, 2, 3, 2, 4]\n",
        "demo_tuple = (1, 2, 3, 2, 4)\n",
        "\n",
        "print(f\"List: {demo_list}\")\n",
        "print(f\"List methods available: {[m for m in dir(demo_list) if not m.startswith('_')]}\")\n",
        "\n",
        "print(f\"\\nTuple: {demo_tuple}\")\n",
        "print(f\"Tuple methods available: {[m for m in dir(demo_tuple) if not m.startswith('_')]}\")\n",
        "\n",
        "# Common methods\n",
        "print(f\"\\nCommon: count(2) - List: {demo_list.count(2)}, Tuple: {demo_tuple.count(2)}\")\n",
        "print(f\"Common: index(3) - List: {demo_list.index(3)}, Tuple: {demo_tuple.index(3)}\")\n",
        "\n",
        "print(\"\\n KEY POINT: Lists have 11 methods, Tuples have only 2!\")"
      ]
    },
    {
      "cell_type": "code",
      "execution_count": null,
      "metadata": {
        "id": "8rpy_-Pc9SrO",
        "outputId": "341cc7a7-6941-4c48-b24f-ddc0ba051767"
      },
      "outputs": [
        {
          "name": "stdout",
          "output_type": "stream",
          "text": [
            "\n",
            "================================================================================\n",
            " QUESTION 7: Which uses MORE MEMORY - List or Tuple?\n",
            "================================================================================\n",
            "\n",
            " ANSWER:\n",
            "--------------------------------------------------------------------------------\n",
            "\n",
            "LISTS use MORE memory than Tuples because:\n",
            "\n",
            "1. Lists need extra space for dynamic operations\n",
            "2. Lists store additional information for mutability\n",
            "3. Lists allocate buffer space for future additions\n",
            "4. Tuples are optimized for fixed size\n",
            "\n",
            "Memory overhead: List > Tuple (typically 10-20% more)\n",
            "\n",
            "DEMONSTRATION:\n",
            "--------------------------------------------------------------------------------\n",
            "List [1-10]:  152 bytes\n",
            "Tuple (1-10): 120 bytes\n",
            "Difference:   32 bytes (26.7% more)\n",
            "\n",
            "List [1-100]:  856 bytes\n",
            "Tuple (1-100): 840 bytes\n",
            "\n",
            " KEY POINT: For large datasets, tuples save significant memory!\n"
          ]
        }
      ],
      "source": [
        "# ============================================================================\n",
        "# QUESTION 7: Which uses more memory - List or Tuple?\n",
        "# ============================================================================\n",
        "print(\"\\n\" + \"=\"*80)\n",
        "print(\" QUESTION 7: Which uses MORE MEMORY - List or Tuple?\")\n",
        "print(\"=\"*80)\n",
        "\n",
        "print(\"\\n ANSWER:\")\n",
        "print(\"-\"*80)\n",
        "print(\"\"\"\n",
        "LISTS use MORE memory than Tuples because:\n",
        "\n",
        "1. Lists need extra space for dynamic operations\n",
        "2. Lists store additional information for mutability\n",
        "3. Lists allocate buffer space for future additions\n",
        "4. Tuples are optimized for fixed size\n",
        "\n",
        "Memory overhead: List > Tuple (typically 10-20% more)\n",
        "\"\"\")\n",
        "\n",
        "# Demonstration\n",
        "import sys\n",
        "\n",
        "print(\"DEMONSTRATION:\")\n",
        "print(\"-\"*80)\n",
        "\n",
        "same_data_list = [1, 2, 3, 4, 5, 6, 7, 8, 9, 10]\n",
        "same_data_tuple = (1, 2, 3, 4, 5, 6, 7, 8, 9, 10)\n",
        "\n",
        "list_size = sys.getsizeof(same_data_list)\n",
        "tuple_size = sys.getsizeof(same_data_tuple)\n",
        "difference = list_size - tuple_size\n",
        "\n",
        "print(f\"List [1-10]:  {list_size} bytes\")\n",
        "print(f\"Tuple (1-10): {tuple_size} bytes\")\n",
        "print(f\"Difference:   {difference} bytes ({(difference/tuple_size)*100:.1f}% more)\")\n",
        "\n",
        "# Larger example\n",
        "large_list = list(range(100))\n",
        "large_tuple = tuple(range(100))\n",
        "\n",
        "print(f\"\\nList [1-100]:  {sys.getsizeof(large_list)} bytes\")\n",
        "print(f\"Tuple (1-100): {sys.getsizeof(large_tuple)} bytes\")\n",
        "\n",
        "print(\"\\n KEY POINT: For large datasets, tuples save significant memory!\")\n"
      ]
    },
    {
      "cell_type": "code",
      "execution_count": null,
      "metadata": {
        "id": "JfvGu6vv9SrO",
        "outputId": "aa83a5d2-31d3-4578-d05e-5a0b0161a0a4"
      },
      "outputs": [
        {
          "name": "stdout",
          "output_type": "stream",
          "text": [
            "\n",
            "================================================================================\n",
            " QUESTION 8: Can a tuple CONTAIN a list? What happens then?\n",
            "================================================================================\n",
            "\n",
            " ANSWER:\n",
            "--------------------------------------------------------------------------------\n",
            "\n",
            "YES, a tuple can contain a list!\n",
            "\n",
            "KEY CONCEPT:\n",
            "- The TUPLE structure itself is immutable (can't add/remove elements)\n",
            "- But if tuple contains a LIST, that list is still MUTABLE\n",
            "- You cannot replace the list, but you can modify its contents\n",
            "\n",
            "Think of it as: The container (tuple) is locked, but items inside (list) \n",
            "can still be changed.\n",
            "\n",
            "DEMONSTRATION:\n",
            "--------------------------------------------------------------------------------\n",
            "Student Data: ('Rahul', 101, [85, 90, 88])\n",
            "Name: Rahul\n",
            "Roll: 101\n",
            "Marks: [85, 90, 88]\n",
            "\n",
            " Cannot do: student_data[0] = 'New Name' (tuple is immutable)\n",
            " Cannot do: student_data[2] = [100, 100, 100] (can't replace list)\n",
            "\n",
            "✓ Can do: student_data[2].append(92) (modify list inside)\n",
            "After appending mark: ('Rahul', 101, [85, 90, 88, 92])\n",
            "\n",
            "✓ Can do: student_data[2][0] = 95 (change list element)\n",
            "After modifying first mark: ('Rahul', 101, [95, 90, 88, 92])\n",
            "\n",
            " KEY POINT: Tuple structure fixed, but mutable contents can change!\n"
          ]
        }
      ],
      "source": [
        "# ============================================================================\n",
        "# QUESTION 8: Can a tuple contain a list? What happens then?\n",
        "# ============================================================================\n",
        "print(\"\\n\" + \"=\"*80)\n",
        "print(\" QUESTION 8: Can a tuple CONTAIN a list? What happens then?\")\n",
        "print(\"=\"*80)\n",
        "\n",
        "print(\"\\n ANSWER:\")\n",
        "print(\"-\"*80)\n",
        "print(\"\"\"\n",
        "YES, a tuple can contain a list!\n",
        "\n",
        "KEY CONCEPT:\n",
        "- The TUPLE structure itself is immutable (can't add/remove elements)\n",
        "- But if tuple contains a LIST, that list is still MUTABLE\n",
        "- You cannot replace the list, but you can modify its contents\n",
        "\n",
        "Think of it as: The container (tuple) is locked, but items inside (list)\n",
        "can still be changed.\n",
        "\"\"\")\n",
        "\n",
        "# Demonstration\n",
        "print(\"DEMONSTRATION:\")\n",
        "print(\"-\"*80)\n",
        "\n",
        "student_data = (\"Rahul\", 101, [85, 90, 88])\n",
        "print(f\"Student Data: {student_data}\")\n",
        "print(f\"Name: {student_data[0]}\")\n",
        "print(f\"Roll: {student_data[1]}\")\n",
        "print(f\"Marks: {student_data[2]}\")\n",
        "\n",
        "print(\"\\n Cannot do: student_data[0] = 'New Name' (tuple is immutable)\")\n",
        "print(\" Cannot do: student_data[2] = [100, 100, 100] (can't replace list)\")\n",
        "\n",
        "print(\"\\n✓ Can do: student_data[2].append(92) (modify list inside)\")\n",
        "student_data[2].append(92)\n",
        "print(f\"After appending mark: {student_data}\")\n",
        "\n",
        "print(\"\\n✓ Can do: student_data[2][0] = 95 (change list element)\")\n",
        "student_data[2][0] = 95\n",
        "print(f\"After modifying first mark: {student_data}\")\n",
        "\n",
        "print(\"\\n KEY POINT: Tuple structure fixed, but mutable contents can change!\")"
      ]
    },
    {
      "cell_type": "code",
      "execution_count": null,
      "metadata": {
        "id": "joW75bbf9SrP",
        "outputId": "b2185ed4-0487-4cc7-9dde-905bcd5e598f"
      },
      "outputs": [
        {
          "name": "stdout",
          "output_type": "stream",
          "text": [
            "\n",
            "================================================================================\n",
            " QUESTION 9: How do you create EMPTY List and empty Tuple?\n",
            "================================================================================\n",
            "\n",
            " ANSWER:\n",
            "--------------------------------------------------------------------------------\n",
            "EMPTY LIST:\n",
            "Method 1: empty_list = []\n",
            "   Result: [], Type: <class 'list'>\n",
            "Method 2: empty_list = list()\n",
            "   Result: [], Type: <class 'list'>\n",
            "\n",
            "EMPTY TUPLE:\n",
            "Method 1: empty_tuple = ()\n",
            "   Result: (), Type: <class 'tuple'>\n",
            "Method 2: empty_tuple = tuple()\n",
            "   Result: (), Type: <class 'tuple'>\n",
            "\n",
            "USAGE:\n",
            "--------------------------------------------------------------------------------\n",
            "Empty list for collecting data:\n",
            "Collected marks: [85, 90]\n",
            "\n",
            " KEY POINT: [] for list, () for tuple, or use list() and tuple()\n"
          ]
        }
      ],
      "source": [
        "# ============================================================================\n",
        "# QUESTION 9: How do you create an empty List and empty Tuple?\n",
        "# ============================================================================\n",
        "print(\"\\n\" + \"=\"*80)\n",
        "print(\" QUESTION 9: How do you create EMPTY List and empty Tuple?\")\n",
        "print(\"=\"*80)\n",
        "\n",
        "print(\"\\n ANSWER:\")\n",
        "print(\"-\"*80)\n",
        "\n",
        "# Empty List\n",
        "empty_list_1 = []\n",
        "empty_list_2 = list()\n",
        "\n",
        "print(\"EMPTY LIST:\")\n",
        "print(f\"Method 1: empty_list = []\")\n",
        "print(f\"   Result: {empty_list_1}, Type: {type(empty_list_1)}\")\n",
        "print(f\"Method 2: empty_list = list()\")\n",
        "print(f\"   Result: {empty_list_2}, Type: {type(empty_list_2)}\")\n",
        "\n",
        "# Empty Tuple\n",
        "empty_tuple_1 = ()\n",
        "empty_tuple_2 = tuple()\n",
        "\n",
        "print(\"\\nEMPTY TUPLE:\")\n",
        "print(f\"Method 1: empty_tuple = ()\")\n",
        "print(f\"   Result: {empty_tuple_1}, Type: {type(empty_tuple_1)}\")\n",
        "print(f\"Method 2: empty_tuple = tuple()\")\n",
        "print(f\"   Result: {empty_tuple_2}, Type: {type(empty_tuple_2)}\")\n",
        "\n",
        "print(\"\\nUSAGE:\")\n",
        "print(\"-\"*80)\n",
        "print(\"Empty list for collecting data:\")\n",
        "marks = []\n",
        "marks.append(85)\n",
        "marks.append(90)\n",
        "print(f\"Collected marks: {marks}\")\n",
        "\n",
        "print(\"\\n KEY POINT: [] for list, () for tuple, or use list() and tuple()\")"
      ]
    },
    {
      "cell_type": "code",
      "execution_count": null,
      "metadata": {
        "id": "81oDpKuS9SrP",
        "outputId": "e8a9062c-b7b8-48df-e0f2-aae3f1ed0c97"
      },
      "outputs": [
        {
          "name": "stdout",
          "output_type": "stream",
          "text": [
            "\n",
            "================================================================================\n",
            " QUESTION 10: What is TUPLE PACKING and UNPACKING?\n",
            "================================================================================\n",
            "\n",
            " ANSWER:\n",
            "--------------------------------------------------------------------------------\n",
            "\n",
            "TUPLE PACKING:\n",
            "- Automatically creating a tuple by assigning multiple values\n",
            "- Example: coordinates = 10, 20, 30\n",
            "\n",
            "TUPLE UNPACKING:\n",
            "- Extracting tuple values into separate variables\n",
            "- Example: x, y, z = coordinates\n",
            "\n",
            "This is a powerful Python feature for clean code!\n",
            "\n",
            "DEMONSTRATION:\n",
            "--------------------------------------------------------------------------------\n",
            "1️⃣ TUPLE PACKING:\n",
            "coordinates = 19.0760, 72.8777, 10\n",
            "Result: (19.076, 72.8777, 10)\n",
            "Type: <class 'tuple'>\n",
            "\n",
            "student = 'Rahul', 101, 85.5\n",
            "Result: ('Rahul', 101, 85.5)\n",
            "\n",
            "2️⃣ TUPLE UNPACKING:\n",
            "latitude, longitude, altitude = coordinates\n",
            "latitude = 19.076\n",
            "longitude = 72.8777\n",
            "altitude = 10\n",
            "\n",
            "name, roll, percentage = student\n",
            "name = Rahul\n",
            "roll = 101\n",
            "percentage = 85.5\n",
            "\n",
            "3️⃣ PRACTICAL USE - SWAPPING:\n",
            "Before: a = 10, b = 20\n",
            "After:  a = 20, b = 10\n",
            "\n",
            "4️⃣ FUNCTION RETURNS (Advanced preview):\n",
            "Student: Priya, Roll: 102, Marks: 92.5\n",
            "\n",
            "💡 KEY POINT: Packing creates tuple, unpacking extracts values!\n"
          ]
        }
      ],
      "source": [
        "# ============================================================================\n",
        "# QUESTION 10: What is tuple packing and unpacking?\n",
        "# ============================================================================\n",
        "print(\"\\n\" + \"=\"*80)\n",
        "print(\" QUESTION 10: What is TUPLE PACKING and UNPACKING?\")\n",
        "print(\"=\"*80)\n",
        "\n",
        "print(\"\\n ANSWER:\")\n",
        "print(\"-\"*80)\n",
        "print(\"\"\"\n",
        "TUPLE PACKING:\n",
        "- Automatically creating a tuple by assigning multiple values\n",
        "- Example: coordinates = 10, 20, 30\n",
        "\n",
        "TUPLE UNPACKING:\n",
        "- Extracting tuple values into separate variables\n",
        "- Example: x, y, z = coordinates\n",
        "\n",
        "This is a powerful Python feature for clean code!\n",
        "\"\"\")\n",
        "\n",
        "# Demonstration\n",
        "print(\"DEMONSTRATION:\")\n",
        "print(\"-\"*80)\n",
        "\n",
        "# Tuple Packing\n",
        "print(\"1️⃣ TUPLE PACKING:\")\n",
        "coordinates = 19.0760, 72.8777, 10  # No parentheses needed!\n",
        "print(f\"coordinates = 19.0760, 72.8777, 10\")\n",
        "print(f\"Result: {coordinates}\")\n",
        "print(f\"Type: {type(coordinates)}\")\n",
        "\n",
        "student = \"Rahul\", 101, 85.5\n",
        "print(f\"\\nstudent = 'Rahul', 101, 85.5\")\n",
        "print(f\"Result: {student}\")\n",
        "\n",
        "# Tuple Unpacking\n",
        "print(\"\\n2️⃣ TUPLE UNPACKING:\")\n",
        "latitude, longitude, altitude = coordinates\n",
        "print(f\"latitude, longitude, altitude = coordinates\")\n",
        "print(f\"latitude = {latitude}\")\n",
        "print(f\"longitude = {longitude}\")\n",
        "print(f\"altitude = {altitude}\")\n",
        "\n",
        "name, roll, percentage = student\n",
        "print(f\"\\nname, roll, percentage = student\")\n",
        "print(f\"name = {name}\")\n",
        "print(f\"roll = {roll}\")\n",
        "print(f\"percentage = {percentage}\")\n",
        "\n",
        "# Practical use - Swapping\n",
        "print(\"\\n3️⃣ PRACTICAL USE - SWAPPING:\")\n",
        "a = 10\n",
        "b = 20\n",
        "print(f\"Before: a = {a}, b = {b}\")\n",
        "a, b = b, a  # Swap using tuple unpacking!\n",
        "print(f\"After:  a = {a}, b = {b}\")\n",
        "\n",
        "# Function returning multiple values\n",
        "print(\"\\n4️⃣ FUNCTION RETURNS (Advanced preview):\")\n",
        "def get_student_info():\n",
        "    return \"Priya\", 102, 92.5  # Returns tuple\n",
        "\n",
        "name, roll, marks = get_student_info()  # Unpacking\n",
        "print(f\"Student: {name}, Roll: {roll}, Marks: {marks}\")\n",
        "\n",
        "print(\"\\n💡 KEY POINT: Packing creates tuple, unpacking extracts values!\")"
      ]
    },
    {
      "cell_type": "code",
      "execution_count": null,
      "metadata": {
        "id": "sC5YgQvU9SrP",
        "outputId": "2cc5773d-89dc-4360-ee70-21a7fa4d3689"
      },
      "outputs": [
        {
          "name": "stdout",
          "output_type": "stream",
          "text": [
            "\n",
            "================================================================================\n",
            " INTERVIEW QUESTIONS SUMMARY\n",
            "================================================================================\n",
            "\n",
            "Q1: Main difference? → MUTABILITY (List mutable, Tuple immutable)\n",
            "Q2: Single element tuple? → Add comma: (10,)\n",
            "Q3: Which is faster? → TUPLE (optimized, fixed size)\n",
            "Q4: Change tuple? → No direct way, convert to list or create new\n",
            "Q5: When to use? → List for changes, Tuple for fixed data\n",
            "Q6: Available methods? → List: 11, Tuple: 2 (count, index)\n",
            "Q7: More memory? → LIST uses more (dynamic overhead)\n",
            "Q8: Tuple with list? → Yes, list inside is still mutable\n",
            "Q9: Create empty? → List: [], Tuple: ()\n",
            "Q10: Packing/Unpacking? → Packing creates, unpacking extracts\n",
            "\n",
            " GOLDEN RULES:\n",
            "   ✓ List = Mutable = Changeable = Dynamic = []\n",
            "   ✓ Tuple = Immutable = Fixed = Fast = ()\n",
            "   ✓ Choose based on whether data will change!\n",
            "\n",
            "\n",
            "================================================================================\n",
            "     END OF INTERVIEW QUESTIONS\n",
            "================================================================================\n",
            "\n",
            "🎯 PRO TIPS FOR INTERVIEWS:\n",
            "--------------------------------------------------------------------------------\n",
            "\n",
            "1. Always mention MUTABILITY first (most important difference)\n",
            "2. Give real-world examples (shopping list vs birth date)\n",
            "3. Mention performance (tuples are faster)\n",
            "4. Mention memory (tuples use less)\n",
            "5. Show you know both syntax: [] and ()\n",
            "6. Explain when to use which (this shows understanding)\n",
            "7. Be ready to write code examples on the spot!\n",
            "\n",
            "Good luck with your interviews! \n",
            "\n",
            "================================================================================\n"
          ]
        }
      ],
      "source": [
        "# ============================================================================\n",
        "# SUMMARY\n",
        "# ============================================================================\n",
        "print(\"\\n\" + \"=\"*80)\n",
        "print(\" INTERVIEW QUESTIONS SUMMARY\")\n",
        "print(\"=\"*80)\n",
        "\n",
        "summary = \"\"\"\n",
        "Q1: Main difference? → MUTABILITY (List mutable, Tuple immutable)\n",
        "Q2: Single element tuple? → Add comma: (10,)\n",
        "Q3: Which is faster? → TUPLE (optimized, fixed size)\n",
        "Q4: Change tuple? → No direct way, convert to list or create new\n",
        "Q5: When to use? → List for changes, Tuple for fixed data\n",
        "Q6: Available methods? → List: 11, Tuple: 2 (count, index)\n",
        "Q7: More memory? → LIST uses more (dynamic overhead)\n",
        "Q8: Tuple with list? → Yes, list inside is still mutable\n",
        "Q9: Create empty? → List: [], Tuple: ()\n",
        "Q10: Packing/Unpacking? → Packing creates, unpacking extracts\n",
        "\n",
        " GOLDEN RULES:\n",
        "   ✓ List = Mutable = Changeable = Dynamic = []\n",
        "   ✓ Tuple = Immutable = Fixed = Fast = ()\n",
        "   ✓ Choose based on whether data will change!\n",
        "\"\"\"\n",
        "print(summary)\n",
        "\n",
        "print(\"\\n\" + \"=\"*80)\n",
        "print(\"     END OF INTERVIEW QUESTIONS\")\n",
        "print(\"=\"*80)\n",
        "\n",
        "print(\"\\n🎯 PRO TIPS FOR INTERVIEWS:\")\n",
        "print(\"-\"*80)\n",
        "print(\"\"\"\n",
        "1. Always mention MUTABILITY first (most important difference)\n",
        "2. Give real-world examples (shopping list vs birth date)\n",
        "3. Mention performance (tuples are faster)\n",
        "4. Mention memory (tuples use less)\n",
        "5. Show you know both syntax: [] and ()\n",
        "6. Explain when to use which (this shows understanding)\n",
        "7. Be ready to write code examples on the spot!\n",
        "\n",
        "Good luck with your interviews!\n",
        "\"\"\")\n",
        "print(\"=\"*80)"
      ]
    },
    {
      "cell_type": "markdown",
      "metadata": {
        "id": "9AVNkb-O9SrP"
      },
      "source": [
        "# Day 9: Looping Logic – Mastering Iteration\n",
        "\n",
        "\n",
        "What is a Loop?\n",
        "\n",
        "Real-World Scenario:\n",
        "\n",
        "How Humans vs Machines Work\n",
        "How a HUMAN counts 1 to 5:\n",
        "\n",
        "I manually say: 1, 2, 3, 4, 5\n",
        "It takes effort and time\n",
        "If asked to count to 1000, it would be exhausting!\n",
        "\n",
        "How a MACHINE counts 1 to 5:\n",
        "\n",
        "Give it one instruction: \"Count from 1 to 5\"\n",
        "It repeats the counting automatically\n",
        "It can count to 1 million without getting tired!\n",
        "\n",
        "That's what loops do - they repeat a block of code automatically without writing it 100 times!\n",
        "\n",
        "### TYPE 1: FOR LOOPS\n",
        "\n",
        "Real-World Scenario: Checking Student Marks\n",
        "\n",
        "Human Teacher:\n",
        "\n",
        "Goes through the mark list one by one\n",
        "Checks each student's mark\n",
        "Does the same action for each student\n",
        "\n",
        "Machine (Python):\n",
        "\n",
        "Gets told: \"Check every mark in this list\"\n",
        "Does the same thing automatically for each mark\n",
        "\n",
        "\n",
        "----------\n",
        "\n"
      ]
    },
    {
      "cell_type": "markdown",
      "metadata": {
        "id": "CTd0FprY9SrP"
      },
      "source": [
        "**ULTRA BASIC EXAMPLE 1: Printing \"Hello\" 5 Time**\n",
        "\n",
        "Without a loop (BAD - Repetitive):"
      ]
    },
    {
      "cell_type": "code",
      "execution_count": null,
      "metadata": {
        "id": "B_NOrS8T9SrP",
        "outputId": "f998a217-a596-4a76-8a8a-4e8fbb79f7af"
      },
      "outputs": [
        {
          "name": "stdout",
          "output_type": "stream",
          "text": [
            "Hello\n",
            "Hello\n",
            "Hello\n",
            "Hello\n",
            "Hello\n"
          ]
        }
      ],
      "source": [
        "print(\"Hello\")\n",
        "print(\"Hello\")\n",
        "print(\"Hello\")\n",
        "print(\"Hello\")\n",
        "print(\"Hello\")"
      ]
    },
    {
      "cell_type": "markdown",
      "metadata": {
        "id": "ZmNPhhyP9SrP"
      },
      "source": [
        "With a loop (GOOD - Smart!):"
      ]
    },
    {
      "cell_type": "code",
      "execution_count": null,
      "metadata": {
        "id": "tGrevBpQ9SrP",
        "outputId": "f3e730f9-9341-4c88-d62e-af6f2182c18a"
      },
      "outputs": [
        {
          "name": "stdout",
          "output_type": "stream",
          "text": [
            "Hello\n",
            "Hello\n",
            "Hello\n",
            "Hello\n",
            "Hello\n"
          ]
        }
      ],
      "source": [
        "for i in range(5):\n",
        "    print(\"Hello\")"
      ]
    },
    {
      "cell_type": "code",
      "execution_count": null,
      "metadata": {
        "id": "btD0V12I9SrP",
        "outputId": "4254cc81-2561-40a0-a1a0-49b2726a9c82"
      },
      "outputs": [
        {
          "name": "stdout",
          "output_type": "stream",
          "text": [
            "hello\n"
          ]
        }
      ],
      "source": [
        "print(\"hello\")"
      ]
    },
    {
      "cell_type": "code",
      "execution_count": null,
      "metadata": {
        "id": "pkPctZwg9SrP",
        "outputId": "f10665e0-31e0-489a-d996-59ffaa39f9ef"
      },
      "outputs": [
        {
          "name": "stdout",
          "output_type": "stream",
          "text": [
            "0\n",
            "1\n",
            "2\n",
            "3\n",
            "4\n"
          ]
        }
      ],
      "source": [
        "for i in range(5):\n",
        "    print(i)"
      ]
    },
    {
      "cell_type": "markdown",
      "metadata": {
        "id": "sKqE4he39SrP"
      },
      "source": [
        "Understanding FOR LOOP Syntax Structure"
      ]
    },
    {
      "cell_type": "markdown",
      "metadata": {
        "id": "TWs51Sgv9SrP"
      },
      "source": [
        "![carbon.png](attachment:carbon.png)"
      ]
    },
    {
      "cell_type": "markdown",
      "metadata": {
        "id": "znzFsMvw9SrP"
      },
      "source": [
        "#### EXAMPLE 1: Printing \"Hello\" 100 Times"
      ]
    },
    {
      "cell_type": "code",
      "execution_count": null,
      "metadata": {
        "id": "Z8pVTZnd9SrQ",
        "outputId": "3d367e0e-270c-44c6-8fc8-814f1fd34183"
      },
      "outputs": [
        {
          "name": "stdout",
          "output_type": "stream",
          "text": [
            "Hello\n",
            "Hello\n",
            "Hello\n",
            "Hello\n",
            "Hello\n",
            "Hello\n",
            "Hello\n",
            "Hello\n",
            "Hello\n",
            "Hello\n",
            "Hello\n",
            "Hello\n",
            "Hello\n",
            "Hello\n",
            "Hello\n",
            "Hello\n",
            "Hello\n",
            "Hello\n",
            "Hello\n",
            "Hello\n",
            "Hello\n",
            "Hello\n",
            "Hello\n",
            "Hello\n",
            "Hello\n",
            "Hello\n",
            "Hello\n",
            "Hello\n",
            "Hello\n",
            "Hello\n",
            "Hello\n",
            "Hello\n",
            "Hello\n",
            "Hello\n",
            "Hello\n",
            "Hello\n",
            "Hello\n",
            "Hello\n",
            "Hello\n",
            "Hello\n",
            "Hello\n",
            "Hello\n",
            "Hello\n",
            "Hello\n",
            "Hello\n",
            "Hello\n",
            "Hello\n",
            "Hello\n",
            "Hello\n",
            "Hello\n",
            "Hello\n",
            "Hello\n",
            "Hello\n",
            "Hello\n",
            "Hello\n",
            "Hello\n",
            "Hello\n",
            "Hello\n",
            "Hello\n",
            "Hello\n",
            "Hello\n",
            "Hello\n",
            "Hello\n",
            "Hello\n",
            "Hello\n",
            "Hello\n",
            "Hello\n",
            "Hello\n",
            "Hello\n",
            "Hello\n",
            "Hello\n",
            "Hello\n",
            "Hello\n",
            "Hello\n",
            "Hello\n",
            "Hello\n",
            "Hello\n",
            "Hello\n",
            "Hello\n",
            "Hello\n",
            "Hello\n",
            "Hello\n",
            "Hello\n",
            "Hello\n",
            "Hello\n",
            "Hello\n",
            "Hello\n",
            "Hello\n",
            "Hello\n",
            "Hello\n",
            "Hello\n",
            "Hello\n",
            "Hello\n",
            "Hello\n",
            "Hello\n",
            "Hello\n",
            "Hello\n",
            "Hello\n",
            "Hello\n",
            "Hello\n"
          ]
        }
      ],
      "source": [
        "# Print \"Hello\" 100 times\n",
        "for i in range(100):\n",
        "    print(\"Hello\")\n",
        "\n",
        "# This prints Hello 100 times! Much better than copying/pasting 100 lines!"
      ]
    },
    {
      "cell_type": "markdown",
      "metadata": {
        "id": "sur3m3-X9SrQ"
      },
      "source": [
        "#### EXAMPLE 2: Student Marks Scenario (Beginner)\n",
        "\n",
        "Scenario: Teacher has 5 students' marks. Print each mark."
      ]
    },
    {
      "cell_type": "code",
      "execution_count": null,
      "metadata": {
        "id": "l4zhBZu09SrQ",
        "outputId": "eb58f8a2-447c-4b57-83ee-4718b6b3073f"
      },
      "outputs": [
        {
          "name": "stdout",
          "output_type": "stream",
          "text": [
            "85\n",
            "92\n",
            "78\n",
            "95\n",
            "88\n"
          ]
        }
      ],
      "source": [
        "marks = [85, 92, 78, 95, 88]\n",
        "#         0   1   2   3   4  (These are indices)\n",
        "\n",
        "for i in range(5):\n",
        "    print(marks[i])"
      ]
    },
    {
      "cell_type": "code",
      "execution_count": null,
      "metadata": {
        "id": "6sUNT0_y9SrQ",
        "outputId": "598fb40a-e2d3-49b3-c850-6614a7a0f318"
      },
      "outputs": [
        {
          "name": "stdout",
          "output_type": "stream",
          "text": [
            "85\n",
            "92\n",
            "78\n",
            "95\n",
            "88\n"
          ]
        }
      ],
      "source": [
        "marks = [85, 92, 78, 95, 88]\n",
        "\n",
        "print(marks[0])\n",
        "print(marks[1])\n",
        "print(marks[2])\n",
        "print(marks[3])\n",
        "print(marks[4])"
      ]
    },
    {
      "cell_type": "code",
      "execution_count": null,
      "metadata": {
        "id": "6l058Phh9SrQ",
        "outputId": "1f75b841-ccd3-4acc-9cd8-3d4372d248f8"
      },
      "outputs": [
        {
          "name": "stdout",
          "output_type": "stream",
          "text": [
            "0\n",
            "1\n",
            "2\n",
            "3\n",
            "4\n"
          ]
        }
      ],
      "source": [
        "# Have a look on the iteration:\n",
        "for i in range(5):\n",
        "    print(i)"
      ]
    },
    {
      "cell_type": "markdown",
      "metadata": {
        "id": "BAsgrWVi9SrQ"
      },
      "source": [
        "#### EXAMPLE 3: Student Marks (Smarter Way)"
      ]
    },
    {
      "cell_type": "code",
      "execution_count": null,
      "metadata": {
        "id": "cX2Azi8v9SrQ",
        "outputId": "0cd19843-45d9-4f09-fa1a-43c81619a2e7"
      },
      "outputs": [
        {
          "name": "stdout",
          "output_type": "stream",
          "text": [
            "85\n",
            "92\n",
            "78\n",
            "95\n",
            "88\n"
          ]
        }
      ],
      "source": [
        "marks = [85, 92, 78, 95, 88]\n",
        "\n",
        "# Looping directly through marks (easier!)\n",
        "for marks in marks:\n",
        "    print(marks)"
      ]
    },
    {
      "cell_type": "markdown",
      "metadata": {
        "id": "x0l5DU5o9SrQ"
      },
      "source": [
        "Difference: This is cleaner - Python gives us each mark directly!"
      ]
    },
    {
      "cell_type": "markdown",
      "metadata": {
        "id": "Ft1x6Zmu9SrQ"
      },
      "source": [
        "#### EXAMPLE 4: Student Marks with Processing\n",
        "Scenario: Check if each student passed (>= 40)"
      ]
    },
    {
      "cell_type": "code",
      "execution_count": null,
      "metadata": {
        "id": "7HTzJ3Sa9SrQ",
        "outputId": "7e6f955f-4d76-4458-fba0-98897fe25a5a"
      },
      "outputs": [
        {
          "name": "stdout",
          "output_type": "stream",
          "text": [
            "Rohit PASSED with 85\n",
            "Akash PASSED with 95\n",
            "Rohan FAILED with 35\n",
            "Sara PASSED with 95\n",
            "Anita PASSED with 88\n"
          ]
        }
      ],
      "source": [
        "marks = [85, 95, 35, 95, 88]\n",
        "students = [\"Rohit\", \"Akash\", \"Rohan\", \"Sara\", \"Anita\"]\n",
        "\n",
        "for i in range(5):\n",
        "    student_name = students[i]\n",
        "    student_mark = marks[i]\n",
        "\n",
        "    if student_mark >= 40:\n",
        "        print(student_name + \" PASSED with \" + str(student_mark))\n",
        "    else:\n",
        "        print(student_name + \" FAILED with \" + str(student_mark))"
      ]
    },
    {
      "cell_type": "code",
      "execution_count": null,
      "metadata": {
        "id": "AVcCUId59SrQ",
        "outputId": "62e7279b-d2b2-4410-f57b-665c8096656a"
      },
      "outputs": [
        {
          "name": "stdout",
          "output_type": "stream",
          "text": [
            "Rohit PASSED with 85\n",
            "Akash PASSED with 95\n",
            "Rohan FAILED with 35\n",
            "Sara PASSED with 95\n",
            "Anita PASSED with 88\n"
          ]
        }
      ],
      "source": [
        "marks = [85, 95, 35, 95, 88]\n",
        "students = [\"Rohit\", \"Akash\", \"Rohan\", \"Sara\", \"Anita\"]\n",
        "\n",
        "for i in range(5):\n",
        "    student_name = students[i]\n",
        "    student_mark = marks[i]\n",
        "\n",
        "    if student_mark >= 40:\n",
        "        print(f\"{student_name} PASSED with {student_mark}\")\n",
        "    else:\n",
        "        print(f\"{student_name} FAILED with {student_mark}\")"
      ]
    },
    {
      "cell_type": "markdown",
      "metadata": {
        "id": "QEGvwTUl9SrQ"
      },
      "source": [
        "### TYPE 2: WHILE LOOPS\n",
        "\n",
        "Real-World Scenario: How a Student Studies\n",
        "\n",
        "Human student: \"I'll study until I understand this topic\"\n",
        "\n",
        "- Keeps studying\n",
        "- When understood → Stops\n",
        "- Condition-based, not fixed times\n",
        "\n",
        "This is like a WHILE loop!"
      ]
    },
    {
      "cell_type": "markdown",
      "metadata": {
        "id": "SdOgDzfu9SrQ"
      },
      "source": [
        "BASIC EXAMPLE: Adding 1 to X Five Times\n",
        "Without a loop:"
      ]
    },
    {
      "cell_type": "code",
      "execution_count": null,
      "metadata": {
        "id": "W1_Hz9qY9SrQ",
        "outputId": "50f1a79e-1c82-4777-906a-9b18264dffcf"
      },
      "outputs": [
        {
          "name": "stdout",
          "output_type": "stream",
          "text": [
            "0\n",
            "1\n",
            "2\n",
            "3\n",
            "4\n",
            "5\n"
          ]
        }
      ],
      "source": [
        "x = 0\n",
        "print(x)\n",
        "x = x + 1\n",
        "print(x)\n",
        "x = x + 1\n",
        "print(x)\n",
        "x = x + 1\n",
        "print(x)\n",
        "x = x + 1\n",
        "print(x)\n",
        "x = x + 1\n",
        "\n",
        "print(x)  # Output: 5"
      ]
    },
    {
      "cell_type": "code",
      "execution_count": null,
      "metadata": {
        "id": "Nn4p-UO89SrQ",
        "outputId": "e3cd994a-b3ae-4b88-9cba-9fb6682ff77f"
      },
      "outputs": [
        {
          "name": "stdout",
          "output_type": "stream",
          "text": [
            "5\n"
          ]
        }
      ],
      "source": [
        "count = 0\n",
        "\n",
        "while count < 5:\n",
        "    count = count + 1\n",
        "\n",
        "print(count)  # Output: 5"
      ]
    },
    {
      "cell_type": "code",
      "execution_count": null,
      "metadata": {
        "id": "0xB5gV7v9SrR",
        "outputId": "8adfa108-f175-45f8-db2d-4d758632c3eb"
      },
      "outputs": [
        {
          "name": "stdout",
          "output_type": "stream",
          "text": [
            "False\n",
            "True\n"
          ]
        }
      ],
      "source": [
        "print(5 < 5)\n",
        "print(5 == 5)"
      ]
    },
    {
      "cell_type": "markdown",
      "metadata": {
        "id": "tdPAG8an9SrR"
      },
      "source": [
        "![carbon-2.png](attachment:carbon-2.png)"
      ]
    },
    {
      "cell_type": "markdown",
      "metadata": {
        "id": "pKxINYj-9SrR"
      },
      "source": [
        "#### EXAMPLE 1: Adding Until Condition Met"
      ]
    },
    {
      "cell_type": "code",
      "execution_count": null,
      "metadata": {
        "id": "hJOXF_aO9SrR",
        "outputId": "d7e2f030-ca2a-47f1-f086-dd229b175326"
      },
      "outputs": [
        {
          "name": "stdout",
          "output_type": "stream",
          "text": [
            "Count: 2, X: 1\n",
            "Count: 4, X: 2\n",
            "Count: 6, X: 3\n",
            "Count: 8, X: 4\n",
            "Count: 10, X: 5\n",
            "Count: 12, X: 6\n",
            "Count: 14, X: 7\n",
            "Count: 16, X: 8\n",
            "Count: 18, X: 9\n",
            "Count: 20, X: 10\n",
            "Final X: 10\n"
          ]
        }
      ],
      "source": [
        "x = 0\n",
        "count = 0\n",
        "\n",
        "# Loop while count is less than 5\n",
        "while count < 20:\n",
        "    x = x + 1\n",
        "    count = count + 2\n",
        "    print(\"Count: \" + str(count) + \", X: \" + str(x))\n",
        "\n",
        "print(\"Final X: \" + str(x))"
      ]
    },
    {
      "cell_type": "markdown",
      "metadata": {
        "id": "jkzw2KjE9SrR"
      },
      "source": [
        "#### EXAMPLE 2: Student Marks - Keep Adding Until Sum Reaches Target\n",
        "\n",
        "Scenario: Keep adding student marks until total reaches 300"
      ]
    },
    {
      "cell_type": "code",
      "execution_count": null,
      "metadata": {
        "id": "7X12Xjcl9SrR",
        "outputId": "8fd77807-e373-49dc-ddd2-a0e4e8267152"
      },
      "outputs": [
        {
          "name": "stdout",
          "output_type": "stream",
          "text": [
            "Added 85, Total: 85\n",
            "Added 92, Total: 177\n",
            "Added 78, Total: 255\n",
            "Added 95, Total: 350\n",
            "Reached target! Total: 350\n"
          ]
        }
      ],
      "source": [
        "marks = [85, 92, 78, 95, 88, 75, 90]\n",
        "total = 0\n",
        "index = 0\n",
        "\n",
        "while total < 300:\n",
        "    total = total + marks[index]\n",
        "    print(\"Added \" + str(marks[index]) + \", Total: \" + str(total))\n",
        "    index = index + 1\n",
        "\n",
        "print(\"Reached target! Total: \" + str(total))"
      ]
    },
    {
      "cell_type": "code",
      "execution_count": null,
      "metadata": {
        "id": "WWAEFSs89SrR",
        "outputId": "c01c3630-4b9a-45e2-b129-3aee05948c71"
      },
      "outputs": [
        {
          "name": "stdout",
          "output_type": "stream",
          "text": [
            "Iteration | Index | Current Total | Mark Added | New Total\n",
            "-------------------------------------------------------------\n",
            "    1    |   0   |       0       |    85     |    85    \n",
            "    2    |   1   |      85       |    92     |   177    \n",
            "    3    |   2   |      177      |    78     |   255    \n",
            "    4    |   3   |      255      |    95     |   350    \n",
            "\n",
            "Reached target! Final Total: 350\n"
          ]
        }
      ],
      "source": [
        "# # BeeakDown - ignore the below code for now, it only understanding the output.\n",
        "\n",
        "marks = [85, 92, 78, 95, 88, 75, 90]\n",
        "total = 0\n",
        "index = 0\n",
        "iteration = 1\n",
        "\n",
        "print(\"Iteration | Index | Current Total | Mark Added | New Total\")\n",
        "print(\"-------------------------------------------------------------\")\n",
        "\n",
        "while total < 300:\n",
        "    current_total = total\n",
        "    mark = marks[index]\n",
        "    total += mark\n",
        "    print(f\"{iteration:^9}|{index:^7}|{current_total:^15}|{mark:^11}|{total:^10}\")\n",
        "    index += 1\n",
        "    iteration += 1\n",
        "\n",
        "print(\"\\nReached target! Final Total:\", total)"
      ]
    },
    {
      "cell_type": "markdown",
      "metadata": {
        "id": "f-h4IDDG9SrR"
      },
      "source": [
        "#### EXAMPLE 3: Student Guessing Game\n",
        "Scenario: Student keeps guessing marks until correct answer"
      ]
    },
    {
      "cell_type": "code",
      "execution_count": null,
      "metadata": {
        "id": "ZLzYPC7p9SrR",
        "outputId": "c2b1c1f2-6af3-45e6-d170-bf7db42da2c2"
      },
      "outputs": [
        {
          "name": "stdout",
          "output_type": "stream",
          "text": [
            "Correct! The mark is 85!\n"
          ]
        }
      ],
      "source": [
        "correct_mark = 85\n",
        "guess = 0\n",
        "\n",
        "while guess != correct_mark:\n",
        "    guess = int(input(\"Guess the mark (between 0-100): \"))\n",
        "\n",
        "    if guess < correct_mark:\n",
        "        print(\"Too low! Try again.\")\n",
        "    elif guess > correct_mark:\n",
        "        print(\"Too high! Try again.\")\n",
        "    else:\n",
        "        print(f\"Correct! The mark is {correct_mark}!\")"
      ]
    },
    {
      "cell_type": "markdown",
      "metadata": {
        "id": "b0-c8HFd9SrR"
      },
      "source": [
        "How it works:\n",
        "\n",
        "- Loop continues WHILE guess is NOT equal to 85\n",
        "- When user enters 85, condition becomes False → Loop stops"
      ]
    },
    {
      "cell_type": "markdown",
      "metadata": {
        "id": "hNPn0YIf9SrR"
      },
      "source": [
        "### TYPE 3: LOOP CONTROL - break, continue, pass\n",
        "\n",
        "- Real-World Scenario\n",
        "- break: Student is reading textbook, finds wrong information → STOPS reading that chapter\n",
        "- continue: Teacher checking marks, skips absent student → MOVES TO NEXT student\n",
        "- pass: Placeholder for code being written later → DOES NOTHING for now"
      ]
    },
    {
      "cell_type": "markdown",
      "metadata": {
        "id": "RC5qboUy9SrR"
      },
      "source": [
        "**BREAK:** Stop the Loop Immediately\n",
        "\n",
        "Syntax:"
      ]
    },
    {
      "cell_type": "code",
      "execution_count": null,
      "metadata": {
        "id": "H-ZxwuUV9SrR",
        "outputId": "c9417035-0b98-4f33-dca3-2e943f3d2c04"
      },
      "outputs": [
        {
          "name": "stdout",
          "output_type": "stream",
          "text": [
            "0\n",
            "1\n",
            "2\n",
            "3\n",
            "4\n"
          ]
        }
      ],
      "source": [
        "for i in range(10):\n",
        "    if i == 5:\n",
        "        break  # Stop here, don't continue\n",
        "    print(i)"
      ]
    },
    {
      "cell_type": "code",
      "execution_count": null,
      "metadata": {
        "id": "fMcd2X5b9SrR",
        "outputId": "0ad55e68-f5f3-44dd-ab26-6b1161b517c9"
      },
      "outputs": [
        {
          "name": "stdout",
          "output_type": "stream",
          "text": [
            "0\n",
            "1\n",
            "2\n",
            "3\n",
            "4\n"
          ]
        }
      ],
      "source": [
        "for i in range(10):\n",
        "    if i == 5:\n",
        "        break  # Stop here, don't continue\n",
        "    print(i)"
      ]
    },
    {
      "cell_type": "markdown",
      "metadata": {
        "id": "5kWraMIr9SrR"
      },
      "source": [
        "The loop stopped when i became 5!"
      ]
    },
    {
      "cell_type": "markdown",
      "metadata": {
        "id": "Xz0Ibin39SrR"
      },
      "source": [
        "#### BREAK Example: Student Marks - Stop When Fail Found\n",
        "\n",
        "Scenario: Check marks until finding first failure"
      ]
    },
    {
      "cell_type": "code",
      "execution_count": null,
      "metadata": {
        "id": "iDbojymN9SrS",
        "outputId": "f22ed8c1-3ede-4269-db46-55b4004f54a1"
      },
      "outputs": [
        {
          "name": "stdout",
          "output_type": "stream",
          "text": [
            "Checking student marks...\n",
            "Alex PASSED with 85\n",
            "Ron PASSED with 92\n",
            "Harry FAILED! Stopping check.\n"
          ]
        }
      ],
      "source": [
        "marks = [85, 92, 35, 95, 88]\n",
        "students = [\"Alex\", \"Ron\", \"Harry\", \"Malfoy\", \"Jack\"]\n",
        "\n",
        "print(\"Checking student marks...\")\n",
        "\n",
        "for i in range(5):\n",
        "    if marks[i] < 40:\n",
        "        print(students[i] + \" FAILED! Stopping check.\")\n",
        "        break  # Stop the loop here\n",
        "    else:\n",
        "        print(students[i] + \" PASSED with \" + str(marks[i]))"
      ]
    },
    {
      "cell_type": "code",
      "execution_count": null,
      "metadata": {
        "id": "zDYwTyHu9SrS",
        "outputId": "650909c0-ed14-4d48-dd62-634e7b70fdbb"
      },
      "outputs": [
        {
          "name": "stdout",
          "output_type": "stream",
          "text": [
            "Checking student marks...\n",
            "students[i] PASSED with 85\n",
            "students[i] PASSED with 92\n",
            "Harry FAILED! Stopping check.\n"
          ]
        }
      ],
      "source": [
        "marks = [85, 92, 35, 95, 88]\n",
        "students = [\"Alex\", \"Ron\", \"Harry\", \"Malfoy\", \"Jack\"]\n",
        "\n",
        "print(\"Checking student marks...\")\n",
        "\n",
        "for i in range(5):\n",
        "    if marks[i] < 40:\n",
        "        print(f\"{students[i]} FAILED! Stopping check.\")\n",
        "        break  # Stop the loop here\n",
        "    else:\n",
        "        print(f\"students[i] PASSED with {marks[i]}\")"
      ]
    },
    {
      "cell_type": "markdown",
      "metadata": {
        "id": "NALDQFce9SrS"
      },
      "source": [
        "#### CONTINUE: Skip Current Loop, Go to Next"
      ]
    },
    {
      "cell_type": "code",
      "execution_count": null,
      "metadata": {
        "id": "NGYMO82h9SrS",
        "outputId": "b4005d6c-5b37-459e-9661-47e74cf7fbfa"
      },
      "outputs": [
        {
          "name": "stdout",
          "output_type": "stream",
          "text": [
            "0\n",
            "1\n",
            "3\n",
            "4\n"
          ]
        }
      ],
      "source": [
        "for i in range(5):\n",
        "    if i == 2:\n",
        "        continue  # Skip this, go to next\n",
        "    print(i)"
      ]
    },
    {
      "cell_type": "markdown",
      "metadata": {
        "id": "xF4Myrre9SrS"
      },
      "source": [
        "Notice: 2 is missing! It was skipped."
      ]
    },
    {
      "cell_type": "markdown",
      "metadata": {
        "id": "k0OwUjH59SrS"
      },
      "source": [
        "#### CONTINUE Example: Student Marks - Skip Absent Students\n",
        "Scenario: Print only marks of present students (skip absent)"
      ]
    },
    {
      "cell_type": "code",
      "execution_count": null,
      "metadata": {
        "id": "lU0WTg4M9SrS",
        "outputId": "1108a60a-f97d-4669-850a-c55675bc887c"
      },
      "outputs": [
        {
          "name": "stdout",
          "output_type": "stream",
          "text": [
            "Alex marked 85\n",
            "Ron marked 92\n",
            "Malfoy marked 95\n",
            "Jack marked 88\n"
          ]
        }
      ],
      "source": [
        "marks = [85, 92, 0, 95, 88]  # 0 means absent\n",
        "students =[\"Alex\", \"Ron\", \"Harry\", \"Malfoy\", \"Jack\"]\n",
        "present = [True, True, False, True, True]  # False = absent\n",
        "\n",
        "for i in range(5):\n",
        "    if not present[i]:\n",
        "        continue  # Skip absent students\n",
        "\n",
        "    print(students[i] + \" marked \" + str(marks[i]))"
      ]
    },
    {
      "cell_type": "markdown",
      "metadata": {
        "id": "bhlF2f5U9SrS"
      },
      "source": [
        "Harry was skipped (absent)!"
      ]
    },
    {
      "cell_type": "markdown",
      "metadata": {
        "id": "ZNlcMWdA9SrS"
      },
      "source": [
        "#### PASS: Do Nothing (Placeholder)\n",
        "\n",
        "When to use: You're writing code but not ready to add body yet"
      ]
    },
    {
      "cell_type": "code",
      "execution_count": null,
      "metadata": {
        "id": "vbmX2mil9SrS",
        "outputId": "3c1408e6-4a0e-4f85-92d6-98019e1eb792"
      },
      "outputs": [
        {
          "name": "stdout",
          "output_type": "stream",
          "text": [
            "0\n",
            "---\n",
            "1\n",
            "---\n",
            "2\n",
            "---\n",
            "3\n",
            "---\n",
            "4\n",
            "---\n"
          ]
        }
      ],
      "source": [
        "for i in range(5):\n",
        "    print(i)\n",
        "    if i == 2:\n",
        "        pass  # Will add code here later\n",
        "    print(\"---\")"
      ]
    },
    {
      "cell_type": "markdown",
      "metadata": {
        "id": "zk_pwpAf9SrS"
      },
      "source": [
        "#### PASS Example: Student Marks - Placeholder"
      ]
    },
    {
      "cell_type": "code",
      "execution_count": null,
      "metadata": {
        "id": "_goxcOMT9SrS",
        "outputId": "999bb395-e1ef-40b1-9460-04bd4ae09d4b"
      },
      "outputs": [
        {
          "name": "stdout",
          "output_type": "stream",
          "text": [
            "Mark needs improvement: 78\n"
          ]
        }
      ],
      "source": [
        "marks = [85, 92, 78, 95, 88]\n",
        "\n",
        "for mark in marks:\n",
        "    if mark >= 80:\n",
        "        pass\n",
        "    else:\n",
        "        print(\"Mark needs improvement: \" + str(mark))"
      ]
    },
    {
      "cell_type": "markdown",
      "metadata": {
        "id": "qFdnt8F79SrS"
      },
      "source": [
        "Key Concepts Summary 🎯\n",
        "\n",
        "- ✅ FOR loop = Fixed number of repeats (best for lists)\n",
        "- ✅ WHILE loop = Repeat until condition changes\n",
        "- ✅ BREAK = Exit the loop completely\n",
        "- ✅ CONTINUE = Skip current iteration, go to next\n",
        "- ✅ PASS = Placeholder, does nothing"
      ]
    },
    {
      "cell_type": "markdown",
      "metadata": {
        "id": "v0EksXlU9Y_D"
      },
      "source": [
        "# Day 10: List Comprehension with For and While Loops\n",
        "\n",
        "### What is List Comprehension?\n",
        "\n",
        "**What is List Comprehension?**\n",
        "\n",
        "Real-World Scenario: Processing Student Data\n",
        "Without List Comprehension (Manual Way):\n",
        "A teacher has 5 student marks [85, 92, 78, 95, 88] and needs to create a list of all marks multiplied by 1.5 (for bonus points).\n",
        "\n",
        "\n",
        "\n",
        "```\n",
        "# The teacher manually does:\n",
        "\n",
        "85 × 1.5 = 127.5\n",
        "92 × 1.5 = 138\n",
        "78 × 1.5 = 117\n",
        "95 × 1.5 = 142.5\n",
        "88 × 1.5 = 132\n",
        "```\n",
        "\n"
      ]
    },
    {
      "cell_type": "markdown",
      "metadata": {
        "id": "LDLCjuOF_39D"
      },
      "source": [
        "## Let's try with the Append"
      ]
    },
    {
      "cell_type": "markdown",
      "metadata": {
        "id": "V8QePNQgAKLc"
      },
      "source": [
        "### Using for loop with append()"
      ]
    },
    {
      "cell_type": "code",
      "execution_count": 3,
      "metadata": {
        "colab": {
          "base_uri": "https://localhost:8080/"
        },
        "id": "HfrvANCr_8cX",
        "outputId": "1a9be640-baea-4e77-f5ca-0f28f46e96c9"
      },
      "outputs": [
        {
          "name": "stdout",
          "output_type": "stream",
          "text": [
            "[1, 4, 9, 16, 25]\n"
          ]
        }
      ],
      "source": [
        "squares = []\n",
        "for i in range(1, 6):\n",
        "    squares.append(i * i)\n",
        "print(squares)"
      ]
    },
    {
      "cell_type": "code",
      "execution_count": 8,
      "metadata": {
        "colab": {
          "base_uri": "https://localhost:8080/"
        },
        "id": "ys25nme1BCqT",
        "outputId": "340d25cc-769b-47a6-96f2-0b281a664237"
      },
      "outputs": [
        {
          "name": "stdout",
          "output_type": "stream",
          "text": [
            "[1, 2, 3, 4, 5]\n"
          ]
        }
      ],
      "source": [
        "# Add numbers 1 to 5:\n",
        "\n",
        "nums = []\n",
        "for i in range(1, 6):\n",
        "    nums.append(i)\n",
        "\n",
        "print(nums)"
      ]
    },
    {
      "cell_type": "code",
      "execution_count": 9,
      "metadata": {
        "colab": {
          "base_uri": "https://localhost:8080/"
        },
        "id": "xc00uP9pBCnJ",
        "outputId": "2ce6a067-044a-4f43-b790-3b65d8439d80"
      },
      "outputs": [
        {
          "name": "stdout",
          "output_type": "stream",
          "text": [
            "[1, 4, 9]\n"
          ]
        }
      ],
      "source": [
        "# Add squares of 1 to 3:\n",
        "\n",
        "squares = []\n",
        "for i in range(1, 4):\n",
        "    squares.append(i * i)\n",
        "\n",
        "print(squares)"
      ]
    },
    {
      "cell_type": "code",
      "execution_count": 11,
      "metadata": {
        "id": "kUpqmn0uBCkU"
      },
      "outputs": [],
      "source": [
        "# Add letters from \"Hi\"\n",
        "\n",
        "letters = []\n",
        "for ch in \"Hi\":\n",
        "    letters.append(ch)"
      ]
    },
    {
      "cell_type": "code",
      "execution_count": 12,
      "metadata": {
        "colab": {
          "base_uri": "https://localhost:8080/"
        },
        "id": "gpKnPlwhBCht",
        "outputId": "b0f767a0-d68c-4bbc-8b72-00595ee16719"
      },
      "outputs": [
        {
          "name": "stdout",
          "output_type": "stream",
          "text": [
            "['H', 'i']\n"
          ]
        }
      ],
      "source": [
        "print(letters)"
      ]
    },
    {
      "cell_type": "code",
      "execution_count": 18,
      "metadata": {
        "id": "iYrowBN2BfEJ"
      },
      "outputs": [],
      "source": [
        "# Add first 3 multiples of 5\n",
        "multiples = []\n",
        "for i in range(1, 4):\n",
        "    multiples.append(i * 5)"
      ]
    },
    {
      "cell_type": "code",
      "execution_count": 19,
      "metadata": {
        "colab": {
          "base_uri": "https://localhost:8080/"
        },
        "id": "CWHe0UUqBfBa",
        "outputId": "87a5c851-5f64-4f1e-b2ba-741e0bcd659c"
      },
      "outputs": [
        {
          "data": {
            "text/plain": [
              "[5, 10, 15]"
            ]
          },
          "execution_count": 19,
          "metadata": {},
          "output_type": "execute_result"
        }
      ],
      "source": [
        "multiples"
      ]
    },
    {
      "cell_type": "markdown",
      "metadata": {
        "id": "ek2kbIIjAMvx"
      },
      "source": [
        "### Using while loop with append()"
      ]
    },
    {
      "cell_type": "code",
      "execution_count": 21,
      "metadata": {
        "id": "HrPGBakx_8aI"
      },
      "outputs": [],
      "source": [
        "# Add numbers 1 to 5\n",
        "nums = []\n",
        "i = 1\n",
        "while i <= 5:\n",
        "    nums.append(i)\n",
        "    i += 1"
      ]
    },
    {
      "cell_type": "code",
      "execution_count": 22,
      "metadata": {
        "colab": {
          "base_uri": "https://localhost:8080/"
        },
        "id": "TGbqy5Rw_8Xj",
        "outputId": "ff86582e-bd80-4471-d88b-1426dc1a3fe3"
      },
      "outputs": [
        {
          "data": {
            "text/plain": [
              "[1, 2, 3, 4, 5]"
            ]
          },
          "execution_count": 22,
          "metadata": {},
          "output_type": "execute_result"
        }
      ],
      "source": [
        "nums"
      ]
    },
    {
      "cell_type": "code",
      "execution_count": 23,
      "metadata": {
        "id": "6MzeDuxl_8VO"
      },
      "outputs": [],
      "source": [
        "# Add squares of 1 to 3\n",
        "squares = []\n",
        "i = 1\n",
        "while i <= 3:\n",
        "    squares.append(i * i)\n",
        "    i += 1"
      ]
    },
    {
      "cell_type": "code",
      "execution_count": 24,
      "metadata": {
        "colab": {
          "base_uri": "https://localhost:8080/"
        },
        "id": "SfY806US_8Sn",
        "outputId": "96e1f384-453b-44d1-a387-6bb416a1abf8"
      },
      "outputs": [
        {
          "data": {
            "text/plain": [
              "[1, 4, 9]"
            ]
          },
          "execution_count": 24,
          "metadata": {},
          "output_type": "execute_result"
        }
      ],
      "source": [
        "squares"
      ]
    },
    {
      "cell_type": "code",
      "execution_count": 25,
      "metadata": {
        "id": "-0W359NS_8QE"
      },
      "outputs": [],
      "source": [
        "# Add letters from \"OK\"\n",
        "letters = []\n",
        "word = \"OK\"\n",
        "i = 0\n",
        "while i < len(word):\n",
        "    letters.append(word[i])\n",
        "    i += 1"
      ]
    },
    {
      "cell_type": "code",
      "execution_count": 26,
      "metadata": {
        "colab": {
          "base_uri": "https://localhost:8080/"
        },
        "id": "xvxqsl9R_8Nz",
        "outputId": "cdc3ae8c-4a2b-4c01-f9bc-18ccc090e995"
      },
      "outputs": [
        {
          "data": {
            "text/plain": [
              "['O', 'K']"
            ]
          },
          "execution_count": 26,
          "metadata": {},
          "output_type": "execute_result"
        }
      ],
      "source": [
        "letters"
      ]
    },
    {
      "cell_type": "code",
      "execution_count": 27,
      "metadata": {
        "id": "As9br9tT_8LZ"
      },
      "outputs": [],
      "source": [
        "# Add even numbers up to 6\n",
        "evens = []\n",
        "i = 2\n",
        "while i <= 6:\n",
        "    evens.append(i)\n",
        "    i += 2"
      ]
    },
    {
      "cell_type": "code",
      "execution_count": 28,
      "metadata": {
        "colab": {
          "base_uri": "https://localhost:8080/"
        },
        "id": "AxZr_B7V_8JQ",
        "outputId": "e1ab113f-ef16-40eb-b4d5-cd35cb69d8b1"
      },
      "outputs": [
        {
          "data": {
            "text/plain": [
              "[2, 4, 6]"
            ]
          },
          "execution_count": 28,
          "metadata": {},
          "output_type": "execute_result"
        }
      ],
      "source": [
        "evens"
      ]
    },
    {
      "cell_type": "code",
      "execution_count": 29,
      "metadata": {
        "id": "ktoeGWr3_8HF"
      },
      "outputs": [],
      "source": [
        "# Add first 3 multiples of 3\n",
        "multiples = []\n",
        "i = 1\n",
        "while i <= 3:\n",
        "    multiples.append(i * 3)\n",
        "    i += 1"
      ]
    },
    {
      "cell_type": "code",
      "execution_count": 30,
      "metadata": {
        "colab": {
          "base_uri": "https://localhost:8080/"
        },
        "id": "ijT58Ogx_8En",
        "outputId": "21126aff-2324-4ad4-ec66-39289f9ba1bd"
      },
      "outputs": [
        {
          "data": {
            "text/plain": [
              "[3, 6, 9]"
            ]
          },
          "execution_count": 30,
          "metadata": {},
          "output_type": "execute_result"
        }
      ],
      "source": [
        "multiples"
      ]
    },
    {
      "cell_type": "markdown",
      "metadata": {
        "id": "AYN9d4ml99gz"
      },
      "source": [
        "**With List Comprehension (Smart Way):**\n",
        "\n",
        "Give Python the instruction: \"For each mark, multiply by 1.5\"\n",
        "Python automatically creates the new list!\n",
        "\n",
        "\n",
        "## Understanding the Problem First\n",
        "\n",
        "BREAKDOWN: Without Loops (Manual Method)\n",
        "\n",
        "Let's say we have marks: [85, 92, 78, 95, 88]\n",
        "\n",
        "We want to multiply each by 1.5 for bonus points.\n",
        "\n",
        "How would we do it WITHOUT any loop?\n"
      ]
    },
    {
      "cell_type": "code",
      "execution_count": 1,
      "metadata": {
        "colab": {
          "base_uri": "https://localhost:8080/"
        },
        "id": "ALDFrjDc9SrS",
        "outputId": "a0fd2690-af61-4a02-923f-448f6a227d64"
      },
      "outputs": [
        {
          "name": "stdout",
          "output_type": "stream",
          "text": [
            "127.5\n",
            "138.0\n",
            "117.0\n",
            "142.5\n",
            "132.0\n"
          ]
        }
      ],
      "source": [
        "marks = [85, 92, 78, 95, 88]\n",
        "\n",
        "# Without loops - Manual and tedious!\n",
        "bonus_marks_1 = 85 * 1.5\n",
        "bonus_marks_2 = 92 * 1.5\n",
        "bonus_marks_3 = 78 * 1.5\n",
        "bonus_marks_4 = 95 * 1.5\n",
        "bonus_marks_5 = 88 * 1.5\n",
        "\n",
        "print(bonus_marks_1)  # 127.5\n",
        "print(bonus_marks_2)  # 138.0\n",
        "print(bonus_marks_3)  # 117.0\n",
        "print(bonus_marks_4)  # 142.5\n",
        "print(bonus_marks_5)  # 132.0"
      ]
    },
    {
      "cell_type": "markdown",
      "metadata": {
        "id": "tGz2KwK3-kbJ"
      },
      "source": [
        "\n",
        "\n",
        "```\n",
        ">> Problems:\n",
        "\n",
        "Repetitive\n",
        "If we have 1000 marks, we'd write 1000 lines!\n",
        "Error-prone\n",
        "Hard to maintain\n",
        "```\n",
        "\n"
      ]
    },
    {
      "cell_type": "markdown",
      "metadata": {
        "id": "rNLey1TF-wHH"
      },
      "source": [
        "## SOLUTION 1: Using FOR Loop (Traditional Way)\n",
        "\n",
        "> Understanding FOR Loop Line-by-Line"
      ]
    },
    {
      "cell_type": "code",
      "execution_count": 2,
      "metadata": {
        "colab": {
          "base_uri": "https://localhost:8080/"
        },
        "id": "C3jDnUGr-d67",
        "outputId": "86327682-42de-4219-e066-286abf2eaeb4"
      },
      "outputs": [
        {
          "name": "stdout",
          "output_type": "stream",
          "text": [
            "[127.5, 138.0, 117.0, 142.5, 132.0]\n"
          ]
        }
      ],
      "source": [
        "marks = [85, 92, 78, 95, 88]\n",
        "bonus_marks = []  # Empty list to store results\n",
        "\n",
        "for mark in marks:\n",
        "    #   ↑       ↑ marks\n",
        "    #   │       └─ The list we're looping through\n",
        "    #   └─ Variable holding each mark (85, then 92, then 78...)\n",
        "\n",
        "    bonus_mark = mark * 1.5\n",
        "    #             ↑\n",
        "    #             └─ Calculate bonus for this mark\n",
        "\n",
        "    bonus_marks.append(bonus_mark)\n",
        "    #              ↑\n",
        "    #              └─ Add the result to our list\n",
        "\n",
        "print(bonus_marks)\n",
        "# Output: [127.5, 138.0, 117.0, 142.5, 132.0]"
      ]
    },
    {
      "cell_type": "markdown",
      "metadata": {
        "id": "pis25MAYDIOb"
      },
      "source": [
        "\n",
        "\n",
        "```\n",
        "Iteration 1: mark = 85    → bonus_mark = 127.5  → bonus_marks = [127.5]\n",
        "Iteration 2: mark = 92    → bonus_mark = 138.0  → bonus_marks = [127.5, 138.0]\n",
        "Iteration 3: mark = 78    → bonus_mark = 117.0  → bonus_marks = [127.5, 138.0, 117.0]\n",
        "Iteration 4: mark = 95    → bonus_mark = 142.5  → bonus_marks = [127.5, 138.0, 117.0, 142.5]\n",
        "Iteration 5: mark = 88    → bonus_mark = 132.0  → bonus_marks = [127.5, 138.0, 117.0, 142.5, 132.0]\n",
        "```\n",
        "\n"
      ]
    },
    {
      "cell_type": "code",
      "execution_count": 33,
      "metadata": {
        "colab": {
          "base_uri": "https://localhost:8080/"
        },
        "id": "6GU6VAsgDS3j",
        "outputId": "1964f79a-4398-458c-8e9a-55a2e8c5c2aa"
      },
      "outputs": [
        {
          "name": "stdout",
          "output_type": "stream",
          "text": [
            "+------------------------+------------------+-------------------------------+\n",
            "| Part                   | Name             | What It Does                  |\n",
            "+------------------------+------------------+-------------------------------+\n",
            "| for                    | Keyword          | Start a loop                  |\n",
            "+------------------------+------------------+-------------------------------+\n",
            "| mark                   | Loop Variable    | Holds current item (85, 92, 78, 95, 88) |\n",
            "+------------------------+------------------+-------------------------------+\n",
            "| in                     | Keyword          | \"For each item in\"            |\n",
            "+------------------------+------------------+-------------------------------+\n",
            "| marks                  | Iterable         | The list we're going through  |\n",
            "+------------------------+------------------+-------------------------------+\n",
            "| :                      | Colon            | Here comes the body           |\n",
            "+------------------------+------------------+-------------------------------+\n",
            "| bonus_marks = []       | Initialization   | Start with empty list         |\n",
            "+------------------------+------------------+-------------------------------+\n",
            "| bonus_mark = mark * 1.5 | Processing       | Transform the data            |\n",
            "+------------------------+------------------+-------------------------------+\n",
            "| bonus_marks.append()   | List Method      | Add result to list            |\n",
            "+------------------------+------------------+-------------------------------+\n"
          ]
        }
      ],
      "source": [
        "# Define the breakdown data of above code\n",
        "\n",
        "# Note: follow the output only.\n",
        "parts = [\n",
        "    [\"Part\", \"Name\", \"What It Does\"],\n",
        "    [\"for\", \"Keyword\", \"Start a loop\"],\n",
        "    [\"mark\", \"Loop Variable\", \"Holds current item (85, 92, 78, 95, 88)\"],\n",
        "    [\"in\", \"Keyword\", '\"For each item in\"'],\n",
        "    [\"marks\", \"Iterable\", \"The list we're going through\"],\n",
        "    [\":\", \"Colon\", \"Here comes the body\"],\n",
        "    [\"bonus_marks = []\", \"Initialization\", \"Start with empty list\"],\n",
        "    [\"bonus_mark = mark * 1.5\", \"Processing\", \"Transform the data\"],\n",
        "    [\"bonus_marks.append()\", \"List Method\", \"Add result to list\"]\n",
        "]\n",
        "\n",
        "# Print the table with box formatting\n",
        "print(\"+------------------------+------------------+-------------------------------+\")\n",
        "for row in parts:\n",
        "    print(f\"| {row[0]:<22} | {row[1]:<16} | {row[2]:<29} |\")\n",
        "    print(\"+------------------------+------------------+-------------------------------+\")"
      ]
    },
    {
      "cell_type": "markdown",
      "metadata": {
        "id": "cHj-4ESyEI99"
      },
      "source": [
        "## EXAMPLE 1: For Loop - Square All Marks\n",
        "\n",
        "Scenario: Convert all marks to squared values (85² = 7225)"
      ]
    },
    {
      "cell_type": "code",
      "execution_count": 34,
      "metadata": {
        "colab": {
          "base_uri": "https://localhost:8080/"
        },
        "id": "4vna_3S1DvLz",
        "outputId": "8a85c03a-61b6-4678-e7de-3e8af420c8b1"
      },
      "outputs": [
        {
          "name": "stdout",
          "output_type": "stream",
          "text": [
            "Original marks: [85, 92, 78, 95, 88]\n",
            "\n",
            "Squaring each mark:\n",
            "\n",
            "Mark: 85 → Squared: 7225\n",
            "Mark: 92 → Squared: 8464\n",
            "Mark: 78 → Squared: 6084\n",
            "Mark: 95 → Squared: 9025\n",
            "Mark: 88 → Squared: 7744\n",
            "\n",
            "Squared marks: [7225, 8464, 6084, 9025, 7744]\n"
          ]
        }
      ],
      "source": [
        "marks = [85, 92, 78, 95, 88]\n",
        "squared_marks = []\n",
        "\n",
        "print(\"Original marks:\", marks)\n",
        "print(\"\\nSquaring each mark:\\n\")\n",
        "\n",
        "for mark in marks:\n",
        "    squared = mark * mark\n",
        "    print(\"Mark: \" + str(mark) + \" → Squared: \" + str(squared))\n",
        "    squared_marks.append(squared)\n",
        "\n",
        "print(\"\\nSquared marks:\", squared_marks)"
      ]
    },
    {
      "cell_type": "markdown",
      "metadata": {
        "id": "KYrMizdjEXcT"
      },
      "source": [
        "## EXAMPLE 2: For Loop - Filter Passing Marks (>= 80)\n",
        "\n",
        "Scenario: Create a list of only passing marks (80 and above)"
      ]
    },
    {
      "cell_type": "code",
      "execution_count": 35,
      "metadata": {
        "colab": {
          "base_uri": "https://localhost:8080/"
        },
        "id": "iifHfqloEMVX",
        "outputId": "a8022daa-90c6-4287-c869-501a2c5ddc1e"
      },
      "outputs": [
        {
          "name": "stdout",
          "output_type": "stream",
          "text": [
            "All marks: [85, 92, 78, 95, 88, 75, 90]\n",
            "\n",
            "Filtering marks >= 80:\n",
            "\n",
            "✓ Mark 85 is PASSING\n",
            "✓ Mark 92 is PASSING\n",
            "✗ Mark 78 is FAILING\n",
            "✓ Mark 95 is PASSING\n",
            "✓ Mark 88 is PASSING\n",
            "✗ Mark 75 is FAILING\n",
            "✓ Mark 90 is PASSING\n",
            "\n",
            "Passing marks only: [85, 92, 95, 88, 90]\n"
          ]
        }
      ],
      "source": [
        "all_marks = [85, 92, 78, 95, 88, 75, 90]\n",
        "passing_marks = []\n",
        "\n",
        "print(\"All marks:\", all_marks)\n",
        "print(\"\\nFiltering marks >= 80:\\n\")\n",
        "\n",
        "for mark in all_marks:\n",
        "    if mark >= 80:\n",
        "        print(\"✓ Mark \" + str(mark) + \" is PASSING\")\n",
        "        passing_marks.append(mark)\n",
        "    else:\n",
        "        print(\"✗ Mark \" + str(mark) + \" is FAILING\")\n",
        "\n",
        "print(\"\\nPassing marks only:\", passing_marks)"
      ]
    },
    {
      "cell_type": "markdown",
      "metadata": {
        "id": "jr-3S9LJElqb"
      },
      "source": [
        "## EXAMPLE 3: For Loop - Convert String Marks to Numbers\n",
        "\n",
        "Scenario: User gives marks as text, convert to numbers"
      ]
    },
    {
      "cell_type": "code",
      "execution_count": 36,
      "metadata": {
        "colab": {
          "base_uri": "https://localhost:8080/"
        },
        "id": "N_ZSIr3XEcn1",
        "outputId": "b716aa41-3fd3-4c0e-fe39-2672fa0b2bcd"
      },
      "outputs": [
        {
          "name": "stdout",
          "output_type": "stream",
          "text": [
            "Original (Text): ['85', '92', '78', '95', '88']\n",
            "Data type: <class 'str'>\n",
            "\n",
            "Converting to numbers:\n",
            "\n",
            "Text: '85' → Number: 85\n",
            "Text: '92' → Number: 92\n",
            "Text: '78' → Number: 78\n",
            "Text: '95' → Number: 95\n",
            "Text: '88' → Number: 88\n",
            "\n",
            "Converted (Numbers): [85, 92, 78, 95, 88]\n",
            "Data type: <class 'int'>\n"
          ]
        }
      ],
      "source": [
        "mark_strings = [\"85\", \"92\", \"78\", \"95\", \"88\"]\n",
        "mark_numbers = []\n",
        "\n",
        "print(\"Original (Text):\", mark_strings)\n",
        "print(\"Data type:\", type(mark_strings[0]))\n",
        "print(\"\\nConverting to numbers:\\n\")\n",
        "\n",
        "for mark_str in mark_strings:\n",
        "    mark_num = int(mark_str)\n",
        "    print(\"Text: '\" + mark_str + \"' → Number: \" + str(mark_num))\n",
        "    mark_numbers.append(mark_num)\n",
        "\n",
        "print(\"\\nConverted (Numbers):\", mark_numbers)\n",
        "print(\"Data type:\", type(mark_numbers[0]))"
      ]
    },
    {
      "cell_type": "code",
      "execution_count": 37,
      "metadata": {
        "id": "eDF6pUi4ErYZ"
      },
      "outputs": [],
      "source": [
        "marks = [\"85\", \"92\", \"78\", \"95\", \"88\"]"
      ]
    },
    {
      "cell_type": "markdown",
      "metadata": {
        "id": "yt1C5JuULL6I"
      },
      "source": [
        "## SOLUTION 2: Using WHILE Loop\n",
        "\n",
        "Understanding WHILE Loop Line-by-Line"
      ]
    },
    {
      "cell_type": "code",
      "execution_count": 38,
      "metadata": {
        "colab": {
          "base_uri": "https://localhost:8080/"
        },
        "id": "i4qfVfD7Ezui",
        "outputId": "ff0ed36f-b94f-46fb-ded0-f366ef978fe0"
      },
      "outputs": [
        {
          "name": "stdout",
          "output_type": "stream",
          "text": [
            "[127.5, 138.0, 117.0, 142.5, 132.0]\n"
          ]
        }
      ],
      "source": [
        "marks = [85, 92, 78, 95, 88]\n",
        "bonus_marks = []\n",
        "index = 0  # Start from first position\n",
        "\n",
        "while index < len(marks):\n",
        "      #  ↑\n",
        "      #  └─ Continue looping WHILE index is less than list length\n",
        "\n",
        "    mark = marks[index]\n",
        "    #               ↑\n",
        "    #               └─ Get mark at current position\n",
        "\n",
        "    bonus_mark = mark * 1.5\n",
        "    bonus_marks.append(bonus_mark)\n",
        "\n",
        "    index = index + 1\n",
        "    #       ↑\n",
        "    #       └─ Move to next position\n",
        "\n",
        "print(bonus_marks)\n",
        "# Output: [127.5, 138.0, 117.0, 142.5, 132.0]"
      ]
    },
    {
      "cell_type": "markdown",
      "metadata": {
        "id": "yIlxWOTPLUKf"
      },
      "source": [
        "Step-by-Step Execution:\n",
        "\n",
        "\n",
        "\n",
        "```\n",
        "Initial: index = 0, bonus_marks = []\n",
        "\n",
        "Iteration 1: index = 0, mark = marks[0] = 85    → bonus_mark = 127.5  → bonus_marks = [127.5]      → index = 1\n",
        "Iteration 2: index = 1, mark = marks[1] = 92    → bonus_mark = 138.0  → bonus_marks = [127.5, 138.0]      → index = 2\n",
        "Iteration 3: index = 2, mark = marks[2] = 78    → bonus_mark = 117.0  → bonus_marks = [127.5, 138.0, 117.0] → index = 3\n",
        "Iteration 4: index = 3, mark = marks[3] = 95    → bonus_mark = 142.5  → bonus_marks = [127.5, 138.0, 117.0, 142.5]     → index = 4\n",
        "Iteration 5: index = 4, mark = marks[4] = 88    → bonus_mark = 132.0  → bonus_marks = [127.5, 138.0, 117.0, 142.5, 132.0] → index = 5\n",
        "\n",
        "Check: index = 5, len(marks) = 5 → 5 < 5 is False → Loop stops\n",
        "```\n",
        "\n"
      ]
    },
    {
      "cell_type": "markdown",
      "metadata": {
        "id": "bKCXPXXoLesV"
      },
      "source": [
        "### While Loop - Grade Calculation\n",
        "\n",
        "Scenario: Calculate grade for each mark (A: 90+, B: 80+, C: 70+, etc.)"
      ]
    },
    {
      "cell_type": "code",
      "execution_count": 39,
      "metadata": {
        "colab": {
          "base_uri": "https://localhost:8080/"
        },
        "id": "Ceq2mQePLOIu",
        "outputId": "37c90990-7301-4587-ff78-00c21104d08b"
      },
      "outputs": [
        {
          "name": "stdout",
          "output_type": "stream",
          "text": [
            "Calculating grades:\n",
            "\n",
            "Mark: 85 → Grade: B\n",
            "Mark: 92 → Grade: A\n",
            "Mark: 78 → Grade: C\n",
            "Mark: 95 → Grade: A\n",
            "Mark: 88 → Grade: B\n",
            "\n",
            "All grades: ['B', 'A', 'C', 'A', 'B']\n"
          ]
        }
      ],
      "source": [
        "marks = [85, 92, 78, 95, 88]\n",
        "grades = []\n",
        "index = 0\n",
        "\n",
        "print(\"Calculating grades:\\n\")\n",
        "\n",
        "while index < len(marks):\n",
        "    mark = marks[index]\n",
        "\n",
        "    if mark >= 90:\n",
        "        grade = \"A\"\n",
        "    elif mark >= 80:\n",
        "        grade = \"B\"\n",
        "    elif mark >= 70:\n",
        "        grade = \"C\"\n",
        "    else:\n",
        "        grade = \"F\"\n",
        "\n",
        "    print(\"Mark: \" + str(mark) + \" → Grade: \" + grade)\n",
        "    grades.append(grade)\n",
        "    index = index + 1\n",
        "\n",
        "print(\"\\nAll grades:\", grades)"
      ]
    },
    {
      "cell_type": "markdown",
      "metadata": {
        "id": "X8AOXDh6Ll7_"
      },
      "source": [
        "## While Loop - Find First Passing Mark\n",
        "\n",
        "Scenario: Find the first mark that's >= 80"
      ]
    },
    {
      "cell_type": "code",
      "execution_count": 40,
      "metadata": {
        "colab": {
          "base_uri": "https://localhost:8080/"
        },
        "id": "Q0t0ymnELiSl",
        "outputId": "7b7de957-e06b-4c5f-9c71-77acb9db71ca"
      },
      "outputs": [
        {
          "name": "stdout",
          "output_type": "stream",
          "text": [
            "Looking for first mark >= 80:\n",
            "\n",
            "Checking mark at position 0: 75\n",
            "✗ Not passing yet, continue...\n",
            "\n",
            "Checking mark at position 1: 78\n",
            "✗ Not passing yet, continue...\n",
            "\n",
            "Checking mark at position 2: 70\n",
            "✗ Not passing yet, continue...\n",
            "\n",
            "Checking mark at position 3: 92\n",
            "✓ Found! First passing mark is: 92\n"
          ]
        }
      ],
      "source": [
        "marks = [75, 78, 70, 92, 88]\n",
        "index = 0\n",
        "found = False\n",
        "\n",
        "print(\"Looking for first mark >= 80:\\n\")\n",
        "\n",
        "while index < len(marks) and not found:\n",
        "    mark = marks[index]\n",
        "    print(\"Checking mark at position \" + str(index) + \": \" + str(mark))\n",
        "\n",
        "    if mark >= 80:\n",
        "        print(\"✓ Found! First passing mark is: \" + str(mark))\n",
        "        found = True\n",
        "    else:\n",
        "        print(\"✗ Not passing yet, continue...\\n\")\n",
        "\n",
        "    index = index + 1\n",
        "\n",
        "if not found:\n",
        "    print(\"No passing marks found!\")"
      ]
    },
    {
      "cell_type": "markdown",
      "metadata": {
        "id": "z5eMOLwuLsg0"
      },
      "source": [
        "### DATA SCIENCE APPLICATION\n",
        "\n",
        "#### Real-World Data Science Scenario: Student Performance Analysis\n",
        "\n",
        "####Dataset: Student marks from an exam"
      ]
    },
    {
      "cell_type": "markdown",
      "metadata": {
        "id": "DmQ2WhMiLzN_"
      },
      "source": [
        "\n",
        "\n",
        "```\n",
        "Student Names: [\"Alex\", \"Sam\", \"Ron\", \"Zara\", \"Max\", \"Mike\", \"Rob\"]\n",
        "Marks:         [85,    92,    78,    95,    88,     76,     90]\n",
        "```\n",
        "\n"
      ]
    },
    {
      "cell_type": "code",
      "execution_count": 41,
      "metadata": {
        "colab": {
          "base_uri": "https://localhost:8080/"
        },
        "id": "LUDjMFgsLowc",
        "outputId": "281be2f5-f825-4cc3-888a-51fa2d333f46"
      },
      "outputs": [
        {
          "name": "stdout",
          "output_type": "stream",
          "text": [
            "Total: 604\n",
            "Count: 7\n",
            "Average: 86.28571428571429\n"
          ]
        }
      ],
      "source": [
        "marks = [85, 92, 78, 95, 88, 76, 90]\n",
        "\n",
        "total = 85 + 92 + 78 + 95 + 88 + 76 + 90\n",
        "count = 7\n",
        "average = total / count\n",
        "\n",
        "print(\"Total:\", total)      # 604\n",
        "print(\"Count:\", count)      # 7\n",
        "print(\"Average:\", average)  # 86.28..."
      ]
    },
    {
      "cell_type": "markdown",
      "metadata": {
        "id": "KX1sME63L5T3"
      },
      "source": [
        "## With FOR Loop (Smart):"
      ]
    },
    {
      "cell_type": "code",
      "execution_count": 42,
      "metadata": {
        "colab": {
          "base_uri": "https://localhost:8080/"
        },
        "id": "GYVTHG8pL3er",
        "outputId": "e3089058-ace8-43ed-d797-552cc058c082"
      },
      "outputs": [
        {
          "name": "stdout",
          "output_type": "stream",
          "text": [
            "Calculating average:\n",
            "\n",
            "Adding mark: 85\n",
            "Adding mark: 92\n",
            "Adding mark: 78\n",
            "Adding mark: 95\n",
            "Adding mark: 88\n",
            "Adding mark: 76\n",
            "Adding mark: 90\n",
            "\n",
            "Total sum: 604\n",
            "Number of marks: 7\n",
            "Average: 86.28571428571429\n"
          ]
        }
      ],
      "source": [
        "marks = [85, 92, 78, 95, 88, 76, 90]\n",
        "total = 0\n",
        "count = 0\n",
        "\n",
        "print(\"Calculating average:\\n\")\n",
        "\n",
        "for mark in marks:\n",
        "    print(\"Adding mark: \" + str(mark))\n",
        "    total = total + mark\n",
        "    count = count + 1\n",
        "\n",
        "average = total / count\n",
        "\n",
        "print(\"\\nTotal sum:\", total)\n",
        "print(\"Number of marks:\", count)\n",
        "print(\"Average:\", average)"
      ]
    },
    {
      "cell_type": "markdown",
      "metadata": {
        "id": "eRn12VC1MHWB"
      },
      "source": [
        "## Data Science EXAMPLE 2: Identify Below-Average Students Using FOR Loop\n",
        "\n",
        "Scenario: Find students who scored below average"
      ]
    },
    {
      "cell_type": "code",
      "execution_count": 44,
      "metadata": {
        "colab": {
          "base_uri": "https://localhost:8080/"
        },
        "id": "vy4l04nvL7IL",
        "outputId": "7ff5f493-edfd-4967-ccbe-de1759082709"
      },
      "outputs": [
        {
          "name": "stdout",
          "output_type": "stream",
          "text": [
            "Class Average: 86.28571428571429\n",
            "\n",
            "==================================================\n",
            "Students Below Average (Need Help):\n",
            "\n",
            "Name: Alex\n",
            "Mark: 85\n",
            "Below average by: 1.29\n",
            "---\n",
            "Name: Ron\n",
            "Mark: 78\n",
            "Below average by: 8.29\n",
            "---\n",
            "Name: Mike\n",
            "Mark: 76\n",
            "Below average by: 10.29\n",
            "---\n",
            "Students needing help: ['Alex', 'Ron', 'Mike']\n"
          ]
        }
      ],
      "source": [
        "students = [\"Alex\", \"Sam\", \"Ron\", \"Zara\", \"Max\", \"Mike\", \"Rob\"]\n",
        "marks = [85, 92, 78, 95, 88, 76, 90]\n",
        "\n",
        "# First, calculate average\n",
        "total = 0\n",
        "for mark in marks:\n",
        "    total = total + mark\n",
        "\n",
        "average = total / len(marks)\n",
        "\n",
        "print(\"Class Average:\", average)\n",
        "print(\"\\n\" + \"=\"*50)\n",
        "print(\"Students Below Average (Need Help):\\n\")\n",
        "\n",
        "below_average_students = []\n",
        "\n",
        "# Now find below average\n",
        "for i in range(len(students)):\n",
        "    student_name = students[i]\n",
        "    student_mark = marks[i]\n",
        "\n",
        "    if student_mark < average:\n",
        "        difference = average - student_mark\n",
        "        print(\"Name: \" + student_name)\n",
        "        print(\"Mark: \" + str(student_mark))\n",
        "        print(\"Below average by: \" + str(round(difference, 2)))\n",
        "        print(\"---\")\n",
        "\n",
        "        below_average_students.append(student_name)\n",
        "\n",
        "print(\"Students needing help:\", below_average_students)"
      ]
    },
    {
      "cell_type": "markdown",
      "metadata": {
        "id": "v_2HLGCsM5aN"
      },
      "source": [
        "## Data Science EXAMPLE 3: Performance Categorization Using WHILE Loop\n",
        "\n",
        "Scenario: Categorize students into performance tiers"
      ]
    },
    {
      "cell_type": "code",
      "execution_count": 45,
      "metadata": {
        "colab": {
          "base_uri": "https://localhost:8080/"
        },
        "id": "Fa47T3hDMLAr",
        "outputId": "4c4b24a5-e025-48f2-d4d8-76f3e36df1c2"
      },
      "outputs": [
        {
          "name": "stdout",
          "output_type": "stream",
          "text": [
            "Categorizing student performance:\n",
            "\n",
            "Processing: Alex (85) → GOOD\n",
            "Processing: Sam (92) → EXCELLENT\n",
            "Processing: Ron (78) → AVERAGE\n",
            "Processing: Zara (95) → EXCELLENT\n",
            "Processing: Max (88) → GOOD\n",
            "Processing: Mike (76) → AVERAGE\n",
            "Processing: Rob (90) → EXCELLENT\n",
            "\n",
            "==================================================\n",
            "PERFORMANCE REPORT:\n",
            "\n",
            "EXCELLENT (90+): ['Sam', 'Zara', 'Rob']\n",
            "GOOD (80-89): ['Alex', 'Max']\n",
            "AVERAGE (70-79): ['Ron', 'Mike']\n",
            "POOR (<70): []\n"
          ]
        }
      ],
      "source": [
        "students = [\"Alex\", \"Sam\", \"Ron\", \"Zara\", \"Max\", \"Mike\", \"Rob\"]\n",
        "marks = [85, 92, 78, 95, 88, 76, 90]\n",
        "\n",
        "excellent = []   # 90+\n",
        "good = []        # 80-89\n",
        "average = []     # 70-79\n",
        "poor = []        # <70\n",
        "\n",
        "index = 0\n",
        "\n",
        "print(\"Categorizing student performance:\\n\")\n",
        "\n",
        "while index < len(students):\n",
        "    student_name = students[index]\n",
        "    mark = marks[index]\n",
        "\n",
        "    print(\"Processing: \" + student_name + \" (\" + str(mark) + \") →\", end=\" \")\n",
        "\n",
        "    if mark >= 90:\n",
        "        category = \"EXCELLENT\"\n",
        "        excellent.append(student_name)\n",
        "    elif mark >= 80:\n",
        "        category = \"GOOD\"\n",
        "        good.append(student_name)\n",
        "    elif mark >= 70:\n",
        "        category = \"AVERAGE\"\n",
        "        average.append(student_name)\n",
        "    else:\n",
        "        category = \"POOR\"\n",
        "        poor.append(student_name)\n",
        "\n",
        "    print(category)\n",
        "    index = index + 1\n",
        "\n",
        "print(\"\\n\" + \"=\"*50)\n",
        "print(\"PERFORMANCE REPORT:\\n\")\n",
        "print(\"EXCELLENT (90+):\", excellent)\n",
        "print(\"GOOD (80-89):\", good)\n",
        "print(\"AVERAGE (70-79):\", average)\n",
        "print(\"POOR (<70):\", poor)"
      ]
    },
    {
      "cell_type": "code",
      "execution_count": 46,
      "metadata": {
        "colab": {
          "base_uri": "https://localhost:8080/"
        },
        "id": "UL1gjKn1M_Oc",
        "outputId": "d027e1a7-521e-4b9f-d6b1-76b8221c0325"
      },
      "outputs": [
        {
          "name": "stdout",
          "output_type": "stream",
          "text": [
            "1 2 3 4 5 "
          ]
        }
      ],
      "source": [
        "for i in range(1, 6):\n",
        "    print(i, end=\" \")"
      ]
    },
    {
      "cell_type": "code",
      "execution_count": 47,
      "metadata": {
        "colab": {
          "base_uri": "https://localhost:8080/"
        },
        "id": "A94GGcpJNhCK",
        "outputId": "9ecc40e2-1200-4916-fe08-effe6a2cceb8"
      },
      "outputs": [
        {
          "name": "stdout",
          "output_type": "stream",
          "text": [
            "1\n",
            "2\n",
            "3\n",
            "4\n",
            "5\n"
          ]
        }
      ],
      "source": [
        "for i in range(1, 6):\n",
        "    print(i)"
      ]
    },
    {
      "cell_type": "code",
      "execution_count": null,
      "metadata": {
        "id": "wrnXc-QNNjNK"
      },
      "outputs": [],
      "source": []
    }
  ],
  "metadata": {
    "colab": {
      "provenance": []
    },
    "kernelspec": {
      "display_name": "base",
      "language": "python",
      "name": "python3"
    },
    "language_info": {
      "codemirror_mode": {
        "name": "ipython",
        "version": 3
      },
      "file_extension": ".py",
      "mimetype": "text/x-python",
      "name": "python",
      "nbconvert_exporter": "python",
      "pygments_lexer": "ipython3",
      "version": "3.9.7"
    }
  },
  "nbformat": 4,
  "nbformat_minor": 0
}
